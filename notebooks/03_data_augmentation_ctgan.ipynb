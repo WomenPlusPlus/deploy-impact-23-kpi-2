{
  "cells": [
    {
      "cell_type": "code",
      "execution_count": 265,
      "metadata": {
        "colab": {
          "base_uri": "https://localhost:8080/"
        },
        "id": "76RHUlZk5Yec",
        "outputId": "c8e88bf7-7502-445d-ec68-4a1f7bf63c9d"
      },
      "outputs": [],
      "source": [
        "# !pip install ctgan"
      ]
    },
    {
      "cell_type": "code",
      "execution_count": 266,
      "metadata": {
        "colab": {
          "base_uri": "https://localhost:8080/"
        },
        "id": "LB97ig9G5R3B",
        "outputId": "715887bd-7940-43c3-e47b-c4212017aa13"
      },
      "outputs": [],
      "source": [
        "# from ctgan import CTGAN\n",
        "import pandas as pd\n",
        "\n",
        "import plotly.graph_objs as go\n",
        "from plotly.subplots import make_subplots\n",
        "\n",
        "import numpy as np\n",
        "import matplotlib.pyplot as plt\n",
        "from sklearn.preprocessing import MinMaxScaler\n",
        "    \n",
        "def plotTimeSeries(time, values, label):\n",
        "    \"\"\"\n",
        "    Plot time series data\n",
        "    \n",
        "    Args:\n",
        "        time (list): Time values\n",
        "        values (list): Time series values\n",
        "        label (str): Label for the plot\n",
        "        \n",
        "    Returns:\n",
        "        None\n",
        "    \"\"\"\n",
        "    # Create figure with secondary y-axis\n",
        "    \n",
        "    # Create a subplot\n",
        "    fig = make_subplots(rows=1, cols=1)\n",
        "\n",
        "    # Add a trace for the time series data\n",
        "    trace = go.Scatter(x=time, y=values, mode='lines', name='Value')\n",
        "    fig.add_trace(trace)\n",
        "\n",
        "    # Update layout for labels and title\n",
        "    fig.update_layout(\n",
        "        title=label,\n",
        "        xaxis_title=\"Time\",\n",
        "        yaxis_title=\"Value\",\n",
        "        template=\"plotly\",\n",
        "        margin=dict(l=0, r=0, t=30, b=0)\n",
        "    )\n",
        "\n",
        "    # Show plot\n",
        "    fig.show()\n",
        "    \n",
        "def timeSeries(numMonths=12,numYears=10,\n",
        "                trend=1,event=1, #1 for positive effect and -1 for negative\n",
        "                trendSteepness = 3, #between 1 and 10\n",
        "                seasonalityIntensity=0.3, #between 0 and 1\n",
        "                noiseIntensity=70, #between 0 and 100\n",
        "                whiteNoiseIntensity=70, #between 0 and 100\n",
        "                eventIntensity=40, #between 0 and 100\n",
        "                verbose=False,\n",
        "                ):\n",
        "    \"\"\"\n",
        "    Create a time series with multiple patterns\n",
        "    \n",
        "    Args:\n",
        "        numMonths: Number of months in the time series\n",
        "        numYears: Number of years in the time series\n",
        "        trend: Trend of the time series\n",
        "        event: Event of the time series, like COVID or protest\n",
        "        trendSteepness: Steepness of the trend\n",
        "        seasonalityIntensity: Intensity of the seasonality\n",
        "        noiseIntensity: Intensity of the noise\n",
        "        whiteNoiseIntensity: Intensity of the white noise\n",
        "        eventIntensity: Intensity of the event\n",
        "        verbose: Whether to print the time series\n",
        "        \n",
        "    Returns:\n",
        "        pandas.Series: The time series\n",
        "    \"\"\"\n",
        "    # SEASONALITY\n",
        "    # series that repeats the same pattern\n",
        "    timePoints = numMonths*numYears\n",
        "    timeSeasonal = np.arange(timePoints)\n",
        "    scale = 10 #define the range of the generated values\n",
        "    values = np.where(timeSeasonal < numMonths, (scale**3), (scale-9)**2)\n",
        "    \n",
        "    # Repeat the pattern 10 times for 10 years\n",
        "    seasonal = []\n",
        "    for i in range(numYears):\n",
        "        for j in range(numMonths):\n",
        "            seasonal.append(values[j]*seasonalityIntensity)\n",
        "    if verbose:\n",
        "        plotTimeSeries(timeSeasonal, seasonal, label=\"Seasonality\")\n",
        "\n",
        "    # ==============================================================================\n",
        "    # ADD NOISE\n",
        "    noise = np.random.randn(timePoints)*noiseIntensity\n",
        "    seasonal += noise\n",
        "    if verbose:\n",
        "        plotTimeSeries(timeSeasonal, seasonal, label=\"Seasonality with Noise\")\n",
        "\n",
        "    # ==============================================================================\n",
        "    # MULTIPLE PATTERNS\n",
        "    #The following time series contain both an upward trend and seasonality.\n",
        "    #There is also some noise\n",
        "    seasonalTrend = seasonal + np.arange(timePoints)*trendSteepness\n",
        "    seasonalTrend = seasonalTrend*trend\n",
        "    if verbose:\n",
        "        plotTimeSeries(timeSeasonal, seasonalTrend, label=\"Seasonality + Upward Trend + Noise\")\n",
        "\n",
        "    # ==============================================================================\n",
        "    # WHITE NOISE\n",
        "    values = np.random.randn(timePoints)*whiteNoiseIntensity\n",
        "    if verbose:\n",
        "        plotTimeSeries(timeSeasonal, values, label=\"White Noise\")\n",
        "\n",
        "    # ==============================================================================\n",
        "    # NON-STATIONARY TIME SERIES\n",
        "    bigEvent = np.zeros(timePoints)\n",
        "    #COVID: good for upward trend. Projuventute helps commnities and has online presence\n",
        "    bigEvent[-36:-24] = np.arange(numMonths)*eventIntensity*event\n",
        "    nonStationary = (seasonalTrend + bigEvent)\n",
        "    plotTimeSeries(timeSeasonal, nonStationary, label=\"Non-stationary Time Series\")\n",
        "\n",
        "    return nonStationary\n",
        "\n",
        "def smoothTimeSeries(data, windowSize):\n",
        "    \"\"\"\n",
        "    Smooths the variability of a time series while preserving the trend and overall structure.\n",
        "\n",
        "    Args:\n",
        "        data (pandas.Series): The time series data.\n",
        "        windowSize (int): The size of the moving average window.\n",
        "\n",
        "    Returns:\n",
        "        pandas.Series: The smoothed time series.\n",
        "    \"\"\"\n",
        "    # Create a copy of the original data\n",
        "    smoothedData = data.copy()\n",
        "\n",
        "    # Apply moving average smoothing\n",
        "    smoothedData = smoothedData.rolling(window=windowSize, center=True).mean()\n",
        "\n",
        "    # Interpolate missing values at the edges\n",
        "    smoothedData = smoothedData.interpolate()\n",
        "    return smoothedData\n",
        "\n",
        "\n",
        "# !wget -O pj_sample_value_wide_filled_2023.csv https://www.dropbox.com/scl/fi/drv20mwc9zi1zq5v22ckh/pj_sample_value_wide_filled_2023.csv?rlkey=bcankkw7ff32zes221j8rxzgr&dl=0"
      ]
    },
    {
      "cell_type": "markdown",
      "metadata": {},
      "source": [
        "# Generate synthetic data with CTGAN "
      ]
    },
    {
      "cell_type": "code",
      "execution_count": 267,
      "metadata": {
        "colab": {
          "base_uri": "https://localhost:8080/",
          "height": 365
        },
        "id": "V4wBilO85Ysw",
        "outputId": "84a28877-3c36-4a9e-cd9e-d5c4da4a93f4"
      },
      "outputs": [],
      "source": [
        "# # DO NOT RUN\n",
        "# # import filled dataset for 2023\n",
        "# df = pd.read_csv(\"pj_sample_value_wide_filled_2023.csv\")\n",
        "\n",
        "# # Extract target data types\n",
        "# categoricals = df.select_dtypes(exclude=\"number\").columns.tolist()\n",
        "\n",
        "# # Fit CTGAN\n",
        "# ctgan = CTGAN(epochs=10)\n",
        "# ctgan.fit(df, categoricals)\n",
        "\n",
        "# # Generate the data\n",
        "# dfSynthetic = ctgan.sample(2000)\n",
        "\n",
        "# # export synthetic data\n",
        "# dfSynthetic.to_csv(\"/content/ctgan_toy_dataset_10years.csv\", index=False)"
      ]
    },
    {
      "cell_type": "markdown",
      "metadata": {},
      "source": [
        "# Process synthetic dataset"
      ]
    },
    {
      "cell_type": "code",
      "execution_count": 268,
      "metadata": {},
      "outputs": [
        {
          "data": {
            "text/html": [
              "<div>\n",
              "<style scoped>\n",
              "    .dataframe tbody tr th:only-of-type {\n",
              "        vertical-align: middle;\n",
              "    }\n",
              "\n",
              "    .dataframe tbody tr th {\n",
              "        vertical-align: top;\n",
              "    }\n",
              "\n",
              "    .dataframe thead th {\n",
              "        text-align: right;\n",
              "    }\n",
              "</style>\n",
              "<table border=\"1\" class=\"dataframe\">\n",
              "  <thead>\n",
              "    <tr style=\"text-align: right;\">\n",
              "      <th></th>\n",
              "      <th>circle</th>\n",
              "      <th>kpi</th>\n",
              "      <th>periodicity</th>\n",
              "      <th>range</th>\n",
              "      <th>period_year</th>\n",
              "      <th>period_month</th>\n",
              "      <th>date</th>\n",
              "      <th>value</th>\n",
              "    </tr>\n",
              "  </thead>\n",
              "  <tbody>\n",
              "    <tr>\n",
              "      <th>0</th>\n",
              "      <td>Digital</td>\n",
              "      <td>additional monetization/savings from CRM</td>\n",
              "      <td>quarter</td>\n",
              "      <td>0 &lt;= X</td>\n",
              "      <td>2014</td>\n",
              "      <td>1</td>\n",
              "      <td>2014-01-01</td>\n",
              "      <td>51000.0</td>\n",
              "    </tr>\n",
              "    <tr>\n",
              "      <th>1</th>\n",
              "      <td>Digital</td>\n",
              "      <td>additional monetization/savings from CRM</td>\n",
              "      <td>quarter</td>\n",
              "      <td>0 &lt;= X</td>\n",
              "      <td>2014</td>\n",
              "      <td>2</td>\n",
              "      <td>2014-02-01</td>\n",
              "      <td>51000.0</td>\n",
              "    </tr>\n",
              "    <tr>\n",
              "      <th>2</th>\n",
              "      <td>Digital</td>\n",
              "      <td>additional monetization/savings from CRM</td>\n",
              "      <td>quarter</td>\n",
              "      <td>0 &lt;= X</td>\n",
              "      <td>2014</td>\n",
              "      <td>3</td>\n",
              "      <td>2014-03-01</td>\n",
              "      <td>51000.0</td>\n",
              "    </tr>\n",
              "    <tr>\n",
              "      <th>3</th>\n",
              "      <td>Digital</td>\n",
              "      <td>additional monetization/savings from CRM</td>\n",
              "      <td>quarter</td>\n",
              "      <td>0 &lt;= X</td>\n",
              "      <td>2014</td>\n",
              "      <td>4</td>\n",
              "      <td>2014-04-01</td>\n",
              "      <td>0.0</td>\n",
              "    </tr>\n",
              "    <tr>\n",
              "      <th>4</th>\n",
              "      <td>Digital</td>\n",
              "      <td>additional monetization/savings from CRM</td>\n",
              "      <td>quarter</td>\n",
              "      <td>0 &lt;= X</td>\n",
              "      <td>2014</td>\n",
              "      <td>5</td>\n",
              "      <td>2014-05-01</td>\n",
              "      <td>0.0</td>\n",
              "    </tr>\n",
              "    <tr>\n",
              "      <th>5</th>\n",
              "      <td>Digital</td>\n",
              "      <td>additional monetization/savings from CRM</td>\n",
              "      <td>quarter</td>\n",
              "      <td>0 &lt;= X</td>\n",
              "      <td>2014</td>\n",
              "      <td>6</td>\n",
              "      <td>2014-06-01</td>\n",
              "      <td>0.0</td>\n",
              "    </tr>\n",
              "    <tr>\n",
              "      <th>6</th>\n",
              "      <td>Digital</td>\n",
              "      <td>additional monetization/savings from CRM</td>\n",
              "      <td>quarter</td>\n",
              "      <td>0 &lt;= X</td>\n",
              "      <td>2014</td>\n",
              "      <td>7</td>\n",
              "      <td>2014-07-01</td>\n",
              "      <td>0.0</td>\n",
              "    </tr>\n",
              "    <tr>\n",
              "      <th>7</th>\n",
              "      <td>Digital</td>\n",
              "      <td>additional monetization/savings from CRM</td>\n",
              "      <td>quarter</td>\n",
              "      <td>0 &lt;= X</td>\n",
              "      <td>2014</td>\n",
              "      <td>8</td>\n",
              "      <td>2014-08-01</td>\n",
              "      <td>0.0</td>\n",
              "    </tr>\n",
              "    <tr>\n",
              "      <th>8</th>\n",
              "      <td>Digital</td>\n",
              "      <td>additional monetization/savings from CRM</td>\n",
              "      <td>quarter</td>\n",
              "      <td>0 &lt;= X</td>\n",
              "      <td>2014</td>\n",
              "      <td>9</td>\n",
              "      <td>2014-09-01</td>\n",
              "      <td>0.0</td>\n",
              "    </tr>\n",
              "    <tr>\n",
              "      <th>9</th>\n",
              "      <td>Digital</td>\n",
              "      <td>additional monetization/savings from CRM</td>\n",
              "      <td>quarter</td>\n",
              "      <td>0 &lt;= X</td>\n",
              "      <td>2014</td>\n",
              "      <td>10</td>\n",
              "      <td>2014-10-01</td>\n",
              "      <td>17000.0</td>\n",
              "    </tr>\n",
              "  </tbody>\n",
              "</table>\n",
              "</div>"
            ],
            "text/plain": [
              "    circle                                       kpi periodicity   range  \\\n",
              "0  Digital  additional monetization/savings from CRM     quarter  0 <= X   \n",
              "1  Digital  additional monetization/savings from CRM     quarter  0 <= X   \n",
              "2  Digital  additional monetization/savings from CRM     quarter  0 <= X   \n",
              "3  Digital  additional monetization/savings from CRM     quarter  0 <= X   \n",
              "4  Digital  additional monetization/savings from CRM     quarter  0 <= X   \n",
              "5  Digital  additional monetization/savings from CRM     quarter  0 <= X   \n",
              "6  Digital  additional monetization/savings from CRM     quarter  0 <= X   \n",
              "7  Digital  additional monetization/savings from CRM     quarter  0 <= X   \n",
              "8  Digital  additional monetization/savings from CRM     quarter  0 <= X   \n",
              "9  Digital  additional monetization/savings from CRM     quarter  0 <= X   \n",
              "\n",
              "   period_year  period_month        date    value  \n",
              "0         2014             1  2014-01-01  51000.0  \n",
              "1         2014             2  2014-02-01  51000.0  \n",
              "2         2014             3  2014-03-01  51000.0  \n",
              "3         2014             4  2014-04-01      0.0  \n",
              "4         2014             5  2014-05-01      0.0  \n",
              "5         2014             6  2014-06-01      0.0  \n",
              "6         2014             7  2014-07-01      0.0  \n",
              "7         2014             8  2014-08-01      0.0  \n",
              "8         2014             9  2014-09-01      0.0  \n",
              "9         2014            10  2014-10-01  17000.0  "
            ]
          },
          "execution_count": 268,
          "metadata": {},
          "output_type": "execute_result"
        }
      ],
      "source": [
        "# import synthetic data and  DataFrame to fill with values\n",
        "dfToy = pd.read_csv('/Users/diana/Dropbox/_hackathon/deploy_2023/_data/ctgan_toy_dataset_2014_2023.csv')\n",
        "dfWide2023 = pd.read_csv('/Users/diana/Dropbox/_hackathon/deploy_2023/_data/pj_sample_value_wide_filled_2023.csv')\n",
        "dfAllYears = pd.read_csv('/Users/diana/Dropbox/_hackathon/deploy_2023/_data/pj_sample_value_long_notfilled_2014_2023.csv')\n",
        "if 'Unnamed: 0' in dfAllYears.columns:\n",
        "    dfAllYears.drop(columns=['Unnamed: 0'],inplace=True)\n",
        "\n",
        "dfToyProcessed = pd.DataFrame()\n",
        "dates = dfToy.sort_values('date', ascending=True).date.unique().tolist()\n",
        "\n",
        "# change dates as CTGAN repeated the same dates for the synthetic data\n",
        "for d in dates:\n",
        "    tempList = []\n",
        "    for i in range(2014,2023):\n",
        "        tempList.append(d.replace('2023',str(i)))\n",
        "    # select 10 samples of each date\n",
        "    dfTemp = dfToy.loc[dfToy.date==d].sample(9, random_state=1)\n",
        "    dfTemp['date'] = tempList\n",
        "    dfToyProcessed = pd.concat([dfToyProcessed,dfTemp])\n",
        "\n",
        "# sort by date\n",
        "dfToyProcessed.sort_values('date', ascending=True, inplace=True)\n",
        "dfToyProcessed.reset_index(inplace=True,drop=True)\n",
        "\n",
        "# get rid of negative values produced by CTGAN\n",
        "dfToyProcessed = dfToyProcessed.set_index('date',drop=True).abs().round(2)\n",
        "\n",
        "# export synthetic data cleaned\n",
        "dfToyProcessed.to_csv('/Users/diana/Dropbox/_hackathon/deploy_2023/_data/ctgan_toy_dataset_2014_2023_processed.csv')\n",
        "dfAllYears.head(10)"
      ]
    },
    {
      "cell_type": "code",
      "execution_count": 269,
      "metadata": {},
      "outputs": [
        {
          "data": {
            "text/html": [
              "<div>\n",
              "<style scoped>\n",
              "    .dataframe tbody tr th:only-of-type {\n",
              "        vertical-align: middle;\n",
              "    }\n",
              "\n",
              "    .dataframe tbody tr th {\n",
              "        vertical-align: top;\n",
              "    }\n",
              "\n",
              "    .dataframe thead th {\n",
              "        text-align: right;\n",
              "    }\n",
              "</style>\n",
              "<table border=\"1\" class=\"dataframe\">\n",
              "  <thead>\n",
              "    <tr style=\"text-align: right;\">\n",
              "      <th></th>\n",
              "      <th>share of teams constituted as circles</th>\n",
              "      <th>share short tern leave</th>\n",
              "      <th>involuntary headcount change (FTE)</th>\n",
              "      <th>reachability</th>\n",
              "      <th>count sessions on .projuventute.ch</th>\n",
              "      <th>count leads</th>\n",
              "      <th>net promoter score</th>\n",
              "      <th>private donations</th>\n",
              "      <th>additional monetization/savings from CRM</th>\n",
              "      <th>additional monetization/savings from programs</th>\n",
              "    </tr>\n",
              "    <tr>\n",
              "      <th>date</th>\n",
              "      <th></th>\n",
              "      <th></th>\n",
              "      <th></th>\n",
              "      <th></th>\n",
              "      <th></th>\n",
              "      <th></th>\n",
              "      <th></th>\n",
              "      <th></th>\n",
              "      <th></th>\n",
              "      <th></th>\n",
              "    </tr>\n",
              "  </thead>\n",
              "  <tbody>\n",
              "    <tr>\n",
              "      <th>2014-01-01</th>\n",
              "      <td>116.99</td>\n",
              "      <td>3.02</td>\n",
              "      <td>1.92</td>\n",
              "      <td>44.40</td>\n",
              "      <td>162857.14</td>\n",
              "      <td>226.58</td>\n",
              "      <td>35.0</td>\n",
              "      <td>1263671.34</td>\n",
              "      <td>3909.12</td>\n",
              "      <td>48318.73</td>\n",
              "    </tr>\n",
              "    <tr>\n",
              "      <th>2014-02-01</th>\n",
              "      <td>130.40</td>\n",
              "      <td>2.12</td>\n",
              "      <td>2.63</td>\n",
              "      <td>42.40</td>\n",
              "      <td>189084.12</td>\n",
              "      <td>315.47</td>\n",
              "      <td>35.0</td>\n",
              "      <td>587662.81</td>\n",
              "      <td>27773.25</td>\n",
              "      <td>183751.30</td>\n",
              "    </tr>\n",
              "    <tr>\n",
              "      <th>2014-03-01</th>\n",
              "      <td>129.68</td>\n",
              "      <td>1.18</td>\n",
              "      <td>1.13</td>\n",
              "      <td>42.19</td>\n",
              "      <td>182746.75</td>\n",
              "      <td>271.14</td>\n",
              "      <td>35.0</td>\n",
              "      <td>887369.03</td>\n",
              "      <td>24514.12</td>\n",
              "      <td>252685.97</td>\n",
              "    </tr>\n",
              "    <tr>\n",
              "      <th>2014-04-01</th>\n",
              "      <td>80.83</td>\n",
              "      <td>0.39</td>\n",
              "      <td>2.54</td>\n",
              "      <td>44.96</td>\n",
              "      <td>217150.50</td>\n",
              "      <td>936.54</td>\n",
              "      <td>35.0</td>\n",
              "      <td>972077.04</td>\n",
              "      <td>1632.79</td>\n",
              "      <td>106050.46</td>\n",
              "    </tr>\n",
              "    <tr>\n",
              "      <th>2014-05-01</th>\n",
              "      <td>61.88</td>\n",
              "      <td>1.37</td>\n",
              "      <td>2.46</td>\n",
              "      <td>44.64</td>\n",
              "      <td>168749.43</td>\n",
              "      <td>411.36</td>\n",
              "      <td>35.0</td>\n",
              "      <td>910949.82</td>\n",
              "      <td>65369.21</td>\n",
              "      <td>169507.84</td>\n",
              "    </tr>\n",
              "    <tr>\n",
              "      <th>...</th>\n",
              "      <td>...</td>\n",
              "      <td>...</td>\n",
              "      <td>...</td>\n",
              "      <td>...</td>\n",
              "      <td>...</td>\n",
              "      <td>...</td>\n",
              "      <td>...</td>\n",
              "      <td>...</td>\n",
              "      <td>...</td>\n",
              "      <td>...</td>\n",
              "    </tr>\n",
              "    <tr>\n",
              "      <th>2022-08-01</th>\n",
              "      <td>116.20</td>\n",
              "      <td>4.26</td>\n",
              "      <td>2.27</td>\n",
              "      <td>42.43</td>\n",
              "      <td>178699.46</td>\n",
              "      <td>737.49</td>\n",
              "      <td>35.0</td>\n",
              "      <td>1001653.86</td>\n",
              "      <td>20576.48</td>\n",
              "      <td>260766.66</td>\n",
              "    </tr>\n",
              "    <tr>\n",
              "      <th>2022-09-01</th>\n",
              "      <td>137.46</td>\n",
              "      <td>2.44</td>\n",
              "      <td>1.80</td>\n",
              "      <td>43.44</td>\n",
              "      <td>182089.41</td>\n",
              "      <td>777.24</td>\n",
              "      <td>35.0</td>\n",
              "      <td>521897.07</td>\n",
              "      <td>16816.78</td>\n",
              "      <td>14621.48</td>\n",
              "    </tr>\n",
              "    <tr>\n",
              "      <th>2022-10-01</th>\n",
              "      <td>53.69</td>\n",
              "      <td>2.00</td>\n",
              "      <td>1.94</td>\n",
              "      <td>42.80</td>\n",
              "      <td>181204.92</td>\n",
              "      <td>415.08</td>\n",
              "      <td>35.0</td>\n",
              "      <td>1419935.68</td>\n",
              "      <td>15141.87</td>\n",
              "      <td>80060.57</td>\n",
              "    </tr>\n",
              "    <tr>\n",
              "      <th>2022-11-01</th>\n",
              "      <td>96.57</td>\n",
              "      <td>0.71</td>\n",
              "      <td>2.35</td>\n",
              "      <td>43.41</td>\n",
              "      <td>196062.38</td>\n",
              "      <td>73.34</td>\n",
              "      <td>35.0</td>\n",
              "      <td>1387686.90</td>\n",
              "      <td>3680.96</td>\n",
              "      <td>278931.42</td>\n",
              "    </tr>\n",
              "    <tr>\n",
              "      <th>2022-12-01</th>\n",
              "      <td>29.56</td>\n",
              "      <td>0.19</td>\n",
              "      <td>2.88</td>\n",
              "      <td>46.43</td>\n",
              "      <td>221086.10</td>\n",
              "      <td>325.15</td>\n",
              "      <td>35.0</td>\n",
              "      <td>1107147.55</td>\n",
              "      <td>8355.05</td>\n",
              "      <td>93340.73</td>\n",
              "    </tr>\n",
              "  </tbody>\n",
              "</table>\n",
              "<p>108 rows × 10 columns</p>\n",
              "</div>"
            ],
            "text/plain": [
              "            share of teams constituted as circles  share short tern leave  \\\n",
              "date                                                                        \n",
              "2014-01-01                                 116.99                    3.02   \n",
              "2014-02-01                                 130.40                    2.12   \n",
              "2014-03-01                                 129.68                    1.18   \n",
              "2014-04-01                                  80.83                    0.39   \n",
              "2014-05-01                                  61.88                    1.37   \n",
              "...                                           ...                     ...   \n",
              "2022-08-01                                 116.20                    4.26   \n",
              "2022-09-01                                 137.46                    2.44   \n",
              "2022-10-01                                  53.69                    2.00   \n",
              "2022-11-01                                  96.57                    0.71   \n",
              "2022-12-01                                  29.56                    0.19   \n",
              "\n",
              "            involuntary headcount change (FTE)  reachability  \\\n",
              "date                                                           \n",
              "2014-01-01                                1.92         44.40   \n",
              "2014-02-01                                2.63         42.40   \n",
              "2014-03-01                                1.13         42.19   \n",
              "2014-04-01                                2.54         44.96   \n",
              "2014-05-01                                2.46         44.64   \n",
              "...                                        ...           ...   \n",
              "2022-08-01                                2.27         42.43   \n",
              "2022-09-01                                1.80         43.44   \n",
              "2022-10-01                                1.94         42.80   \n",
              "2022-11-01                                2.35         43.41   \n",
              "2022-12-01                                2.88         46.43   \n",
              "\n",
              "            count sessions on .projuventute.ch  count leads  \\\n",
              "date                                                          \n",
              "2014-01-01                           162857.14       226.58   \n",
              "2014-02-01                           189084.12       315.47   \n",
              "2014-03-01                           182746.75       271.14   \n",
              "2014-04-01                           217150.50       936.54   \n",
              "2014-05-01                           168749.43       411.36   \n",
              "...                                        ...          ...   \n",
              "2022-08-01                           178699.46       737.49   \n",
              "2022-09-01                           182089.41       777.24   \n",
              "2022-10-01                           181204.92       415.08   \n",
              "2022-11-01                           196062.38        73.34   \n",
              "2022-12-01                           221086.10       325.15   \n",
              "\n",
              "            net promoter score  private donations  \\\n",
              "date                                                \n",
              "2014-01-01                35.0         1263671.34   \n",
              "2014-02-01                35.0          587662.81   \n",
              "2014-03-01                35.0          887369.03   \n",
              "2014-04-01                35.0          972077.04   \n",
              "2014-05-01                35.0          910949.82   \n",
              "...                        ...                ...   \n",
              "2022-08-01                35.0         1001653.86   \n",
              "2022-09-01                35.0          521897.07   \n",
              "2022-10-01                35.0         1419935.68   \n",
              "2022-11-01                35.0         1387686.90   \n",
              "2022-12-01                35.0         1107147.55   \n",
              "\n",
              "            additional monetization/savings from CRM  \\\n",
              "date                                                   \n",
              "2014-01-01                                   3909.12   \n",
              "2014-02-01                                  27773.25   \n",
              "2014-03-01                                  24514.12   \n",
              "2014-04-01                                   1632.79   \n",
              "2014-05-01                                  65369.21   \n",
              "...                                              ...   \n",
              "2022-08-01                                  20576.48   \n",
              "2022-09-01                                  16816.78   \n",
              "2022-10-01                                  15141.87   \n",
              "2022-11-01                                   3680.96   \n",
              "2022-12-01                                   8355.05   \n",
              "\n",
              "            additional monetization/savings from programs  \n",
              "date                                                       \n",
              "2014-01-01                                       48318.73  \n",
              "2014-02-01                                      183751.30  \n",
              "2014-03-01                                      252685.97  \n",
              "2014-04-01                                      106050.46  \n",
              "2014-05-01                                      169507.84  \n",
              "...                                                   ...  \n",
              "2022-08-01                                      260766.66  \n",
              "2022-09-01                                       14621.48  \n",
              "2022-10-01                                       80060.57  \n",
              "2022-11-01                                      278931.42  \n",
              "2022-12-01                                       93340.73  \n",
              "\n",
              "[108 rows x 10 columns]"
            ]
          },
          "execution_count": 269,
          "metadata": {},
          "output_type": "execute_result"
        }
      ],
      "source": [
        "dfToyProcessed"
      ]
    },
    {
      "cell_type": "code",
      "execution_count": 270,
      "metadata": {},
      "outputs": [
        {
          "data": {
            "application/vnd.plotly.v1+json": {
              "config": {
                "plotlyServerURL": "https://plot.ly"
              },
              "data": [
                {
                  "name": "share short tern leave",
                  "nbinsx": 50,
                  "opacity": 0.6,
                  "type": "histogram",
                  "x": [
                    3.02,
                    2.12,
                    1.18,
                    0.39,
                    1.37,
                    2.12,
                    1.78,
                    1.36,
                    2.23,
                    0.78,
                    0.42,
                    1.05,
                    1.58,
                    0.16,
                    1.77,
                    1.52,
                    1.55,
                    0.6,
                    1.76,
                    0.56,
                    0.33,
                    0.7,
                    0.43,
                    2.02,
                    0.81,
                    2.64,
                    2.56,
                    0.29,
                    0.38,
                    1.69,
                    1.62,
                    2.66,
                    3.13,
                    0.6,
                    1.36,
                    0.55,
                    1.94,
                    0.57,
                    0.48,
                    1.26,
                    1.65,
                    2.76,
                    2.27,
                    3.03,
                    1.18,
                    1.52,
                    0.77,
                    2.95,
                    1.04,
                    0.82,
                    1.45,
                    0.65,
                    1.1,
                    0.82,
                    0.96,
                    0.44,
                    1.53,
                    0.21,
                    0.48,
                    2.55,
                    2.99,
                    0.48,
                    0.85,
                    1.45,
                    2.15,
                    0.25,
                    2.43,
                    2.47,
                    0.83,
                    1.07,
                    0.01,
                    0.76,
                    3.9,
                    1.57,
                    1.17,
                    2.1,
                    1.32,
                    1.24,
                    3.57,
                    0.31,
                    2.23,
                    3.71,
                    0.11,
                    0.92,
                    1.77,
                    2.32,
                    0.87,
                    0.43,
                    0.75,
                    3.55,
                    0.4,
                    3.4,
                    2.93,
                    0.37,
                    1.77,
                    3.24,
                    0.89,
                    1.62,
                    2.18,
                    3.79,
                    0.99,
                    0.32,
                    2.04,
                    4.26,
                    2.44,
                    2,
                    0.71,
                    0.19
                  ],
                  "xaxis": "x",
                  "yaxis": "y"
                },
                {
                  "name": "involuntary headcount change (FTE)",
                  "nbinsx": 50,
                  "opacity": 0.6,
                  "type": "histogram",
                  "x": [
                    1.92,
                    2.63,
                    1.13,
                    2.54,
                    2.46,
                    1.84,
                    1.85,
                    2.58,
                    0.93,
                    1.02,
                    2.18,
                    2.3,
                    1.63,
                    1.65,
                    2.79,
                    0.31,
                    0.99,
                    2.14,
                    2.56,
                    2.07,
                    2.23,
                    1.2,
                    0.72,
                    2.31,
                    2.67,
                    2.87,
                    0.59,
                    2.21,
                    2.06,
                    1.59,
                    2.67,
                    2.08,
                    2.61,
                    2.5,
                    2.03,
                    2.09,
                    0.94,
                    1.8,
                    0.78,
                    0.88,
                    2.61,
                    0.15,
                    1.73,
                    0.89,
                    2.06,
                    2.95,
                    2.5,
                    2.38,
                    0.64,
                    2.08,
                    2.73,
                    3.12,
                    2.49,
                    1.81,
                    2.87,
                    1.51,
                    1.72,
                    2.76,
                    2.62,
                    1.71,
                    2.65,
                    2.7,
                    3.06,
                    2.22,
                    2.4,
                    2.1,
                    2.5,
                    0.6,
                    2.37,
                    2.03,
                    2.36,
                    2.77,
                    2.28,
                    1.45,
                    1.78,
                    2.58,
                    2.02,
                    0.92,
                    0.01,
                    2.92,
                    1.56,
                    0.29,
                    2.98,
                    1.68,
                    3.04,
                    1.39,
                    2.35,
                    1.6,
                    1.98,
                    3.27,
                    2.24,
                    1.77,
                    2.77,
                    1.75,
                    2.52,
                    2.09,
                    1.47,
                    2.62,
                    2.18,
                    0.45,
                    0.52,
                    2.2,
                    2.28,
                    2.27,
                    1.8,
                    1.94,
                    2.35,
                    2.88
                  ],
                  "xaxis": "x2",
                  "yaxis": "y2"
                },
                {
                  "name": "reachability",
                  "nbinsx": 50,
                  "opacity": 0.6,
                  "type": "histogram",
                  "x": [
                    44.4,
                    42.4,
                    42.19,
                    44.96,
                    44.64,
                    45.04,
                    44.89,
                    44.4,
                    44.95,
                    42.98,
                    42.38,
                    47.01,
                    42.65,
                    47.04,
                    45.15,
                    43.22,
                    44.52,
                    45.09,
                    44.13,
                    43.73,
                    44.47,
                    43.36,
                    44.16,
                    43.44,
                    44.45,
                    45.45,
                    44.33,
                    44.31,
                    45.62,
                    42.9,
                    45.58,
                    44.43,
                    44.38,
                    43.44,
                    42.28,
                    43.25,
                    44.42,
                    44.6,
                    45.81,
                    44.43,
                    42.61,
                    43.76,
                    42.66,
                    45.35,
                    44.39,
                    43.76,
                    43.95,
                    42.97,
                    43.38,
                    45.1,
                    42.36,
                    44.97,
                    45.43,
                    47.44,
                    43,
                    46.15,
                    43.72,
                    44.06,
                    42.25,
                    44.31,
                    45.43,
                    45.04,
                    43.66,
                    44.38,
                    44.15,
                    45.57,
                    43.05,
                    43.79,
                    45.33,
                    45.21,
                    44.32,
                    45.67,
                    45.25,
                    43.04,
                    43.43,
                    45.93,
                    43.52,
                    44.84,
                    44.61,
                    46.67,
                    45.21,
                    43.3,
                    42.55,
                    46.18,
                    44.02,
                    45.31,
                    43.83,
                    45.84,
                    43.04,
                    43.56,
                    46.39,
                    44.93,
                    44.55,
                    43.37,
                    44.47,
                    43.15,
                    43.54,
                    45.42,
                    44.74,
                    41.95,
                    43.62,
                    44.95,
                    43.71,
                    42.43,
                    43.44,
                    42.8,
                    43.41,
                    46.43
                  ],
                  "xaxis": "x3",
                  "yaxis": "y3"
                },
                {
                  "name": "count sessions on .projuventute.ch",
                  "nbinsx": 50,
                  "opacity": 0.6,
                  "type": "histogram",
                  "x": [
                    162857.14,
                    189084.12,
                    182746.75,
                    217150.5,
                    168749.43,
                    169549.64,
                    210645.06,
                    205053.23,
                    215387.69,
                    178609.61,
                    216699.64,
                    206482.26,
                    163422.25,
                    187956.33,
                    191215.41,
                    210830.11,
                    195183.8,
                    188295.77,
                    190272.4,
                    197322.13,
                    194954.12,
                    216844.51,
                    209822.41,
                    196706.78,
                    191465.06,
                    208186.42,
                    166164.25,
                    205927.42,
                    187344.62,
                    198565.42,
                    194802.76,
                    185407.42,
                    220560.85,
                    201793.57,
                    148714.32,
                    219728.34,
                    162312.24,
                    212758.62,
                    220913.75,
                    213570.92,
                    166738.25,
                    209318.67,
                    206511.41,
                    217981.9,
                    217338.77,
                    176599.35,
                    205713.89,
                    210054.28,
                    207476.21,
                    190227.22,
                    161800.97,
                    208968.73,
                    189761.89,
                    212477.53,
                    205271.68,
                    212593.39,
                    199038.61,
                    187548.41,
                    195797.11,
                    213255.89,
                    190935.77,
                    165539.43,
                    164994.24,
                    205095.69,
                    147095.3,
                    217467.69,
                    165254.44,
                    223029.42,
                    203376.14,
                    202235.8,
                    191955.05,
                    204153.38,
                    218353.25,
                    180192.83,
                    212977.02,
                    194836.52,
                    212585.53,
                    194111.59,
                    203669.17,
                    226323.75,
                    172299.2,
                    167761.02,
                    187407.66,
                    184341.86,
                    202083.77,
                    206921.28,
                    166106.02,
                    215877.66,
                    221209.95,
                    187013.5,
                    200590.88,
                    196538.26,
                    203774.38,
                    205042.66,
                    212661.56,
                    177629.22,
                    202753.68,
                    200726.44,
                    201365.53,
                    174167.14,
                    219488.3,
                    212092.8,
                    201225.59,
                    178699.46,
                    182089.41,
                    181204.92,
                    196062.38,
                    221086.1
                  ],
                  "xaxis": "x4",
                  "yaxis": "y4"
                },
                {
                  "name": "count leads",
                  "nbinsx": 50,
                  "opacity": 0.6,
                  "type": "histogram",
                  "x": [
                    226.58,
                    315.47,
                    271.14,
                    936.54,
                    411.36,
                    842.71,
                    544.13,
                    402.06,
                    155.47,
                    201.02,
                    410.64,
                    362.83,
                    741.85,
                    304.47,
                    374.99,
                    179.94,
                    525.53,
                    68.25,
                    380.84,
                    287.07,
                    586.51,
                    674.49,
                    85.75,
                    532.58,
                    119.05,
                    258.67,
                    449.34,
                    540.9,
                    341.82,
                    662.35,
                    551.54,
                    473.67,
                    758.59,
                    434.48,
                    260.46,
                    348.43,
                    76.38,
                    135.53,
                    503.42,
                    835.97,
                    428.4,
                    731.97,
                    810.56,
                    585.36,
                    683.47,
                    585.48,
                    428.64,
                    217.45,
                    217.82,
                    1014.75,
                    718.21,
                    633.52,
                    408.5,
                    759.32,
                    259.22,
                    538.83,
                    292.72,
                    523.51,
                    277.56,
                    386.35,
                    857.7,
                    105.46,
                    219.27,
                    547.12,
                    167.91,
                    466.72,
                    498.61,
                    173.58,
                    389.3,
                    291.98,
                    571.94,
                    617.49,
                    1068.92,
                    794.96,
                    308.44,
                    899.85,
                    178.45,
                    779.81,
                    376.16,
                    340.13,
                    236.15,
                    902.53,
                    925.21,
                    416.26,
                    197.23,
                    486.35,
                    822.71,
                    337.51,
                    765.59,
                    468.17,
                    159,
                    475.98,
                    599.59,
                    613.67,
                    774.31,
                    440.93,
                    220.08,
                    398.18,
                    869.46,
                    994.26,
                    75.48,
                    458.97,
                    489.65,
                    737.49,
                    777.24,
                    415.08,
                    73.34,
                    325.15
                  ],
                  "xaxis": "x5",
                  "yaxis": "y5"
                },
                {
                  "name": "net promoter score",
                  "nbinsx": 50,
                  "opacity": 0.6,
                  "type": "histogram",
                  "x": [
                    35,
                    35,
                    35,
                    35,
                    35,
                    35,
                    35,
                    35,
                    35,
                    35,
                    35,
                    35,
                    35,
                    35,
                    35,
                    35,
                    35,
                    35,
                    35,
                    35,
                    35,
                    35,
                    35,
                    35,
                    35,
                    35,
                    35,
                    35,
                    35,
                    35,
                    35,
                    35,
                    35,
                    35,
                    35,
                    35,
                    35,
                    35,
                    35,
                    35,
                    35,
                    35,
                    35,
                    35,
                    35,
                    35,
                    35,
                    35,
                    35,
                    35,
                    35,
                    35,
                    35,
                    35,
                    35,
                    35,
                    35,
                    35,
                    35,
                    35,
                    35,
                    35,
                    35,
                    35,
                    35,
                    35,
                    35,
                    35,
                    35,
                    35,
                    35,
                    35,
                    35,
                    35,
                    35,
                    35,
                    35,
                    35,
                    35,
                    35,
                    35,
                    35,
                    35,
                    35,
                    35,
                    35,
                    35,
                    35,
                    35,
                    35,
                    35,
                    35,
                    35,
                    35,
                    35,
                    35,
                    35,
                    35,
                    35,
                    35,
                    35,
                    35,
                    35,
                    35,
                    35,
                    35,
                    35,
                    35
                  ],
                  "xaxis": "x6",
                  "yaxis": "y6"
                },
                {
                  "name": "private donations",
                  "nbinsx": 50,
                  "opacity": 0.6,
                  "type": "histogram",
                  "x": [
                    1263671.34,
                    587662.81,
                    887369.03,
                    972077.04,
                    910949.82,
                    656942.57,
                    824160.67,
                    1104335.46,
                    1679563.57,
                    952710.95,
                    696129.37,
                    1009910.25,
                    968415.89,
                    737926.02,
                    1204006.28,
                    891065.23,
                    947542.97,
                    807044.78,
                    607745.06,
                    637680.04,
                    1095760.78,
                    1174839.8,
                    1140118.13,
                    1473579.62,
                    840462.14,
                    1284398.85,
                    1296517.6,
                    1272189.04,
                    1434630.27,
                    1201953.12,
                    1305033.41,
                    770584.05,
                    765667.29,
                    474195.57,
                    983692.29,
                    1646287.22,
                    583087.47,
                    804355.71,
                    1590699.07,
                    1117410.54,
                    2005219.6,
                    918932.93,
                    757254.82,
                    1013952.46,
                    1321408.79,
                    693071,
                    1859657.83,
                    958767.08,
                    973618.43,
                    703330.38,
                    985004.46,
                    559549.09,
                    731119.16,
                    485270.26,
                    867121.92,
                    889199.37,
                    863488.02,
                    815922.59,
                    708827.31,
                    936632.78,
                    705880.15,
                    691042.11,
                    858138.71,
                    1107175.39,
                    761435.35,
                    707386.54,
                    1115008.35,
                    839754.37,
                    702931.23,
                    1040760.45,
                    736513.41,
                    1188332.47,
                    669008.65,
                    1268661.05,
                    1316172.29,
                    894845.46,
                    1211517.57,
                    740555,
                    1335007.4,
                    930491.88,
                    1051563.92,
                    1337846.24,
                    1213608.86,
                    2131300.9,
                    995557.05,
                    1127291.54,
                    993471.28,
                    1111156.66,
                    577236.1,
                    907154.88,
                    1224299.84,
                    1112362.96,
                    1141041.85,
                    770486.16,
                    739276.55,
                    1208960.59,
                    507621.69,
                    1547926.6,
                    608596.11,
                    792958.79,
                    825731.93,
                    608938.34,
                    623792.93,
                    1001653.86,
                    521897.07,
                    1419935.68,
                    1387686.9,
                    1107147.55
                  ],
                  "xaxis": "x7",
                  "yaxis": "y7"
                },
                {
                  "name": "additional monetization/savings from CRM",
                  "nbinsx": 50,
                  "opacity": 0.6,
                  "type": "histogram",
                  "x": [
                    3909.12,
                    27773.25,
                    24514.12,
                    1632.79,
                    65369.21,
                    23346.09,
                    4186.79,
                    23545.05,
                    14161.84,
                    23853.19,
                    12188.14,
                    17558.45,
                    8359.74,
                    2423.77,
                    11900.41,
                    23737.75,
                    11916.4,
                    6387.56,
                    14573.32,
                    8406.4,
                    23166.38,
                    12545.66,
                    24037.31,
                    14185.12,
                    21180.89,
                    10401.77,
                    228.56,
                    31192.22,
                    22606.84,
                    10242.38,
                    49502.53,
                    16925.29,
                    11017.14,
                    23878.51,
                    260.68,
                    29593.79,
                    12449.05,
                    9960.72,
                    9837.18,
                    8419.27,
                    5406.64,
                    41719.31,
                    7140.03,
                    9695.91,
                    12127.28,
                    20480.8,
                    16659.1,
                    11827.15,
                    4672.92,
                    12359.41,
                    32546.24,
                    22763.07,
                    1220.75,
                    87600.48,
                    3991.29,
                    7265.44,
                    79378.54,
                    1950.5,
                    36474.39,
                    2407.76,
                    7304.47,
                    31522.93,
                    35922.06,
                    12244.15,
                    72724.01,
                    14883.89,
                    21206.39,
                    11209.35,
                    19893.39,
                    21818.79,
                    17536.49,
                    31170.31,
                    2171.86,
                    10853.53,
                    29323.87,
                    73697.68,
                    2943.52,
                    2460.47,
                    6516.71,
                    18119.24,
                    2560.64,
                    30100.89,
                    77681.06,
                    8221.02,
                    5893.96,
                    45579.49,
                    37724.41,
                    35430.16,
                    24810.15,
                    6875.3,
                    83860.11,
                    3819.5,
                    20207.81,
                    6769.36,
                    25923.31,
                    7784.45,
                    25840.18,
                    10958.45,
                    25708.78,
                    28243.84,
                    3129.07,
                    7921.44,
                    18167.95,
                    20576.48,
                    16816.78,
                    15141.87,
                    3680.96,
                    8355.05
                  ],
                  "xaxis": "x8",
                  "yaxis": "y8"
                },
                {
                  "name": "additional monetization/savings from programs",
                  "nbinsx": 50,
                  "opacity": 0.6,
                  "type": "histogram",
                  "x": [
                    48318.73,
                    183751.3,
                    252685.97,
                    106050.46,
                    169507.84,
                    19171.68,
                    110367.63,
                    45656.79,
                    42850.85,
                    294249.39,
                    155793.56,
                    120769.67,
                    118247.39,
                    59931.87,
                    59854.49,
                    52860.14,
                    217131.84,
                    98392.28,
                    172503.72,
                    34767.47,
                    58148.09,
                    215190.49,
                    179696.08,
                    51376.5,
                    6717.86,
                    316742.29,
                    160994.45,
                    76124.23,
                    20487.7,
                    75724.5,
                    107795.86,
                    304073.96,
                    164385.97,
                    158125.95,
                    89283.1,
                    142473.52,
                    50359.38,
                    107441.52,
                    99118.91,
                    83139.69,
                    82171.06,
                    101822.41,
                    973.97,
                    235524.86,
                    282011.51,
                    341959.71,
                    32145.83,
                    29737.23,
                    139706.92,
                    59796.35,
                    203219.52,
                    42891.02,
                    114188.84,
                    55938.2,
                    234801.66,
                    17823.02,
                    262361.99,
                    3709.02,
                    8148.87,
                    291285.01,
                    29246.88,
                    220602.19,
                    7435.96,
                    32294.72,
                    78200.8,
                    30079.82,
                    51214.67,
                    80355.02,
                    66207.8,
                    218350.46,
                    61235.97,
                    64051.86,
                    120162.82,
                    45629.26,
                    7347.69,
                    14980.8,
                    121969.69,
                    90489.64,
                    47239.22,
                    32243.36,
                    62086.79,
                    46182.26,
                    111511.03,
                    61696.92,
                    101698.57,
                    282541.29,
                    300008.57,
                    61842.85,
                    220912,
                    59237.67,
                    49310.58,
                    169426.75,
                    292443.89,
                    12971.52,
                    54369.92,
                    13265.1,
                    38237.59,
                    34626.03,
                    136086.88,
                    346565.14,
                    187050.27,
                    302438.98,
                    33680.76,
                    260766.66,
                    14621.48,
                    80060.57,
                    278931.42,
                    93340.73
                  ],
                  "xaxis": "x9",
                  "yaxis": "y9"
                }
              ],
              "layout": {
                "annotations": [
                  {
                    "font": {
                      "size": 16
                    },
                    "showarrow": false,
                    "text": "share short tern leave",
                    "x": 0.225,
                    "xanchor": "center",
                    "xref": "paper",
                    "y": 1,
                    "yanchor": "bottom",
                    "yref": "paper"
                  },
                  {
                    "font": {
                      "size": 16
                    },
                    "showarrow": false,
                    "text": "involuntary headcount change (FTE)",
                    "x": 0.775,
                    "xanchor": "center",
                    "xref": "paper",
                    "y": 1,
                    "yanchor": "bottom",
                    "yref": "paper"
                  },
                  {
                    "font": {
                      "size": 16
                    },
                    "showarrow": false,
                    "text": "reachability",
                    "x": 0.225,
                    "xanchor": "center",
                    "xref": "paper",
                    "y": 0.78,
                    "yanchor": "bottom",
                    "yref": "paper"
                  },
                  {
                    "font": {
                      "size": 16
                    },
                    "showarrow": false,
                    "text": "count sessions on .projuventute.ch",
                    "x": 0.775,
                    "xanchor": "center",
                    "xref": "paper",
                    "y": 0.78,
                    "yanchor": "bottom",
                    "yref": "paper"
                  },
                  {
                    "font": {
                      "size": 16
                    },
                    "showarrow": false,
                    "text": "count leads",
                    "x": 0.225,
                    "xanchor": "center",
                    "xref": "paper",
                    "y": 0.56,
                    "yanchor": "bottom",
                    "yref": "paper"
                  },
                  {
                    "font": {
                      "size": 16
                    },
                    "showarrow": false,
                    "text": "net promoter score",
                    "x": 0.775,
                    "xanchor": "center",
                    "xref": "paper",
                    "y": 0.56,
                    "yanchor": "bottom",
                    "yref": "paper"
                  },
                  {
                    "font": {
                      "size": 16
                    },
                    "showarrow": false,
                    "text": "private donations",
                    "x": 0.225,
                    "xanchor": "center",
                    "xref": "paper",
                    "y": 0.33999999999999997,
                    "yanchor": "bottom",
                    "yref": "paper"
                  },
                  {
                    "font": {
                      "size": 16
                    },
                    "showarrow": false,
                    "text": "additional monetization/savings from CRM",
                    "x": 0.775,
                    "xanchor": "center",
                    "xref": "paper",
                    "y": 0.33999999999999997,
                    "yanchor": "bottom",
                    "yref": "paper"
                  },
                  {
                    "font": {
                      "size": 16
                    },
                    "showarrow": false,
                    "text": "additional monetization/savings from programs",
                    "x": 0.225,
                    "xanchor": "center",
                    "xref": "paper",
                    "y": 0.12,
                    "yanchor": "bottom",
                    "yref": "paper"
                  }
                ],
                "height": 1200,
                "template": {
                  "data": {
                    "bar": [
                      {
                        "error_x": {
                          "color": "#2a3f5f"
                        },
                        "error_y": {
                          "color": "#2a3f5f"
                        },
                        "marker": {
                          "line": {
                            "color": "#E5ECF6",
                            "width": 0.5
                          },
                          "pattern": {
                            "fillmode": "overlay",
                            "size": 10,
                            "solidity": 0.2
                          }
                        },
                        "type": "bar"
                      }
                    ],
                    "barpolar": [
                      {
                        "marker": {
                          "line": {
                            "color": "#E5ECF6",
                            "width": 0.5
                          },
                          "pattern": {
                            "fillmode": "overlay",
                            "size": 10,
                            "solidity": 0.2
                          }
                        },
                        "type": "barpolar"
                      }
                    ],
                    "carpet": [
                      {
                        "aaxis": {
                          "endlinecolor": "#2a3f5f",
                          "gridcolor": "white",
                          "linecolor": "white",
                          "minorgridcolor": "white",
                          "startlinecolor": "#2a3f5f"
                        },
                        "baxis": {
                          "endlinecolor": "#2a3f5f",
                          "gridcolor": "white",
                          "linecolor": "white",
                          "minorgridcolor": "white",
                          "startlinecolor": "#2a3f5f"
                        },
                        "type": "carpet"
                      }
                    ],
                    "choropleth": [
                      {
                        "colorbar": {
                          "outlinewidth": 0,
                          "ticks": ""
                        },
                        "type": "choropleth"
                      }
                    ],
                    "contour": [
                      {
                        "colorbar": {
                          "outlinewidth": 0,
                          "ticks": ""
                        },
                        "colorscale": [
                          [
                            0,
                            "#0d0887"
                          ],
                          [
                            0.1111111111111111,
                            "#46039f"
                          ],
                          [
                            0.2222222222222222,
                            "#7201a8"
                          ],
                          [
                            0.3333333333333333,
                            "#9c179e"
                          ],
                          [
                            0.4444444444444444,
                            "#bd3786"
                          ],
                          [
                            0.5555555555555556,
                            "#d8576b"
                          ],
                          [
                            0.6666666666666666,
                            "#ed7953"
                          ],
                          [
                            0.7777777777777778,
                            "#fb9f3a"
                          ],
                          [
                            0.8888888888888888,
                            "#fdca26"
                          ],
                          [
                            1,
                            "#f0f921"
                          ]
                        ],
                        "type": "contour"
                      }
                    ],
                    "contourcarpet": [
                      {
                        "colorbar": {
                          "outlinewidth": 0,
                          "ticks": ""
                        },
                        "type": "contourcarpet"
                      }
                    ],
                    "heatmap": [
                      {
                        "colorbar": {
                          "outlinewidth": 0,
                          "ticks": ""
                        },
                        "colorscale": [
                          [
                            0,
                            "#0d0887"
                          ],
                          [
                            0.1111111111111111,
                            "#46039f"
                          ],
                          [
                            0.2222222222222222,
                            "#7201a8"
                          ],
                          [
                            0.3333333333333333,
                            "#9c179e"
                          ],
                          [
                            0.4444444444444444,
                            "#bd3786"
                          ],
                          [
                            0.5555555555555556,
                            "#d8576b"
                          ],
                          [
                            0.6666666666666666,
                            "#ed7953"
                          ],
                          [
                            0.7777777777777778,
                            "#fb9f3a"
                          ],
                          [
                            0.8888888888888888,
                            "#fdca26"
                          ],
                          [
                            1,
                            "#f0f921"
                          ]
                        ],
                        "type": "heatmap"
                      }
                    ],
                    "heatmapgl": [
                      {
                        "colorbar": {
                          "outlinewidth": 0,
                          "ticks": ""
                        },
                        "colorscale": [
                          [
                            0,
                            "#0d0887"
                          ],
                          [
                            0.1111111111111111,
                            "#46039f"
                          ],
                          [
                            0.2222222222222222,
                            "#7201a8"
                          ],
                          [
                            0.3333333333333333,
                            "#9c179e"
                          ],
                          [
                            0.4444444444444444,
                            "#bd3786"
                          ],
                          [
                            0.5555555555555556,
                            "#d8576b"
                          ],
                          [
                            0.6666666666666666,
                            "#ed7953"
                          ],
                          [
                            0.7777777777777778,
                            "#fb9f3a"
                          ],
                          [
                            0.8888888888888888,
                            "#fdca26"
                          ],
                          [
                            1,
                            "#f0f921"
                          ]
                        ],
                        "type": "heatmapgl"
                      }
                    ],
                    "histogram": [
                      {
                        "marker": {
                          "pattern": {
                            "fillmode": "overlay",
                            "size": 10,
                            "solidity": 0.2
                          }
                        },
                        "type": "histogram"
                      }
                    ],
                    "histogram2d": [
                      {
                        "colorbar": {
                          "outlinewidth": 0,
                          "ticks": ""
                        },
                        "colorscale": [
                          [
                            0,
                            "#0d0887"
                          ],
                          [
                            0.1111111111111111,
                            "#46039f"
                          ],
                          [
                            0.2222222222222222,
                            "#7201a8"
                          ],
                          [
                            0.3333333333333333,
                            "#9c179e"
                          ],
                          [
                            0.4444444444444444,
                            "#bd3786"
                          ],
                          [
                            0.5555555555555556,
                            "#d8576b"
                          ],
                          [
                            0.6666666666666666,
                            "#ed7953"
                          ],
                          [
                            0.7777777777777778,
                            "#fb9f3a"
                          ],
                          [
                            0.8888888888888888,
                            "#fdca26"
                          ],
                          [
                            1,
                            "#f0f921"
                          ]
                        ],
                        "type": "histogram2d"
                      }
                    ],
                    "histogram2dcontour": [
                      {
                        "colorbar": {
                          "outlinewidth": 0,
                          "ticks": ""
                        },
                        "colorscale": [
                          [
                            0,
                            "#0d0887"
                          ],
                          [
                            0.1111111111111111,
                            "#46039f"
                          ],
                          [
                            0.2222222222222222,
                            "#7201a8"
                          ],
                          [
                            0.3333333333333333,
                            "#9c179e"
                          ],
                          [
                            0.4444444444444444,
                            "#bd3786"
                          ],
                          [
                            0.5555555555555556,
                            "#d8576b"
                          ],
                          [
                            0.6666666666666666,
                            "#ed7953"
                          ],
                          [
                            0.7777777777777778,
                            "#fb9f3a"
                          ],
                          [
                            0.8888888888888888,
                            "#fdca26"
                          ],
                          [
                            1,
                            "#f0f921"
                          ]
                        ],
                        "type": "histogram2dcontour"
                      }
                    ],
                    "mesh3d": [
                      {
                        "colorbar": {
                          "outlinewidth": 0,
                          "ticks": ""
                        },
                        "type": "mesh3d"
                      }
                    ],
                    "parcoords": [
                      {
                        "line": {
                          "colorbar": {
                            "outlinewidth": 0,
                            "ticks": ""
                          }
                        },
                        "type": "parcoords"
                      }
                    ],
                    "pie": [
                      {
                        "automargin": true,
                        "type": "pie"
                      }
                    ],
                    "scatter": [
                      {
                        "fillpattern": {
                          "fillmode": "overlay",
                          "size": 10,
                          "solidity": 0.2
                        },
                        "type": "scatter"
                      }
                    ],
                    "scatter3d": [
                      {
                        "line": {
                          "colorbar": {
                            "outlinewidth": 0,
                            "ticks": ""
                          }
                        },
                        "marker": {
                          "colorbar": {
                            "outlinewidth": 0,
                            "ticks": ""
                          }
                        },
                        "type": "scatter3d"
                      }
                    ],
                    "scattercarpet": [
                      {
                        "marker": {
                          "colorbar": {
                            "outlinewidth": 0,
                            "ticks": ""
                          }
                        },
                        "type": "scattercarpet"
                      }
                    ],
                    "scattergeo": [
                      {
                        "marker": {
                          "colorbar": {
                            "outlinewidth": 0,
                            "ticks": ""
                          }
                        },
                        "type": "scattergeo"
                      }
                    ],
                    "scattergl": [
                      {
                        "marker": {
                          "colorbar": {
                            "outlinewidth": 0,
                            "ticks": ""
                          }
                        },
                        "type": "scattergl"
                      }
                    ],
                    "scattermapbox": [
                      {
                        "marker": {
                          "colorbar": {
                            "outlinewidth": 0,
                            "ticks": ""
                          }
                        },
                        "type": "scattermapbox"
                      }
                    ],
                    "scatterpolar": [
                      {
                        "marker": {
                          "colorbar": {
                            "outlinewidth": 0,
                            "ticks": ""
                          }
                        },
                        "type": "scatterpolar"
                      }
                    ],
                    "scatterpolargl": [
                      {
                        "marker": {
                          "colorbar": {
                            "outlinewidth": 0,
                            "ticks": ""
                          }
                        },
                        "type": "scatterpolargl"
                      }
                    ],
                    "scatterternary": [
                      {
                        "marker": {
                          "colorbar": {
                            "outlinewidth": 0,
                            "ticks": ""
                          }
                        },
                        "type": "scatterternary"
                      }
                    ],
                    "surface": [
                      {
                        "colorbar": {
                          "outlinewidth": 0,
                          "ticks": ""
                        },
                        "colorscale": [
                          [
                            0,
                            "#0d0887"
                          ],
                          [
                            0.1111111111111111,
                            "#46039f"
                          ],
                          [
                            0.2222222222222222,
                            "#7201a8"
                          ],
                          [
                            0.3333333333333333,
                            "#9c179e"
                          ],
                          [
                            0.4444444444444444,
                            "#bd3786"
                          ],
                          [
                            0.5555555555555556,
                            "#d8576b"
                          ],
                          [
                            0.6666666666666666,
                            "#ed7953"
                          ],
                          [
                            0.7777777777777778,
                            "#fb9f3a"
                          ],
                          [
                            0.8888888888888888,
                            "#fdca26"
                          ],
                          [
                            1,
                            "#f0f921"
                          ]
                        ],
                        "type": "surface"
                      }
                    ],
                    "table": [
                      {
                        "cells": {
                          "fill": {
                            "color": "#EBF0F8"
                          },
                          "line": {
                            "color": "white"
                          }
                        },
                        "header": {
                          "fill": {
                            "color": "#C8D4E3"
                          },
                          "line": {
                            "color": "white"
                          }
                        },
                        "type": "table"
                      }
                    ]
                  },
                  "layout": {
                    "annotationdefaults": {
                      "arrowcolor": "#2a3f5f",
                      "arrowhead": 0,
                      "arrowwidth": 1
                    },
                    "autotypenumbers": "strict",
                    "coloraxis": {
                      "colorbar": {
                        "outlinewidth": 0,
                        "ticks": ""
                      }
                    },
                    "colorscale": {
                      "diverging": [
                        [
                          0,
                          "#8e0152"
                        ],
                        [
                          0.1,
                          "#c51b7d"
                        ],
                        [
                          0.2,
                          "#de77ae"
                        ],
                        [
                          0.3,
                          "#f1b6da"
                        ],
                        [
                          0.4,
                          "#fde0ef"
                        ],
                        [
                          0.5,
                          "#f7f7f7"
                        ],
                        [
                          0.6,
                          "#e6f5d0"
                        ],
                        [
                          0.7,
                          "#b8e186"
                        ],
                        [
                          0.8,
                          "#7fbc41"
                        ],
                        [
                          0.9,
                          "#4d9221"
                        ],
                        [
                          1,
                          "#276419"
                        ]
                      ],
                      "sequential": [
                        [
                          0,
                          "#0d0887"
                        ],
                        [
                          0.1111111111111111,
                          "#46039f"
                        ],
                        [
                          0.2222222222222222,
                          "#7201a8"
                        ],
                        [
                          0.3333333333333333,
                          "#9c179e"
                        ],
                        [
                          0.4444444444444444,
                          "#bd3786"
                        ],
                        [
                          0.5555555555555556,
                          "#d8576b"
                        ],
                        [
                          0.6666666666666666,
                          "#ed7953"
                        ],
                        [
                          0.7777777777777778,
                          "#fb9f3a"
                        ],
                        [
                          0.8888888888888888,
                          "#fdca26"
                        ],
                        [
                          1,
                          "#f0f921"
                        ]
                      ],
                      "sequentialminus": [
                        [
                          0,
                          "#0d0887"
                        ],
                        [
                          0.1111111111111111,
                          "#46039f"
                        ],
                        [
                          0.2222222222222222,
                          "#7201a8"
                        ],
                        [
                          0.3333333333333333,
                          "#9c179e"
                        ],
                        [
                          0.4444444444444444,
                          "#bd3786"
                        ],
                        [
                          0.5555555555555556,
                          "#d8576b"
                        ],
                        [
                          0.6666666666666666,
                          "#ed7953"
                        ],
                        [
                          0.7777777777777778,
                          "#fb9f3a"
                        ],
                        [
                          0.8888888888888888,
                          "#fdca26"
                        ],
                        [
                          1,
                          "#f0f921"
                        ]
                      ]
                    },
                    "colorway": [
                      "#636efa",
                      "#EF553B",
                      "#00cc96",
                      "#ab63fa",
                      "#FFA15A",
                      "#19d3f3",
                      "#FF6692",
                      "#B6E880",
                      "#FF97FF",
                      "#FECB52"
                    ],
                    "font": {
                      "color": "#2a3f5f"
                    },
                    "geo": {
                      "bgcolor": "white",
                      "lakecolor": "white",
                      "landcolor": "#E5ECF6",
                      "showlakes": true,
                      "showland": true,
                      "subunitcolor": "white"
                    },
                    "hoverlabel": {
                      "align": "left"
                    },
                    "hovermode": "closest",
                    "mapbox": {
                      "style": "light"
                    },
                    "paper_bgcolor": "white",
                    "plot_bgcolor": "#E5ECF6",
                    "polar": {
                      "angularaxis": {
                        "gridcolor": "white",
                        "linecolor": "white",
                        "ticks": ""
                      },
                      "bgcolor": "#E5ECF6",
                      "radialaxis": {
                        "gridcolor": "white",
                        "linecolor": "white",
                        "ticks": ""
                      }
                    },
                    "scene": {
                      "xaxis": {
                        "backgroundcolor": "#E5ECF6",
                        "gridcolor": "white",
                        "gridwidth": 2,
                        "linecolor": "white",
                        "showbackground": true,
                        "ticks": "",
                        "zerolinecolor": "white"
                      },
                      "yaxis": {
                        "backgroundcolor": "#E5ECF6",
                        "gridcolor": "white",
                        "gridwidth": 2,
                        "linecolor": "white",
                        "showbackground": true,
                        "ticks": "",
                        "zerolinecolor": "white"
                      },
                      "zaxis": {
                        "backgroundcolor": "#E5ECF6",
                        "gridcolor": "white",
                        "gridwidth": 2,
                        "linecolor": "white",
                        "showbackground": true,
                        "ticks": "",
                        "zerolinecolor": "white"
                      }
                    },
                    "shapedefaults": {
                      "line": {
                        "color": "#2a3f5f"
                      }
                    },
                    "ternary": {
                      "aaxis": {
                        "gridcolor": "white",
                        "linecolor": "white",
                        "ticks": ""
                      },
                      "baxis": {
                        "gridcolor": "white",
                        "linecolor": "white",
                        "ticks": ""
                      },
                      "bgcolor": "#E5ECF6",
                      "caxis": {
                        "gridcolor": "white",
                        "linecolor": "white",
                        "ticks": ""
                      }
                    },
                    "title": {
                      "x": 0.05
                    },
                    "xaxis": {
                      "automargin": true,
                      "gridcolor": "white",
                      "linecolor": "white",
                      "ticks": "",
                      "title": {
                        "standoff": 15
                      },
                      "zerolinecolor": "white",
                      "zerolinewidth": 2
                    },
                    "yaxis": {
                      "automargin": true,
                      "gridcolor": "white",
                      "linecolor": "white",
                      "ticks": "",
                      "title": {
                        "standoff": 15
                      },
                      "zerolinecolor": "white",
                      "zerolinewidth": 2
                    }
                  }
                },
                "title": {
                  "text": "Distribution of Each Column in the Dataset"
                },
                "width": 1000,
                "xaxis": {
                  "anchor": "y",
                  "domain": [
                    0,
                    0.45
                  ]
                },
                "xaxis10": {
                  "anchor": "y10",
                  "domain": [
                    0.55,
                    1
                  ]
                },
                "xaxis2": {
                  "anchor": "y2",
                  "domain": [
                    0.55,
                    1
                  ]
                },
                "xaxis3": {
                  "anchor": "y3",
                  "domain": [
                    0,
                    0.45
                  ]
                },
                "xaxis4": {
                  "anchor": "y4",
                  "domain": [
                    0.55,
                    1
                  ]
                },
                "xaxis5": {
                  "anchor": "y5",
                  "domain": [
                    0,
                    0.45
                  ]
                },
                "xaxis6": {
                  "anchor": "y6",
                  "domain": [
                    0.55,
                    1
                  ]
                },
                "xaxis7": {
                  "anchor": "y7",
                  "domain": [
                    0,
                    0.45
                  ]
                },
                "xaxis8": {
                  "anchor": "y8",
                  "domain": [
                    0.55,
                    1
                  ]
                },
                "xaxis9": {
                  "anchor": "y9",
                  "domain": [
                    0,
                    0.45
                  ]
                },
                "yaxis": {
                  "anchor": "x",
                  "domain": [
                    0.88,
                    1
                  ]
                },
                "yaxis10": {
                  "anchor": "x10",
                  "domain": [
                    0,
                    0.12
                  ]
                },
                "yaxis2": {
                  "anchor": "x2",
                  "domain": [
                    0.88,
                    1
                  ]
                },
                "yaxis3": {
                  "anchor": "x3",
                  "domain": [
                    0.66,
                    0.78
                  ]
                },
                "yaxis4": {
                  "anchor": "x4",
                  "domain": [
                    0.66,
                    0.78
                  ]
                },
                "yaxis5": {
                  "anchor": "x5",
                  "domain": [
                    0.44,
                    0.56
                  ]
                },
                "yaxis6": {
                  "anchor": "x6",
                  "domain": [
                    0.44,
                    0.56
                  ]
                },
                "yaxis7": {
                  "anchor": "x7",
                  "domain": [
                    0.22,
                    0.33999999999999997
                  ]
                },
                "yaxis8": {
                  "anchor": "x8",
                  "domain": [
                    0.22,
                    0.33999999999999997
                  ]
                },
                "yaxis9": {
                  "anchor": "x9",
                  "domain": [
                    0,
                    0.12
                  ]
                }
              }
            }
          },
          "metadata": {},
          "output_type": "display_data"
        }
      ],
      "source": [
        "# Creating subplots\n",
        "fig = make_subplots(rows=5, cols=2, subplot_titles=dfToyProcessed.columns[1:].tolist())\n",
        "\n",
        "row = 1\n",
        "col = 1\n",
        "for column in dfToyProcessed.columns[1:]:\n",
        "    trace = go.Histogram(x=dfToyProcessed[column], name=column, nbinsx=50, opacity=0.6)\n",
        "    fig.add_trace(trace, row=row, col=col)\n",
        "    col += 1\n",
        "    if col > 2:\n",
        "        col = 1\n",
        "        row += 1\n",
        "\n",
        "fig.update_layout(height=1200, width=1000, title_text='Distribution of Each Column in the Dataset')\n",
        "fig.show()"
      ]
    },
    {
      "cell_type": "markdown",
      "metadata": {},
      "source": [
        "# Compare statisticall behaviour between actual data and synthetic data"
      ]
    },
    {
      "cell_type": "code",
      "execution_count": 271,
      "metadata": {},
      "outputs": [
        {
          "data": {
            "text/html": [
              "<div>\n",
              "<style scoped>\n",
              "    .dataframe tbody tr th:only-of-type {\n",
              "        vertical-align: middle;\n",
              "    }\n",
              "\n",
              "    .dataframe tbody tr th {\n",
              "        vertical-align: top;\n",
              "    }\n",
              "\n",
              "    .dataframe thead th {\n",
              "        text-align: right;\n",
              "    }\n",
              "</style>\n",
              "<table border=\"1\" class=\"dataframe\">\n",
              "  <thead>\n",
              "    <tr style=\"text-align: right;\">\n",
              "      <th></th>\n",
              "      <th>share short tern leave</th>\n",
              "      <th>involuntary headcount change (FTE)</th>\n",
              "      <th>reachability</th>\n",
              "      <th>count sessions on .projuventute.ch</th>\n",
              "      <th>count leads</th>\n",
              "      <th>additional monetization/savings from CRM</th>\n",
              "      <th>additional monetization/savings from programs</th>\n",
              "    </tr>\n",
              "  </thead>\n",
              "  <tbody>\n",
              "    <tr>\n",
              "      <th>count</th>\n",
              "      <td>108.000000</td>\n",
              "      <td>108.000000</td>\n",
              "      <td>108.000000</td>\n",
              "      <td>108.000000</td>\n",
              "      <td>108.000000</td>\n",
              "      <td>108.000000</td>\n",
              "      <td>108.000000</td>\n",
              "    </tr>\n",
              "    <tr>\n",
              "      <th>mean</th>\n",
              "      <td>1.505926</td>\n",
              "      <td>1.978148</td>\n",
              "      <td>44.273426</td>\n",
              "      <td>196304.943241</td>\n",
              "      <td>473.924352</td>\n",
              "      <td>19818.215463</td>\n",
              "      <td>115701.212685</td>\n",
              "    </tr>\n",
              "    <tr>\n",
              "      <th>std</th>\n",
              "      <td>1.014453</td>\n",
              "      <td>0.746665</td>\n",
              "      <td>1.192060</td>\n",
              "      <td>18215.342345</td>\n",
              "      <td>246.926143</td>\n",
              "      <td>18622.909995</td>\n",
              "      <td>93065.043460</td>\n",
              "    </tr>\n",
              "    <tr>\n",
              "      <th>min</th>\n",
              "      <td>0.010000</td>\n",
              "      <td>0.010000</td>\n",
              "      <td>41.950000</td>\n",
              "      <td>147095.300000</td>\n",
              "      <td>68.250000</td>\n",
              "      <td>228.560000</td>\n",
              "      <td>973.970000</td>\n",
              "    </tr>\n",
              "    <tr>\n",
              "      <th>25%</th>\n",
              "      <td>0.687500</td>\n",
              "      <td>1.622500</td>\n",
              "      <td>43.402500</td>\n",
              "      <td>186611.980000</td>\n",
              "      <td>284.692500</td>\n",
              "      <td>7664.455000</td>\n",
              "      <td>46050.892500</td>\n",
              "    </tr>\n",
              "    <tr>\n",
              "      <th>50%</th>\n",
              "      <td>1.360000</td>\n",
              "      <td>2.095000</td>\n",
              "      <td>44.355000</td>\n",
              "      <td>200658.660000</td>\n",
              "      <td>437.705000</td>\n",
              "      <td>14379.220000</td>\n",
              "      <td>82655.375000</td>\n",
              "    </tr>\n",
              "    <tr>\n",
              "      <th>75%</th>\n",
              "      <td>2.157500</td>\n",
              "      <td>2.545000</td>\n",
              "      <td>45.092500</td>\n",
              "      <td>210691.322500</td>\n",
              "      <td>640.727500</td>\n",
              "      <td>24588.127500</td>\n",
              "      <td>170256.810000</td>\n",
              "    </tr>\n",
              "    <tr>\n",
              "      <th>max</th>\n",
              "      <td>4.260000</td>\n",
              "      <td>3.270000</td>\n",
              "      <td>47.440000</td>\n",
              "      <td>226323.750000</td>\n",
              "      <td>1068.920000</td>\n",
              "      <td>87600.480000</td>\n",
              "      <td>346565.140000</td>\n",
              "    </tr>\n",
              "  </tbody>\n",
              "</table>\n",
              "</div>"
            ],
            "text/plain": [
              "       share short tern leave  involuntary headcount change (FTE)  \\\n",
              "count              108.000000                          108.000000   \n",
              "mean                 1.505926                            1.978148   \n",
              "std                  1.014453                            0.746665   \n",
              "min                  0.010000                            0.010000   \n",
              "25%                  0.687500                            1.622500   \n",
              "50%                  1.360000                            2.095000   \n",
              "75%                  2.157500                            2.545000   \n",
              "max                  4.260000                            3.270000   \n",
              "\n",
              "       reachability  count sessions on .projuventute.ch  count leads  \\\n",
              "count    108.000000                          108.000000   108.000000   \n",
              "mean      44.273426                       196304.943241   473.924352   \n",
              "std        1.192060                        18215.342345   246.926143   \n",
              "min       41.950000                       147095.300000    68.250000   \n",
              "25%       43.402500                       186611.980000   284.692500   \n",
              "50%       44.355000                       200658.660000   437.705000   \n",
              "75%       45.092500                       210691.322500   640.727500   \n",
              "max       47.440000                       226323.750000  1068.920000   \n",
              "\n",
              "       additional monetization/savings from CRM  \\\n",
              "count                                108.000000   \n",
              "mean                               19818.215463   \n",
              "std                                18622.909995   \n",
              "min                                  228.560000   \n",
              "25%                                 7664.455000   \n",
              "50%                                14379.220000   \n",
              "75%                                24588.127500   \n",
              "max                                87600.480000   \n",
              "\n",
              "       additional monetization/savings from programs  \n",
              "count                                     108.000000  \n",
              "mean                                   115701.212685  \n",
              "std                                     93065.043460  \n",
              "min                                       973.970000  \n",
              "25%                                     46050.892500  \n",
              "50%                                     82655.375000  \n",
              "75%                                    170256.810000  \n",
              "max                                    346565.140000  "
            ]
          },
          "execution_count": 271,
          "metadata": {},
          "output_type": "execute_result"
        }
      ],
      "source": [
        "# check stats on toy dataset\n",
        "dfToyProcessed.drop(columns=['net promoter score',\n",
        "                             'private donations',\n",
        "                             'share of teams constituted as circles']).describe()"
      ]
    },
    {
      "cell_type": "code",
      "execution_count": 272,
      "metadata": {},
      "outputs": [
        {
          "data": {
            "text/html": [
              "<div>\n",
              "<style scoped>\n",
              "    .dataframe tbody tr th:only-of-type {\n",
              "        vertical-align: middle;\n",
              "    }\n",
              "\n",
              "    .dataframe tbody tr th {\n",
              "        vertical-align: top;\n",
              "    }\n",
              "\n",
              "    .dataframe thead th {\n",
              "        text-align: right;\n",
              "    }\n",
              "</style>\n",
              "<table border=\"1\" class=\"dataframe\">\n",
              "  <thead>\n",
              "    <tr style=\"text-align: right;\">\n",
              "      <th></th>\n",
              "      <th>share short tern leave</th>\n",
              "      <th>involuntary headcount change (FTE)</th>\n",
              "      <th>reachability</th>\n",
              "      <th>count sessions on .projuventute.ch</th>\n",
              "      <th>count leads</th>\n",
              "      <th>additional monetization/savings from CRM</th>\n",
              "      <th>additional monetization/savings from programs</th>\n",
              "    </tr>\n",
              "  </thead>\n",
              "  <tbody>\n",
              "    <tr>\n",
              "      <th>count</th>\n",
              "      <td>12.000000</td>\n",
              "      <td>12.000000</td>\n",
              "      <td>12.000000</td>\n",
              "      <td>12.000000</td>\n",
              "      <td>12.000000</td>\n",
              "      <td>12.000000</td>\n",
              "      <td>12.000000</td>\n",
              "    </tr>\n",
              "    <tr>\n",
              "      <th>mean</th>\n",
              "      <td>1.777500</td>\n",
              "      <td>0.885000</td>\n",
              "      <td>44.832500</td>\n",
              "      <td>179728.563333</td>\n",
              "      <td>575.916667</td>\n",
              "      <td>17000.000000</td>\n",
              "      <td>70752.667500</td>\n",
              "    </tr>\n",
              "    <tr>\n",
              "      <th>std</th>\n",
              "      <td>0.850979</td>\n",
              "      <td>0.681262</td>\n",
              "      <td>0.887285</td>\n",
              "      <td>13847.495742</td>\n",
              "      <td>157.015609</td>\n",
              "      <td>21746.473068</td>\n",
              "      <td>74498.730391</td>\n",
              "    </tr>\n",
              "    <tr>\n",
              "      <th>min</th>\n",
              "      <td>0.800000</td>\n",
              "      <td>0.000000</td>\n",
              "      <td>43.600000</td>\n",
              "      <td>158611.000000</td>\n",
              "      <td>337.000000</td>\n",
              "      <td>0.000000</td>\n",
              "      <td>0.000000</td>\n",
              "    </tr>\n",
              "    <tr>\n",
              "      <th>25%</th>\n",
              "      <td>0.930000</td>\n",
              "      <td>0.382500</td>\n",
              "      <td>44.522500</td>\n",
              "      <td>171746.000000</td>\n",
              "      <td>467.000000</td>\n",
              "      <td>0.000000</td>\n",
              "      <td>19500.000000</td>\n",
              "    </tr>\n",
              "    <tr>\n",
              "      <th>50%</th>\n",
              "      <td>2.040000</td>\n",
              "      <td>0.970000</td>\n",
              "      <td>44.865000</td>\n",
              "      <td>178822.880000</td>\n",
              "      <td>576.500000</td>\n",
              "      <td>8500.000000</td>\n",
              "      <td>48376.335000</td>\n",
              "    </tr>\n",
              "    <tr>\n",
              "      <th>75%</th>\n",
              "      <td>2.285000</td>\n",
              "      <td>1.122500</td>\n",
              "      <td>45.175000</td>\n",
              "      <td>191521.750000</td>\n",
              "      <td>701.000000</td>\n",
              "      <td>25500.000000</td>\n",
              "      <td>99629.002500</td>\n",
              "    </tr>\n",
              "    <tr>\n",
              "      <th>max</th>\n",
              "      <td>3.300000</td>\n",
              "      <td>2.260000</td>\n",
              "      <td>46.000000</td>\n",
              "      <td>203755.000000</td>\n",
              "      <td>771.000000</td>\n",
              "      <td>51000.000000</td>\n",
              "      <td>186258.000000</td>\n",
              "    </tr>\n",
              "  </tbody>\n",
              "</table>\n",
              "</div>"
            ],
            "text/plain": [
              "       share short tern leave  involuntary headcount change (FTE)  \\\n",
              "count               12.000000                           12.000000   \n",
              "mean                 1.777500                            0.885000   \n",
              "std                  0.850979                            0.681262   \n",
              "min                  0.800000                            0.000000   \n",
              "25%                  0.930000                            0.382500   \n",
              "50%                  2.040000                            0.970000   \n",
              "75%                  2.285000                            1.122500   \n",
              "max                  3.300000                            2.260000   \n",
              "\n",
              "       reachability  count sessions on .projuventute.ch  count leads  \\\n",
              "count     12.000000                           12.000000    12.000000   \n",
              "mean      44.832500                       179728.563333   575.916667   \n",
              "std        0.887285                        13847.495742   157.015609   \n",
              "min       43.600000                       158611.000000   337.000000   \n",
              "25%       44.522500                       171746.000000   467.000000   \n",
              "50%       44.865000                       178822.880000   576.500000   \n",
              "75%       45.175000                       191521.750000   701.000000   \n",
              "max       46.000000                       203755.000000   771.000000   \n",
              "\n",
              "       additional monetization/savings from CRM  \\\n",
              "count                                 12.000000   \n",
              "mean                               17000.000000   \n",
              "std                                21746.473068   \n",
              "min                                    0.000000   \n",
              "25%                                    0.000000   \n",
              "50%                                 8500.000000   \n",
              "75%                                25500.000000   \n",
              "max                                51000.000000   \n",
              "\n",
              "       additional monetization/savings from programs  \n",
              "count                                      12.000000  \n",
              "mean                                    70752.667500  \n",
              "std                                     74498.730391  \n",
              "min                                         0.000000  \n",
              "25%                                     19500.000000  \n",
              "50%                                     48376.335000  \n",
              "75%                                     99629.002500  \n",
              "max                                    186258.000000  "
            ]
          },
          "execution_count": 272,
          "metadata": {},
          "output_type": "execute_result"
        }
      ],
      "source": [
        "# check stats on actual dataset\n",
        "dfWide2023.drop(columns=['net promoter score',\n",
        "                         'private donations',\n",
        "                         'share of teams constituted as circles']).describe()"
      ]
    },
    {
      "cell_type": "code",
      "execution_count": 273,
      "metadata": {},
      "outputs": [
        {
          "data": {
            "text/html": [
              "<div>\n",
              "<style scoped>\n",
              "    .dataframe tbody tr th:only-of-type {\n",
              "        vertical-align: middle;\n",
              "    }\n",
              "\n",
              "    .dataframe tbody tr th {\n",
              "        vertical-align: top;\n",
              "    }\n",
              "\n",
              "    .dataframe thead th {\n",
              "        text-align: right;\n",
              "    }\n",
              "</style>\n",
              "<table border=\"1\" class=\"dataframe\">\n",
              "  <thead>\n",
              "    <tr style=\"text-align: right;\">\n",
              "      <th></th>\n",
              "      <th>share short tern leave</th>\n",
              "      <th>involuntary headcount change (FTE)</th>\n",
              "      <th>reachability</th>\n",
              "      <th>count sessions on .projuventute.ch</th>\n",
              "      <th>count leads</th>\n",
              "      <th>additional monetization/savings from CRM</th>\n",
              "      <th>additional monetization/savings from programs</th>\n",
              "    </tr>\n",
              "  </thead>\n",
              "  <tbody>\n",
              "    <tr>\n",
              "      <th>count</th>\n",
              "      <td>96.000000</td>\n",
              "      <td>96.000000</td>\n",
              "      <td>96.000000</td>\n",
              "      <td>96.000000</td>\n",
              "      <td>96.000000</td>\n",
              "      <td>96.000000</td>\n",
              "      <td>96.000000</td>\n",
              "    </tr>\n",
              "    <tr>\n",
              "      <th>mean</th>\n",
              "      <td>-0.271574</td>\n",
              "      <td>1.093148</td>\n",
              "      <td>-0.559074</td>\n",
              "      <td>16576.379907</td>\n",
              "      <td>-101.992315</td>\n",
              "      <td>2818.215463</td>\n",
              "      <td>44948.545185</td>\n",
              "    </tr>\n",
              "    <tr>\n",
              "      <th>std</th>\n",
              "      <td>0.163473</td>\n",
              "      <td>0.065403</td>\n",
              "      <td>0.304775</td>\n",
              "      <td>4367.846603</td>\n",
              "      <td>89.910534</td>\n",
              "      <td>-3123.563073</td>\n",
              "      <td>18566.313069</td>\n",
              "    </tr>\n",
              "    <tr>\n",
              "      <th>min</th>\n",
              "      <td>-0.790000</td>\n",
              "      <td>0.010000</td>\n",
              "      <td>-1.650000</td>\n",
              "      <td>-11515.700000</td>\n",
              "      <td>-268.750000</td>\n",
              "      <td>228.560000</td>\n",
              "      <td>973.970000</td>\n",
              "    </tr>\n",
              "    <tr>\n",
              "      <th>25%</th>\n",
              "      <td>-0.242500</td>\n",
              "      <td>1.240000</td>\n",
              "      <td>-1.120000</td>\n",
              "      <td>14865.980000</td>\n",
              "      <td>-182.307500</td>\n",
              "      <td>7664.455000</td>\n",
              "      <td>26550.892500</td>\n",
              "    </tr>\n",
              "    <tr>\n",
              "      <th>50%</th>\n",
              "      <td>-0.680000</td>\n",
              "      <td>1.125000</td>\n",
              "      <td>-0.510000</td>\n",
              "      <td>21835.780000</td>\n",
              "      <td>-138.795000</td>\n",
              "      <td>5879.220000</td>\n",
              "      <td>34279.040000</td>\n",
              "    </tr>\n",
              "    <tr>\n",
              "      <th>75%</th>\n",
              "      <td>-0.127500</td>\n",
              "      <td>1.422500</td>\n",
              "      <td>-0.082500</td>\n",
              "      <td>19169.572500</td>\n",
              "      <td>-60.272500</td>\n",
              "      <td>-911.872500</td>\n",
              "      <td>70627.807500</td>\n",
              "    </tr>\n",
              "    <tr>\n",
              "      <th>max</th>\n",
              "      <td>0.960000</td>\n",
              "      <td>1.010000</td>\n",
              "      <td>1.440000</td>\n",
              "      <td>22568.750000</td>\n",
              "      <td>297.920000</td>\n",
              "      <td>36600.480000</td>\n",
              "      <td>160307.140000</td>\n",
              "    </tr>\n",
              "  </tbody>\n",
              "</table>\n",
              "</div>"
            ],
            "text/plain": [
              "       share short tern leave  involuntary headcount change (FTE)  \\\n",
              "count               96.000000                           96.000000   \n",
              "mean                -0.271574                            1.093148   \n",
              "std                  0.163473                            0.065403   \n",
              "min                 -0.790000                            0.010000   \n",
              "25%                 -0.242500                            1.240000   \n",
              "50%                 -0.680000                            1.125000   \n",
              "75%                 -0.127500                            1.422500   \n",
              "max                  0.960000                            1.010000   \n",
              "\n",
              "       reachability  count sessions on .projuventute.ch  count leads  \\\n",
              "count     96.000000                           96.000000    96.000000   \n",
              "mean      -0.559074                        16576.379907  -101.992315   \n",
              "std        0.304775                         4367.846603    89.910534   \n",
              "min       -1.650000                       -11515.700000  -268.750000   \n",
              "25%       -1.120000                        14865.980000  -182.307500   \n",
              "50%       -0.510000                        21835.780000  -138.795000   \n",
              "75%       -0.082500                        19169.572500   -60.272500   \n",
              "max        1.440000                        22568.750000   297.920000   \n",
              "\n",
              "       additional monetization/savings from CRM  \\\n",
              "count                                 96.000000   \n",
              "mean                                2818.215463   \n",
              "std                                -3123.563073   \n",
              "min                                  228.560000   \n",
              "25%                                 7664.455000   \n",
              "50%                                 5879.220000   \n",
              "75%                                 -911.872500   \n",
              "max                                36600.480000   \n",
              "\n",
              "       additional monetization/savings from programs  \n",
              "count                                      96.000000  \n",
              "mean                                    44948.545185  \n",
              "std                                     18566.313069  \n",
              "min                                       973.970000  \n",
              "25%                                     26550.892500  \n",
              "50%                                     34279.040000  \n",
              "75%                                     70627.807500  \n",
              "max                                    160307.140000  "
            ]
          },
          "execution_count": 273,
          "metadata": {},
          "output_type": "execute_result"
        }
      ],
      "source": [
        "# check the difference between toy and actual\n",
        "dfToyProcessed.drop(columns=['net promoter score',\n",
        "                             'private donations',\n",
        "                             'share of teams constituted as circles']).describe()- dfWide2023.drop(columns=['net promoter score',\n",
        "                                                                                                             'private donations',\n",
        "                                                                                                             'share of teams constituted as circles']).describe()"
      ]
    },
    {
      "cell_type": "code",
      "execution_count": 274,
      "metadata": {},
      "outputs": [
        {
          "data": {
            "text/html": [
              "<div>\n",
              "<style scoped>\n",
              "    .dataframe tbody tr th:only-of-type {\n",
              "        vertical-align: middle;\n",
              "    }\n",
              "\n",
              "    .dataframe tbody tr th {\n",
              "        vertical-align: top;\n",
              "    }\n",
              "\n",
              "    .dataframe thead th {\n",
              "        text-align: right;\n",
              "    }\n",
              "</style>\n",
              "<table border=\"1\" class=\"dataframe\">\n",
              "  <thead>\n",
              "    <tr style=\"text-align: right;\">\n",
              "      <th></th>\n",
              "      <th>circle</th>\n",
              "      <th>kpi</th>\n",
              "      <th>periodicity</th>\n",
              "      <th>range</th>\n",
              "      <th>period_year</th>\n",
              "      <th>period_month</th>\n",
              "      <th>date</th>\n",
              "      <th>value</th>\n",
              "    </tr>\n",
              "  </thead>\n",
              "  <tbody>\n",
              "    <tr>\n",
              "      <th>0</th>\n",
              "      <td>Digital</td>\n",
              "      <td>additional monetization/savings from CRM</td>\n",
              "      <td>quarter</td>\n",
              "      <td>0 &lt;= X</td>\n",
              "      <td>2014</td>\n",
              "      <td>3</td>\n",
              "      <td>2014-03-01</td>\n",
              "      <td>24514.12</td>\n",
              "    </tr>\n",
              "    <tr>\n",
              "      <th>1</th>\n",
              "      <td>Digital</td>\n",
              "      <td>additional monetization/savings from CRM</td>\n",
              "      <td>quarter</td>\n",
              "      <td>0 &lt;= X</td>\n",
              "      <td>2014</td>\n",
              "      <td>3</td>\n",
              "      <td>2014-03-01</td>\n",
              "      <td>24514.12</td>\n",
              "    </tr>\n",
              "    <tr>\n",
              "      <th>2</th>\n",
              "      <td>Digital</td>\n",
              "      <td>additional monetization/savings from CRM</td>\n",
              "      <td>quarter</td>\n",
              "      <td>0 &lt;= X</td>\n",
              "      <td>2014</td>\n",
              "      <td>3</td>\n",
              "      <td>2014-03-01</td>\n",
              "      <td>24514.12</td>\n",
              "    </tr>\n",
              "    <tr>\n",
              "      <th>3</th>\n",
              "      <td>Digital</td>\n",
              "      <td>additional monetization/savings from CRM</td>\n",
              "      <td>quarter</td>\n",
              "      <td>0 &lt;= X</td>\n",
              "      <td>2014</td>\n",
              "      <td>6</td>\n",
              "      <td>2014-06-01</td>\n",
              "      <td>23346.09</td>\n",
              "    </tr>\n",
              "    <tr>\n",
              "      <th>4</th>\n",
              "      <td>Digital</td>\n",
              "      <td>additional monetization/savings from CRM</td>\n",
              "      <td>quarter</td>\n",
              "      <td>0 &lt;= X</td>\n",
              "      <td>2014</td>\n",
              "      <td>6</td>\n",
              "      <td>2014-06-01</td>\n",
              "      <td>23346.09</td>\n",
              "    </tr>\n",
              "    <tr>\n",
              "      <th>...</th>\n",
              "      <td>...</td>\n",
              "      <td>...</td>\n",
              "      <td>...</td>\n",
              "      <td>...</td>\n",
              "      <td>...</td>\n",
              "      <td>...</td>\n",
              "      <td>...</td>\n",
              "      <td>...</td>\n",
              "    </tr>\n",
              "    <tr>\n",
              "      <th>1195</th>\n",
              "      <td>HR</td>\n",
              "      <td>share short tern leave</td>\n",
              "      <td>month</td>\n",
              "      <td>0 &lt;= % &lt;= 100</td>\n",
              "      <td>2023</td>\n",
              "      <td>8</td>\n",
              "      <td>2023-08-01</td>\n",
              "      <td>0.93</td>\n",
              "    </tr>\n",
              "    <tr>\n",
              "      <th>1196</th>\n",
              "      <td>HR</td>\n",
              "      <td>share short tern leave</td>\n",
              "      <td>month</td>\n",
              "      <td>0 &lt;= % &lt;= 100</td>\n",
              "      <td>2023</td>\n",
              "      <td>9</td>\n",
              "      <td>2023-09-01</td>\n",
              "      <td>0.93</td>\n",
              "    </tr>\n",
              "    <tr>\n",
              "      <th>1197</th>\n",
              "      <td>HR</td>\n",
              "      <td>share short tern leave</td>\n",
              "      <td>month</td>\n",
              "      <td>0 &lt;= % &lt;= 100</td>\n",
              "      <td>2023</td>\n",
              "      <td>10</td>\n",
              "      <td>2023-10-01</td>\n",
              "      <td>0.80</td>\n",
              "    </tr>\n",
              "    <tr>\n",
              "      <th>1198</th>\n",
              "      <td>HR</td>\n",
              "      <td>share short tern leave</td>\n",
              "      <td>month</td>\n",
              "      <td>0 &lt;= % &lt;= 100</td>\n",
              "      <td>2023</td>\n",
              "      <td>11</td>\n",
              "      <td>2023-11-01</td>\n",
              "      <td>0.80</td>\n",
              "    </tr>\n",
              "    <tr>\n",
              "      <th>1199</th>\n",
              "      <td>HR</td>\n",
              "      <td>share short tern leave</td>\n",
              "      <td>month</td>\n",
              "      <td>0 &lt;= % &lt;= 100</td>\n",
              "      <td>2023</td>\n",
              "      <td>12</td>\n",
              "      <td>2023-12-01</td>\n",
              "      <td>1.00</td>\n",
              "    </tr>\n",
              "  </tbody>\n",
              "</table>\n",
              "<p>1092 rows × 8 columns</p>\n",
              "</div>"
            ],
            "text/plain": [
              "       circle                                       kpi periodicity  \\\n",
              "0     Digital  additional monetization/savings from CRM     quarter   \n",
              "1     Digital  additional monetization/savings from CRM     quarter   \n",
              "2     Digital  additional monetization/savings from CRM     quarter   \n",
              "3     Digital  additional monetization/savings from CRM     quarter   \n",
              "4     Digital  additional monetization/savings from CRM     quarter   \n",
              "...       ...                                       ...         ...   \n",
              "1195       HR                    share short tern leave       month   \n",
              "1196       HR                    share short tern leave       month   \n",
              "1197       HR                    share short tern leave       month   \n",
              "1198       HR                    share short tern leave       month   \n",
              "1199       HR                    share short tern leave       month   \n",
              "\n",
              "              range  period_year  period_month        date     value  \n",
              "0            0 <= X         2014             3  2014-03-01  24514.12  \n",
              "1            0 <= X         2014             3  2014-03-01  24514.12  \n",
              "2            0 <= X         2014             3  2014-03-01  24514.12  \n",
              "3            0 <= X         2014             6  2014-06-01  23346.09  \n",
              "4            0 <= X         2014             6  2014-06-01  23346.09  \n",
              "...             ...          ...           ...         ...       ...  \n",
              "1195  0 <= % <= 100         2023             8  2023-08-01      0.93  \n",
              "1196  0 <= % <= 100         2023             9  2023-09-01      0.93  \n",
              "1197  0 <= % <= 100         2023            10  2023-10-01      0.80  \n",
              "1198  0 <= % <= 100         2023            11  2023-11-01      0.80  \n",
              "1199  0 <= % <= 100         2023            12  2023-12-01      1.00  \n",
              "\n",
              "[1092 rows x 8 columns]"
            ]
          },
          "execution_count": 274,
          "metadata": {},
          "output_type": "execute_result"
        }
      ],
      "source": [
        "\n",
        "# transform from wide to long format\n",
        "kpis = dfAllYears.kpi.unique().tolist()\n",
        "\n",
        "# items to be removed because already completed\n",
        "remove = {'net promoter score','private donations'}\n",
        "kpisToTransfer = [e for e in kpis if e not in remove]\n",
        "\n",
        "# transfer wide toy df to long df with actual data\n",
        "for y in range(2014,2023):\n",
        "    for k in kpisToTransfer:\n",
        "        dfAllYears.loc[(dfAllYears.period_year==y)\n",
        "                    &(dfAllYears.kpi==k),'value'] = dfToyProcessed.loc[str(y)+'-01-01':str(y)+'-12-01',k].values\n",
        "\n",
        "# replicate entries for quarterly data\n",
        "for i in [3,6,9,12]:\n",
        "    temp = dfAllYears.loc[(dfAllYears['periodicity'] == 'quarter')&(dfAllYears.period_month==i)].values.tolist()\n",
        "    dfAllYears.loc[(dfAllYears['periodicity'] == 'quarter')&(dfAllYears.period_month==i-1)]= temp\n",
        "    dfAllYears.loc[(dfAllYears['periodicity'] == 'quarter')&(dfAllYears.period_month==i-2)]= temp\n",
        "    \n",
        "# Limit HR KPI share of teams constituted as circles to 2023 (new kpi)\n",
        "dfAllYears.drop(dfAllYears.loc[(dfAllYears.period_year<2023)&\n",
        "               (dfAllYears.kpi=='share of teams constituted as circles')].index, inplace=True)\n",
        "    \n",
        "# export long format\n",
        "dfAllYears.to_csv('/Users/diana/Dropbox/_hackathon/deploy_2023/_data/pj_sample_value_long_completed_2014_2023.csv')\n",
        "dfAllYears"
      ]
    },
    {
      "cell_type": "code",
      "execution_count": 275,
      "metadata": {},
      "outputs": [
        {
          "data": {
            "application/vnd.plotly.v1+json": {
              "config": {
                "plotlyServerURL": "https://plot.ly"
              },
              "data": [
                {
                  "mode": "lines",
                  "name": "additional monetization/savings from CRM",
                  "type": "scatter",
                  "x": [
                    "2014-03-01",
                    "2014-03-01",
                    "2014-03-01",
                    "2014-06-01",
                    "2014-06-01",
                    "2014-06-01",
                    "2014-09-01",
                    "2014-09-01",
                    "2014-09-01",
                    "2014-12-01",
                    "2014-12-01",
                    "2014-12-01",
                    "2015-03-01",
                    "2015-03-01",
                    "2015-03-01",
                    "2015-06-01",
                    "2015-06-01",
                    "2015-06-01",
                    "2015-09-01",
                    "2015-09-01",
                    "2015-09-01",
                    "2015-12-01",
                    "2015-12-01",
                    "2015-12-01",
                    "2016-03-01",
                    "2016-03-01",
                    "2016-03-01",
                    "2016-06-01",
                    "2016-06-01",
                    "2016-06-01",
                    "2016-09-01",
                    "2016-09-01",
                    "2016-09-01",
                    "2016-12-01",
                    "2016-12-01",
                    "2016-12-01",
                    "2017-03-01",
                    "2017-03-01",
                    "2017-03-01",
                    "2017-06-01",
                    "2017-06-01",
                    "2017-06-01",
                    "2017-09-01",
                    "2017-09-01",
                    "2017-09-01",
                    "2017-12-01",
                    "2017-12-01",
                    "2017-12-01",
                    "2018-03-01",
                    "2018-03-01",
                    "2018-03-01",
                    "2018-06-01",
                    "2018-06-01",
                    "2018-06-01",
                    "2018-09-01",
                    "2018-09-01",
                    "2018-09-01",
                    "2018-12-01",
                    "2018-12-01",
                    "2018-12-01",
                    "2019-03-01",
                    "2019-03-01",
                    "2019-03-01",
                    "2019-06-01",
                    "2019-06-01",
                    "2019-06-01",
                    "2019-09-01",
                    "2019-09-01",
                    "2019-09-01",
                    "2019-12-01",
                    "2019-12-01",
                    "2019-12-01",
                    "2020-03-01",
                    "2020-03-01",
                    "2020-03-01",
                    "2020-06-01",
                    "2020-06-01",
                    "2020-06-01",
                    "2020-09-01",
                    "2020-09-01",
                    "2020-09-01",
                    "2020-12-01",
                    "2020-12-01",
                    "2020-12-01",
                    "2021-03-01",
                    "2021-03-01",
                    "2021-03-01",
                    "2021-06-01",
                    "2021-06-01",
                    "2021-06-01",
                    "2021-09-01",
                    "2021-09-01",
                    "2021-09-01",
                    "2021-12-01",
                    "2021-12-01",
                    "2021-12-01",
                    "2022-03-01",
                    "2022-03-01",
                    "2022-03-01",
                    "2022-06-01",
                    "2022-06-01",
                    "2022-06-01",
                    "2022-09-01",
                    "2022-09-01",
                    "2022-09-01",
                    "2022-12-01",
                    "2022-12-01",
                    "2022-12-01",
                    "2023-03-01",
                    "2023-03-01",
                    "2023-03-01",
                    "2023-06-01",
                    "2023-06-01",
                    "2023-06-01",
                    "2023-09-01",
                    "2023-09-01",
                    "2023-09-01",
                    "2023-12-01",
                    "2023-12-01",
                    "2023-12-01"
                  ],
                  "xaxis": "x",
                  "y": [
                    24514.12,
                    24514.12,
                    24514.12,
                    23346.09,
                    23346.09,
                    23346.09,
                    14161.84,
                    14161.84,
                    14161.84,
                    17558.45,
                    17558.45,
                    17558.45,
                    11900.41,
                    11900.41,
                    11900.41,
                    6387.56,
                    6387.56,
                    6387.56,
                    23166.38,
                    23166.38,
                    23166.38,
                    14185.12,
                    14185.12,
                    14185.12,
                    228.56,
                    228.56,
                    228.56,
                    10242.38,
                    10242.38,
                    10242.38,
                    11017.14,
                    11017.14,
                    11017.14,
                    29593.79,
                    29593.79,
                    29593.79,
                    9837.18,
                    9837.18,
                    9837.18,
                    41719.31,
                    41719.31,
                    41719.31,
                    12127.28,
                    12127.28,
                    12127.28,
                    11827.15,
                    11827.15,
                    11827.15,
                    32546.24,
                    32546.24,
                    32546.24,
                    87600.48,
                    87600.48,
                    87600.48,
                    79378.54,
                    79378.54,
                    79378.54,
                    2407.76,
                    2407.76,
                    2407.76,
                    35922.06,
                    35922.06,
                    35922.06,
                    14883.89,
                    14883.89,
                    14883.89,
                    19893.39,
                    19893.39,
                    19893.39,
                    31170.31,
                    31170.31,
                    31170.31,
                    29323.87,
                    29323.87,
                    29323.87,
                    2460.47,
                    2460.47,
                    2460.47,
                    2560.64,
                    2560.64,
                    2560.64,
                    8221.02,
                    8221.02,
                    8221.02,
                    37724.41,
                    37724.41,
                    37724.41,
                    6875.3,
                    6875.3,
                    6875.3,
                    20207.81,
                    20207.81,
                    20207.81,
                    7784.45,
                    7784.45,
                    7784.45,
                    25708.78,
                    25708.78,
                    25708.78,
                    7921.44,
                    7921.44,
                    7921.44,
                    16816.78,
                    16816.78,
                    16816.78,
                    8355.05,
                    8355.05,
                    8355.05,
                    51000,
                    51000,
                    51000,
                    0,
                    0,
                    0,
                    0,
                    0,
                    0,
                    17000,
                    17000,
                    17000
                  ],
                  "yaxis": "y"
                },
                {
                  "mode": "lines",
                  "name": "additional monetization/savings from programs",
                  "type": "scatter",
                  "x": [
                    "2014-03-01",
                    "2014-03-01",
                    "2014-03-01",
                    "2014-06-01",
                    "2014-06-01",
                    "2014-06-01",
                    "2014-09-01",
                    "2014-09-01",
                    "2014-09-01",
                    "2014-12-01",
                    "2014-12-01",
                    "2014-12-01",
                    "2015-03-01",
                    "2015-03-01",
                    "2015-03-01",
                    "2015-06-01",
                    "2015-06-01",
                    "2015-06-01",
                    "2015-09-01",
                    "2015-09-01",
                    "2015-09-01",
                    "2015-12-01",
                    "2015-12-01",
                    "2015-12-01",
                    "2016-03-01",
                    "2016-03-01",
                    "2016-03-01",
                    "2016-06-01",
                    "2016-06-01",
                    "2016-06-01",
                    "2016-09-01",
                    "2016-09-01",
                    "2016-09-01",
                    "2016-12-01",
                    "2016-12-01",
                    "2016-12-01",
                    "2017-03-01",
                    "2017-03-01",
                    "2017-03-01",
                    "2017-06-01",
                    "2017-06-01",
                    "2017-06-01",
                    "2017-09-01",
                    "2017-09-01",
                    "2017-09-01",
                    "2017-12-01",
                    "2017-12-01",
                    "2017-12-01",
                    "2018-03-01",
                    "2018-03-01",
                    "2018-03-01",
                    "2018-06-01",
                    "2018-06-01",
                    "2018-06-01",
                    "2018-09-01",
                    "2018-09-01",
                    "2018-09-01",
                    "2018-12-01",
                    "2018-12-01",
                    "2018-12-01",
                    "2019-03-01",
                    "2019-03-01",
                    "2019-03-01",
                    "2019-06-01",
                    "2019-06-01",
                    "2019-06-01",
                    "2019-09-01",
                    "2019-09-01",
                    "2019-09-01",
                    "2019-12-01",
                    "2019-12-01",
                    "2019-12-01",
                    "2020-03-01",
                    "2020-03-01",
                    "2020-03-01",
                    "2020-06-01",
                    "2020-06-01",
                    "2020-06-01",
                    "2020-09-01",
                    "2020-09-01",
                    "2020-09-01",
                    "2020-12-01",
                    "2020-12-01",
                    "2020-12-01",
                    "2021-03-01",
                    "2021-03-01",
                    "2021-03-01",
                    "2021-06-01",
                    "2021-06-01",
                    "2021-06-01",
                    "2021-09-01",
                    "2021-09-01",
                    "2021-09-01",
                    "2021-12-01",
                    "2021-12-01",
                    "2021-12-01",
                    "2022-03-01",
                    "2022-03-01",
                    "2022-03-01",
                    "2022-06-01",
                    "2022-06-01",
                    "2022-06-01",
                    "2022-09-01",
                    "2022-09-01",
                    "2022-09-01",
                    "2022-12-01",
                    "2022-12-01",
                    "2022-12-01",
                    "2023-03-01",
                    "2023-03-01",
                    "2023-03-01",
                    "2023-06-01",
                    "2023-06-01",
                    "2023-06-01",
                    "2023-09-01",
                    "2023-09-01",
                    "2023-09-01",
                    "2023-12-01",
                    "2023-12-01",
                    "2023-12-01"
                  ],
                  "xaxis": "x2",
                  "y": [
                    252685.97,
                    252685.97,
                    252685.97,
                    19171.68,
                    19171.68,
                    19171.68,
                    42850.85,
                    42850.85,
                    42850.85,
                    120769.67,
                    120769.67,
                    120769.67,
                    59854.49,
                    59854.49,
                    59854.49,
                    98392.28,
                    98392.28,
                    98392.28,
                    58148.09,
                    58148.09,
                    58148.09,
                    51376.5,
                    51376.5,
                    51376.5,
                    160994.45,
                    160994.45,
                    160994.45,
                    75724.5,
                    75724.5,
                    75724.5,
                    164385.97,
                    164385.97,
                    164385.97,
                    142473.52,
                    142473.52,
                    142473.52,
                    99118.91,
                    99118.91,
                    99118.91,
                    101822.41,
                    101822.41,
                    101822.41,
                    282011.51,
                    282011.51,
                    282011.51,
                    29737.23,
                    29737.23,
                    29737.23,
                    203219.52,
                    203219.52,
                    203219.52,
                    55938.2,
                    55938.2,
                    55938.2,
                    262361.99,
                    262361.99,
                    262361.99,
                    291285.01,
                    291285.01,
                    291285.01,
                    7435.96,
                    7435.96,
                    7435.96,
                    30079.82,
                    30079.82,
                    30079.82,
                    66207.8,
                    66207.8,
                    66207.8,
                    64051.86,
                    64051.86,
                    64051.86,
                    7347.69,
                    7347.69,
                    7347.69,
                    90489.64,
                    90489.64,
                    90489.64,
                    62086.79,
                    62086.79,
                    62086.79,
                    61696.92,
                    61696.92,
                    61696.92,
                    300008.57,
                    300008.57,
                    300008.57,
                    59237.67,
                    59237.67,
                    59237.67,
                    292443.89,
                    292443.89,
                    292443.89,
                    13265.1,
                    13265.1,
                    13265.1,
                    136086.88,
                    136086.88,
                    136086.88,
                    302438.98,
                    302438.98,
                    302438.98,
                    14621.48,
                    14621.48,
                    14621.48,
                    93340.73,
                    93340.73,
                    93340.73,
                    186258,
                    186258,
                    186258,
                    0,
                    0,
                    0,
                    26000,
                    26000,
                    26000,
                    70752.67,
                    70752.67,
                    70752.67
                  ],
                  "yaxis": "y2"
                },
                {
                  "mode": "lines",
                  "name": "count leads",
                  "type": "scatter",
                  "x": [
                    "2014-01-01",
                    "2014-02-01",
                    "2014-03-01",
                    "2014-04-01",
                    "2014-05-01",
                    "2014-06-01",
                    "2014-07-01",
                    "2014-08-01",
                    "2014-09-01",
                    "2014-10-01",
                    "2014-11-01",
                    "2014-12-01",
                    "2015-01-01",
                    "2015-02-01",
                    "2015-03-01",
                    "2015-04-01",
                    "2015-05-01",
                    "2015-06-01",
                    "2015-07-01",
                    "2015-08-01",
                    "2015-09-01",
                    "2015-10-01",
                    "2015-11-01",
                    "2015-12-01",
                    "2016-01-01",
                    "2016-02-01",
                    "2016-03-01",
                    "2016-04-01",
                    "2016-05-01",
                    "2016-06-01",
                    "2016-07-01",
                    "2016-08-01",
                    "2016-09-01",
                    "2016-10-01",
                    "2016-11-01",
                    "2016-12-01",
                    "2017-01-01",
                    "2017-02-01",
                    "2017-03-01",
                    "2017-04-01",
                    "2017-05-01",
                    "2017-06-01",
                    "2017-07-01",
                    "2017-08-01",
                    "2017-09-01",
                    "2017-10-01",
                    "2017-11-01",
                    "2017-12-01",
                    "2018-01-01",
                    "2018-02-01",
                    "2018-03-01",
                    "2018-04-01",
                    "2018-05-01",
                    "2018-06-01",
                    "2018-07-01",
                    "2018-08-01",
                    "2018-09-01",
                    "2018-10-01",
                    "2018-11-01",
                    "2018-12-01",
                    "2019-01-01",
                    "2019-02-01",
                    "2019-03-01",
                    "2019-04-01",
                    "2019-05-01",
                    "2019-06-01",
                    "2019-07-01",
                    "2019-08-01",
                    "2019-09-01",
                    "2019-10-01",
                    "2019-11-01",
                    "2019-12-01",
                    "2020-01-01",
                    "2020-02-01",
                    "2020-03-01",
                    "2020-04-01",
                    "2020-05-01",
                    "2020-06-01",
                    "2020-07-01",
                    "2020-08-01",
                    "2020-09-01",
                    "2020-10-01",
                    "2020-11-01",
                    "2020-12-01",
                    "2021-01-01",
                    "2021-02-01",
                    "2021-03-01",
                    "2021-04-01",
                    "2021-05-01",
                    "2021-06-01",
                    "2021-07-01",
                    "2021-08-01",
                    "2021-09-01",
                    "2021-10-01",
                    "2021-11-01",
                    "2021-12-01",
                    "2022-01-01",
                    "2022-02-01",
                    "2022-03-01",
                    "2022-04-01",
                    "2022-05-01",
                    "2022-06-01",
                    "2022-07-01",
                    "2022-08-01",
                    "2022-09-01",
                    "2022-10-01",
                    "2022-11-01",
                    "2022-12-01",
                    "2023-01-01",
                    "2023-02-01",
                    "2023-03-01",
                    "2023-04-01",
                    "2023-05-01",
                    "2023-06-01",
                    "2023-07-01",
                    "2023-08-01",
                    "2023-09-01",
                    "2023-10-01",
                    "2023-11-01",
                    "2023-12-01"
                  ],
                  "xaxis": "x3",
                  "y": [
                    226.58,
                    315.47,
                    271.14,
                    936.54,
                    411.36,
                    842.71,
                    544.13,
                    402.06,
                    155.47,
                    201.02,
                    410.64,
                    362.83,
                    741.85,
                    304.47,
                    374.99,
                    179.94,
                    525.53,
                    68.25,
                    380.84,
                    287.07,
                    586.51,
                    674.49,
                    85.75,
                    532.58,
                    119.05,
                    258.67,
                    449.34,
                    540.9,
                    341.82,
                    662.35,
                    551.54,
                    473.67,
                    758.59,
                    434.48,
                    260.46,
                    348.43,
                    76.38,
                    135.53,
                    503.42,
                    835.97,
                    428.4,
                    731.97,
                    810.56,
                    585.36,
                    683.47,
                    585.48,
                    428.64,
                    217.45,
                    217.82,
                    1014.75,
                    718.21,
                    633.52,
                    408.5,
                    759.32,
                    259.22,
                    538.83,
                    292.72,
                    523.51,
                    277.56,
                    386.35,
                    857.7,
                    105.46,
                    219.27,
                    547.12,
                    167.91,
                    466.72,
                    498.61,
                    173.58,
                    389.3,
                    291.98,
                    571.94,
                    617.49,
                    1068.92,
                    794.96,
                    308.44,
                    899.85,
                    178.45,
                    779.81,
                    376.16,
                    340.13,
                    236.15,
                    902.53,
                    925.21,
                    416.26,
                    197.23,
                    486.35,
                    822.71,
                    337.51,
                    765.59,
                    468.17,
                    159,
                    475.98,
                    599.59,
                    613.67,
                    774.31,
                    440.93,
                    220.08,
                    398.18,
                    869.46,
                    994.26,
                    75.48,
                    458.97,
                    489.65,
                    737.49,
                    777.24,
                    415.08,
                    73.34,
                    325.15,
                    634,
                    329,
                    664,
                    722,
                    585,
                    386,
                    345,
                    723,
                    443,
                    441,
                    561,
                    751
                  ],
                  "yaxis": "y3"
                },
                {
                  "mode": "lines",
                  "name": "count sessions on .projuventute.ch",
                  "type": "scatter",
                  "x": [
                    "2014-01-01",
                    "2014-02-01",
                    "2014-03-01",
                    "2014-04-01",
                    "2014-05-01",
                    "2014-06-01",
                    "2014-07-01",
                    "2014-08-01",
                    "2014-09-01",
                    "2014-10-01",
                    "2014-11-01",
                    "2014-12-01",
                    "2015-01-01",
                    "2015-02-01",
                    "2015-03-01",
                    "2015-04-01",
                    "2015-05-01",
                    "2015-06-01",
                    "2015-07-01",
                    "2015-08-01",
                    "2015-09-01",
                    "2015-10-01",
                    "2015-11-01",
                    "2015-12-01",
                    "2016-01-01",
                    "2016-02-01",
                    "2016-03-01",
                    "2016-04-01",
                    "2016-05-01",
                    "2016-06-01",
                    "2016-07-01",
                    "2016-08-01",
                    "2016-09-01",
                    "2016-10-01",
                    "2016-11-01",
                    "2016-12-01",
                    "2017-01-01",
                    "2017-02-01",
                    "2017-03-01",
                    "2017-04-01",
                    "2017-05-01",
                    "2017-06-01",
                    "2017-07-01",
                    "2017-08-01",
                    "2017-09-01",
                    "2017-10-01",
                    "2017-11-01",
                    "2017-12-01",
                    "2018-01-01",
                    "2018-02-01",
                    "2018-03-01",
                    "2018-04-01",
                    "2018-05-01",
                    "2018-06-01",
                    "2018-07-01",
                    "2018-08-01",
                    "2018-09-01",
                    "2018-10-01",
                    "2018-11-01",
                    "2018-12-01",
                    "2019-01-01",
                    "2019-02-01",
                    "2019-03-01",
                    "2019-04-01",
                    "2019-05-01",
                    "2019-06-01",
                    "2019-07-01",
                    "2019-08-01",
                    "2019-09-01",
                    "2019-10-01",
                    "2019-11-01",
                    "2019-12-01",
                    "2020-01-01",
                    "2020-02-01",
                    "2020-03-01",
                    "2020-04-01",
                    "2020-05-01",
                    "2020-06-01",
                    "2020-07-01",
                    "2020-08-01",
                    "2020-09-01",
                    "2020-10-01",
                    "2020-11-01",
                    "2020-12-01",
                    "2021-01-01",
                    "2021-02-01",
                    "2021-03-01",
                    "2021-04-01",
                    "2021-05-01",
                    "2021-06-01",
                    "2021-07-01",
                    "2021-08-01",
                    "2021-09-01",
                    "2021-10-01",
                    "2021-11-01",
                    "2021-12-01",
                    "2022-01-01",
                    "2022-02-01",
                    "2022-03-01",
                    "2022-04-01",
                    "2022-05-01",
                    "2022-06-01",
                    "2022-07-01",
                    "2022-08-01",
                    "2022-09-01",
                    "2022-10-01",
                    "2022-11-01",
                    "2022-12-01",
                    "2023-01-01",
                    "2023-02-01",
                    "2023-03-01",
                    "2023-04-01",
                    "2023-05-01",
                    "2023-06-01",
                    "2023-07-01",
                    "2023-08-01",
                    "2023-09-01",
                    "2023-10-01",
                    "2023-11-01",
                    "2023-12-01"
                  ],
                  "xaxis": "x4",
                  "y": [
                    162857.14,
                    189084.12,
                    182746.75,
                    217150.5,
                    168749.43,
                    169549.64,
                    210645.06,
                    205053.23,
                    215387.69,
                    178609.61,
                    216699.64,
                    206482.26,
                    163422.25,
                    187956.33,
                    191215.41,
                    210830.11,
                    195183.8,
                    188295.77,
                    190272.4,
                    197322.13,
                    194954.12,
                    216844.51,
                    209822.41,
                    196706.78,
                    191465.06,
                    208186.42,
                    166164.25,
                    205927.42,
                    187344.62,
                    198565.42,
                    194802.76,
                    185407.42,
                    220560.85,
                    201793.57,
                    148714.32,
                    219728.34,
                    162312.24,
                    212758.62,
                    220913.75,
                    213570.92,
                    166738.25,
                    209318.67,
                    206511.41,
                    217981.9,
                    217338.77,
                    176599.35,
                    205713.89,
                    210054.28,
                    207476.21,
                    190227.22,
                    161800.97,
                    208968.73,
                    189761.89,
                    212477.53,
                    205271.68,
                    212593.39,
                    199038.61,
                    187548.41,
                    195797.11,
                    213255.89,
                    190935.77,
                    165539.43,
                    164994.24,
                    205095.69,
                    147095.3,
                    217467.69,
                    165254.44,
                    223029.42,
                    203376.14,
                    202235.8,
                    191955.05,
                    204153.38,
                    218353.25,
                    180192.83,
                    212977.02,
                    194836.52,
                    212585.53,
                    194111.59,
                    203669.17,
                    226323.75,
                    172299.2,
                    167761.02,
                    187407.66,
                    184341.86,
                    202083.77,
                    206921.28,
                    166106.02,
                    215877.66,
                    221209.95,
                    187013.5,
                    200590.88,
                    196538.26,
                    203774.38,
                    205042.66,
                    212661.56,
                    177629.22,
                    202753.68,
                    200726.44,
                    201365.53,
                    174167.14,
                    219488.3,
                    212092.8,
                    201225.59,
                    178699.46,
                    182089.41,
                    181204.92,
                    196062.38,
                    221086.1,
                    158611,
                    203755,
                    190560,
                    164663,
                    180421,
                    174107,
                    164059,
                    194407,
                    178822.88,
                    194407,
                    178822.88,
                    174107
                  ],
                  "yaxis": "y4"
                },
                {
                  "mode": "lines",
                  "name": "involuntary headcount change (FTE)",
                  "type": "scatter",
                  "x": [
                    "2014-01-01",
                    "2014-02-01",
                    "2014-03-01",
                    "2014-04-01",
                    "2014-05-01",
                    "2014-06-01",
                    "2014-07-01",
                    "2014-08-01",
                    "2014-09-01",
                    "2014-10-01",
                    "2014-11-01",
                    "2014-12-01",
                    "2015-01-01",
                    "2015-02-01",
                    "2015-03-01",
                    "2015-04-01",
                    "2015-05-01",
                    "2015-06-01",
                    "2015-07-01",
                    "2015-08-01",
                    "2015-09-01",
                    "2015-10-01",
                    "2015-11-01",
                    "2015-12-01",
                    "2016-01-01",
                    "2016-02-01",
                    "2016-03-01",
                    "2016-04-01",
                    "2016-05-01",
                    "2016-06-01",
                    "2016-07-01",
                    "2016-08-01",
                    "2016-09-01",
                    "2016-10-01",
                    "2016-11-01",
                    "2016-12-01",
                    "2017-01-01",
                    "2017-02-01",
                    "2017-03-01",
                    "2017-04-01",
                    "2017-05-01",
                    "2017-06-01",
                    "2017-07-01",
                    "2017-08-01",
                    "2017-09-01",
                    "2017-10-01",
                    "2017-11-01",
                    "2017-12-01",
                    "2018-01-01",
                    "2018-02-01",
                    "2018-03-01",
                    "2018-04-01",
                    "2018-05-01",
                    "2018-06-01",
                    "2018-07-01",
                    "2018-08-01",
                    "2018-09-01",
                    "2018-10-01",
                    "2018-11-01",
                    "2018-12-01",
                    "2019-01-01",
                    "2019-02-01",
                    "2019-03-01",
                    "2019-04-01",
                    "2019-05-01",
                    "2019-06-01",
                    "2019-07-01",
                    "2019-08-01",
                    "2019-09-01",
                    "2019-10-01",
                    "2019-11-01",
                    "2019-12-01",
                    "2020-01-01",
                    "2020-02-01",
                    "2020-03-01",
                    "2020-04-01",
                    "2020-05-01",
                    "2020-06-01",
                    "2020-07-01",
                    "2020-08-01",
                    "2020-09-01",
                    "2020-10-01",
                    "2020-11-01",
                    "2020-12-01",
                    "2021-01-01",
                    "2021-02-01",
                    "2021-03-01",
                    "2021-04-01",
                    "2021-05-01",
                    "2021-06-01",
                    "2021-07-01",
                    "2021-08-01",
                    "2021-09-01",
                    "2021-10-01",
                    "2021-11-01",
                    "2021-12-01",
                    "2022-01-01",
                    "2022-02-01",
                    "2022-03-01",
                    "2022-04-01",
                    "2022-05-01",
                    "2022-06-01",
                    "2022-07-01",
                    "2022-08-01",
                    "2022-09-01",
                    "2022-10-01",
                    "2022-11-01",
                    "2022-12-01",
                    "2023-01-01",
                    "2023-02-01",
                    "2023-03-01",
                    "2023-04-01",
                    "2023-05-01",
                    "2023-06-01",
                    "2023-07-01",
                    "2023-08-01",
                    "2023-09-01",
                    "2023-10-01",
                    "2023-11-01",
                    "2023-12-01"
                  ],
                  "xaxis": "x5",
                  "y": [
                    1.92,
                    2.63,
                    1.13,
                    2.54,
                    2.46,
                    1.84,
                    1.85,
                    2.58,
                    0.93,
                    1.02,
                    2.18,
                    2.3,
                    1.63,
                    1.65,
                    2.79,
                    0.31,
                    0.99,
                    2.14,
                    2.56,
                    2.07,
                    2.23,
                    1.2,
                    0.72,
                    2.31,
                    2.67,
                    2.87,
                    0.59,
                    2.21,
                    2.06,
                    1.59,
                    2.67,
                    2.08,
                    2.61,
                    2.5,
                    2.03,
                    2.09,
                    0.94,
                    1.8,
                    0.78,
                    0.88,
                    2.61,
                    0.15,
                    1.73,
                    0.89,
                    2.06,
                    2.95,
                    2.5,
                    2.38,
                    0.64,
                    2.08,
                    2.73,
                    3.12,
                    2.49,
                    1.81,
                    2.87,
                    1.51,
                    1.72,
                    2.76,
                    2.62,
                    1.71,
                    2.65,
                    2.7,
                    3.06,
                    2.22,
                    2.4,
                    2.1,
                    2.5,
                    0.6,
                    2.37,
                    2.03,
                    2.36,
                    2.77,
                    2.28,
                    1.45,
                    1.78,
                    2.58,
                    2.02,
                    0.92,
                    0.01,
                    2.92,
                    1.56,
                    0.29,
                    2.98,
                    1.68,
                    3.04,
                    1.39,
                    2.35,
                    1.6,
                    1.98,
                    3.27,
                    2.24,
                    1.77,
                    2.77,
                    1.75,
                    2.52,
                    2.09,
                    1.47,
                    2.62,
                    2.18,
                    0.45,
                    0.52,
                    2.2,
                    2.28,
                    2.27,
                    1.8,
                    1.94,
                    2.35,
                    2.88,
                    2.26,
                    0.98,
                    1.47,
                    1.46,
                    0,
                    0,
                    0.51,
                    1.01,
                    0.96,
                    1.01,
                    0.96,
                    0
                  ],
                  "yaxis": "y5"
                },
                {
                  "mode": "lines",
                  "name": "net promoter score",
                  "type": "scatter",
                  "x": [
                    "2014-01-01",
                    "2014-02-01",
                    "2014-03-01",
                    "2014-04-01",
                    "2014-05-01",
                    "2014-06-01",
                    "2014-07-01",
                    "2014-08-01",
                    "2014-09-01",
                    "2014-10-01",
                    "2014-11-01",
                    "2014-12-01",
                    "2015-01-01",
                    "2015-02-01",
                    "2015-03-01",
                    "2015-04-01",
                    "2015-05-01",
                    "2015-06-01",
                    "2015-07-01",
                    "2015-08-01",
                    "2015-09-01",
                    "2015-10-01",
                    "2015-11-01",
                    "2015-12-01",
                    "2016-01-01",
                    "2016-02-01",
                    "2016-03-01",
                    "2016-04-01",
                    "2016-05-01",
                    "2016-06-01",
                    "2016-07-01",
                    "2016-08-01",
                    "2016-09-01",
                    "2016-10-01",
                    "2016-11-01",
                    "2016-12-01",
                    "2017-01-01",
                    "2017-02-01",
                    "2017-03-01",
                    "2017-04-01",
                    "2017-05-01",
                    "2017-06-01",
                    "2017-07-01",
                    "2017-08-01",
                    "2017-09-01",
                    "2017-10-01",
                    "2017-11-01",
                    "2017-12-01",
                    "2018-01-01",
                    "2018-02-01",
                    "2018-03-01",
                    "2018-04-01",
                    "2018-05-01",
                    "2018-06-01",
                    "2018-07-01",
                    "2018-08-01",
                    "2018-09-01",
                    "2018-10-01",
                    "2018-11-01",
                    "2018-12-01",
                    "2019-01-01",
                    "2019-02-01",
                    "2019-03-01",
                    "2019-04-01",
                    "2019-05-01",
                    "2019-06-01",
                    "2019-07-01",
                    "2019-08-01",
                    "2019-09-01",
                    "2019-10-01",
                    "2019-11-01",
                    "2019-12-01",
                    "2020-01-01",
                    "2020-02-01",
                    "2020-03-01",
                    "2020-04-01",
                    "2020-05-01",
                    "2020-06-01",
                    "2020-07-01",
                    "2020-08-01",
                    "2020-09-01",
                    "2020-10-01",
                    "2020-11-01",
                    "2020-12-01",
                    "2021-01-01",
                    "2021-02-01",
                    "2021-03-01",
                    "2021-04-01",
                    "2021-05-01",
                    "2021-06-01",
                    "2021-07-01",
                    "2021-08-01",
                    "2021-09-01",
                    "2021-10-01",
                    "2021-11-01",
                    "2021-12-01",
                    "2022-01-01",
                    "2022-02-01",
                    "2022-03-01",
                    "2022-04-01",
                    "2022-05-01",
                    "2022-06-01",
                    "2022-07-01",
                    "2022-08-01",
                    "2022-09-01",
                    "2022-10-01",
                    "2022-11-01",
                    "2022-12-01",
                    "2023-01-01",
                    "2023-02-01",
                    "2023-03-01",
                    "2023-04-01",
                    "2023-05-01",
                    "2023-06-01",
                    "2023-07-01",
                    "2023-08-01",
                    "2023-09-01",
                    "2023-10-01",
                    "2023-11-01",
                    "2023-12-01"
                  ],
                  "xaxis": "x6",
                  "y": [
                    23,
                    23,
                    23,
                    23,
                    23,
                    23,
                    23,
                    23,
                    23,
                    23,
                    23,
                    23,
                    37,
                    37,
                    37,
                    37,
                    37,
                    37,
                    37,
                    37,
                    37,
                    37,
                    37,
                    37,
                    45,
                    45,
                    45,
                    45,
                    45,
                    45,
                    45,
                    45,
                    45,
                    45,
                    45,
                    45,
                    52,
                    52,
                    52,
                    52,
                    52,
                    52,
                    52,
                    52,
                    52,
                    52,
                    52,
                    52,
                    59,
                    59,
                    59,
                    59,
                    59,
                    59,
                    59,
                    59,
                    59,
                    59,
                    59,
                    59,
                    68,
                    68,
                    68,
                    68,
                    68,
                    68,
                    68,
                    68,
                    68,
                    68,
                    68,
                    68,
                    70,
                    70,
                    70,
                    70,
                    70,
                    70,
                    70,
                    70,
                    70,
                    70,
                    70,
                    70,
                    72,
                    72,
                    72,
                    72,
                    72,
                    72,
                    72,
                    72,
                    72,
                    72,
                    72,
                    72,
                    65,
                    65,
                    65,
                    65,
                    65,
                    65,
                    65,
                    65,
                    65,
                    65,
                    65,
                    65,
                    35,
                    35,
                    35,
                    35,
                    35,
                    35,
                    35,
                    35,
                    35,
                    35,
                    35,
                    35
                  ],
                  "yaxis": "y6"
                },
                {
                  "mode": "lines",
                  "name": "private donations",
                  "type": "scatter",
                  "x": [
                    "2014-01-01",
                    "2014-02-01",
                    "2014-03-01",
                    "2014-04-01",
                    "2014-05-01",
                    "2014-06-01",
                    "2014-07-01",
                    "2014-08-01",
                    "2014-09-01",
                    "2014-10-01",
                    "2014-11-01",
                    "2014-12-01",
                    "2015-01-01",
                    "2015-02-01",
                    "2015-03-01",
                    "2015-04-01",
                    "2015-05-01",
                    "2015-06-01",
                    "2015-07-01",
                    "2015-08-01",
                    "2015-09-01",
                    "2015-10-01",
                    "2015-11-01",
                    "2015-12-01",
                    "2016-01-01",
                    "2016-02-01",
                    "2016-03-01",
                    "2016-04-01",
                    "2016-05-01",
                    "2016-06-01",
                    "2016-07-01",
                    "2016-08-01",
                    "2016-09-01",
                    "2016-10-01",
                    "2016-11-01",
                    "2016-12-01",
                    "2017-01-01",
                    "2017-02-01",
                    "2017-03-01",
                    "2017-04-01",
                    "2017-05-01",
                    "2017-06-01",
                    "2017-07-01",
                    "2017-08-01",
                    "2017-09-01",
                    "2017-10-01",
                    "2017-11-01",
                    "2017-12-01",
                    "2018-01-01",
                    "2018-02-01",
                    "2018-03-01",
                    "2018-04-01",
                    "2018-05-01",
                    "2018-06-01",
                    "2018-07-01",
                    "2018-08-01",
                    "2018-09-01",
                    "2018-10-01",
                    "2018-11-01",
                    "2018-12-01",
                    "2019-01-01",
                    "2019-02-01",
                    "2019-03-01",
                    "2019-04-01",
                    "2019-05-01",
                    "2019-06-01",
                    "2019-07-01",
                    "2019-08-01",
                    "2019-09-01",
                    "2019-10-01",
                    "2019-11-01",
                    "2019-12-01",
                    "2020-01-01",
                    "2020-02-01",
                    "2020-03-01",
                    "2020-04-01",
                    "2020-05-01",
                    "2020-06-01",
                    "2020-07-01",
                    "2020-08-01",
                    "2020-09-01",
                    "2020-10-01",
                    "2020-11-01",
                    "2020-12-01",
                    "2021-01-01",
                    "2021-02-01",
                    "2021-03-01",
                    "2021-04-01",
                    "2021-05-01",
                    "2021-06-01",
                    "2021-07-01",
                    "2021-08-01",
                    "2021-09-01",
                    "2021-10-01",
                    "2021-11-01",
                    "2021-12-01",
                    "2022-01-01",
                    "2022-02-01",
                    "2022-03-01",
                    "2022-04-01",
                    "2022-05-01",
                    "2022-06-01",
                    "2022-07-01",
                    "2022-08-01",
                    "2022-09-01",
                    "2022-10-01",
                    "2022-11-01",
                    "2022-12-01",
                    "2023-01-01",
                    "2023-02-01",
                    "2023-03-01",
                    "2023-04-01",
                    "2023-05-01",
                    "2023-06-01",
                    "2023-07-01",
                    "2023-08-01",
                    "2023-09-01",
                    "2023-10-01",
                    "2023-11-01",
                    "2023-12-01"
                  ],
                  "xaxis": "x7",
                  "y": [
                    248384,
                    677356.61,
                    437920.52,
                    339549.48,
                    336036.85,
                    361332.68,
                    395194.1,
                    315559.73,
                    547618.08,
                    473700.13,
                    630728.84,
                    830603.19,
                    311620.55,
                    281133.04,
                    779006.49,
                    404485.34,
                    280793.16,
                    467833.3,
                    452400.01,
                    383833.33,
                    494820.82,
                    458280.19,
                    737379.01,
                    1244525.47,
                    457134.1,
                    545421.58,
                    578795.07,
                    524063.85,
                    448401.8,
                    499725.32,
                    387578.22,
                    922212.18,
                    597703.78,
                    469153.72,
                    695197.98,
                    1043989.41,
                    499464.98,
                    470967.3,
                    642704.42,
                    495108.93,
                    554637.19,
                    556835.67,
                    472386.83,
                    481426.88,
                    422727.53,
                    655384.08,
                    889252.6,
                    1057538.96,
                    528105.38,
                    515486.75,
                    712077.5,
                    398698.29,
                    491801.94,
                    629391.05,
                    573759.96,
                    508156.9,
                    480953.95,
                    610756.69,
                    847334.21,
                    955619.88,
                    403683.34,
                    542764.72,
                    671239.48,
                    730153.95,
                    608587.17,
                    686389.26,
                    581299.07,
                    345412.79,
                    552597.48,
                    630429.67,
                    688423.3,
                    1023822.23,
                    732466.7,
                    492574.38,
                    649089.67,
                    867329.92,
                    611297.14,
                    764911.91,
                    751010.67,
                    686545.58,
                    622383.36,
                    851297.01,
                    793025.53,
                    1856876.38,
                    592686.59,
                    670148.58,
                    826549.89,
                    862933.55,
                    690958.91,
                    664222.26,
                    819670.29,
                    471050.09,
                    509513.36,
                    592703.7,
                    899432.48,
                    1708639.55,
                    611312.15,
                    269239.44,
                    621173.75,
                    1072485.61,
                    536893.87,
                    932942.78,
                    775104.16,
                    985432.32,
                    632041.47,
                    564243.62,
                    1246403.55,
                    1582084.51,
                    1369218,
                    2144446,
                    1923875,
                    1274911,
                    1797114,
                    1352463,
                    1359887,
                    1101047,
                    1540370.12,
                    1101047,
                    1540370.12,
                    1352463
                  ],
                  "yaxis": "y7"
                },
                {
                  "mode": "lines",
                  "name": "reachability",
                  "type": "scatter",
                  "x": [
                    "2014-03-01",
                    "2014-03-01",
                    "2014-03-01",
                    "2014-06-01",
                    "2014-06-01",
                    "2014-06-01",
                    "2014-09-01",
                    "2014-09-01",
                    "2014-09-01",
                    "2014-12-01",
                    "2014-12-01",
                    "2014-12-01",
                    "2015-03-01",
                    "2015-03-01",
                    "2015-03-01",
                    "2015-06-01",
                    "2015-06-01",
                    "2015-06-01",
                    "2015-09-01",
                    "2015-09-01",
                    "2015-09-01",
                    "2015-12-01",
                    "2015-12-01",
                    "2015-12-01",
                    "2016-03-01",
                    "2016-03-01",
                    "2016-03-01",
                    "2016-06-01",
                    "2016-06-01",
                    "2016-06-01",
                    "2016-09-01",
                    "2016-09-01",
                    "2016-09-01",
                    "2016-12-01",
                    "2016-12-01",
                    "2016-12-01",
                    "2017-03-01",
                    "2017-03-01",
                    "2017-03-01",
                    "2017-06-01",
                    "2017-06-01",
                    "2017-06-01",
                    "2017-09-01",
                    "2017-09-01",
                    "2017-09-01",
                    "2017-12-01",
                    "2017-12-01",
                    "2017-12-01",
                    "2018-03-01",
                    "2018-03-01",
                    "2018-03-01",
                    "2018-06-01",
                    "2018-06-01",
                    "2018-06-01",
                    "2018-09-01",
                    "2018-09-01",
                    "2018-09-01",
                    "2018-12-01",
                    "2018-12-01",
                    "2018-12-01",
                    "2019-03-01",
                    "2019-03-01",
                    "2019-03-01",
                    "2019-06-01",
                    "2019-06-01",
                    "2019-06-01",
                    "2019-09-01",
                    "2019-09-01",
                    "2019-09-01",
                    "2019-12-01",
                    "2019-12-01",
                    "2019-12-01",
                    "2020-03-01",
                    "2020-03-01",
                    "2020-03-01",
                    "2020-06-01",
                    "2020-06-01",
                    "2020-06-01",
                    "2020-09-01",
                    "2020-09-01",
                    "2020-09-01",
                    "2020-12-01",
                    "2020-12-01",
                    "2020-12-01",
                    "2021-03-01",
                    "2021-03-01",
                    "2021-03-01",
                    "2021-06-01",
                    "2021-06-01",
                    "2021-06-01",
                    "2021-09-01",
                    "2021-09-01",
                    "2021-09-01",
                    "2021-12-01",
                    "2021-12-01",
                    "2021-12-01",
                    "2022-03-01",
                    "2022-03-01",
                    "2022-03-01",
                    "2022-06-01",
                    "2022-06-01",
                    "2022-06-01",
                    "2022-09-01",
                    "2022-09-01",
                    "2022-09-01",
                    "2022-12-01",
                    "2022-12-01",
                    "2022-12-01",
                    "2023-03-01",
                    "2023-03-01",
                    "2023-03-01",
                    "2023-06-01",
                    "2023-06-01",
                    "2023-06-01",
                    "2023-09-01",
                    "2023-09-01",
                    "2023-09-01",
                    "2023-12-01",
                    "2023-12-01",
                    "2023-12-01"
                  ],
                  "xaxis": "x8",
                  "y": [
                    42.19,
                    42.19,
                    42.19,
                    45.04,
                    45.04,
                    45.04,
                    44.95,
                    44.95,
                    44.95,
                    47.01,
                    47.01,
                    47.01,
                    45.15,
                    45.15,
                    45.15,
                    45.09,
                    45.09,
                    45.09,
                    44.47,
                    44.47,
                    44.47,
                    43.44,
                    43.44,
                    43.44,
                    44.33,
                    44.33,
                    44.33,
                    42.9,
                    42.9,
                    42.9,
                    44.38,
                    44.38,
                    44.38,
                    43.25,
                    43.25,
                    43.25,
                    45.81,
                    45.81,
                    45.81,
                    43.76,
                    43.76,
                    43.76,
                    44.39,
                    44.39,
                    44.39,
                    42.97,
                    42.97,
                    42.97,
                    42.36,
                    42.36,
                    42.36,
                    47.44,
                    47.44,
                    47.44,
                    43.72,
                    43.72,
                    43.72,
                    44.31,
                    44.31,
                    44.31,
                    43.66,
                    43.66,
                    43.66,
                    45.57,
                    45.57,
                    45.57,
                    45.33,
                    45.33,
                    45.33,
                    45.67,
                    45.67,
                    45.67,
                    43.43,
                    43.43,
                    43.43,
                    44.84,
                    44.84,
                    44.84,
                    45.21,
                    45.21,
                    45.21,
                    46.18,
                    46.18,
                    46.18,
                    43.83,
                    43.83,
                    43.83,
                    43.56,
                    43.56,
                    43.56,
                    44.55,
                    44.55,
                    44.55,
                    43.15,
                    43.15,
                    43.15,
                    44.74,
                    44.74,
                    44.74,
                    44.95,
                    44.95,
                    44.95,
                    43.44,
                    43.44,
                    43.44,
                    46.43,
                    46.43,
                    46.43,
                    46,
                    46,
                    46,
                    44.9,
                    44.9,
                    44.9,
                    43.6,
                    43.6,
                    43.6,
                    44.83,
                    44.83,
                    44.83
                  ],
                  "yaxis": "y8"
                },
                {
                  "mode": "lines",
                  "name": "share of teams constituted as circles",
                  "type": "scatter",
                  "x": [
                    "2023-01-01",
                    "2023-02-01",
                    "2023-03-01",
                    "2023-04-01",
                    "2023-05-01",
                    "2023-06-01",
                    "2023-07-01",
                    "2023-08-01",
                    "2023-09-01",
                    "2023-10-01",
                    "2023-11-01",
                    "2023-12-01"
                  ],
                  "xaxis": "x9",
                  "y": [
                    35,
                    50,
                    50,
                    55,
                    70,
                    80,
                    85,
                    90,
                    90,
                    90,
                    95,
                    95
                  ],
                  "yaxis": "y9"
                },
                {
                  "mode": "lines",
                  "name": "share short tern leave",
                  "type": "scatter",
                  "x": [
                    "2014-01-01",
                    "2014-02-01",
                    "2014-03-01",
                    "2014-04-01",
                    "2014-05-01",
                    "2014-06-01",
                    "2014-07-01",
                    "2014-08-01",
                    "2014-09-01",
                    "2014-10-01",
                    "2014-11-01",
                    "2014-12-01",
                    "2015-01-01",
                    "2015-02-01",
                    "2015-03-01",
                    "2015-04-01",
                    "2015-05-01",
                    "2015-06-01",
                    "2015-07-01",
                    "2015-08-01",
                    "2015-09-01",
                    "2015-10-01",
                    "2015-11-01",
                    "2015-12-01",
                    "2016-01-01",
                    "2016-02-01",
                    "2016-03-01",
                    "2016-04-01",
                    "2016-05-01",
                    "2016-06-01",
                    "2016-07-01",
                    "2016-08-01",
                    "2016-09-01",
                    "2016-10-01",
                    "2016-11-01",
                    "2016-12-01",
                    "2017-01-01",
                    "2017-02-01",
                    "2017-03-01",
                    "2017-04-01",
                    "2017-05-01",
                    "2017-06-01",
                    "2017-07-01",
                    "2017-08-01",
                    "2017-09-01",
                    "2017-10-01",
                    "2017-11-01",
                    "2017-12-01",
                    "2018-01-01",
                    "2018-02-01",
                    "2018-03-01",
                    "2018-04-01",
                    "2018-05-01",
                    "2018-06-01",
                    "2018-07-01",
                    "2018-08-01",
                    "2018-09-01",
                    "2018-10-01",
                    "2018-11-01",
                    "2018-12-01",
                    "2019-01-01",
                    "2019-02-01",
                    "2019-03-01",
                    "2019-04-01",
                    "2019-05-01",
                    "2019-06-01",
                    "2019-07-01",
                    "2019-08-01",
                    "2019-09-01",
                    "2019-10-01",
                    "2019-11-01",
                    "2019-12-01",
                    "2020-01-01",
                    "2020-02-01",
                    "2020-03-01",
                    "2020-04-01",
                    "2020-05-01",
                    "2020-06-01",
                    "2020-07-01",
                    "2020-08-01",
                    "2020-09-01",
                    "2020-10-01",
                    "2020-11-01",
                    "2020-12-01",
                    "2021-01-01",
                    "2021-02-01",
                    "2021-03-01",
                    "2021-04-01",
                    "2021-05-01",
                    "2021-06-01",
                    "2021-07-01",
                    "2021-08-01",
                    "2021-09-01",
                    "2021-10-01",
                    "2021-11-01",
                    "2021-12-01",
                    "2022-01-01",
                    "2022-02-01",
                    "2022-03-01",
                    "2022-04-01",
                    "2022-05-01",
                    "2022-06-01",
                    "2022-07-01",
                    "2022-08-01",
                    "2022-09-01",
                    "2022-10-01",
                    "2022-11-01",
                    "2022-12-01",
                    "2023-01-01",
                    "2023-02-01",
                    "2023-03-01",
                    "2023-04-01",
                    "2023-05-01",
                    "2023-06-01",
                    "2023-07-01",
                    "2023-08-01",
                    "2023-09-01",
                    "2023-10-01",
                    "2023-11-01",
                    "2023-12-01"
                  ],
                  "xaxis": "x10",
                  "y": [
                    3.02,
                    2.12,
                    1.18,
                    0.39,
                    1.37,
                    2.12,
                    1.78,
                    1.36,
                    2.23,
                    0.78,
                    0.42,
                    1.05,
                    1.58,
                    0.16,
                    1.77,
                    1.52,
                    1.55,
                    0.6,
                    1.76,
                    0.56,
                    0.33,
                    0.7,
                    0.43,
                    2.02,
                    0.81,
                    2.64,
                    2.56,
                    0.29,
                    0.38,
                    1.69,
                    1.62,
                    2.66,
                    3.13,
                    0.6,
                    1.36,
                    0.55,
                    1.94,
                    0.57,
                    0.48,
                    1.26,
                    1.65,
                    2.76,
                    2.27,
                    3.03,
                    1.18,
                    1.52,
                    0.77,
                    2.95,
                    1.04,
                    0.82,
                    1.45,
                    0.65,
                    1.1,
                    0.82,
                    0.96,
                    0.44,
                    1.53,
                    0.21,
                    0.48,
                    2.55,
                    2.99,
                    0.48,
                    0.85,
                    1.45,
                    2.15,
                    0.25,
                    2.43,
                    2.47,
                    0.83,
                    1.07,
                    0.01,
                    0.76,
                    3.9,
                    1.57,
                    1.17,
                    2.1,
                    1.32,
                    1.24,
                    3.57,
                    0.31,
                    2.23,
                    3.71,
                    0.11,
                    0.92,
                    1.77,
                    2.32,
                    0.87,
                    0.43,
                    0.75,
                    3.55,
                    0.4,
                    3.4,
                    2.93,
                    0.37,
                    1.77,
                    3.24,
                    0.89,
                    1.62,
                    2.18,
                    3.79,
                    0.99,
                    0.32,
                    2.04,
                    4.26,
                    2.44,
                    2,
                    0.71,
                    0.19,
                    2.04,
                    2.2,
                    2.54,
                    2.17,
                    3.3,
                    2.58,
                    2.04,
                    0.93,
                    0.93,
                    0.8,
                    0.8,
                    1
                  ],
                  "yaxis": "y10"
                }
              ],
              "layout": {
                "annotations": [
                  {
                    "font": {
                      "size": 16
                    },
                    "showarrow": false,
                    "text": "additional monetization/savings from CRM",
                    "x": 0.225,
                    "xanchor": "center",
                    "xref": "paper",
                    "y": 1,
                    "yanchor": "bottom",
                    "yref": "paper"
                  },
                  {
                    "font": {
                      "size": 16
                    },
                    "showarrow": false,
                    "text": "additional monetization/savings from programs",
                    "x": 0.775,
                    "xanchor": "center",
                    "xref": "paper",
                    "y": 1,
                    "yanchor": "bottom",
                    "yref": "paper"
                  },
                  {
                    "font": {
                      "size": 16
                    },
                    "showarrow": false,
                    "text": "count leads",
                    "x": 0.225,
                    "xanchor": "center",
                    "xref": "paper",
                    "y": 0.78,
                    "yanchor": "bottom",
                    "yref": "paper"
                  },
                  {
                    "font": {
                      "size": 16
                    },
                    "showarrow": false,
                    "text": "count sessions on .projuventute.ch",
                    "x": 0.775,
                    "xanchor": "center",
                    "xref": "paper",
                    "y": 0.78,
                    "yanchor": "bottom",
                    "yref": "paper"
                  },
                  {
                    "font": {
                      "size": 16
                    },
                    "showarrow": false,
                    "text": "involuntary headcount change (FTE)",
                    "x": 0.225,
                    "xanchor": "center",
                    "xref": "paper",
                    "y": 0.56,
                    "yanchor": "bottom",
                    "yref": "paper"
                  },
                  {
                    "font": {
                      "size": 16
                    },
                    "showarrow": false,
                    "text": "net promoter score",
                    "x": 0.775,
                    "xanchor": "center",
                    "xref": "paper",
                    "y": 0.56,
                    "yanchor": "bottom",
                    "yref": "paper"
                  },
                  {
                    "font": {
                      "size": 16
                    },
                    "showarrow": false,
                    "text": "private donations",
                    "x": 0.225,
                    "xanchor": "center",
                    "xref": "paper",
                    "y": 0.33999999999999997,
                    "yanchor": "bottom",
                    "yref": "paper"
                  },
                  {
                    "font": {
                      "size": 16
                    },
                    "showarrow": false,
                    "text": "reachability",
                    "x": 0.775,
                    "xanchor": "center",
                    "xref": "paper",
                    "y": 0.33999999999999997,
                    "yanchor": "bottom",
                    "yref": "paper"
                  },
                  {
                    "font": {
                      "size": 16
                    },
                    "showarrow": false,
                    "text": "share of teams constituted as circles",
                    "x": 0.225,
                    "xanchor": "center",
                    "xref": "paper",
                    "y": 0.12,
                    "yanchor": "bottom",
                    "yref": "paper"
                  },
                  {
                    "font": {
                      "size": 16
                    },
                    "showarrow": false,
                    "text": "share short tern leave",
                    "x": 0.775,
                    "xanchor": "center",
                    "xref": "paper",
                    "y": 0.12,
                    "yanchor": "bottom",
                    "yref": "paper"
                  }
                ],
                "height": 1200,
                "template": {
                  "data": {
                    "bar": [
                      {
                        "error_x": {
                          "color": "#2a3f5f"
                        },
                        "error_y": {
                          "color": "#2a3f5f"
                        },
                        "marker": {
                          "line": {
                            "color": "#E5ECF6",
                            "width": 0.5
                          },
                          "pattern": {
                            "fillmode": "overlay",
                            "size": 10,
                            "solidity": 0.2
                          }
                        },
                        "type": "bar"
                      }
                    ],
                    "barpolar": [
                      {
                        "marker": {
                          "line": {
                            "color": "#E5ECF6",
                            "width": 0.5
                          },
                          "pattern": {
                            "fillmode": "overlay",
                            "size": 10,
                            "solidity": 0.2
                          }
                        },
                        "type": "barpolar"
                      }
                    ],
                    "carpet": [
                      {
                        "aaxis": {
                          "endlinecolor": "#2a3f5f",
                          "gridcolor": "white",
                          "linecolor": "white",
                          "minorgridcolor": "white",
                          "startlinecolor": "#2a3f5f"
                        },
                        "baxis": {
                          "endlinecolor": "#2a3f5f",
                          "gridcolor": "white",
                          "linecolor": "white",
                          "minorgridcolor": "white",
                          "startlinecolor": "#2a3f5f"
                        },
                        "type": "carpet"
                      }
                    ],
                    "choropleth": [
                      {
                        "colorbar": {
                          "outlinewidth": 0,
                          "ticks": ""
                        },
                        "type": "choropleth"
                      }
                    ],
                    "contour": [
                      {
                        "colorbar": {
                          "outlinewidth": 0,
                          "ticks": ""
                        },
                        "colorscale": [
                          [
                            0,
                            "#0d0887"
                          ],
                          [
                            0.1111111111111111,
                            "#46039f"
                          ],
                          [
                            0.2222222222222222,
                            "#7201a8"
                          ],
                          [
                            0.3333333333333333,
                            "#9c179e"
                          ],
                          [
                            0.4444444444444444,
                            "#bd3786"
                          ],
                          [
                            0.5555555555555556,
                            "#d8576b"
                          ],
                          [
                            0.6666666666666666,
                            "#ed7953"
                          ],
                          [
                            0.7777777777777778,
                            "#fb9f3a"
                          ],
                          [
                            0.8888888888888888,
                            "#fdca26"
                          ],
                          [
                            1,
                            "#f0f921"
                          ]
                        ],
                        "type": "contour"
                      }
                    ],
                    "contourcarpet": [
                      {
                        "colorbar": {
                          "outlinewidth": 0,
                          "ticks": ""
                        },
                        "type": "contourcarpet"
                      }
                    ],
                    "heatmap": [
                      {
                        "colorbar": {
                          "outlinewidth": 0,
                          "ticks": ""
                        },
                        "colorscale": [
                          [
                            0,
                            "#0d0887"
                          ],
                          [
                            0.1111111111111111,
                            "#46039f"
                          ],
                          [
                            0.2222222222222222,
                            "#7201a8"
                          ],
                          [
                            0.3333333333333333,
                            "#9c179e"
                          ],
                          [
                            0.4444444444444444,
                            "#bd3786"
                          ],
                          [
                            0.5555555555555556,
                            "#d8576b"
                          ],
                          [
                            0.6666666666666666,
                            "#ed7953"
                          ],
                          [
                            0.7777777777777778,
                            "#fb9f3a"
                          ],
                          [
                            0.8888888888888888,
                            "#fdca26"
                          ],
                          [
                            1,
                            "#f0f921"
                          ]
                        ],
                        "type": "heatmap"
                      }
                    ],
                    "heatmapgl": [
                      {
                        "colorbar": {
                          "outlinewidth": 0,
                          "ticks": ""
                        },
                        "colorscale": [
                          [
                            0,
                            "#0d0887"
                          ],
                          [
                            0.1111111111111111,
                            "#46039f"
                          ],
                          [
                            0.2222222222222222,
                            "#7201a8"
                          ],
                          [
                            0.3333333333333333,
                            "#9c179e"
                          ],
                          [
                            0.4444444444444444,
                            "#bd3786"
                          ],
                          [
                            0.5555555555555556,
                            "#d8576b"
                          ],
                          [
                            0.6666666666666666,
                            "#ed7953"
                          ],
                          [
                            0.7777777777777778,
                            "#fb9f3a"
                          ],
                          [
                            0.8888888888888888,
                            "#fdca26"
                          ],
                          [
                            1,
                            "#f0f921"
                          ]
                        ],
                        "type": "heatmapgl"
                      }
                    ],
                    "histogram": [
                      {
                        "marker": {
                          "pattern": {
                            "fillmode": "overlay",
                            "size": 10,
                            "solidity": 0.2
                          }
                        },
                        "type": "histogram"
                      }
                    ],
                    "histogram2d": [
                      {
                        "colorbar": {
                          "outlinewidth": 0,
                          "ticks": ""
                        },
                        "colorscale": [
                          [
                            0,
                            "#0d0887"
                          ],
                          [
                            0.1111111111111111,
                            "#46039f"
                          ],
                          [
                            0.2222222222222222,
                            "#7201a8"
                          ],
                          [
                            0.3333333333333333,
                            "#9c179e"
                          ],
                          [
                            0.4444444444444444,
                            "#bd3786"
                          ],
                          [
                            0.5555555555555556,
                            "#d8576b"
                          ],
                          [
                            0.6666666666666666,
                            "#ed7953"
                          ],
                          [
                            0.7777777777777778,
                            "#fb9f3a"
                          ],
                          [
                            0.8888888888888888,
                            "#fdca26"
                          ],
                          [
                            1,
                            "#f0f921"
                          ]
                        ],
                        "type": "histogram2d"
                      }
                    ],
                    "histogram2dcontour": [
                      {
                        "colorbar": {
                          "outlinewidth": 0,
                          "ticks": ""
                        },
                        "colorscale": [
                          [
                            0,
                            "#0d0887"
                          ],
                          [
                            0.1111111111111111,
                            "#46039f"
                          ],
                          [
                            0.2222222222222222,
                            "#7201a8"
                          ],
                          [
                            0.3333333333333333,
                            "#9c179e"
                          ],
                          [
                            0.4444444444444444,
                            "#bd3786"
                          ],
                          [
                            0.5555555555555556,
                            "#d8576b"
                          ],
                          [
                            0.6666666666666666,
                            "#ed7953"
                          ],
                          [
                            0.7777777777777778,
                            "#fb9f3a"
                          ],
                          [
                            0.8888888888888888,
                            "#fdca26"
                          ],
                          [
                            1,
                            "#f0f921"
                          ]
                        ],
                        "type": "histogram2dcontour"
                      }
                    ],
                    "mesh3d": [
                      {
                        "colorbar": {
                          "outlinewidth": 0,
                          "ticks": ""
                        },
                        "type": "mesh3d"
                      }
                    ],
                    "parcoords": [
                      {
                        "line": {
                          "colorbar": {
                            "outlinewidth": 0,
                            "ticks": ""
                          }
                        },
                        "type": "parcoords"
                      }
                    ],
                    "pie": [
                      {
                        "automargin": true,
                        "type": "pie"
                      }
                    ],
                    "scatter": [
                      {
                        "fillpattern": {
                          "fillmode": "overlay",
                          "size": 10,
                          "solidity": 0.2
                        },
                        "type": "scatter"
                      }
                    ],
                    "scatter3d": [
                      {
                        "line": {
                          "colorbar": {
                            "outlinewidth": 0,
                            "ticks": ""
                          }
                        },
                        "marker": {
                          "colorbar": {
                            "outlinewidth": 0,
                            "ticks": ""
                          }
                        },
                        "type": "scatter3d"
                      }
                    ],
                    "scattercarpet": [
                      {
                        "marker": {
                          "colorbar": {
                            "outlinewidth": 0,
                            "ticks": ""
                          }
                        },
                        "type": "scattercarpet"
                      }
                    ],
                    "scattergeo": [
                      {
                        "marker": {
                          "colorbar": {
                            "outlinewidth": 0,
                            "ticks": ""
                          }
                        },
                        "type": "scattergeo"
                      }
                    ],
                    "scattergl": [
                      {
                        "marker": {
                          "colorbar": {
                            "outlinewidth": 0,
                            "ticks": ""
                          }
                        },
                        "type": "scattergl"
                      }
                    ],
                    "scattermapbox": [
                      {
                        "marker": {
                          "colorbar": {
                            "outlinewidth": 0,
                            "ticks": ""
                          }
                        },
                        "type": "scattermapbox"
                      }
                    ],
                    "scatterpolar": [
                      {
                        "marker": {
                          "colorbar": {
                            "outlinewidth": 0,
                            "ticks": ""
                          }
                        },
                        "type": "scatterpolar"
                      }
                    ],
                    "scatterpolargl": [
                      {
                        "marker": {
                          "colorbar": {
                            "outlinewidth": 0,
                            "ticks": ""
                          }
                        },
                        "type": "scatterpolargl"
                      }
                    ],
                    "scatterternary": [
                      {
                        "marker": {
                          "colorbar": {
                            "outlinewidth": 0,
                            "ticks": ""
                          }
                        },
                        "type": "scatterternary"
                      }
                    ],
                    "surface": [
                      {
                        "colorbar": {
                          "outlinewidth": 0,
                          "ticks": ""
                        },
                        "colorscale": [
                          [
                            0,
                            "#0d0887"
                          ],
                          [
                            0.1111111111111111,
                            "#46039f"
                          ],
                          [
                            0.2222222222222222,
                            "#7201a8"
                          ],
                          [
                            0.3333333333333333,
                            "#9c179e"
                          ],
                          [
                            0.4444444444444444,
                            "#bd3786"
                          ],
                          [
                            0.5555555555555556,
                            "#d8576b"
                          ],
                          [
                            0.6666666666666666,
                            "#ed7953"
                          ],
                          [
                            0.7777777777777778,
                            "#fb9f3a"
                          ],
                          [
                            0.8888888888888888,
                            "#fdca26"
                          ],
                          [
                            1,
                            "#f0f921"
                          ]
                        ],
                        "type": "surface"
                      }
                    ],
                    "table": [
                      {
                        "cells": {
                          "fill": {
                            "color": "#EBF0F8"
                          },
                          "line": {
                            "color": "white"
                          }
                        },
                        "header": {
                          "fill": {
                            "color": "#C8D4E3"
                          },
                          "line": {
                            "color": "white"
                          }
                        },
                        "type": "table"
                      }
                    ]
                  },
                  "layout": {
                    "annotationdefaults": {
                      "arrowcolor": "#2a3f5f",
                      "arrowhead": 0,
                      "arrowwidth": 1
                    },
                    "autotypenumbers": "strict",
                    "coloraxis": {
                      "colorbar": {
                        "outlinewidth": 0,
                        "ticks": ""
                      }
                    },
                    "colorscale": {
                      "diverging": [
                        [
                          0,
                          "#8e0152"
                        ],
                        [
                          0.1,
                          "#c51b7d"
                        ],
                        [
                          0.2,
                          "#de77ae"
                        ],
                        [
                          0.3,
                          "#f1b6da"
                        ],
                        [
                          0.4,
                          "#fde0ef"
                        ],
                        [
                          0.5,
                          "#f7f7f7"
                        ],
                        [
                          0.6,
                          "#e6f5d0"
                        ],
                        [
                          0.7,
                          "#b8e186"
                        ],
                        [
                          0.8,
                          "#7fbc41"
                        ],
                        [
                          0.9,
                          "#4d9221"
                        ],
                        [
                          1,
                          "#276419"
                        ]
                      ],
                      "sequential": [
                        [
                          0,
                          "#0d0887"
                        ],
                        [
                          0.1111111111111111,
                          "#46039f"
                        ],
                        [
                          0.2222222222222222,
                          "#7201a8"
                        ],
                        [
                          0.3333333333333333,
                          "#9c179e"
                        ],
                        [
                          0.4444444444444444,
                          "#bd3786"
                        ],
                        [
                          0.5555555555555556,
                          "#d8576b"
                        ],
                        [
                          0.6666666666666666,
                          "#ed7953"
                        ],
                        [
                          0.7777777777777778,
                          "#fb9f3a"
                        ],
                        [
                          0.8888888888888888,
                          "#fdca26"
                        ],
                        [
                          1,
                          "#f0f921"
                        ]
                      ],
                      "sequentialminus": [
                        [
                          0,
                          "#0d0887"
                        ],
                        [
                          0.1111111111111111,
                          "#46039f"
                        ],
                        [
                          0.2222222222222222,
                          "#7201a8"
                        ],
                        [
                          0.3333333333333333,
                          "#9c179e"
                        ],
                        [
                          0.4444444444444444,
                          "#bd3786"
                        ],
                        [
                          0.5555555555555556,
                          "#d8576b"
                        ],
                        [
                          0.6666666666666666,
                          "#ed7953"
                        ],
                        [
                          0.7777777777777778,
                          "#fb9f3a"
                        ],
                        [
                          0.8888888888888888,
                          "#fdca26"
                        ],
                        [
                          1,
                          "#f0f921"
                        ]
                      ]
                    },
                    "colorway": [
                      "#636efa",
                      "#EF553B",
                      "#00cc96",
                      "#ab63fa",
                      "#FFA15A",
                      "#19d3f3",
                      "#FF6692",
                      "#B6E880",
                      "#FF97FF",
                      "#FECB52"
                    ],
                    "font": {
                      "color": "#2a3f5f"
                    },
                    "geo": {
                      "bgcolor": "white",
                      "lakecolor": "white",
                      "landcolor": "#E5ECF6",
                      "showlakes": true,
                      "showland": true,
                      "subunitcolor": "white"
                    },
                    "hoverlabel": {
                      "align": "left"
                    },
                    "hovermode": "closest",
                    "mapbox": {
                      "style": "light"
                    },
                    "paper_bgcolor": "white",
                    "plot_bgcolor": "#E5ECF6",
                    "polar": {
                      "angularaxis": {
                        "gridcolor": "white",
                        "linecolor": "white",
                        "ticks": ""
                      },
                      "bgcolor": "#E5ECF6",
                      "radialaxis": {
                        "gridcolor": "white",
                        "linecolor": "white",
                        "ticks": ""
                      }
                    },
                    "scene": {
                      "xaxis": {
                        "backgroundcolor": "#E5ECF6",
                        "gridcolor": "white",
                        "gridwidth": 2,
                        "linecolor": "white",
                        "showbackground": true,
                        "ticks": "",
                        "zerolinecolor": "white"
                      },
                      "yaxis": {
                        "backgroundcolor": "#E5ECF6",
                        "gridcolor": "white",
                        "gridwidth": 2,
                        "linecolor": "white",
                        "showbackground": true,
                        "ticks": "",
                        "zerolinecolor": "white"
                      },
                      "zaxis": {
                        "backgroundcolor": "#E5ECF6",
                        "gridcolor": "white",
                        "gridwidth": 2,
                        "linecolor": "white",
                        "showbackground": true,
                        "ticks": "",
                        "zerolinecolor": "white"
                      }
                    },
                    "shapedefaults": {
                      "line": {
                        "color": "#2a3f5f"
                      }
                    },
                    "ternary": {
                      "aaxis": {
                        "gridcolor": "white",
                        "linecolor": "white",
                        "ticks": ""
                      },
                      "baxis": {
                        "gridcolor": "white",
                        "linecolor": "white",
                        "ticks": ""
                      },
                      "bgcolor": "#E5ECF6",
                      "caxis": {
                        "gridcolor": "white",
                        "linecolor": "white",
                        "ticks": ""
                      }
                    },
                    "title": {
                      "x": 0.05
                    },
                    "xaxis": {
                      "automargin": true,
                      "gridcolor": "white",
                      "linecolor": "white",
                      "ticks": "",
                      "title": {
                        "standoff": 15
                      },
                      "zerolinecolor": "white",
                      "zerolinewidth": 2
                    },
                    "yaxis": {
                      "automargin": true,
                      "gridcolor": "white",
                      "linecolor": "white",
                      "ticks": "",
                      "title": {
                        "standoff": 15
                      },
                      "zerolinecolor": "white",
                      "zerolinewidth": 2
                    }
                  }
                },
                "title": {
                  "text": "Time Series of Each KPI"
                },
                "width": 1000,
                "xaxis": {
                  "anchor": "y",
                  "domain": [
                    0,
                    0.45
                  ]
                },
                "xaxis10": {
                  "anchor": "y10",
                  "domain": [
                    0.55,
                    1
                  ]
                },
                "xaxis2": {
                  "anchor": "y2",
                  "domain": [
                    0.55,
                    1
                  ]
                },
                "xaxis3": {
                  "anchor": "y3",
                  "domain": [
                    0,
                    0.45
                  ]
                },
                "xaxis4": {
                  "anchor": "y4",
                  "domain": [
                    0.55,
                    1
                  ]
                },
                "xaxis5": {
                  "anchor": "y5",
                  "domain": [
                    0,
                    0.45
                  ]
                },
                "xaxis6": {
                  "anchor": "y6",
                  "domain": [
                    0.55,
                    1
                  ]
                },
                "xaxis7": {
                  "anchor": "y7",
                  "domain": [
                    0,
                    0.45
                  ]
                },
                "xaxis8": {
                  "anchor": "y8",
                  "domain": [
                    0.55,
                    1
                  ]
                },
                "xaxis9": {
                  "anchor": "y9",
                  "domain": [
                    0,
                    0.45
                  ]
                },
                "yaxis": {
                  "anchor": "x",
                  "domain": [
                    0.88,
                    1
                  ]
                },
                "yaxis10": {
                  "anchor": "x10",
                  "domain": [
                    0,
                    0.12
                  ]
                },
                "yaxis2": {
                  "anchor": "x2",
                  "domain": [
                    0.88,
                    1
                  ]
                },
                "yaxis3": {
                  "anchor": "x3",
                  "domain": [
                    0.66,
                    0.78
                  ]
                },
                "yaxis4": {
                  "anchor": "x4",
                  "domain": [
                    0.66,
                    0.78
                  ]
                },
                "yaxis5": {
                  "anchor": "x5",
                  "domain": [
                    0.44,
                    0.56
                  ]
                },
                "yaxis6": {
                  "anchor": "x6",
                  "domain": [
                    0.44,
                    0.56
                  ]
                },
                "yaxis7": {
                  "anchor": "x7",
                  "domain": [
                    0.22,
                    0.33999999999999997
                  ]
                },
                "yaxis8": {
                  "anchor": "x8",
                  "domain": [
                    0.22,
                    0.33999999999999997
                  ]
                },
                "yaxis9": {
                  "anchor": "x9",
                  "domain": [
                    0,
                    0.12
                  ]
                }
              }
            }
          },
          "metadata": {},
          "output_type": "display_data"
        }
      ],
      "source": [
        "# Creating subplots for the time series of each KPI \n",
        "fig = make_subplots(rows=5, cols=2, subplot_titles=kpis, shared_xaxes=False)\n",
        "\n",
        "row = 1\n",
        "col = 1\n",
        "for kpi in kpis:\n",
        "    dfKpi = dfAllYears[dfAllYears['kpi'] == kpi]\n",
        "    trace = go.Scatter(x=dfKpi['date'], y=dfKpi['value'], name=kpi, mode='lines')\n",
        "    fig.add_trace(trace, row=row, col=col)\n",
        "    col += 1\n",
        "    if col > 2:\n",
        "        col = 1\n",
        "        row += 1\n",
        "\n",
        "fig.update_layout(height=1200, width=1000, title_text='Time Series of Each KPI')\n",
        "fig.show()"
      ]
    },
    {
      "cell_type": "markdown",
      "metadata": {},
      "source": [
        "# Add timeseries trend, pattern and noise to synthetic data"
      ]
    },
    {
      "cell_type": "code",
      "execution_count": 276,
      "metadata": {},
      "outputs": [],
      "source": [
        "# # commented code, do not use\n",
        "# # SEASONALITY\n",
        "# # series that repeats the same pattern\n",
        "# timeSeasonal = np.arange(120)\n",
        "# scale = 10\n",
        "# values = np.where(timeSeasonal < 12, (scale**3), (scale-9)**2)\n",
        "# # Repeat the pattern 10 times for 10 years\n",
        "# seasonal = []\n",
        "# for i in range(10):\n",
        "#     for j in range(12):\n",
        "#         seasonal.append(values[j]*0.25)\n",
        "# plotTimeSeries(timeSeasonal, seasonal, label=\"Seasonality\")\n",
        "\n",
        "# # ==============================================================================\n",
        "# # ADD NOISE\n",
        "# noise = np.random.randn(120)*50\n",
        "# seasonal += noise\n",
        "# plotTimeSeries(timeSeasonal, seasonal, label=\"Seasonality with Noise\")\n",
        "\n",
        "# # ==============================================================================\n",
        "# # MULTIPLE PATTERNS\n",
        "# #The following time series contain both an upward trend and seasonality.\n",
        "# #There is also some noise\n",
        "# seasonal_upward = seasonal + np.arange(120)*5\n",
        "# plotTimeSeries(timeSeasonal, seasonal_upward, label=\"Seasonality + Upward Trend + Noise\")\n",
        "\n",
        "# # ==============================================================================\n",
        "# # WHITE NOISE\n",
        "# values = np.random.randn(120)*100\n",
        "# plotTimeSeries(timeSeasonal, values, label=\"White Noise\")\n",
        "\n",
        "# # ==============================================================================\n",
        "# # NON-STATIONARY TIME SERIES\n",
        "# bigEvent = np.zeros(120)\n",
        "# #COVID: good for upward trend. Projuventute helps commnities and has online presence\n",
        "# bigEvent[-36:-24] = np.arange(12)*75 \n",
        "# nonStationary = (seasonal_upward + bigEvent)*0.05\n",
        "# plotTimeSeries(timeSeasonal, nonStationary, label=\"Non-stationary Time Series\")\n"
      ]
    },
    {
      "cell_type": "code",
      "execution_count": 277,
      "metadata": {},
      "outputs": [
        {
          "data": {
            "application/vnd.plotly.v1+json": {
              "config": {
                "plotlyServerURL": "https://plot.ly"
              },
              "data": [
                {
                  "mode": "lines",
                  "name": "Value",
                  "type": "scatter",
                  "x": [
                    0,
                    1,
                    2,
                    3,
                    4,
                    5,
                    6,
                    7,
                    8,
                    9,
                    10,
                    11,
                    12,
                    13,
                    14,
                    15,
                    16,
                    17,
                    18,
                    19,
                    20,
                    21,
                    22,
                    23,
                    24,
                    25,
                    26,
                    27,
                    28,
                    29,
                    30,
                    31,
                    32,
                    33,
                    34,
                    35,
                    36,
                    37,
                    38,
                    39,
                    40,
                    41,
                    42,
                    43,
                    44,
                    45,
                    46,
                    47,
                    48,
                    49,
                    50,
                    51,
                    52,
                    53,
                    54,
                    55,
                    56,
                    57,
                    58,
                    59,
                    60,
                    61,
                    62,
                    63,
                    64,
                    65,
                    66,
                    67,
                    68,
                    69,
                    70,
                    71,
                    72,
                    73,
                    74,
                    75,
                    76,
                    77,
                    78,
                    79,
                    80,
                    81,
                    82,
                    83,
                    84,
                    85,
                    86,
                    87,
                    88,
                    89,
                    90,
                    91,
                    92,
                    93,
                    94,
                    95,
                    96,
                    97,
                    98,
                    99,
                    100,
                    101,
                    102,
                    103,
                    104,
                    105,
                    106,
                    107,
                    108,
                    109,
                    110,
                    111,
                    112,
                    113,
                    114,
                    115,
                    116,
                    117,
                    118,
                    119
                  ],
                  "y": [
                    347.316666560638,
                    423.4423729628366,
                    244.33413253789917,
                    270.78462457098664,
                    350.44536685257447,
                    261.53263049867974,
                    234.08673410023505,
                    271.2676630507468,
                    424.7018067966816,
                    342.2910190496336,
                    345.2056246727575,
                    303.43868930935815,
                    292.20178908272067,
                    396.7338033548934,
                    367.7283968246326,
                    459.1729571350443,
                    260.41516621063244,
                    351.2053203769378,
                    388.54230499307647,
                    351.0105756393635,
                    284.515427426429,
                    352.61664797518074,
                    442.18722423941836,
                    309.3628322817137,
                    266.1274317121012,
                    400.2442974497981,
                    329.6830915115311,
                    303.42301657858246,
                    350.6893792220407,
                    482.2633323801225,
                    418.53411258594787,
                    454.19598457115643,
                    416.1182339782775,
                    431.913457915463,
                    485.5257296432086,
                    444.3706545348467,
                    436.0209037769368,
                    367.0520571653024,
                    357.3091988091611,
                    406.79630528807076,
                    387.06619689184413,
                    491.12445298105206,
                    439.54139503707574,
                    416.2294104389018,
                    434.4247655176277,
                    261.57729367268445,
                    409.68178651680165,
                    504.77526201181644,
                    359.6395757824921,
                    392.89809508190666,
                    533.4653229535013,
                    553.1774983538489,
                    512.8308964677651,
                    395.89363718694244,
                    447.33716821189387,
                    487.9677025374565,
                    483.9560514652501,
                    475.8763821085756,
                    594.6105585224648,
                    509.3430600832882,
                    369.1828889804345,
                    549.855205637343,
                    368.2213404186079,
                    551.3968284286759,
                    596.1931767543829,
                    536.3925524823653,
                    372.19248637111644,
                    442.5279245372278,
                    508.9303241443518,
                    636.0900542635034,
                    607.1330783690853,
                    534.9072875138742,
                    461.2686586347224,
                    472.2996673031244,
                    525.8998874688034,
                    450.3633406067288,
                    623.8155654408433,
                    541.5097823117421,
                    652.9032276938649,
                    546.7008631163503,
                    526.3810119798738,
                    538.1806622594337,
                    736.0510623752393,
                    540.6427640471661,
                    606.4459946851609,
                    703.5547978666864,
                    718.4157769625314,
                    657.616351251195,
                    779.8117786062517,
                    717.5980493725385,
                    838.0048998475045,
                    816.9848110583303,
                    845.3132288015322,
                    1011.2139619180648,
                    916.3566486422432,
                    1094.1562661747912,
                    508.1316235721132,
                    534.8670896069839,
                    605.9252995280603,
                    490.7445947398562,
                    583.029889277602,
                    603.802532105934,
                    502.95895307933284,
                    579.2252481625263,
                    653.4380870812768,
                    580.4074907772174,
                    575.4475653447614,
                    645.0935648054133,
                    699.4129529038353,
                    585.6557151943682,
                    589.7841087034667,
                    754.7227476464749,
                    594.1123408255083,
                    653.2910328074074,
                    758.6934480019653,
                    607.9727317939908,
                    512.945825715414,
                    679.7493235351349,
                    806.1707169093218,
                    481.4777551833274
                  ]
                }
              ],
              "layout": {
                "margin": {
                  "b": 0,
                  "l": 0,
                  "r": 0,
                  "t": 30
                },
                "template": {
                  "data": {
                    "bar": [
                      {
                        "error_x": {
                          "color": "#2a3f5f"
                        },
                        "error_y": {
                          "color": "#2a3f5f"
                        },
                        "marker": {
                          "line": {
                            "color": "#E5ECF6",
                            "width": 0.5
                          },
                          "pattern": {
                            "fillmode": "overlay",
                            "size": 10,
                            "solidity": 0.2
                          }
                        },
                        "type": "bar"
                      }
                    ],
                    "barpolar": [
                      {
                        "marker": {
                          "line": {
                            "color": "#E5ECF6",
                            "width": 0.5
                          },
                          "pattern": {
                            "fillmode": "overlay",
                            "size": 10,
                            "solidity": 0.2
                          }
                        },
                        "type": "barpolar"
                      }
                    ],
                    "carpet": [
                      {
                        "aaxis": {
                          "endlinecolor": "#2a3f5f",
                          "gridcolor": "white",
                          "linecolor": "white",
                          "minorgridcolor": "white",
                          "startlinecolor": "#2a3f5f"
                        },
                        "baxis": {
                          "endlinecolor": "#2a3f5f",
                          "gridcolor": "white",
                          "linecolor": "white",
                          "minorgridcolor": "white",
                          "startlinecolor": "#2a3f5f"
                        },
                        "type": "carpet"
                      }
                    ],
                    "choropleth": [
                      {
                        "colorbar": {
                          "outlinewidth": 0,
                          "ticks": ""
                        },
                        "type": "choropleth"
                      }
                    ],
                    "contour": [
                      {
                        "colorbar": {
                          "outlinewidth": 0,
                          "ticks": ""
                        },
                        "colorscale": [
                          [
                            0,
                            "#0d0887"
                          ],
                          [
                            0.1111111111111111,
                            "#46039f"
                          ],
                          [
                            0.2222222222222222,
                            "#7201a8"
                          ],
                          [
                            0.3333333333333333,
                            "#9c179e"
                          ],
                          [
                            0.4444444444444444,
                            "#bd3786"
                          ],
                          [
                            0.5555555555555556,
                            "#d8576b"
                          ],
                          [
                            0.6666666666666666,
                            "#ed7953"
                          ],
                          [
                            0.7777777777777778,
                            "#fb9f3a"
                          ],
                          [
                            0.8888888888888888,
                            "#fdca26"
                          ],
                          [
                            1,
                            "#f0f921"
                          ]
                        ],
                        "type": "contour"
                      }
                    ],
                    "contourcarpet": [
                      {
                        "colorbar": {
                          "outlinewidth": 0,
                          "ticks": ""
                        },
                        "type": "contourcarpet"
                      }
                    ],
                    "heatmap": [
                      {
                        "colorbar": {
                          "outlinewidth": 0,
                          "ticks": ""
                        },
                        "colorscale": [
                          [
                            0,
                            "#0d0887"
                          ],
                          [
                            0.1111111111111111,
                            "#46039f"
                          ],
                          [
                            0.2222222222222222,
                            "#7201a8"
                          ],
                          [
                            0.3333333333333333,
                            "#9c179e"
                          ],
                          [
                            0.4444444444444444,
                            "#bd3786"
                          ],
                          [
                            0.5555555555555556,
                            "#d8576b"
                          ],
                          [
                            0.6666666666666666,
                            "#ed7953"
                          ],
                          [
                            0.7777777777777778,
                            "#fb9f3a"
                          ],
                          [
                            0.8888888888888888,
                            "#fdca26"
                          ],
                          [
                            1,
                            "#f0f921"
                          ]
                        ],
                        "type": "heatmap"
                      }
                    ],
                    "heatmapgl": [
                      {
                        "colorbar": {
                          "outlinewidth": 0,
                          "ticks": ""
                        },
                        "colorscale": [
                          [
                            0,
                            "#0d0887"
                          ],
                          [
                            0.1111111111111111,
                            "#46039f"
                          ],
                          [
                            0.2222222222222222,
                            "#7201a8"
                          ],
                          [
                            0.3333333333333333,
                            "#9c179e"
                          ],
                          [
                            0.4444444444444444,
                            "#bd3786"
                          ],
                          [
                            0.5555555555555556,
                            "#d8576b"
                          ],
                          [
                            0.6666666666666666,
                            "#ed7953"
                          ],
                          [
                            0.7777777777777778,
                            "#fb9f3a"
                          ],
                          [
                            0.8888888888888888,
                            "#fdca26"
                          ],
                          [
                            1,
                            "#f0f921"
                          ]
                        ],
                        "type": "heatmapgl"
                      }
                    ],
                    "histogram": [
                      {
                        "marker": {
                          "pattern": {
                            "fillmode": "overlay",
                            "size": 10,
                            "solidity": 0.2
                          }
                        },
                        "type": "histogram"
                      }
                    ],
                    "histogram2d": [
                      {
                        "colorbar": {
                          "outlinewidth": 0,
                          "ticks": ""
                        },
                        "colorscale": [
                          [
                            0,
                            "#0d0887"
                          ],
                          [
                            0.1111111111111111,
                            "#46039f"
                          ],
                          [
                            0.2222222222222222,
                            "#7201a8"
                          ],
                          [
                            0.3333333333333333,
                            "#9c179e"
                          ],
                          [
                            0.4444444444444444,
                            "#bd3786"
                          ],
                          [
                            0.5555555555555556,
                            "#d8576b"
                          ],
                          [
                            0.6666666666666666,
                            "#ed7953"
                          ],
                          [
                            0.7777777777777778,
                            "#fb9f3a"
                          ],
                          [
                            0.8888888888888888,
                            "#fdca26"
                          ],
                          [
                            1,
                            "#f0f921"
                          ]
                        ],
                        "type": "histogram2d"
                      }
                    ],
                    "histogram2dcontour": [
                      {
                        "colorbar": {
                          "outlinewidth": 0,
                          "ticks": ""
                        },
                        "colorscale": [
                          [
                            0,
                            "#0d0887"
                          ],
                          [
                            0.1111111111111111,
                            "#46039f"
                          ],
                          [
                            0.2222222222222222,
                            "#7201a8"
                          ],
                          [
                            0.3333333333333333,
                            "#9c179e"
                          ],
                          [
                            0.4444444444444444,
                            "#bd3786"
                          ],
                          [
                            0.5555555555555556,
                            "#d8576b"
                          ],
                          [
                            0.6666666666666666,
                            "#ed7953"
                          ],
                          [
                            0.7777777777777778,
                            "#fb9f3a"
                          ],
                          [
                            0.8888888888888888,
                            "#fdca26"
                          ],
                          [
                            1,
                            "#f0f921"
                          ]
                        ],
                        "type": "histogram2dcontour"
                      }
                    ],
                    "mesh3d": [
                      {
                        "colorbar": {
                          "outlinewidth": 0,
                          "ticks": ""
                        },
                        "type": "mesh3d"
                      }
                    ],
                    "parcoords": [
                      {
                        "line": {
                          "colorbar": {
                            "outlinewidth": 0,
                            "ticks": ""
                          }
                        },
                        "type": "parcoords"
                      }
                    ],
                    "pie": [
                      {
                        "automargin": true,
                        "type": "pie"
                      }
                    ],
                    "scatter": [
                      {
                        "fillpattern": {
                          "fillmode": "overlay",
                          "size": 10,
                          "solidity": 0.2
                        },
                        "type": "scatter"
                      }
                    ],
                    "scatter3d": [
                      {
                        "line": {
                          "colorbar": {
                            "outlinewidth": 0,
                            "ticks": ""
                          }
                        },
                        "marker": {
                          "colorbar": {
                            "outlinewidth": 0,
                            "ticks": ""
                          }
                        },
                        "type": "scatter3d"
                      }
                    ],
                    "scattercarpet": [
                      {
                        "marker": {
                          "colorbar": {
                            "outlinewidth": 0,
                            "ticks": ""
                          }
                        },
                        "type": "scattercarpet"
                      }
                    ],
                    "scattergeo": [
                      {
                        "marker": {
                          "colorbar": {
                            "outlinewidth": 0,
                            "ticks": ""
                          }
                        },
                        "type": "scattergeo"
                      }
                    ],
                    "scattergl": [
                      {
                        "marker": {
                          "colorbar": {
                            "outlinewidth": 0,
                            "ticks": ""
                          }
                        },
                        "type": "scattergl"
                      }
                    ],
                    "scattermapbox": [
                      {
                        "marker": {
                          "colorbar": {
                            "outlinewidth": 0,
                            "ticks": ""
                          }
                        },
                        "type": "scattermapbox"
                      }
                    ],
                    "scatterpolar": [
                      {
                        "marker": {
                          "colorbar": {
                            "outlinewidth": 0,
                            "ticks": ""
                          }
                        },
                        "type": "scatterpolar"
                      }
                    ],
                    "scatterpolargl": [
                      {
                        "marker": {
                          "colorbar": {
                            "outlinewidth": 0,
                            "ticks": ""
                          }
                        },
                        "type": "scatterpolargl"
                      }
                    ],
                    "scatterternary": [
                      {
                        "marker": {
                          "colorbar": {
                            "outlinewidth": 0,
                            "ticks": ""
                          }
                        },
                        "type": "scatterternary"
                      }
                    ],
                    "surface": [
                      {
                        "colorbar": {
                          "outlinewidth": 0,
                          "ticks": ""
                        },
                        "colorscale": [
                          [
                            0,
                            "#0d0887"
                          ],
                          [
                            0.1111111111111111,
                            "#46039f"
                          ],
                          [
                            0.2222222222222222,
                            "#7201a8"
                          ],
                          [
                            0.3333333333333333,
                            "#9c179e"
                          ],
                          [
                            0.4444444444444444,
                            "#bd3786"
                          ],
                          [
                            0.5555555555555556,
                            "#d8576b"
                          ],
                          [
                            0.6666666666666666,
                            "#ed7953"
                          ],
                          [
                            0.7777777777777778,
                            "#fb9f3a"
                          ],
                          [
                            0.8888888888888888,
                            "#fdca26"
                          ],
                          [
                            1,
                            "#f0f921"
                          ]
                        ],
                        "type": "surface"
                      }
                    ],
                    "table": [
                      {
                        "cells": {
                          "fill": {
                            "color": "#EBF0F8"
                          },
                          "line": {
                            "color": "white"
                          }
                        },
                        "header": {
                          "fill": {
                            "color": "#C8D4E3"
                          },
                          "line": {
                            "color": "white"
                          }
                        },
                        "type": "table"
                      }
                    ]
                  },
                  "layout": {
                    "annotationdefaults": {
                      "arrowcolor": "#2a3f5f",
                      "arrowhead": 0,
                      "arrowwidth": 1
                    },
                    "autotypenumbers": "strict",
                    "coloraxis": {
                      "colorbar": {
                        "outlinewidth": 0,
                        "ticks": ""
                      }
                    },
                    "colorscale": {
                      "diverging": [
                        [
                          0,
                          "#8e0152"
                        ],
                        [
                          0.1,
                          "#c51b7d"
                        ],
                        [
                          0.2,
                          "#de77ae"
                        ],
                        [
                          0.3,
                          "#f1b6da"
                        ],
                        [
                          0.4,
                          "#fde0ef"
                        ],
                        [
                          0.5,
                          "#f7f7f7"
                        ],
                        [
                          0.6,
                          "#e6f5d0"
                        ],
                        [
                          0.7,
                          "#b8e186"
                        ],
                        [
                          0.8,
                          "#7fbc41"
                        ],
                        [
                          0.9,
                          "#4d9221"
                        ],
                        [
                          1,
                          "#276419"
                        ]
                      ],
                      "sequential": [
                        [
                          0,
                          "#0d0887"
                        ],
                        [
                          0.1111111111111111,
                          "#46039f"
                        ],
                        [
                          0.2222222222222222,
                          "#7201a8"
                        ],
                        [
                          0.3333333333333333,
                          "#9c179e"
                        ],
                        [
                          0.4444444444444444,
                          "#bd3786"
                        ],
                        [
                          0.5555555555555556,
                          "#d8576b"
                        ],
                        [
                          0.6666666666666666,
                          "#ed7953"
                        ],
                        [
                          0.7777777777777778,
                          "#fb9f3a"
                        ],
                        [
                          0.8888888888888888,
                          "#fdca26"
                        ],
                        [
                          1,
                          "#f0f921"
                        ]
                      ],
                      "sequentialminus": [
                        [
                          0,
                          "#0d0887"
                        ],
                        [
                          0.1111111111111111,
                          "#46039f"
                        ],
                        [
                          0.2222222222222222,
                          "#7201a8"
                        ],
                        [
                          0.3333333333333333,
                          "#9c179e"
                        ],
                        [
                          0.4444444444444444,
                          "#bd3786"
                        ],
                        [
                          0.5555555555555556,
                          "#d8576b"
                        ],
                        [
                          0.6666666666666666,
                          "#ed7953"
                        ],
                        [
                          0.7777777777777778,
                          "#fb9f3a"
                        ],
                        [
                          0.8888888888888888,
                          "#fdca26"
                        ],
                        [
                          1,
                          "#f0f921"
                        ]
                      ]
                    },
                    "colorway": [
                      "#636efa",
                      "#EF553B",
                      "#00cc96",
                      "#ab63fa",
                      "#FFA15A",
                      "#19d3f3",
                      "#FF6692",
                      "#B6E880",
                      "#FF97FF",
                      "#FECB52"
                    ],
                    "font": {
                      "color": "#2a3f5f"
                    },
                    "geo": {
                      "bgcolor": "white",
                      "lakecolor": "white",
                      "landcolor": "#E5ECF6",
                      "showlakes": true,
                      "showland": true,
                      "subunitcolor": "white"
                    },
                    "hoverlabel": {
                      "align": "left"
                    },
                    "hovermode": "closest",
                    "mapbox": {
                      "style": "light"
                    },
                    "paper_bgcolor": "white",
                    "plot_bgcolor": "#E5ECF6",
                    "polar": {
                      "angularaxis": {
                        "gridcolor": "white",
                        "linecolor": "white",
                        "ticks": ""
                      },
                      "bgcolor": "#E5ECF6",
                      "radialaxis": {
                        "gridcolor": "white",
                        "linecolor": "white",
                        "ticks": ""
                      }
                    },
                    "scene": {
                      "xaxis": {
                        "backgroundcolor": "#E5ECF6",
                        "gridcolor": "white",
                        "gridwidth": 2,
                        "linecolor": "white",
                        "showbackground": true,
                        "ticks": "",
                        "zerolinecolor": "white"
                      },
                      "yaxis": {
                        "backgroundcolor": "#E5ECF6",
                        "gridcolor": "white",
                        "gridwidth": 2,
                        "linecolor": "white",
                        "showbackground": true,
                        "ticks": "",
                        "zerolinecolor": "white"
                      },
                      "zaxis": {
                        "backgroundcolor": "#E5ECF6",
                        "gridcolor": "white",
                        "gridwidth": 2,
                        "linecolor": "white",
                        "showbackground": true,
                        "ticks": "",
                        "zerolinecolor": "white"
                      }
                    },
                    "shapedefaults": {
                      "line": {
                        "color": "#2a3f5f"
                      }
                    },
                    "ternary": {
                      "aaxis": {
                        "gridcolor": "white",
                        "linecolor": "white",
                        "ticks": ""
                      },
                      "baxis": {
                        "gridcolor": "white",
                        "linecolor": "white",
                        "ticks": ""
                      },
                      "bgcolor": "#E5ECF6",
                      "caxis": {
                        "gridcolor": "white",
                        "linecolor": "white",
                        "ticks": ""
                      }
                    },
                    "title": {
                      "x": 0.05
                    },
                    "xaxis": {
                      "automargin": true,
                      "gridcolor": "white",
                      "linecolor": "white",
                      "ticks": "",
                      "title": {
                        "standoff": 15
                      },
                      "zerolinecolor": "white",
                      "zerolinewidth": 2
                    },
                    "yaxis": {
                      "automargin": true,
                      "gridcolor": "white",
                      "linecolor": "white",
                      "ticks": "",
                      "title": {
                        "standoff": 15
                      },
                      "zerolinecolor": "white",
                      "zerolinewidth": 2
                    }
                  }
                },
                "title": {
                  "text": "Non-stationary Time Series"
                },
                "xaxis": {
                  "anchor": "y",
                  "domain": [
                    0,
                    1
                  ],
                  "title": {
                    "text": "Time"
                  }
                },
                "yaxis": {
                  "anchor": "x",
                  "domain": [
                    0,
                    1
                  ],
                  "title": {
                    "text": "Value"
                  }
                }
              }
            }
          },
          "metadata": {},
          "output_type": "display_data"
        },
        {
          "data": {
            "text/html": [
              "<div>\n",
              "<style scoped>\n",
              "    .dataframe tbody tr th:only-of-type {\n",
              "        vertical-align: middle;\n",
              "    }\n",
              "\n",
              "    .dataframe tbody tr th {\n",
              "        vertical-align: top;\n",
              "    }\n",
              "\n",
              "    .dataframe thead th {\n",
              "        text-align: right;\n",
              "    }\n",
              "</style>\n",
              "<table border=\"1\" class=\"dataframe\">\n",
              "  <thead>\n",
              "    <tr style=\"text-align: right;\">\n",
              "      <th></th>\n",
              "      <th>circle</th>\n",
              "      <th>kpi</th>\n",
              "      <th>periodicity</th>\n",
              "      <th>range</th>\n",
              "      <th>period_year</th>\n",
              "      <th>period_month</th>\n",
              "      <th>date</th>\n",
              "      <th>value</th>\n",
              "    </tr>\n",
              "  </thead>\n",
              "  <tbody>\n",
              "    <tr>\n",
              "      <th>0</th>\n",
              "      <td>Digital</td>\n",
              "      <td>additional monetization/savings from CRM</td>\n",
              "      <td>quarter</td>\n",
              "      <td>0 &lt;= X</td>\n",
              "      <td>2014</td>\n",
              "      <td>3</td>\n",
              "      <td>2014-03-01</td>\n",
              "      <td>24514.12</td>\n",
              "    </tr>\n",
              "    <tr>\n",
              "      <th>1</th>\n",
              "      <td>Digital</td>\n",
              "      <td>additional monetization/savings from CRM</td>\n",
              "      <td>quarter</td>\n",
              "      <td>0 &lt;= X</td>\n",
              "      <td>2014</td>\n",
              "      <td>3</td>\n",
              "      <td>2014-03-01</td>\n",
              "      <td>24514.12</td>\n",
              "    </tr>\n",
              "    <tr>\n",
              "      <th>2</th>\n",
              "      <td>Digital</td>\n",
              "      <td>additional monetization/savings from CRM</td>\n",
              "      <td>quarter</td>\n",
              "      <td>0 &lt;= X</td>\n",
              "      <td>2014</td>\n",
              "      <td>3</td>\n",
              "      <td>2014-03-01</td>\n",
              "      <td>24514.12</td>\n",
              "    </tr>\n",
              "    <tr>\n",
              "      <th>3</th>\n",
              "      <td>Digital</td>\n",
              "      <td>additional monetization/savings from CRM</td>\n",
              "      <td>quarter</td>\n",
              "      <td>0 &lt;= X</td>\n",
              "      <td>2014</td>\n",
              "      <td>6</td>\n",
              "      <td>2014-06-01</td>\n",
              "      <td>23346.09</td>\n",
              "    </tr>\n",
              "    <tr>\n",
              "      <th>4</th>\n",
              "      <td>Digital</td>\n",
              "      <td>additional monetization/savings from CRM</td>\n",
              "      <td>quarter</td>\n",
              "      <td>0 &lt;= X</td>\n",
              "      <td>2014</td>\n",
              "      <td>6</td>\n",
              "      <td>2014-06-01</td>\n",
              "      <td>23346.09</td>\n",
              "    </tr>\n",
              "    <tr>\n",
              "      <th>5</th>\n",
              "      <td>Digital</td>\n",
              "      <td>additional monetization/savings from CRM</td>\n",
              "      <td>quarter</td>\n",
              "      <td>0 &lt;= X</td>\n",
              "      <td>2014</td>\n",
              "      <td>6</td>\n",
              "      <td>2014-06-01</td>\n",
              "      <td>23346.09</td>\n",
              "    </tr>\n",
              "    <tr>\n",
              "      <th>6</th>\n",
              "      <td>Digital</td>\n",
              "      <td>additional monetization/savings from CRM</td>\n",
              "      <td>quarter</td>\n",
              "      <td>0 &lt;= X</td>\n",
              "      <td>2014</td>\n",
              "      <td>9</td>\n",
              "      <td>2014-09-01</td>\n",
              "      <td>14161.84</td>\n",
              "    </tr>\n",
              "    <tr>\n",
              "      <th>7</th>\n",
              "      <td>Digital</td>\n",
              "      <td>additional monetization/savings from CRM</td>\n",
              "      <td>quarter</td>\n",
              "      <td>0 &lt;= X</td>\n",
              "      <td>2014</td>\n",
              "      <td>9</td>\n",
              "      <td>2014-09-01</td>\n",
              "      <td>14161.84</td>\n",
              "    </tr>\n",
              "    <tr>\n",
              "      <th>8</th>\n",
              "      <td>Digital</td>\n",
              "      <td>additional monetization/savings from CRM</td>\n",
              "      <td>quarter</td>\n",
              "      <td>0 &lt;= X</td>\n",
              "      <td>2014</td>\n",
              "      <td>9</td>\n",
              "      <td>2014-09-01</td>\n",
              "      <td>14161.84</td>\n",
              "    </tr>\n",
              "    <tr>\n",
              "      <th>9</th>\n",
              "      <td>Digital</td>\n",
              "      <td>additional monetization/savings from CRM</td>\n",
              "      <td>quarter</td>\n",
              "      <td>0 &lt;= X</td>\n",
              "      <td>2014</td>\n",
              "      <td>12</td>\n",
              "      <td>2014-12-01</td>\n",
              "      <td>17558.45</td>\n",
              "    </tr>\n",
              "  </tbody>\n",
              "</table>\n",
              "</div>"
            ],
            "text/plain": [
              "    circle                                       kpi periodicity   range  \\\n",
              "0  Digital  additional monetization/savings from CRM     quarter  0 <= X   \n",
              "1  Digital  additional monetization/savings from CRM     quarter  0 <= X   \n",
              "2  Digital  additional monetization/savings from CRM     quarter  0 <= X   \n",
              "3  Digital  additional monetization/savings from CRM     quarter  0 <= X   \n",
              "4  Digital  additional monetization/savings from CRM     quarter  0 <= X   \n",
              "5  Digital  additional monetization/savings from CRM     quarter  0 <= X   \n",
              "6  Digital  additional monetization/savings from CRM     quarter  0 <= X   \n",
              "7  Digital  additional monetization/savings from CRM     quarter  0 <= X   \n",
              "8  Digital  additional monetization/savings from CRM     quarter  0 <= X   \n",
              "9  Digital  additional monetization/savings from CRM     quarter  0 <= X   \n",
              "\n",
              "   period_year  period_month        date     value  \n",
              "0         2014             3  2014-03-01  24514.12  \n",
              "1         2014             3  2014-03-01  24514.12  \n",
              "2         2014             3  2014-03-01  24514.12  \n",
              "3         2014             6  2014-06-01  23346.09  \n",
              "4         2014             6  2014-06-01  23346.09  \n",
              "5         2014             6  2014-06-01  23346.09  \n",
              "6         2014             9  2014-09-01  14161.84  \n",
              "7         2014             9  2014-09-01  14161.84  \n",
              "8         2014             9  2014-09-01  14161.84  \n",
              "9         2014            12  2014-12-01  17558.45  "
            ]
          },
          "execution_count": 277,
          "metadata": {},
          "output_type": "execute_result"
        }
      ],
      "source": [
        "# define kpi to apply time series pattern to: they should be monthly\n",
        "# exclude donations, and share of teams constituted as circles\n",
        "kpisTimeSeries = list(dfAllYears[dfAllYears.periodicity=='month'].kpi.unique())\n",
        "remove = {'private donations','share of teams constituted as circles'}\n",
        "kpisTimeSeries = [e for e in kpisTimeSeries if e not in remove]\n",
        "\n",
        "# create nonStationary time series pattern, taking into account COVID\n",
        "mms = MinMaxScaler((0.5,1))\n",
        "nonStationary = timeSeries(numMonths=12,numYears=10,trend=1,event=1)\n",
        "timeSeriesPattern = mms.fit_transform(nonStationary.reshape(-1, 1)).flatten()\n",
        "\n",
        "# apply time series pattern to time series (product)\n",
        "for k in kpisTimeSeries:\n",
        "    dfAllYears.loc[(dfAllYears.kpi==k)&\n",
        "                   (dfAllYears.period_year<2023),\n",
        "                   'value'] = dfAllYears.loc[(dfAllYears.kpi==k)&\n",
        "                                             (dfAllYears.period_year<2023),\n",
        "                                             'value']*timeSeriesPattern[:120-12]\n",
        "                   \n",
        "\n",
        "dfAllYears.head(10)"
      ]
    },
    {
      "cell_type": "code",
      "execution_count": 278,
      "metadata": {},
      "outputs": [
        {
          "data": {
            "application/vnd.plotly.v1+json": {
              "config": {
                "plotlyServerURL": "https://plot.ly"
              },
              "data": [
                {
                  "mode": "lines",
                  "name": "additional monetization/savings from CRM",
                  "type": "scatter",
                  "x": [
                    "2014-03-01",
                    "2014-03-01",
                    "2014-03-01",
                    "2014-06-01",
                    "2014-06-01",
                    "2014-06-01",
                    "2014-09-01",
                    "2014-09-01",
                    "2014-09-01",
                    "2014-12-01",
                    "2014-12-01",
                    "2014-12-01",
                    "2015-03-01",
                    "2015-03-01",
                    "2015-03-01",
                    "2015-06-01",
                    "2015-06-01",
                    "2015-06-01",
                    "2015-09-01",
                    "2015-09-01",
                    "2015-09-01",
                    "2015-12-01",
                    "2015-12-01",
                    "2015-12-01",
                    "2016-03-01",
                    "2016-03-01",
                    "2016-03-01",
                    "2016-06-01",
                    "2016-06-01",
                    "2016-06-01",
                    "2016-09-01",
                    "2016-09-01",
                    "2016-09-01",
                    "2016-12-01",
                    "2016-12-01",
                    "2016-12-01",
                    "2017-03-01",
                    "2017-03-01",
                    "2017-03-01",
                    "2017-06-01",
                    "2017-06-01",
                    "2017-06-01",
                    "2017-09-01",
                    "2017-09-01",
                    "2017-09-01",
                    "2017-12-01",
                    "2017-12-01",
                    "2017-12-01",
                    "2018-03-01",
                    "2018-03-01",
                    "2018-03-01",
                    "2018-06-01",
                    "2018-06-01",
                    "2018-06-01",
                    "2018-09-01",
                    "2018-09-01",
                    "2018-09-01",
                    "2018-12-01",
                    "2018-12-01",
                    "2018-12-01",
                    "2019-03-01",
                    "2019-03-01",
                    "2019-03-01",
                    "2019-06-01",
                    "2019-06-01",
                    "2019-06-01",
                    "2019-09-01",
                    "2019-09-01",
                    "2019-09-01",
                    "2019-12-01",
                    "2019-12-01",
                    "2019-12-01",
                    "2020-03-01",
                    "2020-03-01",
                    "2020-03-01",
                    "2020-06-01",
                    "2020-06-01",
                    "2020-06-01",
                    "2020-09-01",
                    "2020-09-01",
                    "2020-09-01",
                    "2020-12-01",
                    "2020-12-01",
                    "2020-12-01",
                    "2021-03-01",
                    "2021-03-01",
                    "2021-03-01",
                    "2021-06-01",
                    "2021-06-01",
                    "2021-06-01",
                    "2021-09-01",
                    "2021-09-01",
                    "2021-09-01",
                    "2021-12-01",
                    "2021-12-01",
                    "2021-12-01",
                    "2022-03-01",
                    "2022-03-01",
                    "2022-03-01",
                    "2022-06-01",
                    "2022-06-01",
                    "2022-06-01",
                    "2022-09-01",
                    "2022-09-01",
                    "2022-09-01",
                    "2022-12-01",
                    "2022-12-01",
                    "2022-12-01",
                    "2023-03-01",
                    "2023-03-01",
                    "2023-03-01",
                    "2023-06-01",
                    "2023-06-01",
                    "2023-06-01",
                    "2023-09-01",
                    "2023-09-01",
                    "2023-09-01",
                    "2023-12-01",
                    "2023-12-01",
                    "2023-12-01"
                  ],
                  "xaxis": "x",
                  "y": [
                    24514.12,
                    24514.12,
                    24514.12,
                    23346.09,
                    23346.09,
                    23346.09,
                    14161.84,
                    14161.84,
                    14161.84,
                    17558.45,
                    17558.45,
                    17558.45,
                    11900.41,
                    11900.41,
                    11900.41,
                    6387.56,
                    6387.56,
                    6387.56,
                    23166.38,
                    23166.38,
                    23166.38,
                    14185.12,
                    14185.12,
                    14185.12,
                    228.56,
                    228.56,
                    228.56,
                    10242.38,
                    10242.38,
                    10242.38,
                    11017.14,
                    11017.14,
                    11017.14,
                    29593.79,
                    29593.79,
                    29593.79,
                    9837.18,
                    9837.18,
                    9837.18,
                    41719.31,
                    41719.31,
                    41719.31,
                    12127.28,
                    12127.28,
                    12127.28,
                    11827.15,
                    11827.15,
                    11827.15,
                    32546.24,
                    32546.24,
                    32546.24,
                    87600.48,
                    87600.48,
                    87600.48,
                    79378.54,
                    79378.54,
                    79378.54,
                    2407.76,
                    2407.76,
                    2407.76,
                    35922.06,
                    35922.06,
                    35922.06,
                    14883.89,
                    14883.89,
                    14883.89,
                    19893.39,
                    19893.39,
                    19893.39,
                    31170.31,
                    31170.31,
                    31170.31,
                    29323.87,
                    29323.87,
                    29323.87,
                    2460.47,
                    2460.47,
                    2460.47,
                    2560.64,
                    2560.64,
                    2560.64,
                    8221.02,
                    8221.02,
                    8221.02,
                    37724.41,
                    37724.41,
                    37724.41,
                    6875.3,
                    6875.3,
                    6875.3,
                    20207.81,
                    20207.81,
                    20207.81,
                    7784.45,
                    7784.45,
                    7784.45,
                    25708.78,
                    25708.78,
                    25708.78,
                    7921.44,
                    7921.44,
                    7921.44,
                    16816.78,
                    16816.78,
                    16816.78,
                    8355.05,
                    8355.05,
                    8355.05,
                    51000,
                    51000,
                    51000,
                    0,
                    0,
                    0,
                    0,
                    0,
                    0,
                    17000,
                    17000,
                    17000
                  ],
                  "yaxis": "y"
                },
                {
                  "mode": "lines",
                  "name": "additional monetization/savings from programs",
                  "type": "scatter",
                  "x": [
                    "2014-03-01",
                    "2014-03-01",
                    "2014-03-01",
                    "2014-06-01",
                    "2014-06-01",
                    "2014-06-01",
                    "2014-09-01",
                    "2014-09-01",
                    "2014-09-01",
                    "2014-12-01",
                    "2014-12-01",
                    "2014-12-01",
                    "2015-03-01",
                    "2015-03-01",
                    "2015-03-01",
                    "2015-06-01",
                    "2015-06-01",
                    "2015-06-01",
                    "2015-09-01",
                    "2015-09-01",
                    "2015-09-01",
                    "2015-12-01",
                    "2015-12-01",
                    "2015-12-01",
                    "2016-03-01",
                    "2016-03-01",
                    "2016-03-01",
                    "2016-06-01",
                    "2016-06-01",
                    "2016-06-01",
                    "2016-09-01",
                    "2016-09-01",
                    "2016-09-01",
                    "2016-12-01",
                    "2016-12-01",
                    "2016-12-01",
                    "2017-03-01",
                    "2017-03-01",
                    "2017-03-01",
                    "2017-06-01",
                    "2017-06-01",
                    "2017-06-01",
                    "2017-09-01",
                    "2017-09-01",
                    "2017-09-01",
                    "2017-12-01",
                    "2017-12-01",
                    "2017-12-01",
                    "2018-03-01",
                    "2018-03-01",
                    "2018-03-01",
                    "2018-06-01",
                    "2018-06-01",
                    "2018-06-01",
                    "2018-09-01",
                    "2018-09-01",
                    "2018-09-01",
                    "2018-12-01",
                    "2018-12-01",
                    "2018-12-01",
                    "2019-03-01",
                    "2019-03-01",
                    "2019-03-01",
                    "2019-06-01",
                    "2019-06-01",
                    "2019-06-01",
                    "2019-09-01",
                    "2019-09-01",
                    "2019-09-01",
                    "2019-12-01",
                    "2019-12-01",
                    "2019-12-01",
                    "2020-03-01",
                    "2020-03-01",
                    "2020-03-01",
                    "2020-06-01",
                    "2020-06-01",
                    "2020-06-01",
                    "2020-09-01",
                    "2020-09-01",
                    "2020-09-01",
                    "2020-12-01",
                    "2020-12-01",
                    "2020-12-01",
                    "2021-03-01",
                    "2021-03-01",
                    "2021-03-01",
                    "2021-06-01",
                    "2021-06-01",
                    "2021-06-01",
                    "2021-09-01",
                    "2021-09-01",
                    "2021-09-01",
                    "2021-12-01",
                    "2021-12-01",
                    "2021-12-01",
                    "2022-03-01",
                    "2022-03-01",
                    "2022-03-01",
                    "2022-06-01",
                    "2022-06-01",
                    "2022-06-01",
                    "2022-09-01",
                    "2022-09-01",
                    "2022-09-01",
                    "2022-12-01",
                    "2022-12-01",
                    "2022-12-01",
                    "2023-03-01",
                    "2023-03-01",
                    "2023-03-01",
                    "2023-06-01",
                    "2023-06-01",
                    "2023-06-01",
                    "2023-09-01",
                    "2023-09-01",
                    "2023-09-01",
                    "2023-12-01",
                    "2023-12-01",
                    "2023-12-01"
                  ],
                  "xaxis": "x2",
                  "y": [
                    252685.97,
                    252685.97,
                    252685.97,
                    19171.68,
                    19171.68,
                    19171.68,
                    42850.85,
                    42850.85,
                    42850.85,
                    120769.67,
                    120769.67,
                    120769.67,
                    59854.49,
                    59854.49,
                    59854.49,
                    98392.28,
                    98392.28,
                    98392.28,
                    58148.09,
                    58148.09,
                    58148.09,
                    51376.5,
                    51376.5,
                    51376.5,
                    160994.45,
                    160994.45,
                    160994.45,
                    75724.5,
                    75724.5,
                    75724.5,
                    164385.97,
                    164385.97,
                    164385.97,
                    142473.52,
                    142473.52,
                    142473.52,
                    99118.91,
                    99118.91,
                    99118.91,
                    101822.41,
                    101822.41,
                    101822.41,
                    282011.51,
                    282011.51,
                    282011.51,
                    29737.23,
                    29737.23,
                    29737.23,
                    203219.52,
                    203219.52,
                    203219.52,
                    55938.2,
                    55938.2,
                    55938.2,
                    262361.99,
                    262361.99,
                    262361.99,
                    291285.01,
                    291285.01,
                    291285.01,
                    7435.96,
                    7435.96,
                    7435.96,
                    30079.82,
                    30079.82,
                    30079.82,
                    66207.8,
                    66207.8,
                    66207.8,
                    64051.86,
                    64051.86,
                    64051.86,
                    7347.69,
                    7347.69,
                    7347.69,
                    90489.64,
                    90489.64,
                    90489.64,
                    62086.79,
                    62086.79,
                    62086.79,
                    61696.92,
                    61696.92,
                    61696.92,
                    300008.57,
                    300008.57,
                    300008.57,
                    59237.67,
                    59237.67,
                    59237.67,
                    292443.89,
                    292443.89,
                    292443.89,
                    13265.1,
                    13265.1,
                    13265.1,
                    136086.88,
                    136086.88,
                    136086.88,
                    302438.98,
                    302438.98,
                    302438.98,
                    14621.48,
                    14621.48,
                    14621.48,
                    93340.73,
                    93340.73,
                    93340.73,
                    186258,
                    186258,
                    186258,
                    0,
                    0,
                    0,
                    26000,
                    26000,
                    26000,
                    70752.67,
                    70752.67,
                    70752.67
                  ],
                  "yaxis": "y2"
                },
                {
                  "mode": "lines",
                  "name": "count leads",
                  "type": "scatter",
                  "x": [
                    "2014-01-01",
                    "2014-02-01",
                    "2014-03-01",
                    "2014-04-01",
                    "2014-05-01",
                    "2014-06-01",
                    "2014-07-01",
                    "2014-08-01",
                    "2014-09-01",
                    "2014-10-01",
                    "2014-11-01",
                    "2014-12-01",
                    "2015-01-01",
                    "2015-02-01",
                    "2015-03-01",
                    "2015-04-01",
                    "2015-05-01",
                    "2015-06-01",
                    "2015-07-01",
                    "2015-08-01",
                    "2015-09-01",
                    "2015-10-01",
                    "2015-11-01",
                    "2015-12-01",
                    "2016-01-01",
                    "2016-02-01",
                    "2016-03-01",
                    "2016-04-01",
                    "2016-05-01",
                    "2016-06-01",
                    "2016-07-01",
                    "2016-08-01",
                    "2016-09-01",
                    "2016-10-01",
                    "2016-11-01",
                    "2016-12-01",
                    "2017-01-01",
                    "2017-02-01",
                    "2017-03-01",
                    "2017-04-01",
                    "2017-05-01",
                    "2017-06-01",
                    "2017-07-01",
                    "2017-08-01",
                    "2017-09-01",
                    "2017-10-01",
                    "2017-11-01",
                    "2017-12-01",
                    "2018-01-01",
                    "2018-02-01",
                    "2018-03-01",
                    "2018-04-01",
                    "2018-05-01",
                    "2018-06-01",
                    "2018-07-01",
                    "2018-08-01",
                    "2018-09-01",
                    "2018-10-01",
                    "2018-11-01",
                    "2018-12-01",
                    "2019-01-01",
                    "2019-02-01",
                    "2019-03-01",
                    "2019-04-01",
                    "2019-05-01",
                    "2019-06-01",
                    "2019-07-01",
                    "2019-08-01",
                    "2019-09-01",
                    "2019-10-01",
                    "2019-11-01",
                    "2019-12-01",
                    "2020-01-01",
                    "2020-02-01",
                    "2020-03-01",
                    "2020-04-01",
                    "2020-05-01",
                    "2020-06-01",
                    "2020-07-01",
                    "2020-08-01",
                    "2020-09-01",
                    "2020-10-01",
                    "2020-11-01",
                    "2020-12-01",
                    "2021-01-01",
                    "2021-02-01",
                    "2021-03-01",
                    "2021-04-01",
                    "2021-05-01",
                    "2021-06-01",
                    "2021-07-01",
                    "2021-08-01",
                    "2021-09-01",
                    "2021-10-01",
                    "2021-11-01",
                    "2021-12-01",
                    "2022-01-01",
                    "2022-02-01",
                    "2022-03-01",
                    "2022-04-01",
                    "2022-05-01",
                    "2022-06-01",
                    "2022-07-01",
                    "2022-08-01",
                    "2022-09-01",
                    "2022-10-01",
                    "2022-11-01",
                    "2022-12-01",
                    "2023-01-01",
                    "2023-02-01",
                    "2023-03-01",
                    "2023-04-01",
                    "2023-05-01",
                    "2023-06-01",
                    "2023-07-01",
                    "2023-08-01",
                    "2023-09-01",
                    "2023-10-01",
                    "2023-11-01",
                    "2023-12-01"
                  ],
                  "xaxis": "x3",
                  "y": [
                    128.20486277568435,
                    192.46243840134466,
                    137.18526452732627,
                    488.2503859221573,
                    233.5064055311595,
                    434.80096598960125,
                    272.065,
                    209.72055566808922,
                    94.96321484016225,
                    113.15503888892704,
                    231.84684435561724,
                    196.0434509392113,
                    395.98846983061117,
                    181.02404049566601,
                    216.62885792433678,
                    113.5157794180835,
                    270.8087571678668,
                    38.77191703129186,
                    224.6165721521051,
                    163.04814744848323,
                    310.4495010372616,
                    383.72219668471047,
                    53.24893859679713,
                    289.5965716633342,
                    61.742521321498224,
                    154.32133849286603,
                    249.64197356566058,
                    292.2528855772135,
                    194.0808685572183,
                    426.7369073461342,
                    334.91062952830623,
                    297.44588364511645,
                    459.57180922460236,
                    267.207910592018,
                    168.30238736916783,
                    216.80994358572417,
                    47.156561019027855,
                    78.24135659848396,
                    287.7725803323947,
                    501.9200859677816,
                    252.29947883041868,
                    475.3621445637503,
                    502.0938759474911,
                    354.66280083496764,
                    421.33614224868035,
                    302.09690209816813,
                    258.0763827463385,
                    142.94387312552243,
                    124.80866804679378,
                    601.0615116983248,
                    484.1046007774319,
                    434.27978963976705,
                    270.4463865017284,
                    451.08632837803407,
                    161.74622589157846,
                    348.94268765861216,
                    188.88083340440136,
                    335.3416659080034,
                    196.9537807089065,
                    254.99865354056857,
                    496.2119793048911,
                    72.08944814134902,
                    126.73344031824163,
                    374.4859672239658,
                    119.3017310017368,
                    315.38370058091834,
                    289.33717563915224,
                    107.82389347415972,
                    256.8523020313778,
                    214.2268837890052,
                    410.00655645520004,
                    416.73259670008036,
                    675.6342270346773,
                    507.56979292766835,
                    206.54533281809063,
                    563.064982935704,
                    129.6560973468496,
                    529.2725501139796,
                    279.666788250815,
                    231.87944623772233,
                    158.20274034372676,
                    610.8183167647021,
                    732.5962035269364,
                    282.31412597287994,
                    141.30946493937577,
                    375.9118220230251,
                    643.0004263250769,
                    251.8561190105901,
                    625.6832905638981,
                    365.68220466147824,
                    135.32280546678638,
                    399.28383516312215,
                    512.8506195113429,
                    584.0798320222713,
                    694.2745977927206,
                    440.93,
                    145.10216475864115,
                    268.7150230297051,
                    622.6791988961954,
                    645.4811710408019,
                    53.05168607336768,
                    328.1331054626907,
                    321.3614177623855,
                    516.7192004822782,
                    578.1027298467368,
                    291.1093012719235,
                    51.22429033922768,
                    240.2657366323285,
                    634,
                    329,
                    664,
                    722,
                    585,
                    386,
                    345,
                    723,
                    443,
                    441,
                    561,
                    751
                  ],
                  "yaxis": "y3"
                },
                {
                  "mode": "lines",
                  "name": "count sessions on .projuventute.ch",
                  "type": "scatter",
                  "x": [
                    "2014-01-01",
                    "2014-02-01",
                    "2014-03-01",
                    "2014-04-01",
                    "2014-05-01",
                    "2014-06-01",
                    "2014-07-01",
                    "2014-08-01",
                    "2014-09-01",
                    "2014-10-01",
                    "2014-11-01",
                    "2014-12-01",
                    "2015-01-01",
                    "2015-02-01",
                    "2015-03-01",
                    "2015-04-01",
                    "2015-05-01",
                    "2015-06-01",
                    "2015-07-01",
                    "2015-08-01",
                    "2015-09-01",
                    "2015-10-01",
                    "2015-11-01",
                    "2015-12-01",
                    "2016-01-01",
                    "2016-02-01",
                    "2016-03-01",
                    "2016-04-01",
                    "2016-05-01",
                    "2016-06-01",
                    "2016-07-01",
                    "2016-08-01",
                    "2016-09-01",
                    "2016-10-01",
                    "2016-11-01",
                    "2016-12-01",
                    "2017-01-01",
                    "2017-02-01",
                    "2017-03-01",
                    "2017-04-01",
                    "2017-05-01",
                    "2017-06-01",
                    "2017-07-01",
                    "2017-08-01",
                    "2017-09-01",
                    "2017-10-01",
                    "2017-11-01",
                    "2017-12-01",
                    "2018-01-01",
                    "2018-02-01",
                    "2018-03-01",
                    "2018-04-01",
                    "2018-05-01",
                    "2018-06-01",
                    "2018-07-01",
                    "2018-08-01",
                    "2018-09-01",
                    "2018-10-01",
                    "2018-11-01",
                    "2018-12-01",
                    "2019-01-01",
                    "2019-02-01",
                    "2019-03-01",
                    "2019-04-01",
                    "2019-05-01",
                    "2019-06-01",
                    "2019-07-01",
                    "2019-08-01",
                    "2019-09-01",
                    "2019-10-01",
                    "2019-11-01",
                    "2019-12-01",
                    "2020-01-01",
                    "2020-02-01",
                    "2020-03-01",
                    "2020-04-01",
                    "2020-05-01",
                    "2020-06-01",
                    "2020-07-01",
                    "2020-08-01",
                    "2020-09-01",
                    "2020-10-01",
                    "2020-11-01",
                    "2020-12-01",
                    "2021-01-01",
                    "2021-02-01",
                    "2021-03-01",
                    "2021-04-01",
                    "2021-05-01",
                    "2021-06-01",
                    "2021-07-01",
                    "2021-08-01",
                    "2021-09-01",
                    "2021-10-01",
                    "2021-11-01",
                    "2021-12-01",
                    "2022-01-01",
                    "2022-02-01",
                    "2022-03-01",
                    "2022-04-01",
                    "2022-05-01",
                    "2022-06-01",
                    "2022-07-01",
                    "2022-08-01",
                    "2022-09-01",
                    "2022-10-01",
                    "2022-11-01",
                    "2022-12-01",
                    "2023-01-01",
                    "2023-02-01",
                    "2023-03-01",
                    "2023-04-01",
                    "2023-05-01",
                    "2023-06-01",
                    "2023-07-01",
                    "2023-08-01",
                    "2023-09-01",
                    "2023-10-01",
                    "2023-11-01",
                    "2023-12-01"
                  ],
                  "xaxis": "x4",
                  "y": [
                    92148.80962900704,
                    115356.74009627686,
                    92462.05370015181,
                    113207.99477672008,
                    95789.75309882344,
                    87480.09072538493,
                    105322.53,
                    106958.85523836369,
                    131561.76419499752,
                    100540.13215344786,
                    122348.35307568258,
                    111566.0083458575,
                    87232.36060359317,
                    111750.30148565298,
                    110463.68139372733,
                    133002.91353479092,
                    100579.38138127504,
                    106968.32193088961,
                    112221.23270442759,
                    112073.73723164656,
                    103192.45925757177,
                    123364.3963827776,
                    130295.28427197659,
                    106961.60034348587,
                    99298.91263647155,
                    124203.06564517715,
                    92316.66734779414,
                    111264.34223418521,
                    106371.793836294,
                    127931.14401251034,
                    118289.72510688538,
                    116428.4710373493,
                    133620.9927347001,
                    124104.30448030776,
                    96095.27409960219,
                    136725.56610964847,
                    100210.61861344715,
                    122825.37487509291,
                    126282.07037544307,
                    128228.92511288468,
                    98197.88416455663,
                    135937.49999102688,
                    127921.57801307921,
                    132072.69233519174,
                    133982.002008681,
                    91122.0136427378,
                    123856.60837037649,
                    138082.1906175809,
                    118881.78046780312,
                    112676.28521248566,
                    109060.85126530017,
                    143248.66792790958,
                    125631.37685737692,
                    126225.71362605171,
                    128083.94229775405,
                    137674.0509716525,
                    128431.87529534576,
                    120136.76194876363,
                    138935.65739435668,
                    140753.11196996403,
                    110463.58441390164,
                    113158.03294456171,
                    95363.19454505238,
                    140381.37491430886,
                    104512.67888880814,
                    146952.70146765505,
                    95895.09422480444,
                    138540.7329397605,
                    134183.48250001486,
                    148381.20838611032,
                    137606.79274868994,
                    137779.34569385456,
                    138014.9396439955,
                    115050.3640562425,
                    142619.01659481632,
                    121915.45458582202,
                    154457.8883284484,
                    131747.39519367443,
                    151423.6033592334,
                    154293.43433523862,
                    115427.50624193033,
                    113538.05840817427,
                    148392.40845631468,
                    125023.56961061593,
                    144787.0476683663,
                    159934.52324485767,
                    129822.46681717948,
                    161091.84803024417,
                    180785.23677356727,
                    146074.09484046255,
                    170720.2555512672,
                    164869.42772613734,
                    174295.46360603045,
                    195155.8368670453,
                    190680.1139530324,
                    177629.22,
                    133678.65267530354,
                    135461.87640582328,
                    144211.4955325234,
                    113070.63492851699,
                    154269.00355560606,
                    151632.2833960332,
                    132066.04899922904,
                    125205.00901410847,
                    135436.13941277046,
                    127084.9899976747,
                    136939.6819978182,
                    163368.95179353727,
                    158611,
                    203755,
                    190560,
                    164663,
                    180421,
                    174107,
                    164059,
                    194407,
                    178822.88,
                    194407,
                    178822.88,
                    174107
                  ],
                  "yaxis": "y4"
                },
                {
                  "mode": "lines",
                  "name": "involuntary headcount change (FTE)",
                  "type": "scatter",
                  "x": [
                    "2014-01-01",
                    "2014-02-01",
                    "2014-03-01",
                    "2014-04-01",
                    "2014-05-01",
                    "2014-06-01",
                    "2014-07-01",
                    "2014-08-01",
                    "2014-09-01",
                    "2014-10-01",
                    "2014-11-01",
                    "2014-12-01",
                    "2015-01-01",
                    "2015-02-01",
                    "2015-03-01",
                    "2015-04-01",
                    "2015-05-01",
                    "2015-06-01",
                    "2015-07-01",
                    "2015-08-01",
                    "2015-09-01",
                    "2015-10-01",
                    "2015-11-01",
                    "2015-12-01",
                    "2016-01-01",
                    "2016-02-01",
                    "2016-03-01",
                    "2016-04-01",
                    "2016-05-01",
                    "2016-06-01",
                    "2016-07-01",
                    "2016-08-01",
                    "2016-09-01",
                    "2016-10-01",
                    "2016-11-01",
                    "2016-12-01",
                    "2017-01-01",
                    "2017-02-01",
                    "2017-03-01",
                    "2017-04-01",
                    "2017-05-01",
                    "2017-06-01",
                    "2017-07-01",
                    "2017-08-01",
                    "2017-09-01",
                    "2017-10-01",
                    "2017-11-01",
                    "2017-12-01",
                    "2018-01-01",
                    "2018-02-01",
                    "2018-03-01",
                    "2018-04-01",
                    "2018-05-01",
                    "2018-06-01",
                    "2018-07-01",
                    "2018-08-01",
                    "2018-09-01",
                    "2018-10-01",
                    "2018-11-01",
                    "2018-12-01",
                    "2019-01-01",
                    "2019-02-01",
                    "2019-03-01",
                    "2019-04-01",
                    "2019-05-01",
                    "2019-06-01",
                    "2019-07-01",
                    "2019-08-01",
                    "2019-09-01",
                    "2019-10-01",
                    "2019-11-01",
                    "2019-12-01",
                    "2020-01-01",
                    "2020-02-01",
                    "2020-03-01",
                    "2020-04-01",
                    "2020-05-01",
                    "2020-06-01",
                    "2020-07-01",
                    "2020-08-01",
                    "2020-09-01",
                    "2020-10-01",
                    "2020-11-01",
                    "2020-12-01",
                    "2021-01-01",
                    "2021-02-01",
                    "2021-03-01",
                    "2021-04-01",
                    "2021-05-01",
                    "2021-06-01",
                    "2021-07-01",
                    "2021-08-01",
                    "2021-09-01",
                    "2021-10-01",
                    "2021-11-01",
                    "2021-12-01",
                    "2022-01-01",
                    "2022-02-01",
                    "2022-03-01",
                    "2022-04-01",
                    "2022-05-01",
                    "2022-06-01",
                    "2022-07-01",
                    "2022-08-01",
                    "2022-09-01",
                    "2022-10-01",
                    "2022-11-01",
                    "2022-12-01",
                    "2023-01-01",
                    "2023-02-01",
                    "2023-03-01",
                    "2023-04-01",
                    "2023-05-01",
                    "2023-06-01",
                    "2023-07-01",
                    "2023-08-01",
                    "2023-09-01",
                    "2023-10-01",
                    "2023-11-01",
                    "2023-12-01"
                  ],
                  "xaxis": "x5",
                  "y": [
                    1.086385985211907,
                    1.6045145750643053,
                    0.5717317581908927,
                    1.3241890151432716,
                    1.3964064508135265,
                    0.9493583527202315,
                    0.925,
                    1.3457668846034676,
                    0.5680567942455194,
                    0.5741624697378648,
                    1.2308253474947537,
                    1.2427305822566657,
                    0.8700696984887728,
                    0.981015097769399,
                    1.6117616832686195,
                    0.19556458608206004,
                    0.5101529305580806,
                    1.2157055303584556,
                    1.509868776151111,
                    1.1757051075290357,
                    1.1803761015380698,
                    0.6826886032730693,
                    0.44710479055036656,
                    1.256089377262199,
                    1.3847335735270916,
                    1.7122288687305272,
                    0.32778912272163563,
                    1.1940818582467032,
                    1.1696407150777304,
                    1.0244005173705042,
                    1.6212992363936936,
                    1.306157109341614,
                    1.5811998867322428,
                    1.5375155967594478,
                    1.3117324977325144,
                    1.3004987575529188,
                    0.5803504498283082,
                    1.0391385071738444,
                    0.4458754373272175,
                    0.5283558927373563,
                    1.5371186735466684,
                    0.09741426791338789,
                    1.0716324582870604,
                    0.5392406258424238,
                    1.2699203374431673,
                    1.522145694455141,
                    1.5052047332629859,
                    1.564527100661041,
                    0.3667135595902489,
                    1.2320354218600795,
                    1.8401380656387254,
                    2.13876901072748,
                    1.6484981698636567,
                    1.0752597776487405,
                    1.7908018991930799,
                    0.9778658544708059,
                    1.1098491167517432,
                    1.7679566730455756,
                    1.8591256141278822,
                    1.1286338748657234,
                    1.5331255044397356,
                    1.845642992429759,
                    1.7686155305049454,
                    1.519518290753773,
                    1.7052239557153732,
                    1.419064473817125,
                    1.4507188766729118,
                    0.3727061647914266,
                    1.5636782836228242,
                    1.4894190495639446,
                    1.6918129056094555,
                    1.8694218414212742,
                    1.441123786288089,
                    0.9258028073678161,
                    1.1919682674627199,
                    1.6143886825294398,
                    1.4676677872829154,
                    0.6244222901794813,
                    0.007434782758688191,
                    1.9906741040606508,
                    1.0450826802295734,
                    0.1962675056361158,
                    2.3596120734863115,
                    1.1394026128728156,
                    2.1780701384966914,
                    1.0743650305582497,
                    1.8366751368816845,
                    1.1939491879261184,
                    1.6181675770536685,
                    2.554159406290522,
                    1.9064344921107013,
                    1.4847942943794408,
                    2.3692793676452575,
                    1.6656178500480303,
                    2.2595239457551317,
                    2.09,
                    0.9691938485787099,
                    1.7681283849963014,
                    1.5612456623579074,
                    0.292143430258042,
                    0.3654859135950078,
                    1.5728540689324348,
                    1.4963831971780637,
                    1.5904657488166234,
                    1.3388205878803539,
                    1.3605860182796852,
                    1.6413564534658447,
                    2.128141846843322,
                    2.26,
                    0.98,
                    1.47,
                    1.46,
                    0,
                    0,
                    0.51,
                    1.01,
                    0.96,
                    1.01,
                    0.96,
                    0
                  ],
                  "yaxis": "y5"
                },
                {
                  "mode": "lines",
                  "name": "net promoter score",
                  "type": "scatter",
                  "x": [
                    "2014-01-01",
                    "2014-02-01",
                    "2014-03-01",
                    "2014-04-01",
                    "2014-05-01",
                    "2014-06-01",
                    "2014-07-01",
                    "2014-08-01",
                    "2014-09-01",
                    "2014-10-01",
                    "2014-11-01",
                    "2014-12-01",
                    "2015-01-01",
                    "2015-02-01",
                    "2015-03-01",
                    "2015-04-01",
                    "2015-05-01",
                    "2015-06-01",
                    "2015-07-01",
                    "2015-08-01",
                    "2015-09-01",
                    "2015-10-01",
                    "2015-11-01",
                    "2015-12-01",
                    "2016-01-01",
                    "2016-02-01",
                    "2016-03-01",
                    "2016-04-01",
                    "2016-05-01",
                    "2016-06-01",
                    "2016-07-01",
                    "2016-08-01",
                    "2016-09-01",
                    "2016-10-01",
                    "2016-11-01",
                    "2016-12-01",
                    "2017-01-01",
                    "2017-02-01",
                    "2017-03-01",
                    "2017-04-01",
                    "2017-05-01",
                    "2017-06-01",
                    "2017-07-01",
                    "2017-08-01",
                    "2017-09-01",
                    "2017-10-01",
                    "2017-11-01",
                    "2017-12-01",
                    "2018-01-01",
                    "2018-02-01",
                    "2018-03-01",
                    "2018-04-01",
                    "2018-05-01",
                    "2018-06-01",
                    "2018-07-01",
                    "2018-08-01",
                    "2018-09-01",
                    "2018-10-01",
                    "2018-11-01",
                    "2018-12-01",
                    "2019-01-01",
                    "2019-02-01",
                    "2019-03-01",
                    "2019-04-01",
                    "2019-05-01",
                    "2019-06-01",
                    "2019-07-01",
                    "2019-08-01",
                    "2019-09-01",
                    "2019-10-01",
                    "2019-11-01",
                    "2019-12-01",
                    "2020-01-01",
                    "2020-02-01",
                    "2020-03-01",
                    "2020-04-01",
                    "2020-05-01",
                    "2020-06-01",
                    "2020-07-01",
                    "2020-08-01",
                    "2020-09-01",
                    "2020-10-01",
                    "2020-11-01",
                    "2020-12-01",
                    "2021-01-01",
                    "2021-02-01",
                    "2021-03-01",
                    "2021-04-01",
                    "2021-05-01",
                    "2021-06-01",
                    "2021-07-01",
                    "2021-08-01",
                    "2021-09-01",
                    "2021-10-01",
                    "2021-11-01",
                    "2021-12-01",
                    "2022-01-01",
                    "2022-02-01",
                    "2022-03-01",
                    "2022-04-01",
                    "2022-05-01",
                    "2022-06-01",
                    "2022-07-01",
                    "2022-08-01",
                    "2022-09-01",
                    "2022-10-01",
                    "2022-11-01",
                    "2022-12-01",
                    "2023-01-01",
                    "2023-02-01",
                    "2023-03-01",
                    "2023-04-01",
                    "2023-05-01",
                    "2023-06-01",
                    "2023-07-01",
                    "2023-08-01",
                    "2023-09-01",
                    "2023-10-01",
                    "2023-11-01",
                    "2023-12-01"
                  ],
                  "xaxis": "x6",
                  "y": [
                    23,
                    23,
                    23,
                    23,
                    23,
                    23,
                    23,
                    23,
                    23,
                    23,
                    23,
                    23,
                    37,
                    37,
                    37,
                    37,
                    37,
                    37,
                    37,
                    37,
                    37,
                    37,
                    37,
                    37,
                    45,
                    45,
                    45,
                    45,
                    45,
                    45,
                    45,
                    45,
                    45,
                    45,
                    45,
                    45,
                    52,
                    52,
                    52,
                    52,
                    52,
                    52,
                    52,
                    52,
                    52,
                    52,
                    52,
                    52,
                    59,
                    59,
                    59,
                    59,
                    59,
                    59,
                    59,
                    59,
                    59,
                    59,
                    59,
                    59,
                    68,
                    68,
                    68,
                    68,
                    68,
                    68,
                    68,
                    68,
                    68,
                    68,
                    68,
                    68,
                    70,
                    70,
                    70,
                    70,
                    70,
                    70,
                    70,
                    70,
                    70,
                    70,
                    70,
                    70,
                    72,
                    72,
                    72,
                    72,
                    72,
                    72,
                    72,
                    72,
                    72,
                    72,
                    72,
                    72,
                    65,
                    65,
                    65,
                    65,
                    65,
                    65,
                    65,
                    65,
                    65,
                    65,
                    65,
                    65,
                    35,
                    35,
                    35,
                    35,
                    35,
                    35,
                    35,
                    35,
                    35,
                    35,
                    35,
                    35
                  ],
                  "yaxis": "y6"
                },
                {
                  "mode": "lines",
                  "name": "private donations",
                  "type": "scatter",
                  "x": [
                    "2014-01-01",
                    "2014-02-01",
                    "2014-03-01",
                    "2014-04-01",
                    "2014-05-01",
                    "2014-06-01",
                    "2014-07-01",
                    "2014-08-01",
                    "2014-09-01",
                    "2014-10-01",
                    "2014-11-01",
                    "2014-12-01",
                    "2015-01-01",
                    "2015-02-01",
                    "2015-03-01",
                    "2015-04-01",
                    "2015-05-01",
                    "2015-06-01",
                    "2015-07-01",
                    "2015-08-01",
                    "2015-09-01",
                    "2015-10-01",
                    "2015-11-01",
                    "2015-12-01",
                    "2016-01-01",
                    "2016-02-01",
                    "2016-03-01",
                    "2016-04-01",
                    "2016-05-01",
                    "2016-06-01",
                    "2016-07-01",
                    "2016-08-01",
                    "2016-09-01",
                    "2016-10-01",
                    "2016-11-01",
                    "2016-12-01",
                    "2017-01-01",
                    "2017-02-01",
                    "2017-03-01",
                    "2017-04-01",
                    "2017-05-01",
                    "2017-06-01",
                    "2017-07-01",
                    "2017-08-01",
                    "2017-09-01",
                    "2017-10-01",
                    "2017-11-01",
                    "2017-12-01",
                    "2018-01-01",
                    "2018-02-01",
                    "2018-03-01",
                    "2018-04-01",
                    "2018-05-01",
                    "2018-06-01",
                    "2018-07-01",
                    "2018-08-01",
                    "2018-09-01",
                    "2018-10-01",
                    "2018-11-01",
                    "2018-12-01",
                    "2019-01-01",
                    "2019-02-01",
                    "2019-03-01",
                    "2019-04-01",
                    "2019-05-01",
                    "2019-06-01",
                    "2019-07-01",
                    "2019-08-01",
                    "2019-09-01",
                    "2019-10-01",
                    "2019-11-01",
                    "2019-12-01",
                    "2020-01-01",
                    "2020-02-01",
                    "2020-03-01",
                    "2020-04-01",
                    "2020-05-01",
                    "2020-06-01",
                    "2020-07-01",
                    "2020-08-01",
                    "2020-09-01",
                    "2020-10-01",
                    "2020-11-01",
                    "2020-12-01",
                    "2021-01-01",
                    "2021-02-01",
                    "2021-03-01",
                    "2021-04-01",
                    "2021-05-01",
                    "2021-06-01",
                    "2021-07-01",
                    "2021-08-01",
                    "2021-09-01",
                    "2021-10-01",
                    "2021-11-01",
                    "2021-12-01",
                    "2022-01-01",
                    "2022-02-01",
                    "2022-03-01",
                    "2022-04-01",
                    "2022-05-01",
                    "2022-06-01",
                    "2022-07-01",
                    "2022-08-01",
                    "2022-09-01",
                    "2022-10-01",
                    "2022-11-01",
                    "2022-12-01",
                    "2023-01-01",
                    "2023-02-01",
                    "2023-03-01",
                    "2023-04-01",
                    "2023-05-01",
                    "2023-06-01",
                    "2023-07-01",
                    "2023-08-01",
                    "2023-09-01",
                    "2023-10-01",
                    "2023-11-01",
                    "2023-12-01"
                  ],
                  "xaxis": "x7",
                  "y": [
                    248384,
                    677356.61,
                    437920.52,
                    339549.48,
                    336036.85,
                    361332.68,
                    395194.1,
                    315559.73,
                    547618.08,
                    473700.13,
                    630728.84,
                    830603.19,
                    311620.55,
                    281133.04,
                    779006.49,
                    404485.34,
                    280793.16,
                    467833.3,
                    452400.01,
                    383833.33,
                    494820.82,
                    458280.19,
                    737379.01,
                    1244525.47,
                    457134.1,
                    545421.58,
                    578795.07,
                    524063.85,
                    448401.8,
                    499725.32,
                    387578.22,
                    922212.18,
                    597703.78,
                    469153.72,
                    695197.98,
                    1043989.41,
                    499464.98,
                    470967.3,
                    642704.42,
                    495108.93,
                    554637.19,
                    556835.67,
                    472386.83,
                    481426.88,
                    422727.53,
                    655384.08,
                    889252.6,
                    1057538.96,
                    528105.38,
                    515486.75,
                    712077.5,
                    398698.29,
                    491801.94,
                    629391.05,
                    573759.96,
                    508156.9,
                    480953.95,
                    610756.69,
                    847334.21,
                    955619.88,
                    403683.34,
                    542764.72,
                    671239.48,
                    730153.95,
                    608587.17,
                    686389.26,
                    581299.07,
                    345412.79,
                    552597.48,
                    630429.67,
                    688423.3,
                    1023822.23,
                    732466.7,
                    492574.38,
                    649089.67,
                    867329.92,
                    611297.14,
                    764911.91,
                    751010.67,
                    686545.58,
                    622383.36,
                    851297.01,
                    793025.53,
                    1856876.38,
                    592686.59,
                    670148.58,
                    826549.89,
                    862933.55,
                    690958.91,
                    664222.26,
                    819670.29,
                    471050.09,
                    509513.36,
                    592703.7,
                    899432.48,
                    1708639.55,
                    611312.15,
                    269239.44,
                    621173.75,
                    1072485.61,
                    536893.87,
                    932942.78,
                    775104.16,
                    985432.32,
                    632041.47,
                    564243.62,
                    1246403.55,
                    1582084.51,
                    1369218,
                    2144446,
                    1923875,
                    1274911,
                    1797114,
                    1352463,
                    1359887,
                    1101047,
                    1540370.12,
                    1101047,
                    1540370.12,
                    1352463
                  ],
                  "yaxis": "y7"
                },
                {
                  "mode": "lines",
                  "name": "reachability",
                  "type": "scatter",
                  "x": [
                    "2014-03-01",
                    "2014-03-01",
                    "2014-03-01",
                    "2014-06-01",
                    "2014-06-01",
                    "2014-06-01",
                    "2014-09-01",
                    "2014-09-01",
                    "2014-09-01",
                    "2014-12-01",
                    "2014-12-01",
                    "2014-12-01",
                    "2015-03-01",
                    "2015-03-01",
                    "2015-03-01",
                    "2015-06-01",
                    "2015-06-01",
                    "2015-06-01",
                    "2015-09-01",
                    "2015-09-01",
                    "2015-09-01",
                    "2015-12-01",
                    "2015-12-01",
                    "2015-12-01",
                    "2016-03-01",
                    "2016-03-01",
                    "2016-03-01",
                    "2016-06-01",
                    "2016-06-01",
                    "2016-06-01",
                    "2016-09-01",
                    "2016-09-01",
                    "2016-09-01",
                    "2016-12-01",
                    "2016-12-01",
                    "2016-12-01",
                    "2017-03-01",
                    "2017-03-01",
                    "2017-03-01",
                    "2017-06-01",
                    "2017-06-01",
                    "2017-06-01",
                    "2017-09-01",
                    "2017-09-01",
                    "2017-09-01",
                    "2017-12-01",
                    "2017-12-01",
                    "2017-12-01",
                    "2018-03-01",
                    "2018-03-01",
                    "2018-03-01",
                    "2018-06-01",
                    "2018-06-01",
                    "2018-06-01",
                    "2018-09-01",
                    "2018-09-01",
                    "2018-09-01",
                    "2018-12-01",
                    "2018-12-01",
                    "2018-12-01",
                    "2019-03-01",
                    "2019-03-01",
                    "2019-03-01",
                    "2019-06-01",
                    "2019-06-01",
                    "2019-06-01",
                    "2019-09-01",
                    "2019-09-01",
                    "2019-09-01",
                    "2019-12-01",
                    "2019-12-01",
                    "2019-12-01",
                    "2020-03-01",
                    "2020-03-01",
                    "2020-03-01",
                    "2020-06-01",
                    "2020-06-01",
                    "2020-06-01",
                    "2020-09-01",
                    "2020-09-01",
                    "2020-09-01",
                    "2020-12-01",
                    "2020-12-01",
                    "2020-12-01",
                    "2021-03-01",
                    "2021-03-01",
                    "2021-03-01",
                    "2021-06-01",
                    "2021-06-01",
                    "2021-06-01",
                    "2021-09-01",
                    "2021-09-01",
                    "2021-09-01",
                    "2021-12-01",
                    "2021-12-01",
                    "2021-12-01",
                    "2022-03-01",
                    "2022-03-01",
                    "2022-03-01",
                    "2022-06-01",
                    "2022-06-01",
                    "2022-06-01",
                    "2022-09-01",
                    "2022-09-01",
                    "2022-09-01",
                    "2022-12-01",
                    "2022-12-01",
                    "2022-12-01",
                    "2023-03-01",
                    "2023-03-01",
                    "2023-03-01",
                    "2023-06-01",
                    "2023-06-01",
                    "2023-06-01",
                    "2023-09-01",
                    "2023-09-01",
                    "2023-09-01",
                    "2023-12-01",
                    "2023-12-01",
                    "2023-12-01"
                  ],
                  "xaxis": "x8",
                  "y": [
                    42.19,
                    42.19,
                    42.19,
                    45.04,
                    45.04,
                    45.04,
                    44.95,
                    44.95,
                    44.95,
                    47.01,
                    47.01,
                    47.01,
                    45.15,
                    45.15,
                    45.15,
                    45.09,
                    45.09,
                    45.09,
                    44.47,
                    44.47,
                    44.47,
                    43.44,
                    43.44,
                    43.44,
                    44.33,
                    44.33,
                    44.33,
                    42.9,
                    42.9,
                    42.9,
                    44.38,
                    44.38,
                    44.38,
                    43.25,
                    43.25,
                    43.25,
                    45.81,
                    45.81,
                    45.81,
                    43.76,
                    43.76,
                    43.76,
                    44.39,
                    44.39,
                    44.39,
                    42.97,
                    42.97,
                    42.97,
                    42.36,
                    42.36,
                    42.36,
                    47.44,
                    47.44,
                    47.44,
                    43.72,
                    43.72,
                    43.72,
                    44.31,
                    44.31,
                    44.31,
                    43.66,
                    43.66,
                    43.66,
                    45.57,
                    45.57,
                    45.57,
                    45.33,
                    45.33,
                    45.33,
                    45.67,
                    45.67,
                    45.67,
                    43.43,
                    43.43,
                    43.43,
                    44.84,
                    44.84,
                    44.84,
                    45.21,
                    45.21,
                    45.21,
                    46.18,
                    46.18,
                    46.18,
                    43.83,
                    43.83,
                    43.83,
                    43.56,
                    43.56,
                    43.56,
                    44.55,
                    44.55,
                    44.55,
                    43.15,
                    43.15,
                    43.15,
                    44.74,
                    44.74,
                    44.74,
                    44.95,
                    44.95,
                    44.95,
                    43.44,
                    43.44,
                    43.44,
                    46.43,
                    46.43,
                    46.43,
                    46,
                    46,
                    46,
                    44.9,
                    44.9,
                    44.9,
                    43.6,
                    43.6,
                    43.6,
                    44.83,
                    44.83,
                    44.83
                  ],
                  "yaxis": "y8"
                },
                {
                  "mode": "lines",
                  "name": "share of teams constituted as circles",
                  "type": "scatter",
                  "x": [
                    "2023-01-01",
                    "2023-02-01",
                    "2023-03-01",
                    "2023-04-01",
                    "2023-05-01",
                    "2023-06-01",
                    "2023-07-01",
                    "2023-08-01",
                    "2023-09-01",
                    "2023-10-01",
                    "2023-11-01",
                    "2023-12-01"
                  ],
                  "xaxis": "x9",
                  "y": [
                    35,
                    50,
                    50,
                    55,
                    70,
                    80,
                    85,
                    90,
                    90,
                    90,
                    95,
                    95
                  ],
                  "yaxis": "y9"
                },
                {
                  "mode": "lines",
                  "name": "share short tern leave",
                  "type": "scatter",
                  "x": [
                    "2014-01-01",
                    "2014-02-01",
                    "2014-03-01",
                    "2014-04-01",
                    "2014-05-01",
                    "2014-06-01",
                    "2014-07-01",
                    "2014-08-01",
                    "2014-09-01",
                    "2014-10-01",
                    "2014-11-01",
                    "2014-12-01",
                    "2015-01-01",
                    "2015-02-01",
                    "2015-03-01",
                    "2015-04-01",
                    "2015-05-01",
                    "2015-06-01",
                    "2015-07-01",
                    "2015-08-01",
                    "2015-09-01",
                    "2015-10-01",
                    "2015-11-01",
                    "2015-12-01",
                    "2016-01-01",
                    "2016-02-01",
                    "2016-03-01",
                    "2016-04-01",
                    "2016-05-01",
                    "2016-06-01",
                    "2016-07-01",
                    "2016-08-01",
                    "2016-09-01",
                    "2016-10-01",
                    "2016-11-01",
                    "2016-12-01",
                    "2017-01-01",
                    "2017-02-01",
                    "2017-03-01",
                    "2017-04-01",
                    "2017-05-01",
                    "2017-06-01",
                    "2017-07-01",
                    "2017-08-01",
                    "2017-09-01",
                    "2017-10-01",
                    "2017-11-01",
                    "2017-12-01",
                    "2018-01-01",
                    "2018-02-01",
                    "2018-03-01",
                    "2018-04-01",
                    "2018-05-01",
                    "2018-06-01",
                    "2018-07-01",
                    "2018-08-01",
                    "2018-09-01",
                    "2018-10-01",
                    "2018-11-01",
                    "2018-12-01",
                    "2019-01-01",
                    "2019-02-01",
                    "2019-03-01",
                    "2019-04-01",
                    "2019-05-01",
                    "2019-06-01",
                    "2019-07-01",
                    "2019-08-01",
                    "2019-09-01",
                    "2019-10-01",
                    "2019-11-01",
                    "2019-12-01",
                    "2020-01-01",
                    "2020-02-01",
                    "2020-03-01",
                    "2020-04-01",
                    "2020-05-01",
                    "2020-06-01",
                    "2020-07-01",
                    "2020-08-01",
                    "2020-09-01",
                    "2020-10-01",
                    "2020-11-01",
                    "2020-12-01",
                    "2021-01-01",
                    "2021-02-01",
                    "2021-03-01",
                    "2021-04-01",
                    "2021-05-01",
                    "2021-06-01",
                    "2021-07-01",
                    "2021-08-01",
                    "2021-09-01",
                    "2021-10-01",
                    "2021-11-01",
                    "2021-12-01",
                    "2022-01-01",
                    "2022-02-01",
                    "2022-03-01",
                    "2022-04-01",
                    "2022-05-01",
                    "2022-06-01",
                    "2022-07-01",
                    "2022-08-01",
                    "2022-09-01",
                    "2022-10-01",
                    "2022-11-01",
                    "2022-12-01",
                    "2023-01-01",
                    "2023-02-01",
                    "2023-03-01",
                    "2023-04-01",
                    "2023-05-01",
                    "2023-06-01",
                    "2023-07-01",
                    "2023-08-01",
                    "2023-09-01",
                    "2023-10-01",
                    "2023-11-01",
                    "2023-12-01"
                  ],
                  "xaxis": "x10",
                  "y": [
                    1.7087946225728958,
                    1.293372965451075,
                    0.5970296235975694,
                    0.20332036059286454,
                    0.7776735112254193,
                    1.0938259281341798,
                    0.89,
                    0.709396497310355,
                    1.36211467867474,
                    0.4390654180348378,
                    0.2371314889668791,
                    0.5673335266823909,
                    0.8433804439339025,
                    0.09512873675339627,
                    1.0225154764822424,
                    0.9588973253055848,
                    0.7987242852171971,
                    0.3408520178575109,
                    1.0380347836038888,
                    0.3180651498629276,
                    0.1746744903621359,
                    0.3982350185759571,
                    0.26702091657869115,
                    1.098398503060451,
                    0.4200877133172076,
                    1.575011921062227,
                    1.4222714477413343,
                    0.15668947461155833,
                    0.21575896685899879,
                    1.0888282228655042,
                    0.9837096490478591,
                    1.6703739956003332,
                    1.896228216655908,
                    0.3690037432222675,
                    0.8787961561163644,
                    0.34223651514550496,
                    1.1977445453903384,
                    0.32906052727171736,
                    0.2743848845090569,
                    0.7565095736921238,
                    0.9717416901731811,
                    1.7924225296063372,
                    1.4061304510471833,
                    1.8358416812388134,
                    0.7274300962053094,
                    0.7842920188379031,
                    0.46360305784499967,
                    1.9392247676260805,
                    0.5959095343341545,
                    0.4857062720794544,
                    0.9773627088557333,
                    0.4455768772348917,
                    0.7282522035542259,
                    0.4871342639071642,
                    0.5990138756882776,
                    0.28494104368685735,
                    0.9872495050175392,
                    0.13451844251433728,
                    0.3406031659470929,
                    1.68305051515064,
                    1.729828399348985,
                    0.3281143097652905,
                    0.4912820918069293,
                    0.9924781628797165,
                    1.5275964603283552,
                    0.16893624688299105,
                    1.4100987481260703,
                    1.5343070450580396,
                    0.5476172892012422,
                    0.7850632428736063,
                    0.0071686987525824385,
                    0.5129099637112521,
                    2.465080160755942,
                    1.002420970736187,
                    0.7834847600738102,
                    1.314037299733265,
                    0.9590700392145783,
                    0.8416126519810398,
                    2.654217444851684,
                    0.21133868912972664,
                    1.4939322928922747,
                    2.5108705031378955,
                    0.08709977452466251,
                    0.6239585737160658,
                    1.2681526793220868,
                    1.7931847992051364,
                    0.6799605825902406,
                    0.3208738442551443,
                    0.6129422640354806,
                    2.7728641872572943,
                    0.3404347307340538,
                    2.8521472321412986,
                    2.506133049530904,
                    0.35215920258158356,
                    1.5870465809470569,
                    3.24,
                    0.5867908334932326,
                    1.0932702227839726,
                    1.5612456623579074,
                    2.4604968903955093,
                    0.6958289508828033,
                    0.2287787736628996,
                    1.338869176422478,
                    2.9847507004223854,
                    1.8148456857933686,
                    1.4026659982264795,
                    0.49589918381308495,
                    0.14039824684035804,
                    2.04,
                    2.2,
                    2.54,
                    2.17,
                    3.3,
                    2.58,
                    2.04,
                    0.93,
                    0.93,
                    0.8,
                    0.8,
                    1
                  ],
                  "yaxis": "y10"
                }
              ],
              "layout": {
                "annotations": [
                  {
                    "font": {
                      "size": 16
                    },
                    "showarrow": false,
                    "text": "additional monetization/savings from CRM",
                    "x": 0.225,
                    "xanchor": "center",
                    "xref": "paper",
                    "y": 1,
                    "yanchor": "bottom",
                    "yref": "paper"
                  },
                  {
                    "font": {
                      "size": 16
                    },
                    "showarrow": false,
                    "text": "additional monetization/savings from programs",
                    "x": 0.775,
                    "xanchor": "center",
                    "xref": "paper",
                    "y": 1,
                    "yanchor": "bottom",
                    "yref": "paper"
                  },
                  {
                    "font": {
                      "size": 16
                    },
                    "showarrow": false,
                    "text": "count leads",
                    "x": 0.225,
                    "xanchor": "center",
                    "xref": "paper",
                    "y": 0.78,
                    "yanchor": "bottom",
                    "yref": "paper"
                  },
                  {
                    "font": {
                      "size": 16
                    },
                    "showarrow": false,
                    "text": "count sessions on .projuventute.ch",
                    "x": 0.775,
                    "xanchor": "center",
                    "xref": "paper",
                    "y": 0.78,
                    "yanchor": "bottom",
                    "yref": "paper"
                  },
                  {
                    "font": {
                      "size": 16
                    },
                    "showarrow": false,
                    "text": "involuntary headcount change (FTE)",
                    "x": 0.225,
                    "xanchor": "center",
                    "xref": "paper",
                    "y": 0.56,
                    "yanchor": "bottom",
                    "yref": "paper"
                  },
                  {
                    "font": {
                      "size": 16
                    },
                    "showarrow": false,
                    "text": "net promoter score",
                    "x": 0.775,
                    "xanchor": "center",
                    "xref": "paper",
                    "y": 0.56,
                    "yanchor": "bottom",
                    "yref": "paper"
                  },
                  {
                    "font": {
                      "size": 16
                    },
                    "showarrow": false,
                    "text": "private donations",
                    "x": 0.225,
                    "xanchor": "center",
                    "xref": "paper",
                    "y": 0.33999999999999997,
                    "yanchor": "bottom",
                    "yref": "paper"
                  },
                  {
                    "font": {
                      "size": 16
                    },
                    "showarrow": false,
                    "text": "reachability",
                    "x": 0.775,
                    "xanchor": "center",
                    "xref": "paper",
                    "y": 0.33999999999999997,
                    "yanchor": "bottom",
                    "yref": "paper"
                  },
                  {
                    "font": {
                      "size": 16
                    },
                    "showarrow": false,
                    "text": "share of teams constituted as circles",
                    "x": 0.225,
                    "xanchor": "center",
                    "xref": "paper",
                    "y": 0.12,
                    "yanchor": "bottom",
                    "yref": "paper"
                  },
                  {
                    "font": {
                      "size": 16
                    },
                    "showarrow": false,
                    "text": "share short tern leave",
                    "x": 0.775,
                    "xanchor": "center",
                    "xref": "paper",
                    "y": 0.12,
                    "yanchor": "bottom",
                    "yref": "paper"
                  }
                ],
                "height": 1200,
                "template": {
                  "data": {
                    "bar": [
                      {
                        "error_x": {
                          "color": "#2a3f5f"
                        },
                        "error_y": {
                          "color": "#2a3f5f"
                        },
                        "marker": {
                          "line": {
                            "color": "#E5ECF6",
                            "width": 0.5
                          },
                          "pattern": {
                            "fillmode": "overlay",
                            "size": 10,
                            "solidity": 0.2
                          }
                        },
                        "type": "bar"
                      }
                    ],
                    "barpolar": [
                      {
                        "marker": {
                          "line": {
                            "color": "#E5ECF6",
                            "width": 0.5
                          },
                          "pattern": {
                            "fillmode": "overlay",
                            "size": 10,
                            "solidity": 0.2
                          }
                        },
                        "type": "barpolar"
                      }
                    ],
                    "carpet": [
                      {
                        "aaxis": {
                          "endlinecolor": "#2a3f5f",
                          "gridcolor": "white",
                          "linecolor": "white",
                          "minorgridcolor": "white",
                          "startlinecolor": "#2a3f5f"
                        },
                        "baxis": {
                          "endlinecolor": "#2a3f5f",
                          "gridcolor": "white",
                          "linecolor": "white",
                          "minorgridcolor": "white",
                          "startlinecolor": "#2a3f5f"
                        },
                        "type": "carpet"
                      }
                    ],
                    "choropleth": [
                      {
                        "colorbar": {
                          "outlinewidth": 0,
                          "ticks": ""
                        },
                        "type": "choropleth"
                      }
                    ],
                    "contour": [
                      {
                        "colorbar": {
                          "outlinewidth": 0,
                          "ticks": ""
                        },
                        "colorscale": [
                          [
                            0,
                            "#0d0887"
                          ],
                          [
                            0.1111111111111111,
                            "#46039f"
                          ],
                          [
                            0.2222222222222222,
                            "#7201a8"
                          ],
                          [
                            0.3333333333333333,
                            "#9c179e"
                          ],
                          [
                            0.4444444444444444,
                            "#bd3786"
                          ],
                          [
                            0.5555555555555556,
                            "#d8576b"
                          ],
                          [
                            0.6666666666666666,
                            "#ed7953"
                          ],
                          [
                            0.7777777777777778,
                            "#fb9f3a"
                          ],
                          [
                            0.8888888888888888,
                            "#fdca26"
                          ],
                          [
                            1,
                            "#f0f921"
                          ]
                        ],
                        "type": "contour"
                      }
                    ],
                    "contourcarpet": [
                      {
                        "colorbar": {
                          "outlinewidth": 0,
                          "ticks": ""
                        },
                        "type": "contourcarpet"
                      }
                    ],
                    "heatmap": [
                      {
                        "colorbar": {
                          "outlinewidth": 0,
                          "ticks": ""
                        },
                        "colorscale": [
                          [
                            0,
                            "#0d0887"
                          ],
                          [
                            0.1111111111111111,
                            "#46039f"
                          ],
                          [
                            0.2222222222222222,
                            "#7201a8"
                          ],
                          [
                            0.3333333333333333,
                            "#9c179e"
                          ],
                          [
                            0.4444444444444444,
                            "#bd3786"
                          ],
                          [
                            0.5555555555555556,
                            "#d8576b"
                          ],
                          [
                            0.6666666666666666,
                            "#ed7953"
                          ],
                          [
                            0.7777777777777778,
                            "#fb9f3a"
                          ],
                          [
                            0.8888888888888888,
                            "#fdca26"
                          ],
                          [
                            1,
                            "#f0f921"
                          ]
                        ],
                        "type": "heatmap"
                      }
                    ],
                    "heatmapgl": [
                      {
                        "colorbar": {
                          "outlinewidth": 0,
                          "ticks": ""
                        },
                        "colorscale": [
                          [
                            0,
                            "#0d0887"
                          ],
                          [
                            0.1111111111111111,
                            "#46039f"
                          ],
                          [
                            0.2222222222222222,
                            "#7201a8"
                          ],
                          [
                            0.3333333333333333,
                            "#9c179e"
                          ],
                          [
                            0.4444444444444444,
                            "#bd3786"
                          ],
                          [
                            0.5555555555555556,
                            "#d8576b"
                          ],
                          [
                            0.6666666666666666,
                            "#ed7953"
                          ],
                          [
                            0.7777777777777778,
                            "#fb9f3a"
                          ],
                          [
                            0.8888888888888888,
                            "#fdca26"
                          ],
                          [
                            1,
                            "#f0f921"
                          ]
                        ],
                        "type": "heatmapgl"
                      }
                    ],
                    "histogram": [
                      {
                        "marker": {
                          "pattern": {
                            "fillmode": "overlay",
                            "size": 10,
                            "solidity": 0.2
                          }
                        },
                        "type": "histogram"
                      }
                    ],
                    "histogram2d": [
                      {
                        "colorbar": {
                          "outlinewidth": 0,
                          "ticks": ""
                        },
                        "colorscale": [
                          [
                            0,
                            "#0d0887"
                          ],
                          [
                            0.1111111111111111,
                            "#46039f"
                          ],
                          [
                            0.2222222222222222,
                            "#7201a8"
                          ],
                          [
                            0.3333333333333333,
                            "#9c179e"
                          ],
                          [
                            0.4444444444444444,
                            "#bd3786"
                          ],
                          [
                            0.5555555555555556,
                            "#d8576b"
                          ],
                          [
                            0.6666666666666666,
                            "#ed7953"
                          ],
                          [
                            0.7777777777777778,
                            "#fb9f3a"
                          ],
                          [
                            0.8888888888888888,
                            "#fdca26"
                          ],
                          [
                            1,
                            "#f0f921"
                          ]
                        ],
                        "type": "histogram2d"
                      }
                    ],
                    "histogram2dcontour": [
                      {
                        "colorbar": {
                          "outlinewidth": 0,
                          "ticks": ""
                        },
                        "colorscale": [
                          [
                            0,
                            "#0d0887"
                          ],
                          [
                            0.1111111111111111,
                            "#46039f"
                          ],
                          [
                            0.2222222222222222,
                            "#7201a8"
                          ],
                          [
                            0.3333333333333333,
                            "#9c179e"
                          ],
                          [
                            0.4444444444444444,
                            "#bd3786"
                          ],
                          [
                            0.5555555555555556,
                            "#d8576b"
                          ],
                          [
                            0.6666666666666666,
                            "#ed7953"
                          ],
                          [
                            0.7777777777777778,
                            "#fb9f3a"
                          ],
                          [
                            0.8888888888888888,
                            "#fdca26"
                          ],
                          [
                            1,
                            "#f0f921"
                          ]
                        ],
                        "type": "histogram2dcontour"
                      }
                    ],
                    "mesh3d": [
                      {
                        "colorbar": {
                          "outlinewidth": 0,
                          "ticks": ""
                        },
                        "type": "mesh3d"
                      }
                    ],
                    "parcoords": [
                      {
                        "line": {
                          "colorbar": {
                            "outlinewidth": 0,
                            "ticks": ""
                          }
                        },
                        "type": "parcoords"
                      }
                    ],
                    "pie": [
                      {
                        "automargin": true,
                        "type": "pie"
                      }
                    ],
                    "scatter": [
                      {
                        "fillpattern": {
                          "fillmode": "overlay",
                          "size": 10,
                          "solidity": 0.2
                        },
                        "type": "scatter"
                      }
                    ],
                    "scatter3d": [
                      {
                        "line": {
                          "colorbar": {
                            "outlinewidth": 0,
                            "ticks": ""
                          }
                        },
                        "marker": {
                          "colorbar": {
                            "outlinewidth": 0,
                            "ticks": ""
                          }
                        },
                        "type": "scatter3d"
                      }
                    ],
                    "scattercarpet": [
                      {
                        "marker": {
                          "colorbar": {
                            "outlinewidth": 0,
                            "ticks": ""
                          }
                        },
                        "type": "scattercarpet"
                      }
                    ],
                    "scattergeo": [
                      {
                        "marker": {
                          "colorbar": {
                            "outlinewidth": 0,
                            "ticks": ""
                          }
                        },
                        "type": "scattergeo"
                      }
                    ],
                    "scattergl": [
                      {
                        "marker": {
                          "colorbar": {
                            "outlinewidth": 0,
                            "ticks": ""
                          }
                        },
                        "type": "scattergl"
                      }
                    ],
                    "scattermapbox": [
                      {
                        "marker": {
                          "colorbar": {
                            "outlinewidth": 0,
                            "ticks": ""
                          }
                        },
                        "type": "scattermapbox"
                      }
                    ],
                    "scatterpolar": [
                      {
                        "marker": {
                          "colorbar": {
                            "outlinewidth": 0,
                            "ticks": ""
                          }
                        },
                        "type": "scatterpolar"
                      }
                    ],
                    "scatterpolargl": [
                      {
                        "marker": {
                          "colorbar": {
                            "outlinewidth": 0,
                            "ticks": ""
                          }
                        },
                        "type": "scatterpolargl"
                      }
                    ],
                    "scatterternary": [
                      {
                        "marker": {
                          "colorbar": {
                            "outlinewidth": 0,
                            "ticks": ""
                          }
                        },
                        "type": "scatterternary"
                      }
                    ],
                    "surface": [
                      {
                        "colorbar": {
                          "outlinewidth": 0,
                          "ticks": ""
                        },
                        "colorscale": [
                          [
                            0,
                            "#0d0887"
                          ],
                          [
                            0.1111111111111111,
                            "#46039f"
                          ],
                          [
                            0.2222222222222222,
                            "#7201a8"
                          ],
                          [
                            0.3333333333333333,
                            "#9c179e"
                          ],
                          [
                            0.4444444444444444,
                            "#bd3786"
                          ],
                          [
                            0.5555555555555556,
                            "#d8576b"
                          ],
                          [
                            0.6666666666666666,
                            "#ed7953"
                          ],
                          [
                            0.7777777777777778,
                            "#fb9f3a"
                          ],
                          [
                            0.8888888888888888,
                            "#fdca26"
                          ],
                          [
                            1,
                            "#f0f921"
                          ]
                        ],
                        "type": "surface"
                      }
                    ],
                    "table": [
                      {
                        "cells": {
                          "fill": {
                            "color": "#EBF0F8"
                          },
                          "line": {
                            "color": "white"
                          }
                        },
                        "header": {
                          "fill": {
                            "color": "#C8D4E3"
                          },
                          "line": {
                            "color": "white"
                          }
                        },
                        "type": "table"
                      }
                    ]
                  },
                  "layout": {
                    "annotationdefaults": {
                      "arrowcolor": "#2a3f5f",
                      "arrowhead": 0,
                      "arrowwidth": 1
                    },
                    "autotypenumbers": "strict",
                    "coloraxis": {
                      "colorbar": {
                        "outlinewidth": 0,
                        "ticks": ""
                      }
                    },
                    "colorscale": {
                      "diverging": [
                        [
                          0,
                          "#8e0152"
                        ],
                        [
                          0.1,
                          "#c51b7d"
                        ],
                        [
                          0.2,
                          "#de77ae"
                        ],
                        [
                          0.3,
                          "#f1b6da"
                        ],
                        [
                          0.4,
                          "#fde0ef"
                        ],
                        [
                          0.5,
                          "#f7f7f7"
                        ],
                        [
                          0.6,
                          "#e6f5d0"
                        ],
                        [
                          0.7,
                          "#b8e186"
                        ],
                        [
                          0.8,
                          "#7fbc41"
                        ],
                        [
                          0.9,
                          "#4d9221"
                        ],
                        [
                          1,
                          "#276419"
                        ]
                      ],
                      "sequential": [
                        [
                          0,
                          "#0d0887"
                        ],
                        [
                          0.1111111111111111,
                          "#46039f"
                        ],
                        [
                          0.2222222222222222,
                          "#7201a8"
                        ],
                        [
                          0.3333333333333333,
                          "#9c179e"
                        ],
                        [
                          0.4444444444444444,
                          "#bd3786"
                        ],
                        [
                          0.5555555555555556,
                          "#d8576b"
                        ],
                        [
                          0.6666666666666666,
                          "#ed7953"
                        ],
                        [
                          0.7777777777777778,
                          "#fb9f3a"
                        ],
                        [
                          0.8888888888888888,
                          "#fdca26"
                        ],
                        [
                          1,
                          "#f0f921"
                        ]
                      ],
                      "sequentialminus": [
                        [
                          0,
                          "#0d0887"
                        ],
                        [
                          0.1111111111111111,
                          "#46039f"
                        ],
                        [
                          0.2222222222222222,
                          "#7201a8"
                        ],
                        [
                          0.3333333333333333,
                          "#9c179e"
                        ],
                        [
                          0.4444444444444444,
                          "#bd3786"
                        ],
                        [
                          0.5555555555555556,
                          "#d8576b"
                        ],
                        [
                          0.6666666666666666,
                          "#ed7953"
                        ],
                        [
                          0.7777777777777778,
                          "#fb9f3a"
                        ],
                        [
                          0.8888888888888888,
                          "#fdca26"
                        ],
                        [
                          1,
                          "#f0f921"
                        ]
                      ]
                    },
                    "colorway": [
                      "#636efa",
                      "#EF553B",
                      "#00cc96",
                      "#ab63fa",
                      "#FFA15A",
                      "#19d3f3",
                      "#FF6692",
                      "#B6E880",
                      "#FF97FF",
                      "#FECB52"
                    ],
                    "font": {
                      "color": "#2a3f5f"
                    },
                    "geo": {
                      "bgcolor": "white",
                      "lakecolor": "white",
                      "landcolor": "#E5ECF6",
                      "showlakes": true,
                      "showland": true,
                      "subunitcolor": "white"
                    },
                    "hoverlabel": {
                      "align": "left"
                    },
                    "hovermode": "closest",
                    "mapbox": {
                      "style": "light"
                    },
                    "paper_bgcolor": "white",
                    "plot_bgcolor": "#E5ECF6",
                    "polar": {
                      "angularaxis": {
                        "gridcolor": "white",
                        "linecolor": "white",
                        "ticks": ""
                      },
                      "bgcolor": "#E5ECF6",
                      "radialaxis": {
                        "gridcolor": "white",
                        "linecolor": "white",
                        "ticks": ""
                      }
                    },
                    "scene": {
                      "xaxis": {
                        "backgroundcolor": "#E5ECF6",
                        "gridcolor": "white",
                        "gridwidth": 2,
                        "linecolor": "white",
                        "showbackground": true,
                        "ticks": "",
                        "zerolinecolor": "white"
                      },
                      "yaxis": {
                        "backgroundcolor": "#E5ECF6",
                        "gridcolor": "white",
                        "gridwidth": 2,
                        "linecolor": "white",
                        "showbackground": true,
                        "ticks": "",
                        "zerolinecolor": "white"
                      },
                      "zaxis": {
                        "backgroundcolor": "#E5ECF6",
                        "gridcolor": "white",
                        "gridwidth": 2,
                        "linecolor": "white",
                        "showbackground": true,
                        "ticks": "",
                        "zerolinecolor": "white"
                      }
                    },
                    "shapedefaults": {
                      "line": {
                        "color": "#2a3f5f"
                      }
                    },
                    "ternary": {
                      "aaxis": {
                        "gridcolor": "white",
                        "linecolor": "white",
                        "ticks": ""
                      },
                      "baxis": {
                        "gridcolor": "white",
                        "linecolor": "white",
                        "ticks": ""
                      },
                      "bgcolor": "#E5ECF6",
                      "caxis": {
                        "gridcolor": "white",
                        "linecolor": "white",
                        "ticks": ""
                      }
                    },
                    "title": {
                      "x": 0.05
                    },
                    "xaxis": {
                      "automargin": true,
                      "gridcolor": "white",
                      "linecolor": "white",
                      "ticks": "",
                      "title": {
                        "standoff": 15
                      },
                      "zerolinecolor": "white",
                      "zerolinewidth": 2
                    },
                    "yaxis": {
                      "automargin": true,
                      "gridcolor": "white",
                      "linecolor": "white",
                      "ticks": "",
                      "title": {
                        "standoff": 15
                      },
                      "zerolinecolor": "white",
                      "zerolinewidth": 2
                    }
                  }
                },
                "title": {
                  "text": "Time Series of Each KPI"
                },
                "width": 1000,
                "xaxis": {
                  "anchor": "y",
                  "domain": [
                    0,
                    0.45
                  ]
                },
                "xaxis10": {
                  "anchor": "y10",
                  "domain": [
                    0.55,
                    1
                  ]
                },
                "xaxis2": {
                  "anchor": "y2",
                  "domain": [
                    0.55,
                    1
                  ]
                },
                "xaxis3": {
                  "anchor": "y3",
                  "domain": [
                    0,
                    0.45
                  ]
                },
                "xaxis4": {
                  "anchor": "y4",
                  "domain": [
                    0.55,
                    1
                  ]
                },
                "xaxis5": {
                  "anchor": "y5",
                  "domain": [
                    0,
                    0.45
                  ]
                },
                "xaxis6": {
                  "anchor": "y6",
                  "domain": [
                    0.55,
                    1
                  ]
                },
                "xaxis7": {
                  "anchor": "y7",
                  "domain": [
                    0,
                    0.45
                  ]
                },
                "xaxis8": {
                  "anchor": "y8",
                  "domain": [
                    0.55,
                    1
                  ]
                },
                "xaxis9": {
                  "anchor": "y9",
                  "domain": [
                    0,
                    0.45
                  ]
                },
                "yaxis": {
                  "anchor": "x",
                  "domain": [
                    0.88,
                    1
                  ]
                },
                "yaxis10": {
                  "anchor": "x10",
                  "domain": [
                    0,
                    0.12
                  ]
                },
                "yaxis2": {
                  "anchor": "x2",
                  "domain": [
                    0.88,
                    1
                  ]
                },
                "yaxis3": {
                  "anchor": "x3",
                  "domain": [
                    0.66,
                    0.78
                  ]
                },
                "yaxis4": {
                  "anchor": "x4",
                  "domain": [
                    0.66,
                    0.78
                  ]
                },
                "yaxis5": {
                  "anchor": "x5",
                  "domain": [
                    0.44,
                    0.56
                  ]
                },
                "yaxis6": {
                  "anchor": "x6",
                  "domain": [
                    0.44,
                    0.56
                  ]
                },
                "yaxis7": {
                  "anchor": "x7",
                  "domain": [
                    0.22,
                    0.33999999999999997
                  ]
                },
                "yaxis8": {
                  "anchor": "x8",
                  "domain": [
                    0.22,
                    0.33999999999999997
                  ]
                },
                "yaxis9": {
                  "anchor": "x9",
                  "domain": [
                    0,
                    0.12
                  ]
                }
              }
            }
          },
          "metadata": {},
          "output_type": "display_data"
        }
      ],
      "source": [
        "# Creating subplots for the time series of each KPI \n",
        "fig = make_subplots(rows=5, cols=2, subplot_titles=kpis, shared_xaxes=False)\n",
        "\n",
        "row = 1\n",
        "col = 1\n",
        "for kpi in kpis:\n",
        "    dfKpi = dfAllYears[dfAllYears['kpi'] == kpi]\n",
        "    trace = go.Scatter(x=dfKpi['date'], y=dfKpi['value'], name=kpi, mode='lines')\n",
        "    fig.add_trace(trace, row=row, col=col)\n",
        "    col += 1\n",
        "    if col > 2:\n",
        "        col = 1\n",
        "        row += 1\n",
        "\n",
        "fig.update_layout(height=1200, width=1000, title_text='Time Series of Each KPI')\n",
        "fig.show()\n"
      ]
    },
    {
      "cell_type": "markdown",
      "metadata": {},
      "source": [
        "# Smoothen final time series using moving average (less noisy)"
      ]
    },
    {
      "cell_type": "code",
      "execution_count": 279,
      "metadata": {},
      "outputs": [
        {
          "data": {
            "text/html": [
              "<div>\n",
              "<style scoped>\n",
              "    .dataframe tbody tr th:only-of-type {\n",
              "        vertical-align: middle;\n",
              "    }\n",
              "\n",
              "    .dataframe tbody tr th {\n",
              "        vertical-align: top;\n",
              "    }\n",
              "\n",
              "    .dataframe thead th {\n",
              "        text-align: right;\n",
              "    }\n",
              "</style>\n",
              "<table border=\"1\" class=\"dataframe\">\n",
              "  <thead>\n",
              "    <tr style=\"text-align: right;\">\n",
              "      <th></th>\n",
              "      <th>circle</th>\n",
              "      <th>kpi</th>\n",
              "      <th>periodicity</th>\n",
              "      <th>range</th>\n",
              "      <th>period_year</th>\n",
              "      <th>period_month</th>\n",
              "      <th>date</th>\n",
              "      <th>value</th>\n",
              "    </tr>\n",
              "  </thead>\n",
              "  <tbody>\n",
              "    <tr>\n",
              "      <th>0</th>\n",
              "      <td>Digital</td>\n",
              "      <td>additional monetization/savings from CRM</td>\n",
              "      <td>quarter</td>\n",
              "      <td>0 &lt;= X</td>\n",
              "      <td>2014</td>\n",
              "      <td>3</td>\n",
              "      <td>2014-03-01</td>\n",
              "      <td>24514.12</td>\n",
              "    </tr>\n",
              "    <tr>\n",
              "      <th>1</th>\n",
              "      <td>Digital</td>\n",
              "      <td>additional monetization/savings from CRM</td>\n",
              "      <td>quarter</td>\n",
              "      <td>0 &lt;= X</td>\n",
              "      <td>2014</td>\n",
              "      <td>3</td>\n",
              "      <td>2014-03-01</td>\n",
              "      <td>24514.12</td>\n",
              "    </tr>\n",
              "    <tr>\n",
              "      <th>2</th>\n",
              "      <td>Digital</td>\n",
              "      <td>additional monetization/savings from CRM</td>\n",
              "      <td>quarter</td>\n",
              "      <td>0 &lt;= X</td>\n",
              "      <td>2014</td>\n",
              "      <td>3</td>\n",
              "      <td>2014-03-01</td>\n",
              "      <td>24514.12</td>\n",
              "    </tr>\n",
              "    <tr>\n",
              "      <th>3</th>\n",
              "      <td>Digital</td>\n",
              "      <td>additional monetization/savings from CRM</td>\n",
              "      <td>quarter</td>\n",
              "      <td>0 &lt;= X</td>\n",
              "      <td>2014</td>\n",
              "      <td>6</td>\n",
              "      <td>2014-06-01</td>\n",
              "      <td>23346.09</td>\n",
              "    </tr>\n",
              "    <tr>\n",
              "      <th>4</th>\n",
              "      <td>Digital</td>\n",
              "      <td>additional monetization/savings from CRM</td>\n",
              "      <td>quarter</td>\n",
              "      <td>0 &lt;= X</td>\n",
              "      <td>2014</td>\n",
              "      <td>6</td>\n",
              "      <td>2014-06-01</td>\n",
              "      <td>23346.09</td>\n",
              "    </tr>\n",
              "    <tr>\n",
              "      <th>...</th>\n",
              "      <td>...</td>\n",
              "      <td>...</td>\n",
              "      <td>...</td>\n",
              "      <td>...</td>\n",
              "      <td>...</td>\n",
              "      <td>...</td>\n",
              "      <td>...</td>\n",
              "      <td>...</td>\n",
              "    </tr>\n",
              "    <tr>\n",
              "      <th>1087</th>\n",
              "      <td>Programs - Parents -Online</td>\n",
              "      <td>net promoter score</td>\n",
              "      <td>year</td>\n",
              "      <td>-100 &lt;= X &lt;= 100</td>\n",
              "      <td>2023</td>\n",
              "      <td>8</td>\n",
              "      <td>2023-08-01</td>\n",
              "      <td>35.00</td>\n",
              "    </tr>\n",
              "    <tr>\n",
              "      <th>1088</th>\n",
              "      <td>Programs - Parents -Online</td>\n",
              "      <td>net promoter score</td>\n",
              "      <td>year</td>\n",
              "      <td>-100 &lt;= X &lt;= 100</td>\n",
              "      <td>2023</td>\n",
              "      <td>9</td>\n",
              "      <td>2023-09-01</td>\n",
              "      <td>35.00</td>\n",
              "    </tr>\n",
              "    <tr>\n",
              "      <th>1089</th>\n",
              "      <td>Programs - Parents -Online</td>\n",
              "      <td>net promoter score</td>\n",
              "      <td>year</td>\n",
              "      <td>-100 &lt;= X &lt;= 100</td>\n",
              "      <td>2023</td>\n",
              "      <td>10</td>\n",
              "      <td>2023-10-01</td>\n",
              "      <td>35.00</td>\n",
              "    </tr>\n",
              "    <tr>\n",
              "      <th>1090</th>\n",
              "      <td>Programs - Parents -Online</td>\n",
              "      <td>net promoter score</td>\n",
              "      <td>year</td>\n",
              "      <td>-100 &lt;= X &lt;= 100</td>\n",
              "      <td>2023</td>\n",
              "      <td>11</td>\n",
              "      <td>2023-11-01</td>\n",
              "      <td>35.00</td>\n",
              "    </tr>\n",
              "    <tr>\n",
              "      <th>1091</th>\n",
              "      <td>Programs - Parents -Online</td>\n",
              "      <td>net promoter score</td>\n",
              "      <td>year</td>\n",
              "      <td>-100 &lt;= X &lt;= 100</td>\n",
              "      <td>2023</td>\n",
              "      <td>12</td>\n",
              "      <td>2023-12-01</td>\n",
              "      <td>35.00</td>\n",
              "    </tr>\n",
              "  </tbody>\n",
              "</table>\n",
              "<p>1092 rows × 8 columns</p>\n",
              "</div>"
            ],
            "text/plain": [
              "                          circle                                       kpi  \\\n",
              "0                        Digital  additional monetization/savings from CRM   \n",
              "1                        Digital  additional monetization/savings from CRM   \n",
              "2                        Digital  additional monetization/savings from CRM   \n",
              "3                        Digital  additional monetization/savings from CRM   \n",
              "4                        Digital  additional monetization/savings from CRM   \n",
              "...                          ...                                       ...   \n",
              "1087  Programs - Parents -Online                        net promoter score   \n",
              "1088  Programs - Parents -Online                        net promoter score   \n",
              "1089  Programs - Parents -Online                        net promoter score   \n",
              "1090  Programs - Parents -Online                        net promoter score   \n",
              "1091  Programs - Parents -Online                        net promoter score   \n",
              "\n",
              "     periodicity             range  period_year  period_month        date  \\\n",
              "0        quarter            0 <= X         2014             3  2014-03-01   \n",
              "1        quarter            0 <= X         2014             3  2014-03-01   \n",
              "2        quarter            0 <= X         2014             3  2014-03-01   \n",
              "3        quarter            0 <= X         2014             6  2014-06-01   \n",
              "4        quarter            0 <= X         2014             6  2014-06-01   \n",
              "...          ...               ...          ...           ...         ...   \n",
              "1087        year  -100 <= X <= 100         2023             8  2023-08-01   \n",
              "1088        year  -100 <= X <= 100         2023             9  2023-09-01   \n",
              "1089        year  -100 <= X <= 100         2023            10  2023-10-01   \n",
              "1090        year  -100 <= X <= 100         2023            11  2023-11-01   \n",
              "1091        year  -100 <= X <= 100         2023            12  2023-12-01   \n",
              "\n",
              "         value  \n",
              "0     24514.12  \n",
              "1     24514.12  \n",
              "2     24514.12  \n",
              "3     23346.09  \n",
              "4     23346.09  \n",
              "...        ...  \n",
              "1087     35.00  \n",
              "1088     35.00  \n",
              "1089     35.00  \n",
              "1090     35.00  \n",
              "1091     35.00  \n",
              "\n",
              "[1092 rows x 8 columns]"
            ]
          },
          "execution_count": 279,
          "metadata": {},
          "output_type": "execute_result"
        }
      ],
      "source": [
        "# Smooth the time series with a window size of 5\n",
        "dfAllYearsSmooth = dfAllYears.copy()\n",
        "dfAllYearsSmooth.sort_values('date',inplace=True)\n",
        "\n",
        "# apply smoothing to all kpis except these two\n",
        "for kpi in kpis:\n",
        "    if kpi == 'private donations' or kpi == 'share of teams constituted as circles':\n",
        "        pass\n",
        "    else:\n",
        "        dfKpiSmooth = smoothTimeSeries(\n",
        "            dfAllYears.loc[\n",
        "                (dfAllYears.kpi==kpi)&\n",
        "                (dfAllYears.periodicity=='month')].sort_values('date')['value'],windowSize=5).tolist()\n",
        "        \n",
        "        dfAllYearsSmooth.loc[\n",
        "            (dfAllYearsSmooth.kpi==kpi)&\n",
        "            (dfAllYearsSmooth.periodicity=='month'),'value'] = dfKpiSmooth\n",
        "    \n",
        "# reorder columns\n",
        "dfAllYearsSmooth.sort_values(['circle','kpi','date'],inplace=True)\n",
        "dfAllYearsSmooth.reset_index(inplace=True,drop=True)\n",
        "dfAllYearsSmooth"
      ]
    },
    {
      "cell_type": "code",
      "execution_count": 280,
      "metadata": {},
      "outputs": [
        {
          "data": {
            "application/vnd.plotly.v1+json": {
              "config": {
                "plotlyServerURL": "https://plot.ly"
              },
              "data": [
                {
                  "mode": "lines",
                  "name": "additional monetization/savings from CRM",
                  "type": "scatter",
                  "x": [
                    "2014-03-01",
                    "2014-03-01",
                    "2014-03-01",
                    "2014-06-01",
                    "2014-06-01",
                    "2014-06-01",
                    "2014-09-01",
                    "2014-09-01",
                    "2014-09-01",
                    "2014-12-01",
                    "2014-12-01",
                    "2014-12-01",
                    "2015-03-01",
                    "2015-03-01",
                    "2015-03-01",
                    "2015-06-01",
                    "2015-06-01",
                    "2015-06-01",
                    "2015-09-01",
                    "2015-09-01",
                    "2015-09-01",
                    "2015-12-01",
                    "2015-12-01",
                    "2015-12-01",
                    "2016-03-01",
                    "2016-03-01",
                    "2016-03-01",
                    "2016-06-01",
                    "2016-06-01",
                    "2016-06-01",
                    "2016-09-01",
                    "2016-09-01",
                    "2016-09-01",
                    "2016-12-01",
                    "2016-12-01",
                    "2016-12-01",
                    "2017-03-01",
                    "2017-03-01",
                    "2017-03-01",
                    "2017-06-01",
                    "2017-06-01",
                    "2017-06-01",
                    "2017-09-01",
                    "2017-09-01",
                    "2017-09-01",
                    "2017-12-01",
                    "2017-12-01",
                    "2017-12-01",
                    "2018-03-01",
                    "2018-03-01",
                    "2018-03-01",
                    "2018-06-01",
                    "2018-06-01",
                    "2018-06-01",
                    "2018-09-01",
                    "2018-09-01",
                    "2018-09-01",
                    "2018-12-01",
                    "2018-12-01",
                    "2018-12-01",
                    "2019-03-01",
                    "2019-03-01",
                    "2019-03-01",
                    "2019-06-01",
                    "2019-06-01",
                    "2019-06-01",
                    "2019-09-01",
                    "2019-09-01",
                    "2019-09-01",
                    "2019-12-01",
                    "2019-12-01",
                    "2019-12-01",
                    "2020-03-01",
                    "2020-03-01",
                    "2020-03-01",
                    "2020-06-01",
                    "2020-06-01",
                    "2020-06-01",
                    "2020-09-01",
                    "2020-09-01",
                    "2020-09-01",
                    "2020-12-01",
                    "2020-12-01",
                    "2020-12-01",
                    "2021-03-01",
                    "2021-03-01",
                    "2021-03-01",
                    "2021-06-01",
                    "2021-06-01",
                    "2021-06-01",
                    "2021-09-01",
                    "2021-09-01",
                    "2021-09-01",
                    "2021-12-01",
                    "2021-12-01",
                    "2021-12-01",
                    "2022-03-01",
                    "2022-03-01",
                    "2022-03-01",
                    "2022-06-01",
                    "2022-06-01",
                    "2022-06-01",
                    "2022-09-01",
                    "2022-09-01",
                    "2022-09-01",
                    "2022-12-01",
                    "2022-12-01",
                    "2022-12-01",
                    "2023-03-01",
                    "2023-03-01",
                    "2023-03-01",
                    "2023-06-01",
                    "2023-06-01",
                    "2023-06-01",
                    "2023-09-01",
                    "2023-09-01",
                    "2023-09-01",
                    "2023-12-01",
                    "2023-12-01",
                    "2023-12-01"
                  ],
                  "xaxis": "x",
                  "y": [
                    24514.12,
                    24514.12,
                    24514.12,
                    23346.09,
                    23346.09,
                    23346.09,
                    14161.84,
                    14161.84,
                    14161.84,
                    17558.45,
                    17558.45,
                    17558.45,
                    11900.41,
                    11900.41,
                    11900.41,
                    6387.56,
                    6387.56,
                    6387.56,
                    23166.38,
                    23166.38,
                    23166.38,
                    14185.12,
                    14185.12,
                    14185.12,
                    228.56,
                    228.56,
                    228.56,
                    10242.38,
                    10242.38,
                    10242.38,
                    11017.14,
                    11017.14,
                    11017.14,
                    29593.79,
                    29593.79,
                    29593.79,
                    9837.18,
                    9837.18,
                    9837.18,
                    41719.31,
                    41719.31,
                    41719.31,
                    12127.28,
                    12127.28,
                    12127.28,
                    11827.15,
                    11827.15,
                    11827.15,
                    32546.24,
                    32546.24,
                    32546.24,
                    87600.48,
                    87600.48,
                    87600.48,
                    79378.54,
                    79378.54,
                    79378.54,
                    2407.76,
                    2407.76,
                    2407.76,
                    35922.06,
                    35922.06,
                    35922.06,
                    14883.89,
                    14883.89,
                    14883.89,
                    19893.39,
                    19893.39,
                    19893.39,
                    31170.31,
                    31170.31,
                    31170.31,
                    29323.87,
                    29323.87,
                    29323.87,
                    2460.47,
                    2460.47,
                    2460.47,
                    2560.64,
                    2560.64,
                    2560.64,
                    8221.02,
                    8221.02,
                    8221.02,
                    37724.41,
                    37724.41,
                    37724.41,
                    6875.3,
                    6875.3,
                    6875.3,
                    20207.81,
                    20207.81,
                    20207.81,
                    7784.45,
                    7784.45,
                    7784.45,
                    25708.78,
                    25708.78,
                    25708.78,
                    7921.44,
                    7921.44,
                    7921.44,
                    16816.78,
                    16816.78,
                    16816.78,
                    8355.05,
                    8355.05,
                    8355.05,
                    51000,
                    51000,
                    51000,
                    0,
                    0,
                    0,
                    0,
                    0,
                    0,
                    17000,
                    17000,
                    17000
                  ],
                  "yaxis": "y"
                },
                {
                  "mode": "lines",
                  "name": "additional monetization/savings from programs",
                  "type": "scatter",
                  "x": [
                    "2014-03-01",
                    "2014-03-01",
                    "2014-03-01",
                    "2014-06-01",
                    "2014-06-01",
                    "2014-06-01",
                    "2014-09-01",
                    "2014-09-01",
                    "2014-09-01",
                    "2014-12-01",
                    "2014-12-01",
                    "2014-12-01",
                    "2015-03-01",
                    "2015-03-01",
                    "2015-03-01",
                    "2015-06-01",
                    "2015-06-01",
                    "2015-06-01",
                    "2015-09-01",
                    "2015-09-01",
                    "2015-09-01",
                    "2015-12-01",
                    "2015-12-01",
                    "2015-12-01",
                    "2016-03-01",
                    "2016-03-01",
                    "2016-03-01",
                    "2016-06-01",
                    "2016-06-01",
                    "2016-06-01",
                    "2016-09-01",
                    "2016-09-01",
                    "2016-09-01",
                    "2016-12-01",
                    "2016-12-01",
                    "2016-12-01",
                    "2017-03-01",
                    "2017-03-01",
                    "2017-03-01",
                    "2017-06-01",
                    "2017-06-01",
                    "2017-06-01",
                    "2017-09-01",
                    "2017-09-01",
                    "2017-09-01",
                    "2017-12-01",
                    "2017-12-01",
                    "2017-12-01",
                    "2018-03-01",
                    "2018-03-01",
                    "2018-03-01",
                    "2018-06-01",
                    "2018-06-01",
                    "2018-06-01",
                    "2018-09-01",
                    "2018-09-01",
                    "2018-09-01",
                    "2018-12-01",
                    "2018-12-01",
                    "2018-12-01",
                    "2019-03-01",
                    "2019-03-01",
                    "2019-03-01",
                    "2019-06-01",
                    "2019-06-01",
                    "2019-06-01",
                    "2019-09-01",
                    "2019-09-01",
                    "2019-09-01",
                    "2019-12-01",
                    "2019-12-01",
                    "2019-12-01",
                    "2020-03-01",
                    "2020-03-01",
                    "2020-03-01",
                    "2020-06-01",
                    "2020-06-01",
                    "2020-06-01",
                    "2020-09-01",
                    "2020-09-01",
                    "2020-09-01",
                    "2020-12-01",
                    "2020-12-01",
                    "2020-12-01",
                    "2021-03-01",
                    "2021-03-01",
                    "2021-03-01",
                    "2021-06-01",
                    "2021-06-01",
                    "2021-06-01",
                    "2021-09-01",
                    "2021-09-01",
                    "2021-09-01",
                    "2021-12-01",
                    "2021-12-01",
                    "2021-12-01",
                    "2022-03-01",
                    "2022-03-01",
                    "2022-03-01",
                    "2022-06-01",
                    "2022-06-01",
                    "2022-06-01",
                    "2022-09-01",
                    "2022-09-01",
                    "2022-09-01",
                    "2022-12-01",
                    "2022-12-01",
                    "2022-12-01",
                    "2023-03-01",
                    "2023-03-01",
                    "2023-03-01",
                    "2023-06-01",
                    "2023-06-01",
                    "2023-06-01",
                    "2023-09-01",
                    "2023-09-01",
                    "2023-09-01",
                    "2023-12-01",
                    "2023-12-01",
                    "2023-12-01"
                  ],
                  "xaxis": "x2",
                  "y": [
                    252685.97,
                    252685.97,
                    252685.97,
                    19171.68,
                    19171.68,
                    19171.68,
                    42850.85,
                    42850.85,
                    42850.85,
                    120769.67,
                    120769.67,
                    120769.67,
                    59854.49,
                    59854.49,
                    59854.49,
                    98392.28,
                    98392.28,
                    98392.28,
                    58148.09,
                    58148.09,
                    58148.09,
                    51376.5,
                    51376.5,
                    51376.5,
                    160994.45,
                    160994.45,
                    160994.45,
                    75724.5,
                    75724.5,
                    75724.5,
                    164385.97,
                    164385.97,
                    164385.97,
                    142473.52,
                    142473.52,
                    142473.52,
                    99118.91,
                    99118.91,
                    99118.91,
                    101822.41,
                    101822.41,
                    101822.41,
                    282011.51,
                    282011.51,
                    282011.51,
                    29737.23,
                    29737.23,
                    29737.23,
                    203219.52,
                    203219.52,
                    203219.52,
                    55938.2,
                    55938.2,
                    55938.2,
                    262361.99,
                    262361.99,
                    262361.99,
                    291285.01,
                    291285.01,
                    291285.01,
                    7435.96,
                    7435.96,
                    7435.96,
                    30079.82,
                    30079.82,
                    30079.82,
                    66207.8,
                    66207.8,
                    66207.8,
                    64051.86,
                    64051.86,
                    64051.86,
                    7347.69,
                    7347.69,
                    7347.69,
                    90489.64,
                    90489.64,
                    90489.64,
                    62086.79,
                    62086.79,
                    62086.79,
                    61696.92,
                    61696.92,
                    61696.92,
                    300008.57,
                    300008.57,
                    300008.57,
                    59237.67,
                    59237.67,
                    59237.67,
                    292443.89,
                    292443.89,
                    292443.89,
                    13265.1,
                    13265.1,
                    13265.1,
                    136086.88,
                    136086.88,
                    136086.88,
                    302438.98,
                    302438.98,
                    302438.98,
                    14621.48,
                    14621.48,
                    14621.48,
                    93340.73,
                    93340.73,
                    93340.73,
                    186258,
                    186258,
                    186258,
                    0,
                    0,
                    0,
                    26000,
                    26000,
                    26000,
                    70752.67,
                    70752.67,
                    70752.67
                  ],
                  "yaxis": "y2"
                },
                {
                  "mode": "lines",
                  "name": "count leads",
                  "type": "scatter",
                  "x": [
                    "2014-01-01",
                    "2014-02-01",
                    "2014-03-01",
                    "2014-04-01",
                    "2014-05-01",
                    "2014-06-01",
                    "2014-07-01",
                    "2014-08-01",
                    "2014-09-01",
                    "2014-10-01",
                    "2014-11-01",
                    "2014-12-01",
                    "2015-01-01",
                    "2015-02-01",
                    "2015-03-01",
                    "2015-04-01",
                    "2015-05-01",
                    "2015-06-01",
                    "2015-07-01",
                    "2015-08-01",
                    "2015-09-01",
                    "2015-10-01",
                    "2015-11-01",
                    "2015-12-01",
                    "2016-01-01",
                    "2016-02-01",
                    "2016-03-01",
                    "2016-04-01",
                    "2016-05-01",
                    "2016-06-01",
                    "2016-07-01",
                    "2016-08-01",
                    "2016-09-01",
                    "2016-10-01",
                    "2016-11-01",
                    "2016-12-01",
                    "2017-01-01",
                    "2017-02-01",
                    "2017-03-01",
                    "2017-04-01",
                    "2017-05-01",
                    "2017-06-01",
                    "2017-07-01",
                    "2017-08-01",
                    "2017-09-01",
                    "2017-10-01",
                    "2017-11-01",
                    "2017-12-01",
                    "2018-01-01",
                    "2018-02-01",
                    "2018-03-01",
                    "2018-04-01",
                    "2018-05-01",
                    "2018-06-01",
                    "2018-07-01",
                    "2018-08-01",
                    "2018-09-01",
                    "2018-10-01",
                    "2018-11-01",
                    "2018-12-01",
                    "2019-01-01",
                    "2019-02-01",
                    "2019-03-01",
                    "2019-04-01",
                    "2019-05-01",
                    "2019-06-01",
                    "2019-07-01",
                    "2019-08-01",
                    "2019-09-01",
                    "2019-10-01",
                    "2019-11-01",
                    "2019-12-01",
                    "2020-01-01",
                    "2020-02-01",
                    "2020-03-01",
                    "2020-04-01",
                    "2020-05-01",
                    "2020-06-01",
                    "2020-07-01",
                    "2020-08-01",
                    "2020-09-01",
                    "2020-10-01",
                    "2020-11-01",
                    "2020-12-01",
                    "2021-01-01",
                    "2021-02-01",
                    "2021-03-01",
                    "2021-04-01",
                    "2021-05-01",
                    "2021-06-01",
                    "2021-07-01",
                    "2021-08-01",
                    "2021-09-01",
                    "2021-10-01",
                    "2021-11-01",
                    "2021-12-01",
                    "2022-01-01",
                    "2022-02-01",
                    "2022-03-01",
                    "2022-04-01",
                    "2022-05-01",
                    "2022-06-01",
                    "2022-07-01",
                    "2022-08-01",
                    "2022-09-01",
                    "2022-10-01",
                    "2022-11-01",
                    "2022-12-01",
                    "2023-01-01",
                    "2023-02-01",
                    "2023-03-01",
                    "2023-04-01",
                    "2023-05-01",
                    "2023-06-01",
                    "2023-07-01",
                    "2023-08-01",
                    "2023-09-01",
                    "2023-10-01",
                    "2023-11-01",
                    "2023-12-01"
                  ],
                  "xaxis": "x3",
                  "y": [
                    null,
                    null,
                    235.9218714315344,
                    297.24109207431775,
                    313.1616043940488,
                    327.6686626222014,
                    249.01122840580243,
                    224.9409550773559,
                    184.35013075055915,
                    169.1458209384014,
                    206.3994037709058,
                    223.61156890200655,
                    244.3063327090885,
                    220.64011972158178,
                    235.59318096731286,
                    164.149870407449,
                    172.86837673873683,
                    162.15223464356612,
                    201.53897896740173,
                    224.12166687077047,
                    227.01707118387148,
                    240.01307108611732,
                    219.75194586072035,
                    188.52631335184122,
                    161.71026872803125,
                    209.51105812411453,
                    190.4079175028913,
                    263.4067947078185,
                    299.5246529149066,
                    309.0854349307977,
                    342.5492196602755,
                    357.1746280672354,
                    305.4877240718422,
                    281.86758688332577,
                    231.80972235810805,
                    155.54363183288436,
                    159.65656578095968,
                    226.38010550068242,
                    233.47801254962138,
                    319.1191292585658,
                    403.8896331283673,
                    417.2676772288818,
                    401.15088848506156,
                    411.1103731386115,
                    367.65322077512917,
                    295.8232202107354,
                    249.85239365310062,
                    285.7974675430295,
                    322.1990072788823,
                    357.43968865756796,
                    382.9401913328092,
                    448.1957233990573,
                    360.33266623770794,
                    333.30028361394403,
                    284.2204923668709,
                    297.1995482481259,
                    246.37303871430035,
                    265.0235242440984,
                    294.4773825733542,
                    271.11910552074374,
                    229.39746040279132,
                    264.9038977058032,
                    237.76451319803687,
                    201.59885745324232,
                    245.04840295280297,
                    241.26649358398663,
                    217.739760545469,
                    236.72479110292267,
                    255.64936227777898,
                    281.12844648996463,
                    394.69051320206813,
                    444.8340113813263,
                    443.29770118714333,
                    473.9093864832441,
                    416.49408661259804,
                    387.22175122845846,
                    341.6411502930878,
                    346.7079729770141,
                    265.73552445861867,
                    361.9679683421891,
                    402.6326990247805,
                    403.1621665691935,
                    385.04817030952415,
                    428.5899866453839,
                    435.02640855745886,
                    338.8783916541896,
                    407.5522245723932,
                    452.4267725168137,
                    404.3089692055659,
                    355.56565097317497,
                    407.76455107332555,
                    399.4438593650002,
                    465.16233799124865,
                    526.2837768978914,
                    475.44744281699514,
                    426.6203235206676,
                    434.3401968954525,
                    424.5815115450687,
                    347.0058487597422,
                    383.6120369005522,
                    394.1413158470882,
                    372.9493161643048,
                    359.47362792549177,
                    407.08515096520296,
                    351.70338794051037,
                    335.4842517144989,
                    358.94041161804324,
                    309.11986564869596,
                    383.6980053943113,
                    517.8531473264657,
                    586.8,
                    537.2,
                    540.4,
                    552.2,
                    496.4,
                    467.6,
                    502.6,
                    583.8,
                    583.8,
                    583.8
                  ],
                  "yaxis": "y3"
                },
                {
                  "mode": "lines",
                  "name": "count sessions on .projuventute.ch",
                  "type": "scatter",
                  "x": [
                    "2014-01-01",
                    "2014-02-01",
                    "2014-03-01",
                    "2014-04-01",
                    "2014-05-01",
                    "2014-06-01",
                    "2014-07-01",
                    "2014-08-01",
                    "2014-09-01",
                    "2014-10-01",
                    "2014-11-01",
                    "2014-12-01",
                    "2015-01-01",
                    "2015-02-01",
                    "2015-03-01",
                    "2015-04-01",
                    "2015-05-01",
                    "2015-06-01",
                    "2015-07-01",
                    "2015-08-01",
                    "2015-09-01",
                    "2015-10-01",
                    "2015-11-01",
                    "2015-12-01",
                    "2016-01-01",
                    "2016-02-01",
                    "2016-03-01",
                    "2016-04-01",
                    "2016-05-01",
                    "2016-06-01",
                    "2016-07-01",
                    "2016-08-01",
                    "2016-09-01",
                    "2016-10-01",
                    "2016-11-01",
                    "2016-12-01",
                    "2017-01-01",
                    "2017-02-01",
                    "2017-03-01",
                    "2017-04-01",
                    "2017-05-01",
                    "2017-06-01",
                    "2017-07-01",
                    "2017-08-01",
                    "2017-09-01",
                    "2017-10-01",
                    "2017-11-01",
                    "2017-12-01",
                    "2018-01-01",
                    "2018-02-01",
                    "2018-03-01",
                    "2018-04-01",
                    "2018-05-01",
                    "2018-06-01",
                    "2018-07-01",
                    "2018-08-01",
                    "2018-09-01",
                    "2018-10-01",
                    "2018-11-01",
                    "2018-12-01",
                    "2019-01-01",
                    "2019-02-01",
                    "2019-03-01",
                    "2019-04-01",
                    "2019-05-01",
                    "2019-06-01",
                    "2019-07-01",
                    "2019-08-01",
                    "2019-09-01",
                    "2019-10-01",
                    "2019-11-01",
                    "2019-12-01",
                    "2020-01-01",
                    "2020-02-01",
                    "2020-03-01",
                    "2020-04-01",
                    "2020-05-01",
                    "2020-06-01",
                    "2020-07-01",
                    "2020-08-01",
                    "2020-09-01",
                    "2020-10-01",
                    "2020-11-01",
                    "2020-12-01",
                    "2021-01-01",
                    "2021-02-01",
                    "2021-03-01",
                    "2021-04-01",
                    "2021-05-01",
                    "2021-06-01",
                    "2021-07-01",
                    "2021-08-01",
                    "2021-09-01",
                    "2021-10-01",
                    "2021-11-01",
                    "2021-12-01",
                    "2022-01-01",
                    "2022-02-01",
                    "2022-03-01",
                    "2022-04-01",
                    "2022-05-01",
                    "2022-06-01",
                    "2022-07-01",
                    "2022-08-01",
                    "2022-09-01",
                    "2022-10-01",
                    "2022-11-01",
                    "2022-12-01",
                    "2023-01-01",
                    "2023-02-01",
                    "2023-03-01",
                    "2023-04-01",
                    "2023-05-01",
                    "2023-06-01",
                    "2023-07-01",
                    "2023-08-01",
                    "2023-09-01",
                    "2023-10-01",
                    "2023-11-01",
                    "2023-12-01"
                  ],
                  "xaxis": "x4",
                  "y": [
                    null,
                    null,
                    101793.07026019585,
                    100859.32647947142,
                    98852.48446021606,
                    101751.84476785842,
                    105422.59865151392,
                    106372.6744624388,
                    113346.32693249833,
                    114595.02260166981,
                    110649.72367471573,
                    106687.43113284682,
                    108672.14098090271,
                    110803.05307272437,
                    108605.72767980788,
                    112552.91994526717,
                    112647.1061890221,
                    112969.11735660594,
                    107007.02650116212,
                    111564.02950146263,
                    116229.42196968003,
                    115177.49549749168,
                    112622.53057845667,
                    116824.65185597776,
                    110615.10604898105,
                    106808.91764142278,
                    106690.9563399844,
                    112417.40261519216,
                    111234.73450753381,
                    116057.09524544484,
                    120528.42534554782,
                    124074.92747435058,
                    117707.75349176893,
                    121394.92169232157,
                    118151.35120754114,
                    115992.2276356197,
                    116427.78081464677,
                    122854.51101730326,
                    115148.9746282849,
                    122294.35090380083,
                    123313.5915313981,
                    124471.71592334783,
                    125622.33130250708,
                    124207.15719814334,
                    121790.97887401325,
                    123823.10139491358,
                    121184.91902143587,
                    116923.7756621968,
                    120511.54318670926,
                    124389.95509821588,
                    121899.79234617509,
                    123368.57897782481,
                    126450.1103948785,
                    132172.75033614895,
                    129209.39180963619,
                    128110.46882791354,
                    130652.45758157452,
                    133186.29151601653,
                    127744.19820446635,
                    124689.42973430952,
                    119734.7162535673,
                    120023.85975755774,
                    112775.77314132654,
                    120073.59655207722,
                    116621.00880812579,
                    125256.5164870674,
                    124016.93800420858,
                    132790.64390366903,
                    130921.46215987601,
                    139298.31245368603,
                    139193.15379453305,
                    135366.53010577854,
                    134214.09174751976,
                    131075.82411494618,
                    134411.53264186493,
                    133158.02375180073,
                    140432.67161239893,
                    142767.55516048337,
                    141469.96549170502,
                    133285.9995076502,
                    136615.00216017826,
                    131334.99541045478,
                    129433.7180770803,
                    138335.1214776658,
                    141592.0031594668,
                    144131.89107425272,
                    155284.22450684296,
                    155541.63394126223,
                    157698.78040254413,
                    164708.17258433573,
                    167348.89569949295,
                    170223.01571818854,
                    179144.21954070256,
                    180526.0124304491,
                    174287.85742028235,
                    166521.1399802409,
                    156332.27171333652,
                    140810.37590843346,
                    136138.33261955465,
                    139729.0587637006,
                    139049.89328238173,
                    135248.59597869875,
                    139721.69687554945,
                    134284.89416396318,
                    131346.37388432017,
                    137606.9544431818,
                    144288.15264036012,
                    157951.92475780603,
                    170646.9267582711,
                    176191.59035870744,
                    179602,
                    182701.2,
                    174762,
                    175531.4,
                    178363.376,
                    181160.576,
                    182103.752,
                    184113.352,
                    184113.352,
                    184113.352
                  ],
                  "yaxis": "y4"
                },
                {
                  "mode": "lines",
                  "name": "involuntary headcount change (FTE)",
                  "type": "scatter",
                  "x": [
                    "2014-01-01",
                    "2014-02-01",
                    "2014-03-01",
                    "2014-04-01",
                    "2014-05-01",
                    "2014-06-01",
                    "2014-07-01",
                    "2014-08-01",
                    "2014-09-01",
                    "2014-10-01",
                    "2014-11-01",
                    "2014-12-01",
                    "2015-01-01",
                    "2015-02-01",
                    "2015-03-01",
                    "2015-04-01",
                    "2015-05-01",
                    "2015-06-01",
                    "2015-07-01",
                    "2015-08-01",
                    "2015-09-01",
                    "2015-10-01",
                    "2015-11-01",
                    "2015-12-01",
                    "2016-01-01",
                    "2016-02-01",
                    "2016-03-01",
                    "2016-04-01",
                    "2016-05-01",
                    "2016-06-01",
                    "2016-07-01",
                    "2016-08-01",
                    "2016-09-01",
                    "2016-10-01",
                    "2016-11-01",
                    "2016-12-01",
                    "2017-01-01",
                    "2017-02-01",
                    "2017-03-01",
                    "2017-04-01",
                    "2017-05-01",
                    "2017-06-01",
                    "2017-07-01",
                    "2017-08-01",
                    "2017-09-01",
                    "2017-10-01",
                    "2017-11-01",
                    "2017-12-01",
                    "2018-01-01",
                    "2018-02-01",
                    "2018-03-01",
                    "2018-04-01",
                    "2018-05-01",
                    "2018-06-01",
                    "2018-07-01",
                    "2018-08-01",
                    "2018-09-01",
                    "2018-10-01",
                    "2018-11-01",
                    "2018-12-01",
                    "2019-01-01",
                    "2019-02-01",
                    "2019-03-01",
                    "2019-04-01",
                    "2019-05-01",
                    "2019-06-01",
                    "2019-07-01",
                    "2019-08-01",
                    "2019-09-01",
                    "2019-10-01",
                    "2019-11-01",
                    "2019-12-01",
                    "2020-01-01",
                    "2020-02-01",
                    "2020-03-01",
                    "2020-04-01",
                    "2020-05-01",
                    "2020-06-01",
                    "2020-07-01",
                    "2020-08-01",
                    "2020-09-01",
                    "2020-10-01",
                    "2020-11-01",
                    "2020-12-01",
                    "2021-01-01",
                    "2021-02-01",
                    "2021-03-01",
                    "2021-04-01",
                    "2021-05-01",
                    "2021-06-01",
                    "2021-07-01",
                    "2021-08-01",
                    "2021-09-01",
                    "2021-10-01",
                    "2021-11-01",
                    "2021-12-01",
                    "2022-01-01",
                    "2022-02-01",
                    "2022-03-01",
                    "2022-04-01",
                    "2022-05-01",
                    "2022-06-01",
                    "2022-07-01",
                    "2022-08-01",
                    "2022-09-01",
                    "2022-10-01",
                    "2022-11-01",
                    "2022-12-01",
                    "2023-01-01",
                    "2023-02-01",
                    "2023-03-01",
                    "2023-04-01",
                    "2023-05-01",
                    "2023-06-01",
                    "2023-07-01",
                    "2023-08-01",
                    "2023-09-01",
                    "2023-10-01",
                    "2023-11-01",
                    "2023-12-01"
                  ],
                  "xaxis": "x5",
                  "y": [
                    null,
                    null,
                    1.1966455568847807,
                    1.1692400303864456,
                    1.0333371153735844,
                    1.1881441406560995,
                    1.0369176964765487,
                    0.8724689002614167,
                    0.9287622992163211,
                    0.9923084156676542,
                    0.8971689784447152,
                    0.9797606391494911,
                    1.1872804818556422,
                    0.9802283295731034,
                    0.8337127992333864,
                    0.9028399656073229,
                    1.0086107012836654,
                    0.9213993861357486,
                    1.1183616892269506,
                    1.1528688237699483,
                    0.9991486758083304,
                    0.948392796030548,
                    0.9901984892301593,
                    1.0965690426686507,
                    1.025589146558364,
                    1.1749845600976312,
                    1.1576948276607375,
                    1.0856282164294202,
                    1.0674422899620535,
                    1.263115887286049,
                    1.3405394929831569,
                    1.4141144693195007,
                    1.4715808653919025,
                    1.4074207696237475,
                    1.2622594377210865,
                    1.1538471618094068,
                    0.9355191299229606,
                    0.7788438089239291,
                    0.8261677921226788,
                    0.7295805557396948,
                    0.736079345962338,
                    0.7547523836653793,
                    0.9030652726065416,
                    0.9000706767882362,
                    1.1816287698581556,
                    1.2802076983329518,
                    1.2457022850825168,
                    1.2381253019658993,
                    1.3017237762026161,
                    1.428436631695515,
                    1.445230845536038,
                    1.5869400891477365,
                    1.6986933846143366,
                    1.5262389423807527,
                    1.3204549635856053,
                    1.344346664221989,
                    1.5011198315178174,
                    1.3686862266523463,
                    1.479738156646132,
                    1.6268969317817352,
                    1.6270287032736093,
                    1.5591072385987872,
                    1.674425254768717,
                    1.6516130486441951,
                    1.5726282254928257,
                    1.293446352350122,
                    1.3022783509239322,
                    1.2591173696936464,
                    1.3136670560521124,
                    1.397407649001785,
                    1.6110911733011175,
                    1.4835160780501158,
                    1.424025921629871,
                    1.4085410770138678,
                    1.3281902661861962,
                    1.1648499669644745,
                    0.981176362042649,
                    1.1409175293622351,
                    1.0270563289022618,
                    0.7727762725729019,
                    1.119814229234268,
                    1.3462077952570934,
                    1.3836870021443015,
                    1.3895434722100368,
                    1.7176249984591507,
                    1.4844924213471118,
                    1.5802454141832825,
                    1.6554632677420487,
                    1.821877160052539,
                    1.7515009915520903,
                    1.986567027495918,
                    1.99605708209479,
                    1.9371299899877124,
                    1.973843091565572,
                    1.8707230024054258,
                    1.7504928058756346,
                    1.72961836833761,
                    1.3361422652381922,
                    0.9912394479571937,
                    1.1119714920279387,
                    1.0576224544642912,
                    1.0634664717560345,
                    1.2728019032804967,
                    1.4718219242174322,
                    1.4855224011241142,
                    1.6118741310571658,
                    1.7457809812938412,
                    1.6740168637177704,
                    1.6958996600618335,
                    1.6596283693686644,
                    1.234,
                    0.782,
                    0.688,
                    0.596,
                    0.496,
                    0.6980000000000001,
                    0.89,
                    0.788,
                    0.788,
                    0.788
                  ],
                  "yaxis": "y5"
                },
                {
                  "mode": "lines",
                  "name": "net promoter score",
                  "type": "scatter",
                  "x": [
                    "2014-01-01",
                    "2014-02-01",
                    "2014-03-01",
                    "2014-04-01",
                    "2014-05-01",
                    "2014-06-01",
                    "2014-07-01",
                    "2014-08-01",
                    "2014-09-01",
                    "2014-10-01",
                    "2014-11-01",
                    "2014-12-01",
                    "2015-01-01",
                    "2015-02-01",
                    "2015-03-01",
                    "2015-04-01",
                    "2015-05-01",
                    "2015-06-01",
                    "2015-07-01",
                    "2015-08-01",
                    "2015-09-01",
                    "2015-10-01",
                    "2015-11-01",
                    "2015-12-01",
                    "2016-01-01",
                    "2016-02-01",
                    "2016-03-01",
                    "2016-04-01",
                    "2016-05-01",
                    "2016-06-01",
                    "2016-07-01",
                    "2016-08-01",
                    "2016-09-01",
                    "2016-10-01",
                    "2016-11-01",
                    "2016-12-01",
                    "2017-01-01",
                    "2017-02-01",
                    "2017-03-01",
                    "2017-04-01",
                    "2017-05-01",
                    "2017-06-01",
                    "2017-07-01",
                    "2017-08-01",
                    "2017-09-01",
                    "2017-10-01",
                    "2017-11-01",
                    "2017-12-01",
                    "2018-01-01",
                    "2018-02-01",
                    "2018-03-01",
                    "2018-04-01",
                    "2018-05-01",
                    "2018-06-01",
                    "2018-07-01",
                    "2018-08-01",
                    "2018-09-01",
                    "2018-10-01",
                    "2018-11-01",
                    "2018-12-01",
                    "2019-01-01",
                    "2019-02-01",
                    "2019-03-01",
                    "2019-04-01",
                    "2019-05-01",
                    "2019-06-01",
                    "2019-07-01",
                    "2019-08-01",
                    "2019-09-01",
                    "2019-10-01",
                    "2019-11-01",
                    "2019-12-01",
                    "2020-01-01",
                    "2020-02-01",
                    "2020-03-01",
                    "2020-04-01",
                    "2020-05-01",
                    "2020-06-01",
                    "2020-07-01",
                    "2020-08-01",
                    "2020-09-01",
                    "2020-10-01",
                    "2020-11-01",
                    "2020-12-01",
                    "2021-01-01",
                    "2021-02-01",
                    "2021-03-01",
                    "2021-04-01",
                    "2021-05-01",
                    "2021-06-01",
                    "2021-07-01",
                    "2021-08-01",
                    "2021-09-01",
                    "2021-10-01",
                    "2021-11-01",
                    "2021-12-01",
                    "2022-01-01",
                    "2022-02-01",
                    "2022-03-01",
                    "2022-04-01",
                    "2022-05-01",
                    "2022-06-01",
                    "2022-07-01",
                    "2022-08-01",
                    "2022-09-01",
                    "2022-10-01",
                    "2022-11-01",
                    "2022-12-01",
                    "2023-01-01",
                    "2023-02-01",
                    "2023-03-01",
                    "2023-04-01",
                    "2023-05-01",
                    "2023-06-01",
                    "2023-07-01",
                    "2023-08-01",
                    "2023-09-01",
                    "2023-10-01",
                    "2023-11-01",
                    "2023-12-01"
                  ],
                  "xaxis": "x6",
                  "y": [
                    23,
                    23,
                    23,
                    23,
                    23,
                    23,
                    23,
                    23,
                    23,
                    23,
                    23,
                    23,
                    37,
                    37,
                    37,
                    37,
                    37,
                    37,
                    37,
                    37,
                    37,
                    37,
                    37,
                    37,
                    45,
                    45,
                    45,
                    45,
                    45,
                    45,
                    45,
                    45,
                    45,
                    45,
                    45,
                    45,
                    52,
                    52,
                    52,
                    52,
                    52,
                    52,
                    52,
                    52,
                    52,
                    52,
                    52,
                    52,
                    59,
                    59,
                    59,
                    59,
                    59,
                    59,
                    59,
                    59,
                    59,
                    59,
                    59,
                    59,
                    68,
                    68,
                    68,
                    68,
                    68,
                    68,
                    68,
                    68,
                    68,
                    68,
                    68,
                    68,
                    70,
                    70,
                    70,
                    70,
                    70,
                    70,
                    70,
                    70,
                    70,
                    70,
                    70,
                    70,
                    72,
                    72,
                    72,
                    72,
                    72,
                    72,
                    72,
                    72,
                    72,
                    72,
                    72,
                    72,
                    65,
                    65,
                    65,
                    65,
                    65,
                    65,
                    65,
                    65,
                    65,
                    65,
                    65,
                    65,
                    35,
                    35,
                    35,
                    35,
                    35,
                    35,
                    35,
                    35,
                    35,
                    35,
                    35,
                    35
                  ],
                  "yaxis": "y6"
                },
                {
                  "mode": "lines",
                  "name": "private donations",
                  "type": "scatter",
                  "x": [
                    "2014-01-01",
                    "2014-02-01",
                    "2014-03-01",
                    "2014-04-01",
                    "2014-05-01",
                    "2014-06-01",
                    "2014-07-01",
                    "2014-08-01",
                    "2014-09-01",
                    "2014-10-01",
                    "2014-11-01",
                    "2014-12-01",
                    "2015-01-01",
                    "2015-02-01",
                    "2015-03-01",
                    "2015-04-01",
                    "2015-05-01",
                    "2015-06-01",
                    "2015-07-01",
                    "2015-08-01",
                    "2015-09-01",
                    "2015-10-01",
                    "2015-11-01",
                    "2015-12-01",
                    "2016-01-01",
                    "2016-02-01",
                    "2016-03-01",
                    "2016-04-01",
                    "2016-05-01",
                    "2016-06-01",
                    "2016-07-01",
                    "2016-08-01",
                    "2016-09-01",
                    "2016-10-01",
                    "2016-11-01",
                    "2016-12-01",
                    "2017-01-01",
                    "2017-02-01",
                    "2017-03-01",
                    "2017-04-01",
                    "2017-05-01",
                    "2017-06-01",
                    "2017-07-01",
                    "2017-08-01",
                    "2017-09-01",
                    "2017-10-01",
                    "2017-11-01",
                    "2017-12-01",
                    "2018-01-01",
                    "2018-02-01",
                    "2018-03-01",
                    "2018-04-01",
                    "2018-05-01",
                    "2018-06-01",
                    "2018-07-01",
                    "2018-08-01",
                    "2018-09-01",
                    "2018-10-01",
                    "2018-11-01",
                    "2018-12-01",
                    "2019-01-01",
                    "2019-02-01",
                    "2019-03-01",
                    "2019-04-01",
                    "2019-05-01",
                    "2019-06-01",
                    "2019-07-01",
                    "2019-08-01",
                    "2019-09-01",
                    "2019-10-01",
                    "2019-11-01",
                    "2019-12-01",
                    "2020-01-01",
                    "2020-02-01",
                    "2020-03-01",
                    "2020-04-01",
                    "2020-05-01",
                    "2020-06-01",
                    "2020-07-01",
                    "2020-08-01",
                    "2020-09-01",
                    "2020-10-01",
                    "2020-11-01",
                    "2020-12-01",
                    "2021-01-01",
                    "2021-02-01",
                    "2021-03-01",
                    "2021-04-01",
                    "2021-05-01",
                    "2021-06-01",
                    "2021-07-01",
                    "2021-08-01",
                    "2021-09-01",
                    "2021-10-01",
                    "2021-11-01",
                    "2021-12-01",
                    "2022-01-01",
                    "2022-02-01",
                    "2022-03-01",
                    "2022-04-01",
                    "2022-05-01",
                    "2022-06-01",
                    "2022-07-01",
                    "2022-08-01",
                    "2022-09-01",
                    "2022-10-01",
                    "2022-11-01",
                    "2022-12-01",
                    "2023-01-01",
                    "2023-02-01",
                    "2023-03-01",
                    "2023-04-01",
                    "2023-05-01",
                    "2023-06-01",
                    "2023-07-01",
                    "2023-08-01",
                    "2023-09-01",
                    "2023-10-01",
                    "2023-11-01",
                    "2023-12-01"
                  ],
                  "xaxis": "x7",
                  "y": [
                    248384,
                    677356.61,
                    437920.52,
                    339549.48,
                    336036.85,
                    361332.68,
                    395194.1,
                    315559.73,
                    547618.08,
                    473700.13,
                    630728.84,
                    830603.19,
                    311620.55,
                    281133.04,
                    779006.49,
                    404485.34,
                    280793.16,
                    467833.3,
                    452400.01,
                    383833.33,
                    494820.82,
                    458280.19,
                    737379.01,
                    1244525.47,
                    457134.1,
                    545421.58,
                    578795.07,
                    524063.85,
                    448401.8,
                    499725.32,
                    387578.22,
                    922212.18,
                    597703.78,
                    469153.72,
                    695197.98,
                    1043989.41,
                    499464.98,
                    470967.3,
                    642704.42,
                    495108.93,
                    554637.19,
                    556835.67,
                    472386.83,
                    481426.88,
                    422727.53,
                    655384.08,
                    889252.6,
                    1057538.96,
                    528105.38,
                    515486.75,
                    712077.5,
                    398698.29,
                    491801.94,
                    629391.05,
                    573759.96,
                    508156.9,
                    480953.95,
                    610756.69,
                    847334.21,
                    955619.88,
                    403683.34,
                    542764.72,
                    671239.48,
                    730153.95,
                    608587.17,
                    686389.26,
                    581299.07,
                    345412.79,
                    552597.48,
                    630429.67,
                    688423.3,
                    1023822.23,
                    732466.7,
                    492574.38,
                    649089.67,
                    867329.92,
                    611297.14,
                    764911.91,
                    751010.67,
                    686545.58,
                    622383.36,
                    851297.01,
                    793025.53,
                    1856876.38,
                    592686.59,
                    670148.58,
                    826549.89,
                    862933.55,
                    690958.91,
                    664222.26,
                    819670.29,
                    471050.09,
                    509513.36,
                    592703.7,
                    899432.48,
                    1708639.55,
                    611312.15,
                    269239.44,
                    621173.75,
                    1072485.61,
                    536893.87,
                    932942.78,
                    775104.16,
                    985432.32,
                    632041.47,
                    564243.62,
                    1246403.55,
                    1582084.51,
                    1369218,
                    2144446,
                    1923875,
                    1274911,
                    1797114,
                    1352463,
                    1359887,
                    1101047,
                    1540370.12,
                    1101047,
                    1540370.12,
                    1352463
                  ],
                  "yaxis": "y7"
                },
                {
                  "mode": "lines",
                  "name": "reachability",
                  "type": "scatter",
                  "x": [
                    "2014-03-01",
                    "2014-03-01",
                    "2014-03-01",
                    "2014-06-01",
                    "2014-06-01",
                    "2014-06-01",
                    "2014-09-01",
                    "2014-09-01",
                    "2014-09-01",
                    "2014-12-01",
                    "2014-12-01",
                    "2014-12-01",
                    "2015-03-01",
                    "2015-03-01",
                    "2015-03-01",
                    "2015-06-01",
                    "2015-06-01",
                    "2015-06-01",
                    "2015-09-01",
                    "2015-09-01",
                    "2015-09-01",
                    "2015-12-01",
                    "2015-12-01",
                    "2015-12-01",
                    "2016-03-01",
                    "2016-03-01",
                    "2016-03-01",
                    "2016-06-01",
                    "2016-06-01",
                    "2016-06-01",
                    "2016-09-01",
                    "2016-09-01",
                    "2016-09-01",
                    "2016-12-01",
                    "2016-12-01",
                    "2016-12-01",
                    "2017-03-01",
                    "2017-03-01",
                    "2017-03-01",
                    "2017-06-01",
                    "2017-06-01",
                    "2017-06-01",
                    "2017-09-01",
                    "2017-09-01",
                    "2017-09-01",
                    "2017-12-01",
                    "2017-12-01",
                    "2017-12-01",
                    "2018-03-01",
                    "2018-03-01",
                    "2018-03-01",
                    "2018-06-01",
                    "2018-06-01",
                    "2018-06-01",
                    "2018-09-01",
                    "2018-09-01",
                    "2018-09-01",
                    "2018-12-01",
                    "2018-12-01",
                    "2018-12-01",
                    "2019-03-01",
                    "2019-03-01",
                    "2019-03-01",
                    "2019-06-01",
                    "2019-06-01",
                    "2019-06-01",
                    "2019-09-01",
                    "2019-09-01",
                    "2019-09-01",
                    "2019-12-01",
                    "2019-12-01",
                    "2019-12-01",
                    "2020-03-01",
                    "2020-03-01",
                    "2020-03-01",
                    "2020-06-01",
                    "2020-06-01",
                    "2020-06-01",
                    "2020-09-01",
                    "2020-09-01",
                    "2020-09-01",
                    "2020-12-01",
                    "2020-12-01",
                    "2020-12-01",
                    "2021-03-01",
                    "2021-03-01",
                    "2021-03-01",
                    "2021-06-01",
                    "2021-06-01",
                    "2021-06-01",
                    "2021-09-01",
                    "2021-09-01",
                    "2021-09-01",
                    "2021-12-01",
                    "2021-12-01",
                    "2021-12-01",
                    "2022-03-01",
                    "2022-03-01",
                    "2022-03-01",
                    "2022-06-01",
                    "2022-06-01",
                    "2022-06-01",
                    "2022-09-01",
                    "2022-09-01",
                    "2022-09-01",
                    "2022-12-01",
                    "2022-12-01",
                    "2022-12-01",
                    "2023-03-01",
                    "2023-03-01",
                    "2023-03-01",
                    "2023-06-01",
                    "2023-06-01",
                    "2023-06-01",
                    "2023-09-01",
                    "2023-09-01",
                    "2023-09-01",
                    "2023-12-01",
                    "2023-12-01",
                    "2023-12-01"
                  ],
                  "xaxis": "x8",
                  "y": [
                    42.19,
                    42.19,
                    42.19,
                    45.04,
                    45.04,
                    45.04,
                    44.95,
                    44.95,
                    44.95,
                    47.01,
                    47.01,
                    47.01,
                    45.15,
                    45.15,
                    45.15,
                    45.09,
                    45.09,
                    45.09,
                    44.47,
                    44.47,
                    44.47,
                    43.44,
                    43.44,
                    43.44,
                    44.33,
                    44.33,
                    44.33,
                    42.9,
                    42.9,
                    42.9,
                    44.38,
                    44.38,
                    44.38,
                    43.25,
                    43.25,
                    43.25,
                    45.81,
                    45.81,
                    45.81,
                    43.76,
                    43.76,
                    43.76,
                    44.39,
                    44.39,
                    44.39,
                    42.97,
                    42.97,
                    42.97,
                    42.36,
                    42.36,
                    42.36,
                    47.44,
                    47.44,
                    47.44,
                    43.72,
                    43.72,
                    43.72,
                    44.31,
                    44.31,
                    44.31,
                    43.66,
                    43.66,
                    43.66,
                    45.57,
                    45.57,
                    45.57,
                    45.33,
                    45.33,
                    45.33,
                    45.67,
                    45.67,
                    45.67,
                    43.43,
                    43.43,
                    43.43,
                    44.84,
                    44.84,
                    44.84,
                    45.21,
                    45.21,
                    45.21,
                    46.18,
                    46.18,
                    46.18,
                    43.83,
                    43.83,
                    43.83,
                    43.56,
                    43.56,
                    43.56,
                    44.55,
                    44.55,
                    44.55,
                    43.15,
                    43.15,
                    43.15,
                    44.74,
                    44.74,
                    44.74,
                    44.95,
                    44.95,
                    44.95,
                    43.44,
                    43.44,
                    43.44,
                    46.43,
                    46.43,
                    46.43,
                    46,
                    46,
                    46,
                    44.9,
                    44.9,
                    44.9,
                    43.6,
                    43.6,
                    43.6,
                    44.83,
                    44.83,
                    44.83
                  ],
                  "yaxis": "y8"
                },
                {
                  "mode": "lines",
                  "name": "share of teams constituted as circles",
                  "type": "scatter",
                  "x": [
                    "2023-01-01",
                    "2023-02-01",
                    "2023-03-01",
                    "2023-04-01",
                    "2023-05-01",
                    "2023-06-01",
                    "2023-07-01",
                    "2023-08-01",
                    "2023-09-01",
                    "2023-10-01",
                    "2023-11-01",
                    "2023-12-01"
                  ],
                  "xaxis": "x9",
                  "y": [
                    35,
                    50,
                    50,
                    55,
                    70,
                    80,
                    85,
                    90,
                    90,
                    90,
                    95,
                    95
                  ],
                  "yaxis": "y9"
                },
                {
                  "mode": "lines",
                  "name": "share short tern leave",
                  "type": "scatter",
                  "x": [
                    "2014-01-01",
                    "2014-02-01",
                    "2014-03-01",
                    "2014-04-01",
                    "2014-05-01",
                    "2014-06-01",
                    "2014-07-01",
                    "2014-08-01",
                    "2014-09-01",
                    "2014-10-01",
                    "2014-11-01",
                    "2014-12-01",
                    "2015-01-01",
                    "2015-02-01",
                    "2015-03-01",
                    "2015-04-01",
                    "2015-05-01",
                    "2015-06-01",
                    "2015-07-01",
                    "2015-08-01",
                    "2015-09-01",
                    "2015-10-01",
                    "2015-11-01",
                    "2015-12-01",
                    "2016-01-01",
                    "2016-02-01",
                    "2016-03-01",
                    "2016-04-01",
                    "2016-05-01",
                    "2016-06-01",
                    "2016-07-01",
                    "2016-08-01",
                    "2016-09-01",
                    "2016-10-01",
                    "2016-11-01",
                    "2016-12-01",
                    "2017-01-01",
                    "2017-02-01",
                    "2017-03-01",
                    "2017-04-01",
                    "2017-05-01",
                    "2017-06-01",
                    "2017-07-01",
                    "2017-08-01",
                    "2017-09-01",
                    "2017-10-01",
                    "2017-11-01",
                    "2017-12-01",
                    "2018-01-01",
                    "2018-02-01",
                    "2018-03-01",
                    "2018-04-01",
                    "2018-05-01",
                    "2018-06-01",
                    "2018-07-01",
                    "2018-08-01",
                    "2018-09-01",
                    "2018-10-01",
                    "2018-11-01",
                    "2018-12-01",
                    "2019-01-01",
                    "2019-02-01",
                    "2019-03-01",
                    "2019-04-01",
                    "2019-05-01",
                    "2019-06-01",
                    "2019-07-01",
                    "2019-08-01",
                    "2019-09-01",
                    "2019-10-01",
                    "2019-11-01",
                    "2019-12-01",
                    "2020-01-01",
                    "2020-02-01",
                    "2020-03-01",
                    "2020-04-01",
                    "2020-05-01",
                    "2020-06-01",
                    "2020-07-01",
                    "2020-08-01",
                    "2020-09-01",
                    "2020-10-01",
                    "2020-11-01",
                    "2020-12-01",
                    "2021-01-01",
                    "2021-02-01",
                    "2021-03-01",
                    "2021-04-01",
                    "2021-05-01",
                    "2021-06-01",
                    "2021-07-01",
                    "2021-08-01",
                    "2021-09-01",
                    "2021-10-01",
                    "2021-11-01",
                    "2021-12-01",
                    "2022-01-01",
                    "2022-02-01",
                    "2022-03-01",
                    "2022-04-01",
                    "2022-05-01",
                    "2022-06-01",
                    "2022-07-01",
                    "2022-08-01",
                    "2022-09-01",
                    "2022-10-01",
                    "2022-11-01",
                    "2022-12-01",
                    "2023-01-01",
                    "2023-02-01",
                    "2023-03-01",
                    "2023-04-01",
                    "2023-05-01",
                    "2023-06-01",
                    "2023-07-01",
                    "2023-08-01",
                    "2023-09-01",
                    "2023-10-01",
                    "2023-11-01",
                    "2023-12-01"
                  ],
                  "xaxis": "x10",
                  "y": [
                    null,
                    null,
                    0.9160382166879648,
                    0.7930444778002217,
                    0.7123698847100066,
                    0.7348432594525638,
                    0.9666021230689388,
                    0.8988805044308226,
                    0.7275416165973623,
                    0.6630083219338406,
                    0.68980511125855,
                    0.4364079228742813,
                    0.5530979345637622,
                    0.6974511018315034,
                    0.7437292535384645,
                    0.6432235683231863,
                    0.8318047776932846,
                    0.6909147123694217,
                    0.534070145380732,
                    0.45397229205248407,
                    0.4392060717967201,
                    0.45127881568803263,
                    0.4716833283788885,
                    0.7517508145189068,
                    0.9565581003519823,
                    0.9344918119585557,
                    0.7579639047182651,
                    0.8917120066279246,
                    0.7734515522250509,
                    0.8230720617968508,
                    1.1709798102057207,
                    1.2016287654783742,
                    1.1596223521285465,
                    1.0313277253480755,
                    0.9368018353060765,
                    0.6233682974292385,
                    0.6044445256865963,
                    0.5799872092017482,
                    0.7058882442072835,
                    0.8248238410504832,
                    1.0402378258055767,
                    1.352529185151528,
                    1.346713289654165,
                    1.3092233553871093,
                    1.0434594610348418,
                    1.1500783243506212,
                    0.9020918949696896,
                    0.8537471301445185,
                    0.8923612681480844,
                    0.8887560320260629,
                    0.646561519211692,
                    0.6248064651262938,
                    0.6474679858480585,
                    0.5089836528142834,
                    0.6173181783708129,
                    0.49857142616283506,
                    0.46926520657082094,
                    0.6860725344632934,
                    0.9750500055957187,
                    0.8432229665452692,
                    0.9145756964037876,
                    1.044950695790312,
                    1.0138598848258553,
                    0.7016814543326565,
                    0.9180783420048126,
                    1.1266833326550345,
                    1.0377111579193397,
                    0.8892045144283898,
                    0.8568510048023082,
                    0.6774132479193445,
                    0.863567871058925,
                    0.9545286073659138,
                    0.9542129108059546,
                    1.215586631002091,
                    1.3048186461027564,
                    0.980125144347776,
                    1.3104844391708754,
                    1.1960552249820586,
                    1.2320342236138608,
                    1.542394316398524,
                    1.3914917409072485,
                    0.985439966680125,
                    1.196802764718597,
                    1.2566532659811693,
                    0.8904712818716384,
                    0.9372260958177348,
                    0.9350228338816177,
                    1.2359651354686592,
                    0.9454151217744426,
                    1.3798524516846542,
                    1.8169042927398062,
                    1.7647476804490272,
                    1.5275841591869794,
                    2.1074972130401686,
                    1.6544259333105553,
                    1.3718533679611693,
                    1.6136706599164339,
                    1.7883607218061244,
                    1.279526511982685,
                    1.2079241000166185,
                    1.2570438907443195,
                    1.541744898357215,
                    1.4126146574367868,
                    1.5539820669055222,
                    1.6074061489355593,
                    1.3677119630191352,
                    1.1787618229346581,
                    1.2557926857759845,
                    1.4832594861306887,
                    1.8180796493680718,
                    2.45,
                    2.558,
                    2.5260000000000002,
                    2.2039999999999997,
                    1.956,
                    1.4560000000000002,
                    1.1,
                    0.892,
                    0.892,
                    0.892
                  ],
                  "yaxis": "y10"
                }
              ],
              "layout": {
                "annotations": [
                  {
                    "font": {
                      "size": 16
                    },
                    "showarrow": false,
                    "text": "additional monetization/savings from CRM",
                    "x": 0.225,
                    "xanchor": "center",
                    "xref": "paper",
                    "y": 1,
                    "yanchor": "bottom",
                    "yref": "paper"
                  },
                  {
                    "font": {
                      "size": 16
                    },
                    "showarrow": false,
                    "text": "additional monetization/savings from programs",
                    "x": 0.775,
                    "xanchor": "center",
                    "xref": "paper",
                    "y": 1,
                    "yanchor": "bottom",
                    "yref": "paper"
                  },
                  {
                    "font": {
                      "size": 16
                    },
                    "showarrow": false,
                    "text": "count leads",
                    "x": 0.225,
                    "xanchor": "center",
                    "xref": "paper",
                    "y": 0.78,
                    "yanchor": "bottom",
                    "yref": "paper"
                  },
                  {
                    "font": {
                      "size": 16
                    },
                    "showarrow": false,
                    "text": "count sessions on .projuventute.ch",
                    "x": 0.775,
                    "xanchor": "center",
                    "xref": "paper",
                    "y": 0.78,
                    "yanchor": "bottom",
                    "yref": "paper"
                  },
                  {
                    "font": {
                      "size": 16
                    },
                    "showarrow": false,
                    "text": "involuntary headcount change (FTE)",
                    "x": 0.225,
                    "xanchor": "center",
                    "xref": "paper",
                    "y": 0.56,
                    "yanchor": "bottom",
                    "yref": "paper"
                  },
                  {
                    "font": {
                      "size": 16
                    },
                    "showarrow": false,
                    "text": "net promoter score",
                    "x": 0.775,
                    "xanchor": "center",
                    "xref": "paper",
                    "y": 0.56,
                    "yanchor": "bottom",
                    "yref": "paper"
                  },
                  {
                    "font": {
                      "size": 16
                    },
                    "showarrow": false,
                    "text": "private donations",
                    "x": 0.225,
                    "xanchor": "center",
                    "xref": "paper",
                    "y": 0.33999999999999997,
                    "yanchor": "bottom",
                    "yref": "paper"
                  },
                  {
                    "font": {
                      "size": 16
                    },
                    "showarrow": false,
                    "text": "reachability",
                    "x": 0.775,
                    "xanchor": "center",
                    "xref": "paper",
                    "y": 0.33999999999999997,
                    "yanchor": "bottom",
                    "yref": "paper"
                  },
                  {
                    "font": {
                      "size": 16
                    },
                    "showarrow": false,
                    "text": "share of teams constituted as circles",
                    "x": 0.225,
                    "xanchor": "center",
                    "xref": "paper",
                    "y": 0.12,
                    "yanchor": "bottom",
                    "yref": "paper"
                  },
                  {
                    "font": {
                      "size": 16
                    },
                    "showarrow": false,
                    "text": "share short tern leave",
                    "x": 0.775,
                    "xanchor": "center",
                    "xref": "paper",
                    "y": 0.12,
                    "yanchor": "bottom",
                    "yref": "paper"
                  }
                ],
                "height": 1200,
                "template": {
                  "data": {
                    "bar": [
                      {
                        "error_x": {
                          "color": "#2a3f5f"
                        },
                        "error_y": {
                          "color": "#2a3f5f"
                        },
                        "marker": {
                          "line": {
                            "color": "#E5ECF6",
                            "width": 0.5
                          },
                          "pattern": {
                            "fillmode": "overlay",
                            "size": 10,
                            "solidity": 0.2
                          }
                        },
                        "type": "bar"
                      }
                    ],
                    "barpolar": [
                      {
                        "marker": {
                          "line": {
                            "color": "#E5ECF6",
                            "width": 0.5
                          },
                          "pattern": {
                            "fillmode": "overlay",
                            "size": 10,
                            "solidity": 0.2
                          }
                        },
                        "type": "barpolar"
                      }
                    ],
                    "carpet": [
                      {
                        "aaxis": {
                          "endlinecolor": "#2a3f5f",
                          "gridcolor": "white",
                          "linecolor": "white",
                          "minorgridcolor": "white",
                          "startlinecolor": "#2a3f5f"
                        },
                        "baxis": {
                          "endlinecolor": "#2a3f5f",
                          "gridcolor": "white",
                          "linecolor": "white",
                          "minorgridcolor": "white",
                          "startlinecolor": "#2a3f5f"
                        },
                        "type": "carpet"
                      }
                    ],
                    "choropleth": [
                      {
                        "colorbar": {
                          "outlinewidth": 0,
                          "ticks": ""
                        },
                        "type": "choropleth"
                      }
                    ],
                    "contour": [
                      {
                        "colorbar": {
                          "outlinewidth": 0,
                          "ticks": ""
                        },
                        "colorscale": [
                          [
                            0,
                            "#0d0887"
                          ],
                          [
                            0.1111111111111111,
                            "#46039f"
                          ],
                          [
                            0.2222222222222222,
                            "#7201a8"
                          ],
                          [
                            0.3333333333333333,
                            "#9c179e"
                          ],
                          [
                            0.4444444444444444,
                            "#bd3786"
                          ],
                          [
                            0.5555555555555556,
                            "#d8576b"
                          ],
                          [
                            0.6666666666666666,
                            "#ed7953"
                          ],
                          [
                            0.7777777777777778,
                            "#fb9f3a"
                          ],
                          [
                            0.8888888888888888,
                            "#fdca26"
                          ],
                          [
                            1,
                            "#f0f921"
                          ]
                        ],
                        "type": "contour"
                      }
                    ],
                    "contourcarpet": [
                      {
                        "colorbar": {
                          "outlinewidth": 0,
                          "ticks": ""
                        },
                        "type": "contourcarpet"
                      }
                    ],
                    "heatmap": [
                      {
                        "colorbar": {
                          "outlinewidth": 0,
                          "ticks": ""
                        },
                        "colorscale": [
                          [
                            0,
                            "#0d0887"
                          ],
                          [
                            0.1111111111111111,
                            "#46039f"
                          ],
                          [
                            0.2222222222222222,
                            "#7201a8"
                          ],
                          [
                            0.3333333333333333,
                            "#9c179e"
                          ],
                          [
                            0.4444444444444444,
                            "#bd3786"
                          ],
                          [
                            0.5555555555555556,
                            "#d8576b"
                          ],
                          [
                            0.6666666666666666,
                            "#ed7953"
                          ],
                          [
                            0.7777777777777778,
                            "#fb9f3a"
                          ],
                          [
                            0.8888888888888888,
                            "#fdca26"
                          ],
                          [
                            1,
                            "#f0f921"
                          ]
                        ],
                        "type": "heatmap"
                      }
                    ],
                    "heatmapgl": [
                      {
                        "colorbar": {
                          "outlinewidth": 0,
                          "ticks": ""
                        },
                        "colorscale": [
                          [
                            0,
                            "#0d0887"
                          ],
                          [
                            0.1111111111111111,
                            "#46039f"
                          ],
                          [
                            0.2222222222222222,
                            "#7201a8"
                          ],
                          [
                            0.3333333333333333,
                            "#9c179e"
                          ],
                          [
                            0.4444444444444444,
                            "#bd3786"
                          ],
                          [
                            0.5555555555555556,
                            "#d8576b"
                          ],
                          [
                            0.6666666666666666,
                            "#ed7953"
                          ],
                          [
                            0.7777777777777778,
                            "#fb9f3a"
                          ],
                          [
                            0.8888888888888888,
                            "#fdca26"
                          ],
                          [
                            1,
                            "#f0f921"
                          ]
                        ],
                        "type": "heatmapgl"
                      }
                    ],
                    "histogram": [
                      {
                        "marker": {
                          "pattern": {
                            "fillmode": "overlay",
                            "size": 10,
                            "solidity": 0.2
                          }
                        },
                        "type": "histogram"
                      }
                    ],
                    "histogram2d": [
                      {
                        "colorbar": {
                          "outlinewidth": 0,
                          "ticks": ""
                        },
                        "colorscale": [
                          [
                            0,
                            "#0d0887"
                          ],
                          [
                            0.1111111111111111,
                            "#46039f"
                          ],
                          [
                            0.2222222222222222,
                            "#7201a8"
                          ],
                          [
                            0.3333333333333333,
                            "#9c179e"
                          ],
                          [
                            0.4444444444444444,
                            "#bd3786"
                          ],
                          [
                            0.5555555555555556,
                            "#d8576b"
                          ],
                          [
                            0.6666666666666666,
                            "#ed7953"
                          ],
                          [
                            0.7777777777777778,
                            "#fb9f3a"
                          ],
                          [
                            0.8888888888888888,
                            "#fdca26"
                          ],
                          [
                            1,
                            "#f0f921"
                          ]
                        ],
                        "type": "histogram2d"
                      }
                    ],
                    "histogram2dcontour": [
                      {
                        "colorbar": {
                          "outlinewidth": 0,
                          "ticks": ""
                        },
                        "colorscale": [
                          [
                            0,
                            "#0d0887"
                          ],
                          [
                            0.1111111111111111,
                            "#46039f"
                          ],
                          [
                            0.2222222222222222,
                            "#7201a8"
                          ],
                          [
                            0.3333333333333333,
                            "#9c179e"
                          ],
                          [
                            0.4444444444444444,
                            "#bd3786"
                          ],
                          [
                            0.5555555555555556,
                            "#d8576b"
                          ],
                          [
                            0.6666666666666666,
                            "#ed7953"
                          ],
                          [
                            0.7777777777777778,
                            "#fb9f3a"
                          ],
                          [
                            0.8888888888888888,
                            "#fdca26"
                          ],
                          [
                            1,
                            "#f0f921"
                          ]
                        ],
                        "type": "histogram2dcontour"
                      }
                    ],
                    "mesh3d": [
                      {
                        "colorbar": {
                          "outlinewidth": 0,
                          "ticks": ""
                        },
                        "type": "mesh3d"
                      }
                    ],
                    "parcoords": [
                      {
                        "line": {
                          "colorbar": {
                            "outlinewidth": 0,
                            "ticks": ""
                          }
                        },
                        "type": "parcoords"
                      }
                    ],
                    "pie": [
                      {
                        "automargin": true,
                        "type": "pie"
                      }
                    ],
                    "scatter": [
                      {
                        "fillpattern": {
                          "fillmode": "overlay",
                          "size": 10,
                          "solidity": 0.2
                        },
                        "type": "scatter"
                      }
                    ],
                    "scatter3d": [
                      {
                        "line": {
                          "colorbar": {
                            "outlinewidth": 0,
                            "ticks": ""
                          }
                        },
                        "marker": {
                          "colorbar": {
                            "outlinewidth": 0,
                            "ticks": ""
                          }
                        },
                        "type": "scatter3d"
                      }
                    ],
                    "scattercarpet": [
                      {
                        "marker": {
                          "colorbar": {
                            "outlinewidth": 0,
                            "ticks": ""
                          }
                        },
                        "type": "scattercarpet"
                      }
                    ],
                    "scattergeo": [
                      {
                        "marker": {
                          "colorbar": {
                            "outlinewidth": 0,
                            "ticks": ""
                          }
                        },
                        "type": "scattergeo"
                      }
                    ],
                    "scattergl": [
                      {
                        "marker": {
                          "colorbar": {
                            "outlinewidth": 0,
                            "ticks": ""
                          }
                        },
                        "type": "scattergl"
                      }
                    ],
                    "scattermapbox": [
                      {
                        "marker": {
                          "colorbar": {
                            "outlinewidth": 0,
                            "ticks": ""
                          }
                        },
                        "type": "scattermapbox"
                      }
                    ],
                    "scatterpolar": [
                      {
                        "marker": {
                          "colorbar": {
                            "outlinewidth": 0,
                            "ticks": ""
                          }
                        },
                        "type": "scatterpolar"
                      }
                    ],
                    "scatterpolargl": [
                      {
                        "marker": {
                          "colorbar": {
                            "outlinewidth": 0,
                            "ticks": ""
                          }
                        },
                        "type": "scatterpolargl"
                      }
                    ],
                    "scatterternary": [
                      {
                        "marker": {
                          "colorbar": {
                            "outlinewidth": 0,
                            "ticks": ""
                          }
                        },
                        "type": "scatterternary"
                      }
                    ],
                    "surface": [
                      {
                        "colorbar": {
                          "outlinewidth": 0,
                          "ticks": ""
                        },
                        "colorscale": [
                          [
                            0,
                            "#0d0887"
                          ],
                          [
                            0.1111111111111111,
                            "#46039f"
                          ],
                          [
                            0.2222222222222222,
                            "#7201a8"
                          ],
                          [
                            0.3333333333333333,
                            "#9c179e"
                          ],
                          [
                            0.4444444444444444,
                            "#bd3786"
                          ],
                          [
                            0.5555555555555556,
                            "#d8576b"
                          ],
                          [
                            0.6666666666666666,
                            "#ed7953"
                          ],
                          [
                            0.7777777777777778,
                            "#fb9f3a"
                          ],
                          [
                            0.8888888888888888,
                            "#fdca26"
                          ],
                          [
                            1,
                            "#f0f921"
                          ]
                        ],
                        "type": "surface"
                      }
                    ],
                    "table": [
                      {
                        "cells": {
                          "fill": {
                            "color": "#EBF0F8"
                          },
                          "line": {
                            "color": "white"
                          }
                        },
                        "header": {
                          "fill": {
                            "color": "#C8D4E3"
                          },
                          "line": {
                            "color": "white"
                          }
                        },
                        "type": "table"
                      }
                    ]
                  },
                  "layout": {
                    "annotationdefaults": {
                      "arrowcolor": "#2a3f5f",
                      "arrowhead": 0,
                      "arrowwidth": 1
                    },
                    "autotypenumbers": "strict",
                    "coloraxis": {
                      "colorbar": {
                        "outlinewidth": 0,
                        "ticks": ""
                      }
                    },
                    "colorscale": {
                      "diverging": [
                        [
                          0,
                          "#8e0152"
                        ],
                        [
                          0.1,
                          "#c51b7d"
                        ],
                        [
                          0.2,
                          "#de77ae"
                        ],
                        [
                          0.3,
                          "#f1b6da"
                        ],
                        [
                          0.4,
                          "#fde0ef"
                        ],
                        [
                          0.5,
                          "#f7f7f7"
                        ],
                        [
                          0.6,
                          "#e6f5d0"
                        ],
                        [
                          0.7,
                          "#b8e186"
                        ],
                        [
                          0.8,
                          "#7fbc41"
                        ],
                        [
                          0.9,
                          "#4d9221"
                        ],
                        [
                          1,
                          "#276419"
                        ]
                      ],
                      "sequential": [
                        [
                          0,
                          "#0d0887"
                        ],
                        [
                          0.1111111111111111,
                          "#46039f"
                        ],
                        [
                          0.2222222222222222,
                          "#7201a8"
                        ],
                        [
                          0.3333333333333333,
                          "#9c179e"
                        ],
                        [
                          0.4444444444444444,
                          "#bd3786"
                        ],
                        [
                          0.5555555555555556,
                          "#d8576b"
                        ],
                        [
                          0.6666666666666666,
                          "#ed7953"
                        ],
                        [
                          0.7777777777777778,
                          "#fb9f3a"
                        ],
                        [
                          0.8888888888888888,
                          "#fdca26"
                        ],
                        [
                          1,
                          "#f0f921"
                        ]
                      ],
                      "sequentialminus": [
                        [
                          0,
                          "#0d0887"
                        ],
                        [
                          0.1111111111111111,
                          "#46039f"
                        ],
                        [
                          0.2222222222222222,
                          "#7201a8"
                        ],
                        [
                          0.3333333333333333,
                          "#9c179e"
                        ],
                        [
                          0.4444444444444444,
                          "#bd3786"
                        ],
                        [
                          0.5555555555555556,
                          "#d8576b"
                        ],
                        [
                          0.6666666666666666,
                          "#ed7953"
                        ],
                        [
                          0.7777777777777778,
                          "#fb9f3a"
                        ],
                        [
                          0.8888888888888888,
                          "#fdca26"
                        ],
                        [
                          1,
                          "#f0f921"
                        ]
                      ]
                    },
                    "colorway": [
                      "#636efa",
                      "#EF553B",
                      "#00cc96",
                      "#ab63fa",
                      "#FFA15A",
                      "#19d3f3",
                      "#FF6692",
                      "#B6E880",
                      "#FF97FF",
                      "#FECB52"
                    ],
                    "font": {
                      "color": "#2a3f5f"
                    },
                    "geo": {
                      "bgcolor": "white",
                      "lakecolor": "white",
                      "landcolor": "#E5ECF6",
                      "showlakes": true,
                      "showland": true,
                      "subunitcolor": "white"
                    },
                    "hoverlabel": {
                      "align": "left"
                    },
                    "hovermode": "closest",
                    "mapbox": {
                      "style": "light"
                    },
                    "paper_bgcolor": "white",
                    "plot_bgcolor": "#E5ECF6",
                    "polar": {
                      "angularaxis": {
                        "gridcolor": "white",
                        "linecolor": "white",
                        "ticks": ""
                      },
                      "bgcolor": "#E5ECF6",
                      "radialaxis": {
                        "gridcolor": "white",
                        "linecolor": "white",
                        "ticks": ""
                      }
                    },
                    "scene": {
                      "xaxis": {
                        "backgroundcolor": "#E5ECF6",
                        "gridcolor": "white",
                        "gridwidth": 2,
                        "linecolor": "white",
                        "showbackground": true,
                        "ticks": "",
                        "zerolinecolor": "white"
                      },
                      "yaxis": {
                        "backgroundcolor": "#E5ECF6",
                        "gridcolor": "white",
                        "gridwidth": 2,
                        "linecolor": "white",
                        "showbackground": true,
                        "ticks": "",
                        "zerolinecolor": "white"
                      },
                      "zaxis": {
                        "backgroundcolor": "#E5ECF6",
                        "gridcolor": "white",
                        "gridwidth": 2,
                        "linecolor": "white",
                        "showbackground": true,
                        "ticks": "",
                        "zerolinecolor": "white"
                      }
                    },
                    "shapedefaults": {
                      "line": {
                        "color": "#2a3f5f"
                      }
                    },
                    "ternary": {
                      "aaxis": {
                        "gridcolor": "white",
                        "linecolor": "white",
                        "ticks": ""
                      },
                      "baxis": {
                        "gridcolor": "white",
                        "linecolor": "white",
                        "ticks": ""
                      },
                      "bgcolor": "#E5ECF6",
                      "caxis": {
                        "gridcolor": "white",
                        "linecolor": "white",
                        "ticks": ""
                      }
                    },
                    "title": {
                      "x": 0.05
                    },
                    "xaxis": {
                      "automargin": true,
                      "gridcolor": "white",
                      "linecolor": "white",
                      "ticks": "",
                      "title": {
                        "standoff": 15
                      },
                      "zerolinecolor": "white",
                      "zerolinewidth": 2
                    },
                    "yaxis": {
                      "automargin": true,
                      "gridcolor": "white",
                      "linecolor": "white",
                      "ticks": "",
                      "title": {
                        "standoff": 15
                      },
                      "zerolinecolor": "white",
                      "zerolinewidth": 2
                    }
                  }
                },
                "title": {
                  "text": "Time Series of Each KPI"
                },
                "width": 1000,
                "xaxis": {
                  "anchor": "y",
                  "domain": [
                    0,
                    0.45
                  ]
                },
                "xaxis10": {
                  "anchor": "y10",
                  "domain": [
                    0.55,
                    1
                  ]
                },
                "xaxis2": {
                  "anchor": "y2",
                  "domain": [
                    0.55,
                    1
                  ]
                },
                "xaxis3": {
                  "anchor": "y3",
                  "domain": [
                    0,
                    0.45
                  ]
                },
                "xaxis4": {
                  "anchor": "y4",
                  "domain": [
                    0.55,
                    1
                  ]
                },
                "xaxis5": {
                  "anchor": "y5",
                  "domain": [
                    0,
                    0.45
                  ]
                },
                "xaxis6": {
                  "anchor": "y6",
                  "domain": [
                    0.55,
                    1
                  ]
                },
                "xaxis7": {
                  "anchor": "y7",
                  "domain": [
                    0,
                    0.45
                  ]
                },
                "xaxis8": {
                  "anchor": "y8",
                  "domain": [
                    0.55,
                    1
                  ]
                },
                "xaxis9": {
                  "anchor": "y9",
                  "domain": [
                    0,
                    0.45
                  ]
                },
                "yaxis": {
                  "anchor": "x",
                  "domain": [
                    0.88,
                    1
                  ]
                },
                "yaxis10": {
                  "anchor": "x10",
                  "domain": [
                    0,
                    0.12
                  ]
                },
                "yaxis2": {
                  "anchor": "x2",
                  "domain": [
                    0.88,
                    1
                  ]
                },
                "yaxis3": {
                  "anchor": "x3",
                  "domain": [
                    0.66,
                    0.78
                  ]
                },
                "yaxis4": {
                  "anchor": "x4",
                  "domain": [
                    0.66,
                    0.78
                  ]
                },
                "yaxis5": {
                  "anchor": "x5",
                  "domain": [
                    0.44,
                    0.56
                  ]
                },
                "yaxis6": {
                  "anchor": "x6",
                  "domain": [
                    0.44,
                    0.56
                  ]
                },
                "yaxis7": {
                  "anchor": "x7",
                  "domain": [
                    0.22,
                    0.33999999999999997
                  ]
                },
                "yaxis8": {
                  "anchor": "x8",
                  "domain": [
                    0.22,
                    0.33999999999999997
                  ]
                },
                "yaxis9": {
                  "anchor": "x9",
                  "domain": [
                    0,
                    0.12
                  ]
                }
              }
            }
          },
          "metadata": {},
          "output_type": "display_data"
        }
      ],
      "source": [
        "# Creating subplots for the time series of each KPI (smoothed)\n",
        "fig = make_subplots(rows=5, cols=2, subplot_titles=kpis, shared_xaxes=False)\n",
        "\n",
        "row = 1\n",
        "col = 1\n",
        "for kpi in kpis:\n",
        "    dfKpi = dfAllYearsSmooth[dfAllYearsSmooth['kpi'] == kpi]\n",
        "    trace = go.Scatter(x=dfKpi['date'], y=dfKpi['value'], name=kpi, mode='lines')\n",
        "    fig.add_trace(trace, row=row, col=col)\n",
        "    col += 1\n",
        "    if col > 2:\n",
        "        col = 1\n",
        "        row += 1\n",
        "\n",
        "fig.update_layout(height=1200, width=1000, title_text='Time Series of Each KPI')\n",
        "fig.show()\n"
      ]
    },
    {
      "cell_type": "code",
      "execution_count": 283,
      "metadata": {},
      "outputs": [
        {
          "name": "stdout",
          "output_type": "stream",
          "text": [
            "True\n"
          ]
        }
      ],
      "source": [
        "# check for missing values caused by moving average. Replace nans if existent\n",
        "if dfAllYearsSmooth[dfAllYearsSmooth.value.isna()]['period_year'].empty == False:\n",
        "    dfNan = dfAllYearsSmooth.loc[dfAllYearsSmooth.value.isna(),'circle':'date']\n",
        "\n",
        "    # retrieve values that the moving average cancelled out \n",
        "    for i in range(len(dfNan)):\n",
        "        tempDict = dict(dfNan.iloc[i])\n",
        "        val = dfAllYears.loc[\n",
        "            (dfAllYears.circle == tempDict['circle'])&\n",
        "            (dfAllYears.kpi == tempDict['kpi'])& \n",
        "            (dfAllYears.date == tempDict['date']),'value'].values[0]\n",
        "        \n",
        "        dfAllYearsSmooth.loc[\n",
        "            (dfAllYearsSmooth.circle == tempDict['circle'])&\n",
        "            (dfAllYearsSmooth.kpi == tempDict['kpi'])& \n",
        "            (dfAllYearsSmooth.date == tempDict['date']),'value'] = val\n",
        "        \n",
        "print(dfAllYearsSmooth.loc[dfAllYearsSmooth.value.isna(),'circle':].empty == True)"
      ]
    },
    {
      "cell_type": "code",
      "execution_count": 284,
      "metadata": {},
      "outputs": [
        {
          "data": {
            "application/vnd.plotly.v1+json": {
              "config": {
                "plotlyServerURL": "https://plot.ly"
              },
              "data": [
                {
                  "mode": "lines",
                  "name": "additional monetization/savings from CRM",
                  "type": "scatter",
                  "x": [
                    "2014-03-01",
                    "2014-03-01",
                    "2014-03-01",
                    "2014-06-01",
                    "2014-06-01",
                    "2014-06-01",
                    "2014-09-01",
                    "2014-09-01",
                    "2014-09-01",
                    "2014-12-01",
                    "2014-12-01",
                    "2014-12-01",
                    "2015-03-01",
                    "2015-03-01",
                    "2015-03-01",
                    "2015-06-01",
                    "2015-06-01",
                    "2015-06-01",
                    "2015-09-01",
                    "2015-09-01",
                    "2015-09-01",
                    "2015-12-01",
                    "2015-12-01",
                    "2015-12-01",
                    "2016-03-01",
                    "2016-03-01",
                    "2016-03-01",
                    "2016-06-01",
                    "2016-06-01",
                    "2016-06-01",
                    "2016-09-01",
                    "2016-09-01",
                    "2016-09-01",
                    "2016-12-01",
                    "2016-12-01",
                    "2016-12-01",
                    "2017-03-01",
                    "2017-03-01",
                    "2017-03-01",
                    "2017-06-01",
                    "2017-06-01",
                    "2017-06-01",
                    "2017-09-01",
                    "2017-09-01",
                    "2017-09-01",
                    "2017-12-01",
                    "2017-12-01",
                    "2017-12-01",
                    "2018-03-01",
                    "2018-03-01",
                    "2018-03-01",
                    "2018-06-01",
                    "2018-06-01",
                    "2018-06-01",
                    "2018-09-01",
                    "2018-09-01",
                    "2018-09-01",
                    "2018-12-01",
                    "2018-12-01",
                    "2018-12-01",
                    "2019-03-01",
                    "2019-03-01",
                    "2019-03-01",
                    "2019-06-01",
                    "2019-06-01",
                    "2019-06-01",
                    "2019-09-01",
                    "2019-09-01",
                    "2019-09-01",
                    "2019-12-01",
                    "2019-12-01",
                    "2019-12-01",
                    "2020-03-01",
                    "2020-03-01",
                    "2020-03-01",
                    "2020-06-01",
                    "2020-06-01",
                    "2020-06-01",
                    "2020-09-01",
                    "2020-09-01",
                    "2020-09-01",
                    "2020-12-01",
                    "2020-12-01",
                    "2020-12-01",
                    "2021-03-01",
                    "2021-03-01",
                    "2021-03-01",
                    "2021-06-01",
                    "2021-06-01",
                    "2021-06-01",
                    "2021-09-01",
                    "2021-09-01",
                    "2021-09-01",
                    "2021-12-01",
                    "2021-12-01",
                    "2021-12-01",
                    "2022-03-01",
                    "2022-03-01",
                    "2022-03-01",
                    "2022-06-01",
                    "2022-06-01",
                    "2022-06-01",
                    "2022-09-01",
                    "2022-09-01",
                    "2022-09-01",
                    "2022-12-01",
                    "2022-12-01",
                    "2022-12-01",
                    "2023-03-01",
                    "2023-03-01",
                    "2023-03-01",
                    "2023-06-01",
                    "2023-06-01",
                    "2023-06-01",
                    "2023-09-01",
                    "2023-09-01",
                    "2023-09-01",
                    "2023-12-01",
                    "2023-12-01",
                    "2023-12-01"
                  ],
                  "xaxis": "x",
                  "y": [
                    24514.12,
                    24514.12,
                    24514.12,
                    23346.09,
                    23346.09,
                    23346.09,
                    14161.84,
                    14161.84,
                    14161.84,
                    17558.45,
                    17558.45,
                    17558.45,
                    11900.41,
                    11900.41,
                    11900.41,
                    6387.56,
                    6387.56,
                    6387.56,
                    23166.38,
                    23166.38,
                    23166.38,
                    14185.12,
                    14185.12,
                    14185.12,
                    228.56,
                    228.56,
                    228.56,
                    10242.38,
                    10242.38,
                    10242.38,
                    11017.14,
                    11017.14,
                    11017.14,
                    29593.79,
                    29593.79,
                    29593.79,
                    9837.18,
                    9837.18,
                    9837.18,
                    41719.31,
                    41719.31,
                    41719.31,
                    12127.28,
                    12127.28,
                    12127.28,
                    11827.15,
                    11827.15,
                    11827.15,
                    32546.24,
                    32546.24,
                    32546.24,
                    87600.48,
                    87600.48,
                    87600.48,
                    79378.54,
                    79378.54,
                    79378.54,
                    2407.76,
                    2407.76,
                    2407.76,
                    35922.06,
                    35922.06,
                    35922.06,
                    14883.89,
                    14883.89,
                    14883.89,
                    19893.39,
                    19893.39,
                    19893.39,
                    31170.31,
                    31170.31,
                    31170.31,
                    29323.87,
                    29323.87,
                    29323.87,
                    2460.47,
                    2460.47,
                    2460.47,
                    2560.64,
                    2560.64,
                    2560.64,
                    8221.02,
                    8221.02,
                    8221.02,
                    37724.41,
                    37724.41,
                    37724.41,
                    6875.3,
                    6875.3,
                    6875.3,
                    20207.81,
                    20207.81,
                    20207.81,
                    7784.45,
                    7784.45,
                    7784.45,
                    25708.78,
                    25708.78,
                    25708.78,
                    7921.44,
                    7921.44,
                    7921.44,
                    16816.78,
                    16816.78,
                    16816.78,
                    8355.05,
                    8355.05,
                    8355.05,
                    51000,
                    51000,
                    51000,
                    0,
                    0,
                    0,
                    0,
                    0,
                    0,
                    17000,
                    17000,
                    17000
                  ],
                  "yaxis": "y"
                },
                {
                  "mode": "lines",
                  "name": "additional monetization/savings from programs",
                  "type": "scatter",
                  "x": [
                    "2014-03-01",
                    "2014-03-01",
                    "2014-03-01",
                    "2014-06-01",
                    "2014-06-01",
                    "2014-06-01",
                    "2014-09-01",
                    "2014-09-01",
                    "2014-09-01",
                    "2014-12-01",
                    "2014-12-01",
                    "2014-12-01",
                    "2015-03-01",
                    "2015-03-01",
                    "2015-03-01",
                    "2015-06-01",
                    "2015-06-01",
                    "2015-06-01",
                    "2015-09-01",
                    "2015-09-01",
                    "2015-09-01",
                    "2015-12-01",
                    "2015-12-01",
                    "2015-12-01",
                    "2016-03-01",
                    "2016-03-01",
                    "2016-03-01",
                    "2016-06-01",
                    "2016-06-01",
                    "2016-06-01",
                    "2016-09-01",
                    "2016-09-01",
                    "2016-09-01",
                    "2016-12-01",
                    "2016-12-01",
                    "2016-12-01",
                    "2017-03-01",
                    "2017-03-01",
                    "2017-03-01",
                    "2017-06-01",
                    "2017-06-01",
                    "2017-06-01",
                    "2017-09-01",
                    "2017-09-01",
                    "2017-09-01",
                    "2017-12-01",
                    "2017-12-01",
                    "2017-12-01",
                    "2018-03-01",
                    "2018-03-01",
                    "2018-03-01",
                    "2018-06-01",
                    "2018-06-01",
                    "2018-06-01",
                    "2018-09-01",
                    "2018-09-01",
                    "2018-09-01",
                    "2018-12-01",
                    "2018-12-01",
                    "2018-12-01",
                    "2019-03-01",
                    "2019-03-01",
                    "2019-03-01",
                    "2019-06-01",
                    "2019-06-01",
                    "2019-06-01",
                    "2019-09-01",
                    "2019-09-01",
                    "2019-09-01",
                    "2019-12-01",
                    "2019-12-01",
                    "2019-12-01",
                    "2020-03-01",
                    "2020-03-01",
                    "2020-03-01",
                    "2020-06-01",
                    "2020-06-01",
                    "2020-06-01",
                    "2020-09-01",
                    "2020-09-01",
                    "2020-09-01",
                    "2020-12-01",
                    "2020-12-01",
                    "2020-12-01",
                    "2021-03-01",
                    "2021-03-01",
                    "2021-03-01",
                    "2021-06-01",
                    "2021-06-01",
                    "2021-06-01",
                    "2021-09-01",
                    "2021-09-01",
                    "2021-09-01",
                    "2021-12-01",
                    "2021-12-01",
                    "2021-12-01",
                    "2022-03-01",
                    "2022-03-01",
                    "2022-03-01",
                    "2022-06-01",
                    "2022-06-01",
                    "2022-06-01",
                    "2022-09-01",
                    "2022-09-01",
                    "2022-09-01",
                    "2022-12-01",
                    "2022-12-01",
                    "2022-12-01",
                    "2023-03-01",
                    "2023-03-01",
                    "2023-03-01",
                    "2023-06-01",
                    "2023-06-01",
                    "2023-06-01",
                    "2023-09-01",
                    "2023-09-01",
                    "2023-09-01",
                    "2023-12-01",
                    "2023-12-01",
                    "2023-12-01"
                  ],
                  "xaxis": "x2",
                  "y": [
                    252685.97,
                    252685.97,
                    252685.97,
                    19171.68,
                    19171.68,
                    19171.68,
                    42850.85,
                    42850.85,
                    42850.85,
                    120769.67,
                    120769.67,
                    120769.67,
                    59854.49,
                    59854.49,
                    59854.49,
                    98392.28,
                    98392.28,
                    98392.28,
                    58148.09,
                    58148.09,
                    58148.09,
                    51376.5,
                    51376.5,
                    51376.5,
                    160994.45,
                    160994.45,
                    160994.45,
                    75724.5,
                    75724.5,
                    75724.5,
                    164385.97,
                    164385.97,
                    164385.97,
                    142473.52,
                    142473.52,
                    142473.52,
                    99118.91,
                    99118.91,
                    99118.91,
                    101822.41,
                    101822.41,
                    101822.41,
                    282011.51,
                    282011.51,
                    282011.51,
                    29737.23,
                    29737.23,
                    29737.23,
                    203219.52,
                    203219.52,
                    203219.52,
                    55938.2,
                    55938.2,
                    55938.2,
                    262361.99,
                    262361.99,
                    262361.99,
                    291285.01,
                    291285.01,
                    291285.01,
                    7435.96,
                    7435.96,
                    7435.96,
                    30079.82,
                    30079.82,
                    30079.82,
                    66207.8,
                    66207.8,
                    66207.8,
                    64051.86,
                    64051.86,
                    64051.86,
                    7347.69,
                    7347.69,
                    7347.69,
                    90489.64,
                    90489.64,
                    90489.64,
                    62086.79,
                    62086.79,
                    62086.79,
                    61696.92,
                    61696.92,
                    61696.92,
                    300008.57,
                    300008.57,
                    300008.57,
                    59237.67,
                    59237.67,
                    59237.67,
                    292443.89,
                    292443.89,
                    292443.89,
                    13265.1,
                    13265.1,
                    13265.1,
                    136086.88,
                    136086.88,
                    136086.88,
                    302438.98,
                    302438.98,
                    302438.98,
                    14621.48,
                    14621.48,
                    14621.48,
                    93340.73,
                    93340.73,
                    93340.73,
                    186258,
                    186258,
                    186258,
                    0,
                    0,
                    0,
                    26000,
                    26000,
                    26000,
                    70752.67,
                    70752.67,
                    70752.67
                  ],
                  "yaxis": "y2"
                },
                {
                  "mode": "lines",
                  "name": "count leads",
                  "type": "scatter",
                  "x": [
                    "2014-01-01",
                    "2014-02-01",
                    "2014-03-01",
                    "2014-04-01",
                    "2014-05-01",
                    "2014-06-01",
                    "2014-07-01",
                    "2014-08-01",
                    "2014-09-01",
                    "2014-10-01",
                    "2014-11-01",
                    "2014-12-01",
                    "2015-01-01",
                    "2015-02-01",
                    "2015-03-01",
                    "2015-04-01",
                    "2015-05-01",
                    "2015-06-01",
                    "2015-07-01",
                    "2015-08-01",
                    "2015-09-01",
                    "2015-10-01",
                    "2015-11-01",
                    "2015-12-01",
                    "2016-01-01",
                    "2016-02-01",
                    "2016-03-01",
                    "2016-04-01",
                    "2016-05-01",
                    "2016-06-01",
                    "2016-07-01",
                    "2016-08-01",
                    "2016-09-01",
                    "2016-10-01",
                    "2016-11-01",
                    "2016-12-01",
                    "2017-01-01",
                    "2017-02-01",
                    "2017-03-01",
                    "2017-04-01",
                    "2017-05-01",
                    "2017-06-01",
                    "2017-07-01",
                    "2017-08-01",
                    "2017-09-01",
                    "2017-10-01",
                    "2017-11-01",
                    "2017-12-01",
                    "2018-01-01",
                    "2018-02-01",
                    "2018-03-01",
                    "2018-04-01",
                    "2018-05-01",
                    "2018-06-01",
                    "2018-07-01",
                    "2018-08-01",
                    "2018-09-01",
                    "2018-10-01",
                    "2018-11-01",
                    "2018-12-01",
                    "2019-01-01",
                    "2019-02-01",
                    "2019-03-01",
                    "2019-04-01",
                    "2019-05-01",
                    "2019-06-01",
                    "2019-07-01",
                    "2019-08-01",
                    "2019-09-01",
                    "2019-10-01",
                    "2019-11-01",
                    "2019-12-01",
                    "2020-01-01",
                    "2020-02-01",
                    "2020-03-01",
                    "2020-04-01",
                    "2020-05-01",
                    "2020-06-01",
                    "2020-07-01",
                    "2020-08-01",
                    "2020-09-01",
                    "2020-10-01",
                    "2020-11-01",
                    "2020-12-01",
                    "2021-01-01",
                    "2021-02-01",
                    "2021-03-01",
                    "2021-04-01",
                    "2021-05-01",
                    "2021-06-01",
                    "2021-07-01",
                    "2021-08-01",
                    "2021-09-01",
                    "2021-10-01",
                    "2021-11-01",
                    "2021-12-01",
                    "2022-01-01",
                    "2022-02-01",
                    "2022-03-01",
                    "2022-04-01",
                    "2022-05-01",
                    "2022-06-01",
                    "2022-07-01",
                    "2022-08-01",
                    "2022-09-01",
                    "2022-10-01",
                    "2022-11-01",
                    "2022-12-01",
                    "2023-01-01",
                    "2023-02-01",
                    "2023-03-01",
                    "2023-04-01",
                    "2023-05-01",
                    "2023-06-01",
                    "2023-07-01",
                    "2023-08-01",
                    "2023-09-01",
                    "2023-10-01",
                    "2023-11-01",
                    "2023-12-01"
                  ],
                  "xaxis": "x3",
                  "y": [
                    128.20486277568435,
                    192.46243840134466,
                    235.9218714315344,
                    297.24109207431775,
                    313.1616043940488,
                    327.6686626222014,
                    249.01122840580243,
                    224.9409550773559,
                    184.35013075055915,
                    169.1458209384014,
                    206.3994037709058,
                    223.61156890200655,
                    244.3063327090885,
                    220.64011972158178,
                    235.59318096731286,
                    164.149870407449,
                    172.86837673873683,
                    162.15223464356612,
                    201.53897896740173,
                    224.12166687077047,
                    227.01707118387148,
                    240.01307108611732,
                    219.75194586072035,
                    188.52631335184122,
                    161.71026872803125,
                    209.51105812411453,
                    190.4079175028913,
                    263.4067947078185,
                    299.5246529149066,
                    309.0854349307977,
                    342.5492196602755,
                    357.1746280672354,
                    305.4877240718422,
                    281.86758688332577,
                    231.80972235810805,
                    155.54363183288436,
                    159.65656578095968,
                    226.38010550068242,
                    233.47801254962138,
                    319.1191292585658,
                    403.8896331283673,
                    417.2676772288818,
                    401.15088848506156,
                    411.1103731386115,
                    367.65322077512917,
                    295.8232202107354,
                    249.85239365310062,
                    285.7974675430295,
                    322.1990072788823,
                    357.43968865756796,
                    382.9401913328092,
                    448.1957233990573,
                    360.33266623770794,
                    333.30028361394403,
                    284.2204923668709,
                    297.1995482481259,
                    246.37303871430035,
                    265.0235242440984,
                    294.4773825733542,
                    271.11910552074374,
                    229.39746040279132,
                    264.9038977058032,
                    237.76451319803687,
                    201.59885745324232,
                    245.04840295280297,
                    241.26649358398663,
                    217.739760545469,
                    236.72479110292267,
                    255.64936227777898,
                    281.12844648996463,
                    394.69051320206813,
                    444.8340113813263,
                    443.29770118714333,
                    473.9093864832441,
                    416.49408661259804,
                    387.22175122845846,
                    341.6411502930878,
                    346.7079729770141,
                    265.73552445861867,
                    361.9679683421891,
                    402.6326990247805,
                    403.1621665691935,
                    385.04817030952415,
                    428.5899866453839,
                    435.02640855745886,
                    338.8783916541896,
                    407.5522245723932,
                    452.4267725168137,
                    404.3089692055659,
                    355.56565097317497,
                    407.76455107332555,
                    399.4438593650002,
                    465.16233799124865,
                    526.2837768978914,
                    475.44744281699514,
                    426.6203235206676,
                    434.3401968954525,
                    424.5815115450687,
                    347.0058487597422,
                    383.6120369005522,
                    394.1413158470882,
                    372.9493161643048,
                    359.47362792549177,
                    407.08515096520296,
                    351.70338794051037,
                    335.4842517144989,
                    358.94041161804324,
                    309.11986564869596,
                    383.6980053943113,
                    517.8531473264657,
                    586.8,
                    537.2,
                    540.4,
                    552.2,
                    496.4,
                    467.6,
                    502.6,
                    583.8,
                    583.8,
                    583.8
                  ],
                  "yaxis": "y3"
                },
                {
                  "mode": "lines",
                  "name": "count sessions on .projuventute.ch",
                  "type": "scatter",
                  "x": [
                    "2014-01-01",
                    "2014-02-01",
                    "2014-03-01",
                    "2014-04-01",
                    "2014-05-01",
                    "2014-06-01",
                    "2014-07-01",
                    "2014-08-01",
                    "2014-09-01",
                    "2014-10-01",
                    "2014-11-01",
                    "2014-12-01",
                    "2015-01-01",
                    "2015-02-01",
                    "2015-03-01",
                    "2015-04-01",
                    "2015-05-01",
                    "2015-06-01",
                    "2015-07-01",
                    "2015-08-01",
                    "2015-09-01",
                    "2015-10-01",
                    "2015-11-01",
                    "2015-12-01",
                    "2016-01-01",
                    "2016-02-01",
                    "2016-03-01",
                    "2016-04-01",
                    "2016-05-01",
                    "2016-06-01",
                    "2016-07-01",
                    "2016-08-01",
                    "2016-09-01",
                    "2016-10-01",
                    "2016-11-01",
                    "2016-12-01",
                    "2017-01-01",
                    "2017-02-01",
                    "2017-03-01",
                    "2017-04-01",
                    "2017-05-01",
                    "2017-06-01",
                    "2017-07-01",
                    "2017-08-01",
                    "2017-09-01",
                    "2017-10-01",
                    "2017-11-01",
                    "2017-12-01",
                    "2018-01-01",
                    "2018-02-01",
                    "2018-03-01",
                    "2018-04-01",
                    "2018-05-01",
                    "2018-06-01",
                    "2018-07-01",
                    "2018-08-01",
                    "2018-09-01",
                    "2018-10-01",
                    "2018-11-01",
                    "2018-12-01",
                    "2019-01-01",
                    "2019-02-01",
                    "2019-03-01",
                    "2019-04-01",
                    "2019-05-01",
                    "2019-06-01",
                    "2019-07-01",
                    "2019-08-01",
                    "2019-09-01",
                    "2019-10-01",
                    "2019-11-01",
                    "2019-12-01",
                    "2020-01-01",
                    "2020-02-01",
                    "2020-03-01",
                    "2020-04-01",
                    "2020-05-01",
                    "2020-06-01",
                    "2020-07-01",
                    "2020-08-01",
                    "2020-09-01",
                    "2020-10-01",
                    "2020-11-01",
                    "2020-12-01",
                    "2021-01-01",
                    "2021-02-01",
                    "2021-03-01",
                    "2021-04-01",
                    "2021-05-01",
                    "2021-06-01",
                    "2021-07-01",
                    "2021-08-01",
                    "2021-09-01",
                    "2021-10-01",
                    "2021-11-01",
                    "2021-12-01",
                    "2022-01-01",
                    "2022-02-01",
                    "2022-03-01",
                    "2022-04-01",
                    "2022-05-01",
                    "2022-06-01",
                    "2022-07-01",
                    "2022-08-01",
                    "2022-09-01",
                    "2022-10-01",
                    "2022-11-01",
                    "2022-12-01",
                    "2023-01-01",
                    "2023-02-01",
                    "2023-03-01",
                    "2023-04-01",
                    "2023-05-01",
                    "2023-06-01",
                    "2023-07-01",
                    "2023-08-01",
                    "2023-09-01",
                    "2023-10-01",
                    "2023-11-01",
                    "2023-12-01"
                  ],
                  "xaxis": "x4",
                  "y": [
                    92148.80962900704,
                    115356.74009627686,
                    101793.07026019585,
                    100859.32647947142,
                    98852.48446021606,
                    101751.84476785842,
                    105422.59865151392,
                    106372.6744624388,
                    113346.32693249833,
                    114595.02260166981,
                    110649.72367471573,
                    106687.43113284682,
                    108672.14098090271,
                    110803.05307272437,
                    108605.72767980788,
                    112552.91994526717,
                    112647.1061890221,
                    112969.11735660594,
                    107007.02650116212,
                    111564.02950146263,
                    116229.42196968003,
                    115177.49549749168,
                    112622.53057845667,
                    116824.65185597776,
                    110615.10604898105,
                    106808.91764142278,
                    106690.9563399844,
                    112417.40261519216,
                    111234.73450753381,
                    116057.09524544484,
                    120528.42534554782,
                    124074.92747435058,
                    117707.75349176893,
                    121394.92169232157,
                    118151.35120754114,
                    115992.2276356197,
                    116427.78081464677,
                    122854.51101730326,
                    115148.9746282849,
                    122294.35090380083,
                    123313.5915313981,
                    124471.71592334783,
                    125622.33130250708,
                    124207.15719814334,
                    121790.97887401325,
                    123823.10139491358,
                    121184.91902143587,
                    116923.7756621968,
                    120511.54318670926,
                    124389.95509821588,
                    121899.79234617509,
                    123368.57897782481,
                    126450.1103948785,
                    132172.75033614895,
                    129209.39180963619,
                    128110.46882791354,
                    130652.45758157452,
                    133186.29151601653,
                    127744.19820446635,
                    124689.42973430952,
                    119734.7162535673,
                    120023.85975755774,
                    112775.77314132654,
                    120073.59655207722,
                    116621.00880812579,
                    125256.5164870674,
                    124016.93800420858,
                    132790.64390366903,
                    130921.46215987601,
                    139298.31245368603,
                    139193.15379453305,
                    135366.53010577854,
                    134214.09174751976,
                    131075.82411494618,
                    134411.53264186493,
                    133158.02375180073,
                    140432.67161239893,
                    142767.55516048337,
                    141469.96549170502,
                    133285.9995076502,
                    136615.00216017826,
                    131334.99541045478,
                    129433.7180770803,
                    138335.1214776658,
                    141592.0031594668,
                    144131.89107425272,
                    155284.22450684296,
                    155541.63394126223,
                    157698.78040254413,
                    164708.17258433573,
                    167348.89569949295,
                    170223.01571818854,
                    179144.21954070256,
                    180526.0124304491,
                    174287.85742028235,
                    166521.1399802409,
                    156332.27171333652,
                    140810.37590843346,
                    136138.33261955465,
                    139729.0587637006,
                    139049.89328238173,
                    135248.59597869875,
                    139721.69687554945,
                    134284.89416396318,
                    131346.37388432017,
                    137606.9544431818,
                    144288.15264036012,
                    157951.92475780603,
                    170646.9267582711,
                    176191.59035870744,
                    179602,
                    182701.2,
                    174762,
                    175531.4,
                    178363.376,
                    181160.576,
                    182103.752,
                    184113.352,
                    184113.352,
                    184113.352
                  ],
                  "yaxis": "y4"
                },
                {
                  "mode": "lines",
                  "name": "involuntary headcount change (FTE)",
                  "type": "scatter",
                  "x": [
                    "2014-01-01",
                    "2014-02-01",
                    "2014-03-01",
                    "2014-04-01",
                    "2014-05-01",
                    "2014-06-01",
                    "2014-07-01",
                    "2014-08-01",
                    "2014-09-01",
                    "2014-10-01",
                    "2014-11-01",
                    "2014-12-01",
                    "2015-01-01",
                    "2015-02-01",
                    "2015-03-01",
                    "2015-04-01",
                    "2015-05-01",
                    "2015-06-01",
                    "2015-07-01",
                    "2015-08-01",
                    "2015-09-01",
                    "2015-10-01",
                    "2015-11-01",
                    "2015-12-01",
                    "2016-01-01",
                    "2016-02-01",
                    "2016-03-01",
                    "2016-04-01",
                    "2016-05-01",
                    "2016-06-01",
                    "2016-07-01",
                    "2016-08-01",
                    "2016-09-01",
                    "2016-10-01",
                    "2016-11-01",
                    "2016-12-01",
                    "2017-01-01",
                    "2017-02-01",
                    "2017-03-01",
                    "2017-04-01",
                    "2017-05-01",
                    "2017-06-01",
                    "2017-07-01",
                    "2017-08-01",
                    "2017-09-01",
                    "2017-10-01",
                    "2017-11-01",
                    "2017-12-01",
                    "2018-01-01",
                    "2018-02-01",
                    "2018-03-01",
                    "2018-04-01",
                    "2018-05-01",
                    "2018-06-01",
                    "2018-07-01",
                    "2018-08-01",
                    "2018-09-01",
                    "2018-10-01",
                    "2018-11-01",
                    "2018-12-01",
                    "2019-01-01",
                    "2019-02-01",
                    "2019-03-01",
                    "2019-04-01",
                    "2019-05-01",
                    "2019-06-01",
                    "2019-07-01",
                    "2019-08-01",
                    "2019-09-01",
                    "2019-10-01",
                    "2019-11-01",
                    "2019-12-01",
                    "2020-01-01",
                    "2020-02-01",
                    "2020-03-01",
                    "2020-04-01",
                    "2020-05-01",
                    "2020-06-01",
                    "2020-07-01",
                    "2020-08-01",
                    "2020-09-01",
                    "2020-10-01",
                    "2020-11-01",
                    "2020-12-01",
                    "2021-01-01",
                    "2021-02-01",
                    "2021-03-01",
                    "2021-04-01",
                    "2021-05-01",
                    "2021-06-01",
                    "2021-07-01",
                    "2021-08-01",
                    "2021-09-01",
                    "2021-10-01",
                    "2021-11-01",
                    "2021-12-01",
                    "2022-01-01",
                    "2022-02-01",
                    "2022-03-01",
                    "2022-04-01",
                    "2022-05-01",
                    "2022-06-01",
                    "2022-07-01",
                    "2022-08-01",
                    "2022-09-01",
                    "2022-10-01",
                    "2022-11-01",
                    "2022-12-01",
                    "2023-01-01",
                    "2023-02-01",
                    "2023-03-01",
                    "2023-04-01",
                    "2023-05-01",
                    "2023-06-01",
                    "2023-07-01",
                    "2023-08-01",
                    "2023-09-01",
                    "2023-10-01",
                    "2023-11-01",
                    "2023-12-01"
                  ],
                  "xaxis": "x5",
                  "y": [
                    1.086385985211907,
                    1.6045145750643053,
                    1.1966455568847807,
                    1.1692400303864456,
                    1.0333371153735844,
                    1.1881441406560995,
                    1.0369176964765487,
                    0.8724689002614167,
                    0.9287622992163211,
                    0.9923084156676542,
                    0.8971689784447152,
                    0.9797606391494911,
                    1.1872804818556422,
                    0.9802283295731034,
                    0.8337127992333864,
                    0.9028399656073229,
                    1.0086107012836654,
                    0.9213993861357486,
                    1.1183616892269506,
                    1.1528688237699483,
                    0.9991486758083304,
                    0.948392796030548,
                    0.9901984892301593,
                    1.0965690426686507,
                    1.025589146558364,
                    1.1749845600976312,
                    1.1576948276607375,
                    1.0856282164294202,
                    1.0674422899620535,
                    1.263115887286049,
                    1.3405394929831569,
                    1.4141144693195007,
                    1.4715808653919025,
                    1.4074207696237475,
                    1.2622594377210865,
                    1.1538471618094068,
                    0.9355191299229606,
                    0.7788438089239291,
                    0.8261677921226788,
                    0.7295805557396948,
                    0.736079345962338,
                    0.7547523836653793,
                    0.9030652726065416,
                    0.9000706767882362,
                    1.1816287698581556,
                    1.2802076983329518,
                    1.2457022850825168,
                    1.2381253019658993,
                    1.3017237762026161,
                    1.428436631695515,
                    1.445230845536038,
                    1.5869400891477365,
                    1.6986933846143366,
                    1.5262389423807527,
                    1.3204549635856053,
                    1.344346664221989,
                    1.5011198315178174,
                    1.3686862266523463,
                    1.479738156646132,
                    1.6268969317817352,
                    1.6270287032736093,
                    1.5591072385987872,
                    1.674425254768717,
                    1.6516130486441951,
                    1.5726282254928257,
                    1.293446352350122,
                    1.3022783509239322,
                    1.2591173696936464,
                    1.3136670560521124,
                    1.397407649001785,
                    1.6110911733011175,
                    1.4835160780501158,
                    1.424025921629871,
                    1.4085410770138678,
                    1.3281902661861962,
                    1.1648499669644745,
                    0.981176362042649,
                    1.1409175293622351,
                    1.0270563289022618,
                    0.7727762725729019,
                    1.119814229234268,
                    1.3462077952570934,
                    1.3836870021443015,
                    1.3895434722100368,
                    1.7176249984591507,
                    1.4844924213471118,
                    1.5802454141832825,
                    1.6554632677420487,
                    1.821877160052539,
                    1.7515009915520903,
                    1.986567027495918,
                    1.99605708209479,
                    1.9371299899877124,
                    1.973843091565572,
                    1.8707230024054258,
                    1.7504928058756346,
                    1.72961836833761,
                    1.3361422652381922,
                    0.9912394479571937,
                    1.1119714920279387,
                    1.0576224544642912,
                    1.0634664717560345,
                    1.2728019032804967,
                    1.4718219242174322,
                    1.4855224011241142,
                    1.6118741310571658,
                    1.7457809812938412,
                    1.6740168637177704,
                    1.6958996600618335,
                    1.6596283693686644,
                    1.234,
                    0.782,
                    0.688,
                    0.596,
                    0.496,
                    0.6980000000000001,
                    0.89,
                    0.788,
                    0.788,
                    0.788
                  ],
                  "yaxis": "y5"
                },
                {
                  "mode": "lines",
                  "name": "net promoter score",
                  "type": "scatter",
                  "x": [
                    "2014-01-01",
                    "2014-02-01",
                    "2014-03-01",
                    "2014-04-01",
                    "2014-05-01",
                    "2014-06-01",
                    "2014-07-01",
                    "2014-08-01",
                    "2014-09-01",
                    "2014-10-01",
                    "2014-11-01",
                    "2014-12-01",
                    "2015-01-01",
                    "2015-02-01",
                    "2015-03-01",
                    "2015-04-01",
                    "2015-05-01",
                    "2015-06-01",
                    "2015-07-01",
                    "2015-08-01",
                    "2015-09-01",
                    "2015-10-01",
                    "2015-11-01",
                    "2015-12-01",
                    "2016-01-01",
                    "2016-02-01",
                    "2016-03-01",
                    "2016-04-01",
                    "2016-05-01",
                    "2016-06-01",
                    "2016-07-01",
                    "2016-08-01",
                    "2016-09-01",
                    "2016-10-01",
                    "2016-11-01",
                    "2016-12-01",
                    "2017-01-01",
                    "2017-02-01",
                    "2017-03-01",
                    "2017-04-01",
                    "2017-05-01",
                    "2017-06-01",
                    "2017-07-01",
                    "2017-08-01",
                    "2017-09-01",
                    "2017-10-01",
                    "2017-11-01",
                    "2017-12-01",
                    "2018-01-01",
                    "2018-02-01",
                    "2018-03-01",
                    "2018-04-01",
                    "2018-05-01",
                    "2018-06-01",
                    "2018-07-01",
                    "2018-08-01",
                    "2018-09-01",
                    "2018-10-01",
                    "2018-11-01",
                    "2018-12-01",
                    "2019-01-01",
                    "2019-02-01",
                    "2019-03-01",
                    "2019-04-01",
                    "2019-05-01",
                    "2019-06-01",
                    "2019-07-01",
                    "2019-08-01",
                    "2019-09-01",
                    "2019-10-01",
                    "2019-11-01",
                    "2019-12-01",
                    "2020-01-01",
                    "2020-02-01",
                    "2020-03-01",
                    "2020-04-01",
                    "2020-05-01",
                    "2020-06-01",
                    "2020-07-01",
                    "2020-08-01",
                    "2020-09-01",
                    "2020-10-01",
                    "2020-11-01",
                    "2020-12-01",
                    "2021-01-01",
                    "2021-02-01",
                    "2021-03-01",
                    "2021-04-01",
                    "2021-05-01",
                    "2021-06-01",
                    "2021-07-01",
                    "2021-08-01",
                    "2021-09-01",
                    "2021-10-01",
                    "2021-11-01",
                    "2021-12-01",
                    "2022-01-01",
                    "2022-02-01",
                    "2022-03-01",
                    "2022-04-01",
                    "2022-05-01",
                    "2022-06-01",
                    "2022-07-01",
                    "2022-08-01",
                    "2022-09-01",
                    "2022-10-01",
                    "2022-11-01",
                    "2022-12-01",
                    "2023-01-01",
                    "2023-02-01",
                    "2023-03-01",
                    "2023-04-01",
                    "2023-05-01",
                    "2023-06-01",
                    "2023-07-01",
                    "2023-08-01",
                    "2023-09-01",
                    "2023-10-01",
                    "2023-11-01",
                    "2023-12-01"
                  ],
                  "xaxis": "x6",
                  "y": [
                    23,
                    23,
                    23,
                    23,
                    23,
                    23,
                    23,
                    23,
                    23,
                    23,
                    23,
                    23,
                    37,
                    37,
                    37,
                    37,
                    37,
                    37,
                    37,
                    37,
                    37,
                    37,
                    37,
                    37,
                    45,
                    45,
                    45,
                    45,
                    45,
                    45,
                    45,
                    45,
                    45,
                    45,
                    45,
                    45,
                    52,
                    52,
                    52,
                    52,
                    52,
                    52,
                    52,
                    52,
                    52,
                    52,
                    52,
                    52,
                    59,
                    59,
                    59,
                    59,
                    59,
                    59,
                    59,
                    59,
                    59,
                    59,
                    59,
                    59,
                    68,
                    68,
                    68,
                    68,
                    68,
                    68,
                    68,
                    68,
                    68,
                    68,
                    68,
                    68,
                    70,
                    70,
                    70,
                    70,
                    70,
                    70,
                    70,
                    70,
                    70,
                    70,
                    70,
                    70,
                    72,
                    72,
                    72,
                    72,
                    72,
                    72,
                    72,
                    72,
                    72,
                    72,
                    72,
                    72,
                    65,
                    65,
                    65,
                    65,
                    65,
                    65,
                    65,
                    65,
                    65,
                    65,
                    65,
                    65,
                    35,
                    35,
                    35,
                    35,
                    35,
                    35,
                    35,
                    35,
                    35,
                    35,
                    35,
                    35
                  ],
                  "yaxis": "y6"
                },
                {
                  "mode": "lines",
                  "name": "private donations",
                  "type": "scatter",
                  "x": [
                    "2014-01-01",
                    "2014-02-01",
                    "2014-03-01",
                    "2014-04-01",
                    "2014-05-01",
                    "2014-06-01",
                    "2014-07-01",
                    "2014-08-01",
                    "2014-09-01",
                    "2014-10-01",
                    "2014-11-01",
                    "2014-12-01",
                    "2015-01-01",
                    "2015-02-01",
                    "2015-03-01",
                    "2015-04-01",
                    "2015-05-01",
                    "2015-06-01",
                    "2015-07-01",
                    "2015-08-01",
                    "2015-09-01",
                    "2015-10-01",
                    "2015-11-01",
                    "2015-12-01",
                    "2016-01-01",
                    "2016-02-01",
                    "2016-03-01",
                    "2016-04-01",
                    "2016-05-01",
                    "2016-06-01",
                    "2016-07-01",
                    "2016-08-01",
                    "2016-09-01",
                    "2016-10-01",
                    "2016-11-01",
                    "2016-12-01",
                    "2017-01-01",
                    "2017-02-01",
                    "2017-03-01",
                    "2017-04-01",
                    "2017-05-01",
                    "2017-06-01",
                    "2017-07-01",
                    "2017-08-01",
                    "2017-09-01",
                    "2017-10-01",
                    "2017-11-01",
                    "2017-12-01",
                    "2018-01-01",
                    "2018-02-01",
                    "2018-03-01",
                    "2018-04-01",
                    "2018-05-01",
                    "2018-06-01",
                    "2018-07-01",
                    "2018-08-01",
                    "2018-09-01",
                    "2018-10-01",
                    "2018-11-01",
                    "2018-12-01",
                    "2019-01-01",
                    "2019-02-01",
                    "2019-03-01",
                    "2019-04-01",
                    "2019-05-01",
                    "2019-06-01",
                    "2019-07-01",
                    "2019-08-01",
                    "2019-09-01",
                    "2019-10-01",
                    "2019-11-01",
                    "2019-12-01",
                    "2020-01-01",
                    "2020-02-01",
                    "2020-03-01",
                    "2020-04-01",
                    "2020-05-01",
                    "2020-06-01",
                    "2020-07-01",
                    "2020-08-01",
                    "2020-09-01",
                    "2020-10-01",
                    "2020-11-01",
                    "2020-12-01",
                    "2021-01-01",
                    "2021-02-01",
                    "2021-03-01",
                    "2021-04-01",
                    "2021-05-01",
                    "2021-06-01",
                    "2021-07-01",
                    "2021-08-01",
                    "2021-09-01",
                    "2021-10-01",
                    "2021-11-01",
                    "2021-12-01",
                    "2022-01-01",
                    "2022-02-01",
                    "2022-03-01",
                    "2022-04-01",
                    "2022-05-01",
                    "2022-06-01",
                    "2022-07-01",
                    "2022-08-01",
                    "2022-09-01",
                    "2022-10-01",
                    "2022-11-01",
                    "2022-12-01",
                    "2023-01-01",
                    "2023-02-01",
                    "2023-03-01",
                    "2023-04-01",
                    "2023-05-01",
                    "2023-06-01",
                    "2023-07-01",
                    "2023-08-01",
                    "2023-09-01",
                    "2023-10-01",
                    "2023-11-01",
                    "2023-12-01"
                  ],
                  "xaxis": "x7",
                  "y": [
                    248384,
                    677356.61,
                    437920.52,
                    339549.48,
                    336036.85,
                    361332.68,
                    395194.1,
                    315559.73,
                    547618.08,
                    473700.13,
                    630728.84,
                    830603.19,
                    311620.55,
                    281133.04,
                    779006.49,
                    404485.34,
                    280793.16,
                    467833.3,
                    452400.01,
                    383833.33,
                    494820.82,
                    458280.19,
                    737379.01,
                    1244525.47,
                    457134.1,
                    545421.58,
                    578795.07,
                    524063.85,
                    448401.8,
                    499725.32,
                    387578.22,
                    922212.18,
                    597703.78,
                    469153.72,
                    695197.98,
                    1043989.41,
                    499464.98,
                    470967.3,
                    642704.42,
                    495108.93,
                    554637.19,
                    556835.67,
                    472386.83,
                    481426.88,
                    422727.53,
                    655384.08,
                    889252.6,
                    1057538.96,
                    528105.38,
                    515486.75,
                    712077.5,
                    398698.29,
                    491801.94,
                    629391.05,
                    573759.96,
                    508156.9,
                    480953.95,
                    610756.69,
                    847334.21,
                    955619.88,
                    403683.34,
                    542764.72,
                    671239.48,
                    730153.95,
                    608587.17,
                    686389.26,
                    581299.07,
                    345412.79,
                    552597.48,
                    630429.67,
                    688423.3,
                    1023822.23,
                    732466.7,
                    492574.38,
                    649089.67,
                    867329.92,
                    611297.14,
                    764911.91,
                    751010.67,
                    686545.58,
                    622383.36,
                    851297.01,
                    793025.53,
                    1856876.38,
                    592686.59,
                    670148.58,
                    826549.89,
                    862933.55,
                    690958.91,
                    664222.26,
                    819670.29,
                    471050.09,
                    509513.36,
                    592703.7,
                    899432.48,
                    1708639.55,
                    611312.15,
                    269239.44,
                    621173.75,
                    1072485.61,
                    536893.87,
                    932942.78,
                    775104.16,
                    985432.32,
                    632041.47,
                    564243.62,
                    1246403.55,
                    1582084.51,
                    1369218,
                    2144446,
                    1923875,
                    1274911,
                    1797114,
                    1352463,
                    1359887,
                    1101047,
                    1540370.12,
                    1101047,
                    1540370.12,
                    1352463
                  ],
                  "yaxis": "y7"
                },
                {
                  "mode": "lines",
                  "name": "reachability",
                  "type": "scatter",
                  "x": [
                    "2014-03-01",
                    "2014-03-01",
                    "2014-03-01",
                    "2014-06-01",
                    "2014-06-01",
                    "2014-06-01",
                    "2014-09-01",
                    "2014-09-01",
                    "2014-09-01",
                    "2014-12-01",
                    "2014-12-01",
                    "2014-12-01",
                    "2015-03-01",
                    "2015-03-01",
                    "2015-03-01",
                    "2015-06-01",
                    "2015-06-01",
                    "2015-06-01",
                    "2015-09-01",
                    "2015-09-01",
                    "2015-09-01",
                    "2015-12-01",
                    "2015-12-01",
                    "2015-12-01",
                    "2016-03-01",
                    "2016-03-01",
                    "2016-03-01",
                    "2016-06-01",
                    "2016-06-01",
                    "2016-06-01",
                    "2016-09-01",
                    "2016-09-01",
                    "2016-09-01",
                    "2016-12-01",
                    "2016-12-01",
                    "2016-12-01",
                    "2017-03-01",
                    "2017-03-01",
                    "2017-03-01",
                    "2017-06-01",
                    "2017-06-01",
                    "2017-06-01",
                    "2017-09-01",
                    "2017-09-01",
                    "2017-09-01",
                    "2017-12-01",
                    "2017-12-01",
                    "2017-12-01",
                    "2018-03-01",
                    "2018-03-01",
                    "2018-03-01",
                    "2018-06-01",
                    "2018-06-01",
                    "2018-06-01",
                    "2018-09-01",
                    "2018-09-01",
                    "2018-09-01",
                    "2018-12-01",
                    "2018-12-01",
                    "2018-12-01",
                    "2019-03-01",
                    "2019-03-01",
                    "2019-03-01",
                    "2019-06-01",
                    "2019-06-01",
                    "2019-06-01",
                    "2019-09-01",
                    "2019-09-01",
                    "2019-09-01",
                    "2019-12-01",
                    "2019-12-01",
                    "2019-12-01",
                    "2020-03-01",
                    "2020-03-01",
                    "2020-03-01",
                    "2020-06-01",
                    "2020-06-01",
                    "2020-06-01",
                    "2020-09-01",
                    "2020-09-01",
                    "2020-09-01",
                    "2020-12-01",
                    "2020-12-01",
                    "2020-12-01",
                    "2021-03-01",
                    "2021-03-01",
                    "2021-03-01",
                    "2021-06-01",
                    "2021-06-01",
                    "2021-06-01",
                    "2021-09-01",
                    "2021-09-01",
                    "2021-09-01",
                    "2021-12-01",
                    "2021-12-01",
                    "2021-12-01",
                    "2022-03-01",
                    "2022-03-01",
                    "2022-03-01",
                    "2022-06-01",
                    "2022-06-01",
                    "2022-06-01",
                    "2022-09-01",
                    "2022-09-01",
                    "2022-09-01",
                    "2022-12-01",
                    "2022-12-01",
                    "2022-12-01",
                    "2023-03-01",
                    "2023-03-01",
                    "2023-03-01",
                    "2023-06-01",
                    "2023-06-01",
                    "2023-06-01",
                    "2023-09-01",
                    "2023-09-01",
                    "2023-09-01",
                    "2023-12-01",
                    "2023-12-01",
                    "2023-12-01"
                  ],
                  "xaxis": "x8",
                  "y": [
                    42.19,
                    42.19,
                    42.19,
                    45.04,
                    45.04,
                    45.04,
                    44.95,
                    44.95,
                    44.95,
                    47.01,
                    47.01,
                    47.01,
                    45.15,
                    45.15,
                    45.15,
                    45.09,
                    45.09,
                    45.09,
                    44.47,
                    44.47,
                    44.47,
                    43.44,
                    43.44,
                    43.44,
                    44.33,
                    44.33,
                    44.33,
                    42.9,
                    42.9,
                    42.9,
                    44.38,
                    44.38,
                    44.38,
                    43.25,
                    43.25,
                    43.25,
                    45.81,
                    45.81,
                    45.81,
                    43.76,
                    43.76,
                    43.76,
                    44.39,
                    44.39,
                    44.39,
                    42.97,
                    42.97,
                    42.97,
                    42.36,
                    42.36,
                    42.36,
                    47.44,
                    47.44,
                    47.44,
                    43.72,
                    43.72,
                    43.72,
                    44.31,
                    44.31,
                    44.31,
                    43.66,
                    43.66,
                    43.66,
                    45.57,
                    45.57,
                    45.57,
                    45.33,
                    45.33,
                    45.33,
                    45.67,
                    45.67,
                    45.67,
                    43.43,
                    43.43,
                    43.43,
                    44.84,
                    44.84,
                    44.84,
                    45.21,
                    45.21,
                    45.21,
                    46.18,
                    46.18,
                    46.18,
                    43.83,
                    43.83,
                    43.83,
                    43.56,
                    43.56,
                    43.56,
                    44.55,
                    44.55,
                    44.55,
                    43.15,
                    43.15,
                    43.15,
                    44.74,
                    44.74,
                    44.74,
                    44.95,
                    44.95,
                    44.95,
                    43.44,
                    43.44,
                    43.44,
                    46.43,
                    46.43,
                    46.43,
                    46,
                    46,
                    46,
                    44.9,
                    44.9,
                    44.9,
                    43.6,
                    43.6,
                    43.6,
                    44.83,
                    44.83,
                    44.83
                  ],
                  "yaxis": "y8"
                },
                {
                  "mode": "lines",
                  "name": "share of teams constituted as circles",
                  "type": "scatter",
                  "x": [
                    "2023-01-01",
                    "2023-02-01",
                    "2023-03-01",
                    "2023-04-01",
                    "2023-05-01",
                    "2023-06-01",
                    "2023-07-01",
                    "2023-08-01",
                    "2023-09-01",
                    "2023-10-01",
                    "2023-11-01",
                    "2023-12-01"
                  ],
                  "xaxis": "x9",
                  "y": [
                    35,
                    50,
                    50,
                    55,
                    70,
                    80,
                    85,
                    90,
                    90,
                    90,
                    95,
                    95
                  ],
                  "yaxis": "y9"
                },
                {
                  "mode": "lines",
                  "name": "share short tern leave",
                  "type": "scatter",
                  "x": [
                    "2014-01-01",
                    "2014-02-01",
                    "2014-03-01",
                    "2014-04-01",
                    "2014-05-01",
                    "2014-06-01",
                    "2014-07-01",
                    "2014-08-01",
                    "2014-09-01",
                    "2014-10-01",
                    "2014-11-01",
                    "2014-12-01",
                    "2015-01-01",
                    "2015-02-01",
                    "2015-03-01",
                    "2015-04-01",
                    "2015-05-01",
                    "2015-06-01",
                    "2015-07-01",
                    "2015-08-01",
                    "2015-09-01",
                    "2015-10-01",
                    "2015-11-01",
                    "2015-12-01",
                    "2016-01-01",
                    "2016-02-01",
                    "2016-03-01",
                    "2016-04-01",
                    "2016-05-01",
                    "2016-06-01",
                    "2016-07-01",
                    "2016-08-01",
                    "2016-09-01",
                    "2016-10-01",
                    "2016-11-01",
                    "2016-12-01",
                    "2017-01-01",
                    "2017-02-01",
                    "2017-03-01",
                    "2017-04-01",
                    "2017-05-01",
                    "2017-06-01",
                    "2017-07-01",
                    "2017-08-01",
                    "2017-09-01",
                    "2017-10-01",
                    "2017-11-01",
                    "2017-12-01",
                    "2018-01-01",
                    "2018-02-01",
                    "2018-03-01",
                    "2018-04-01",
                    "2018-05-01",
                    "2018-06-01",
                    "2018-07-01",
                    "2018-08-01",
                    "2018-09-01",
                    "2018-10-01",
                    "2018-11-01",
                    "2018-12-01",
                    "2019-01-01",
                    "2019-02-01",
                    "2019-03-01",
                    "2019-04-01",
                    "2019-05-01",
                    "2019-06-01",
                    "2019-07-01",
                    "2019-08-01",
                    "2019-09-01",
                    "2019-10-01",
                    "2019-11-01",
                    "2019-12-01",
                    "2020-01-01",
                    "2020-02-01",
                    "2020-03-01",
                    "2020-04-01",
                    "2020-05-01",
                    "2020-06-01",
                    "2020-07-01",
                    "2020-08-01",
                    "2020-09-01",
                    "2020-10-01",
                    "2020-11-01",
                    "2020-12-01",
                    "2021-01-01",
                    "2021-02-01",
                    "2021-03-01",
                    "2021-04-01",
                    "2021-05-01",
                    "2021-06-01",
                    "2021-07-01",
                    "2021-08-01",
                    "2021-09-01",
                    "2021-10-01",
                    "2021-11-01",
                    "2021-12-01",
                    "2022-01-01",
                    "2022-02-01",
                    "2022-03-01",
                    "2022-04-01",
                    "2022-05-01",
                    "2022-06-01",
                    "2022-07-01",
                    "2022-08-01",
                    "2022-09-01",
                    "2022-10-01",
                    "2022-11-01",
                    "2022-12-01",
                    "2023-01-01",
                    "2023-02-01",
                    "2023-03-01",
                    "2023-04-01",
                    "2023-05-01",
                    "2023-06-01",
                    "2023-07-01",
                    "2023-08-01",
                    "2023-09-01",
                    "2023-10-01",
                    "2023-11-01",
                    "2023-12-01"
                  ],
                  "xaxis": "x10",
                  "y": [
                    1.7087946225728958,
                    1.293372965451075,
                    0.9160382166879648,
                    0.7930444778002217,
                    0.7123698847100066,
                    0.7348432594525638,
                    0.9666021230689388,
                    0.8988805044308226,
                    0.7275416165973623,
                    0.6630083219338406,
                    0.68980511125855,
                    0.4364079228742813,
                    0.5530979345637622,
                    0.6974511018315034,
                    0.7437292535384645,
                    0.6432235683231863,
                    0.8318047776932846,
                    0.6909147123694217,
                    0.534070145380732,
                    0.45397229205248407,
                    0.4392060717967201,
                    0.45127881568803263,
                    0.4716833283788885,
                    0.7517508145189068,
                    0.9565581003519823,
                    0.9344918119585557,
                    0.7579639047182651,
                    0.8917120066279246,
                    0.7734515522250509,
                    0.8230720617968508,
                    1.1709798102057207,
                    1.2016287654783742,
                    1.1596223521285465,
                    1.0313277253480755,
                    0.9368018353060765,
                    0.6233682974292385,
                    0.6044445256865963,
                    0.5799872092017482,
                    0.7058882442072835,
                    0.8248238410504832,
                    1.0402378258055767,
                    1.352529185151528,
                    1.346713289654165,
                    1.3092233553871093,
                    1.0434594610348418,
                    1.1500783243506212,
                    0.9020918949696896,
                    0.8537471301445185,
                    0.8923612681480844,
                    0.8887560320260629,
                    0.646561519211692,
                    0.6248064651262938,
                    0.6474679858480585,
                    0.5089836528142834,
                    0.6173181783708129,
                    0.49857142616283506,
                    0.46926520657082094,
                    0.6860725344632934,
                    0.9750500055957187,
                    0.8432229665452692,
                    0.9145756964037876,
                    1.044950695790312,
                    1.0138598848258553,
                    0.7016814543326565,
                    0.9180783420048126,
                    1.1266833326550345,
                    1.0377111579193397,
                    0.8892045144283898,
                    0.8568510048023082,
                    0.6774132479193445,
                    0.863567871058925,
                    0.9545286073659138,
                    0.9542129108059546,
                    1.215586631002091,
                    1.3048186461027564,
                    0.980125144347776,
                    1.3104844391708754,
                    1.1960552249820586,
                    1.2320342236138608,
                    1.542394316398524,
                    1.3914917409072485,
                    0.985439966680125,
                    1.196802764718597,
                    1.2566532659811693,
                    0.8904712818716384,
                    0.9372260958177348,
                    0.9350228338816177,
                    1.2359651354686592,
                    0.9454151217744426,
                    1.3798524516846542,
                    1.8169042927398062,
                    1.7647476804490272,
                    1.5275841591869794,
                    2.1074972130401686,
                    1.6544259333105553,
                    1.3718533679611693,
                    1.6136706599164339,
                    1.7883607218061244,
                    1.279526511982685,
                    1.2079241000166185,
                    1.2570438907443195,
                    1.541744898357215,
                    1.4126146574367868,
                    1.5539820669055222,
                    1.6074061489355593,
                    1.3677119630191352,
                    1.1787618229346581,
                    1.2557926857759845,
                    1.4832594861306887,
                    1.8180796493680718,
                    2.45,
                    2.558,
                    2.5260000000000002,
                    2.2039999999999997,
                    1.956,
                    1.4560000000000002,
                    1.1,
                    0.892,
                    0.892,
                    0.892
                  ],
                  "yaxis": "y10"
                }
              ],
              "layout": {
                "annotations": [
                  {
                    "font": {
                      "size": 16
                    },
                    "showarrow": false,
                    "text": "additional monetization/savings from CRM",
                    "x": 0.225,
                    "xanchor": "center",
                    "xref": "paper",
                    "y": 1,
                    "yanchor": "bottom",
                    "yref": "paper"
                  },
                  {
                    "font": {
                      "size": 16
                    },
                    "showarrow": false,
                    "text": "additional monetization/savings from programs",
                    "x": 0.775,
                    "xanchor": "center",
                    "xref": "paper",
                    "y": 1,
                    "yanchor": "bottom",
                    "yref": "paper"
                  },
                  {
                    "font": {
                      "size": 16
                    },
                    "showarrow": false,
                    "text": "count leads",
                    "x": 0.225,
                    "xanchor": "center",
                    "xref": "paper",
                    "y": 0.78,
                    "yanchor": "bottom",
                    "yref": "paper"
                  },
                  {
                    "font": {
                      "size": 16
                    },
                    "showarrow": false,
                    "text": "count sessions on .projuventute.ch",
                    "x": 0.775,
                    "xanchor": "center",
                    "xref": "paper",
                    "y": 0.78,
                    "yanchor": "bottom",
                    "yref": "paper"
                  },
                  {
                    "font": {
                      "size": 16
                    },
                    "showarrow": false,
                    "text": "involuntary headcount change (FTE)",
                    "x": 0.225,
                    "xanchor": "center",
                    "xref": "paper",
                    "y": 0.56,
                    "yanchor": "bottom",
                    "yref": "paper"
                  },
                  {
                    "font": {
                      "size": 16
                    },
                    "showarrow": false,
                    "text": "net promoter score",
                    "x": 0.775,
                    "xanchor": "center",
                    "xref": "paper",
                    "y": 0.56,
                    "yanchor": "bottom",
                    "yref": "paper"
                  },
                  {
                    "font": {
                      "size": 16
                    },
                    "showarrow": false,
                    "text": "private donations",
                    "x": 0.225,
                    "xanchor": "center",
                    "xref": "paper",
                    "y": 0.33999999999999997,
                    "yanchor": "bottom",
                    "yref": "paper"
                  },
                  {
                    "font": {
                      "size": 16
                    },
                    "showarrow": false,
                    "text": "reachability",
                    "x": 0.775,
                    "xanchor": "center",
                    "xref": "paper",
                    "y": 0.33999999999999997,
                    "yanchor": "bottom",
                    "yref": "paper"
                  },
                  {
                    "font": {
                      "size": 16
                    },
                    "showarrow": false,
                    "text": "share of teams constituted as circles",
                    "x": 0.225,
                    "xanchor": "center",
                    "xref": "paper",
                    "y": 0.12,
                    "yanchor": "bottom",
                    "yref": "paper"
                  },
                  {
                    "font": {
                      "size": 16
                    },
                    "showarrow": false,
                    "text": "share short tern leave",
                    "x": 0.775,
                    "xanchor": "center",
                    "xref": "paper",
                    "y": 0.12,
                    "yanchor": "bottom",
                    "yref": "paper"
                  }
                ],
                "height": 1200,
                "template": {
                  "data": {
                    "bar": [
                      {
                        "error_x": {
                          "color": "#2a3f5f"
                        },
                        "error_y": {
                          "color": "#2a3f5f"
                        },
                        "marker": {
                          "line": {
                            "color": "#E5ECF6",
                            "width": 0.5
                          },
                          "pattern": {
                            "fillmode": "overlay",
                            "size": 10,
                            "solidity": 0.2
                          }
                        },
                        "type": "bar"
                      }
                    ],
                    "barpolar": [
                      {
                        "marker": {
                          "line": {
                            "color": "#E5ECF6",
                            "width": 0.5
                          },
                          "pattern": {
                            "fillmode": "overlay",
                            "size": 10,
                            "solidity": 0.2
                          }
                        },
                        "type": "barpolar"
                      }
                    ],
                    "carpet": [
                      {
                        "aaxis": {
                          "endlinecolor": "#2a3f5f",
                          "gridcolor": "white",
                          "linecolor": "white",
                          "minorgridcolor": "white",
                          "startlinecolor": "#2a3f5f"
                        },
                        "baxis": {
                          "endlinecolor": "#2a3f5f",
                          "gridcolor": "white",
                          "linecolor": "white",
                          "minorgridcolor": "white",
                          "startlinecolor": "#2a3f5f"
                        },
                        "type": "carpet"
                      }
                    ],
                    "choropleth": [
                      {
                        "colorbar": {
                          "outlinewidth": 0,
                          "ticks": ""
                        },
                        "type": "choropleth"
                      }
                    ],
                    "contour": [
                      {
                        "colorbar": {
                          "outlinewidth": 0,
                          "ticks": ""
                        },
                        "colorscale": [
                          [
                            0,
                            "#0d0887"
                          ],
                          [
                            0.1111111111111111,
                            "#46039f"
                          ],
                          [
                            0.2222222222222222,
                            "#7201a8"
                          ],
                          [
                            0.3333333333333333,
                            "#9c179e"
                          ],
                          [
                            0.4444444444444444,
                            "#bd3786"
                          ],
                          [
                            0.5555555555555556,
                            "#d8576b"
                          ],
                          [
                            0.6666666666666666,
                            "#ed7953"
                          ],
                          [
                            0.7777777777777778,
                            "#fb9f3a"
                          ],
                          [
                            0.8888888888888888,
                            "#fdca26"
                          ],
                          [
                            1,
                            "#f0f921"
                          ]
                        ],
                        "type": "contour"
                      }
                    ],
                    "contourcarpet": [
                      {
                        "colorbar": {
                          "outlinewidth": 0,
                          "ticks": ""
                        },
                        "type": "contourcarpet"
                      }
                    ],
                    "heatmap": [
                      {
                        "colorbar": {
                          "outlinewidth": 0,
                          "ticks": ""
                        },
                        "colorscale": [
                          [
                            0,
                            "#0d0887"
                          ],
                          [
                            0.1111111111111111,
                            "#46039f"
                          ],
                          [
                            0.2222222222222222,
                            "#7201a8"
                          ],
                          [
                            0.3333333333333333,
                            "#9c179e"
                          ],
                          [
                            0.4444444444444444,
                            "#bd3786"
                          ],
                          [
                            0.5555555555555556,
                            "#d8576b"
                          ],
                          [
                            0.6666666666666666,
                            "#ed7953"
                          ],
                          [
                            0.7777777777777778,
                            "#fb9f3a"
                          ],
                          [
                            0.8888888888888888,
                            "#fdca26"
                          ],
                          [
                            1,
                            "#f0f921"
                          ]
                        ],
                        "type": "heatmap"
                      }
                    ],
                    "heatmapgl": [
                      {
                        "colorbar": {
                          "outlinewidth": 0,
                          "ticks": ""
                        },
                        "colorscale": [
                          [
                            0,
                            "#0d0887"
                          ],
                          [
                            0.1111111111111111,
                            "#46039f"
                          ],
                          [
                            0.2222222222222222,
                            "#7201a8"
                          ],
                          [
                            0.3333333333333333,
                            "#9c179e"
                          ],
                          [
                            0.4444444444444444,
                            "#bd3786"
                          ],
                          [
                            0.5555555555555556,
                            "#d8576b"
                          ],
                          [
                            0.6666666666666666,
                            "#ed7953"
                          ],
                          [
                            0.7777777777777778,
                            "#fb9f3a"
                          ],
                          [
                            0.8888888888888888,
                            "#fdca26"
                          ],
                          [
                            1,
                            "#f0f921"
                          ]
                        ],
                        "type": "heatmapgl"
                      }
                    ],
                    "histogram": [
                      {
                        "marker": {
                          "pattern": {
                            "fillmode": "overlay",
                            "size": 10,
                            "solidity": 0.2
                          }
                        },
                        "type": "histogram"
                      }
                    ],
                    "histogram2d": [
                      {
                        "colorbar": {
                          "outlinewidth": 0,
                          "ticks": ""
                        },
                        "colorscale": [
                          [
                            0,
                            "#0d0887"
                          ],
                          [
                            0.1111111111111111,
                            "#46039f"
                          ],
                          [
                            0.2222222222222222,
                            "#7201a8"
                          ],
                          [
                            0.3333333333333333,
                            "#9c179e"
                          ],
                          [
                            0.4444444444444444,
                            "#bd3786"
                          ],
                          [
                            0.5555555555555556,
                            "#d8576b"
                          ],
                          [
                            0.6666666666666666,
                            "#ed7953"
                          ],
                          [
                            0.7777777777777778,
                            "#fb9f3a"
                          ],
                          [
                            0.8888888888888888,
                            "#fdca26"
                          ],
                          [
                            1,
                            "#f0f921"
                          ]
                        ],
                        "type": "histogram2d"
                      }
                    ],
                    "histogram2dcontour": [
                      {
                        "colorbar": {
                          "outlinewidth": 0,
                          "ticks": ""
                        },
                        "colorscale": [
                          [
                            0,
                            "#0d0887"
                          ],
                          [
                            0.1111111111111111,
                            "#46039f"
                          ],
                          [
                            0.2222222222222222,
                            "#7201a8"
                          ],
                          [
                            0.3333333333333333,
                            "#9c179e"
                          ],
                          [
                            0.4444444444444444,
                            "#bd3786"
                          ],
                          [
                            0.5555555555555556,
                            "#d8576b"
                          ],
                          [
                            0.6666666666666666,
                            "#ed7953"
                          ],
                          [
                            0.7777777777777778,
                            "#fb9f3a"
                          ],
                          [
                            0.8888888888888888,
                            "#fdca26"
                          ],
                          [
                            1,
                            "#f0f921"
                          ]
                        ],
                        "type": "histogram2dcontour"
                      }
                    ],
                    "mesh3d": [
                      {
                        "colorbar": {
                          "outlinewidth": 0,
                          "ticks": ""
                        },
                        "type": "mesh3d"
                      }
                    ],
                    "parcoords": [
                      {
                        "line": {
                          "colorbar": {
                            "outlinewidth": 0,
                            "ticks": ""
                          }
                        },
                        "type": "parcoords"
                      }
                    ],
                    "pie": [
                      {
                        "automargin": true,
                        "type": "pie"
                      }
                    ],
                    "scatter": [
                      {
                        "fillpattern": {
                          "fillmode": "overlay",
                          "size": 10,
                          "solidity": 0.2
                        },
                        "type": "scatter"
                      }
                    ],
                    "scatter3d": [
                      {
                        "line": {
                          "colorbar": {
                            "outlinewidth": 0,
                            "ticks": ""
                          }
                        },
                        "marker": {
                          "colorbar": {
                            "outlinewidth": 0,
                            "ticks": ""
                          }
                        },
                        "type": "scatter3d"
                      }
                    ],
                    "scattercarpet": [
                      {
                        "marker": {
                          "colorbar": {
                            "outlinewidth": 0,
                            "ticks": ""
                          }
                        },
                        "type": "scattercarpet"
                      }
                    ],
                    "scattergeo": [
                      {
                        "marker": {
                          "colorbar": {
                            "outlinewidth": 0,
                            "ticks": ""
                          }
                        },
                        "type": "scattergeo"
                      }
                    ],
                    "scattergl": [
                      {
                        "marker": {
                          "colorbar": {
                            "outlinewidth": 0,
                            "ticks": ""
                          }
                        },
                        "type": "scattergl"
                      }
                    ],
                    "scattermapbox": [
                      {
                        "marker": {
                          "colorbar": {
                            "outlinewidth": 0,
                            "ticks": ""
                          }
                        },
                        "type": "scattermapbox"
                      }
                    ],
                    "scatterpolar": [
                      {
                        "marker": {
                          "colorbar": {
                            "outlinewidth": 0,
                            "ticks": ""
                          }
                        },
                        "type": "scatterpolar"
                      }
                    ],
                    "scatterpolargl": [
                      {
                        "marker": {
                          "colorbar": {
                            "outlinewidth": 0,
                            "ticks": ""
                          }
                        },
                        "type": "scatterpolargl"
                      }
                    ],
                    "scatterternary": [
                      {
                        "marker": {
                          "colorbar": {
                            "outlinewidth": 0,
                            "ticks": ""
                          }
                        },
                        "type": "scatterternary"
                      }
                    ],
                    "surface": [
                      {
                        "colorbar": {
                          "outlinewidth": 0,
                          "ticks": ""
                        },
                        "colorscale": [
                          [
                            0,
                            "#0d0887"
                          ],
                          [
                            0.1111111111111111,
                            "#46039f"
                          ],
                          [
                            0.2222222222222222,
                            "#7201a8"
                          ],
                          [
                            0.3333333333333333,
                            "#9c179e"
                          ],
                          [
                            0.4444444444444444,
                            "#bd3786"
                          ],
                          [
                            0.5555555555555556,
                            "#d8576b"
                          ],
                          [
                            0.6666666666666666,
                            "#ed7953"
                          ],
                          [
                            0.7777777777777778,
                            "#fb9f3a"
                          ],
                          [
                            0.8888888888888888,
                            "#fdca26"
                          ],
                          [
                            1,
                            "#f0f921"
                          ]
                        ],
                        "type": "surface"
                      }
                    ],
                    "table": [
                      {
                        "cells": {
                          "fill": {
                            "color": "#EBF0F8"
                          },
                          "line": {
                            "color": "white"
                          }
                        },
                        "header": {
                          "fill": {
                            "color": "#C8D4E3"
                          },
                          "line": {
                            "color": "white"
                          }
                        },
                        "type": "table"
                      }
                    ]
                  },
                  "layout": {
                    "annotationdefaults": {
                      "arrowcolor": "#2a3f5f",
                      "arrowhead": 0,
                      "arrowwidth": 1
                    },
                    "autotypenumbers": "strict",
                    "coloraxis": {
                      "colorbar": {
                        "outlinewidth": 0,
                        "ticks": ""
                      }
                    },
                    "colorscale": {
                      "diverging": [
                        [
                          0,
                          "#8e0152"
                        ],
                        [
                          0.1,
                          "#c51b7d"
                        ],
                        [
                          0.2,
                          "#de77ae"
                        ],
                        [
                          0.3,
                          "#f1b6da"
                        ],
                        [
                          0.4,
                          "#fde0ef"
                        ],
                        [
                          0.5,
                          "#f7f7f7"
                        ],
                        [
                          0.6,
                          "#e6f5d0"
                        ],
                        [
                          0.7,
                          "#b8e186"
                        ],
                        [
                          0.8,
                          "#7fbc41"
                        ],
                        [
                          0.9,
                          "#4d9221"
                        ],
                        [
                          1,
                          "#276419"
                        ]
                      ],
                      "sequential": [
                        [
                          0,
                          "#0d0887"
                        ],
                        [
                          0.1111111111111111,
                          "#46039f"
                        ],
                        [
                          0.2222222222222222,
                          "#7201a8"
                        ],
                        [
                          0.3333333333333333,
                          "#9c179e"
                        ],
                        [
                          0.4444444444444444,
                          "#bd3786"
                        ],
                        [
                          0.5555555555555556,
                          "#d8576b"
                        ],
                        [
                          0.6666666666666666,
                          "#ed7953"
                        ],
                        [
                          0.7777777777777778,
                          "#fb9f3a"
                        ],
                        [
                          0.8888888888888888,
                          "#fdca26"
                        ],
                        [
                          1,
                          "#f0f921"
                        ]
                      ],
                      "sequentialminus": [
                        [
                          0,
                          "#0d0887"
                        ],
                        [
                          0.1111111111111111,
                          "#46039f"
                        ],
                        [
                          0.2222222222222222,
                          "#7201a8"
                        ],
                        [
                          0.3333333333333333,
                          "#9c179e"
                        ],
                        [
                          0.4444444444444444,
                          "#bd3786"
                        ],
                        [
                          0.5555555555555556,
                          "#d8576b"
                        ],
                        [
                          0.6666666666666666,
                          "#ed7953"
                        ],
                        [
                          0.7777777777777778,
                          "#fb9f3a"
                        ],
                        [
                          0.8888888888888888,
                          "#fdca26"
                        ],
                        [
                          1,
                          "#f0f921"
                        ]
                      ]
                    },
                    "colorway": [
                      "#636efa",
                      "#EF553B",
                      "#00cc96",
                      "#ab63fa",
                      "#FFA15A",
                      "#19d3f3",
                      "#FF6692",
                      "#B6E880",
                      "#FF97FF",
                      "#FECB52"
                    ],
                    "font": {
                      "color": "#2a3f5f"
                    },
                    "geo": {
                      "bgcolor": "white",
                      "lakecolor": "white",
                      "landcolor": "#E5ECF6",
                      "showlakes": true,
                      "showland": true,
                      "subunitcolor": "white"
                    },
                    "hoverlabel": {
                      "align": "left"
                    },
                    "hovermode": "closest",
                    "mapbox": {
                      "style": "light"
                    },
                    "paper_bgcolor": "white",
                    "plot_bgcolor": "#E5ECF6",
                    "polar": {
                      "angularaxis": {
                        "gridcolor": "white",
                        "linecolor": "white",
                        "ticks": ""
                      },
                      "bgcolor": "#E5ECF6",
                      "radialaxis": {
                        "gridcolor": "white",
                        "linecolor": "white",
                        "ticks": ""
                      }
                    },
                    "scene": {
                      "xaxis": {
                        "backgroundcolor": "#E5ECF6",
                        "gridcolor": "white",
                        "gridwidth": 2,
                        "linecolor": "white",
                        "showbackground": true,
                        "ticks": "",
                        "zerolinecolor": "white"
                      },
                      "yaxis": {
                        "backgroundcolor": "#E5ECF6",
                        "gridcolor": "white",
                        "gridwidth": 2,
                        "linecolor": "white",
                        "showbackground": true,
                        "ticks": "",
                        "zerolinecolor": "white"
                      },
                      "zaxis": {
                        "backgroundcolor": "#E5ECF6",
                        "gridcolor": "white",
                        "gridwidth": 2,
                        "linecolor": "white",
                        "showbackground": true,
                        "ticks": "",
                        "zerolinecolor": "white"
                      }
                    },
                    "shapedefaults": {
                      "line": {
                        "color": "#2a3f5f"
                      }
                    },
                    "ternary": {
                      "aaxis": {
                        "gridcolor": "white",
                        "linecolor": "white",
                        "ticks": ""
                      },
                      "baxis": {
                        "gridcolor": "white",
                        "linecolor": "white",
                        "ticks": ""
                      },
                      "bgcolor": "#E5ECF6",
                      "caxis": {
                        "gridcolor": "white",
                        "linecolor": "white",
                        "ticks": ""
                      }
                    },
                    "title": {
                      "x": 0.05
                    },
                    "xaxis": {
                      "automargin": true,
                      "gridcolor": "white",
                      "linecolor": "white",
                      "ticks": "",
                      "title": {
                        "standoff": 15
                      },
                      "zerolinecolor": "white",
                      "zerolinewidth": 2
                    },
                    "yaxis": {
                      "automargin": true,
                      "gridcolor": "white",
                      "linecolor": "white",
                      "ticks": "",
                      "title": {
                        "standoff": 15
                      },
                      "zerolinecolor": "white",
                      "zerolinewidth": 2
                    }
                  }
                },
                "title": {
                  "text": "Time Series of Each KPI"
                },
                "width": 1000,
                "xaxis": {
                  "anchor": "y",
                  "domain": [
                    0,
                    0.45
                  ]
                },
                "xaxis10": {
                  "anchor": "y10",
                  "domain": [
                    0.55,
                    1
                  ]
                },
                "xaxis2": {
                  "anchor": "y2",
                  "domain": [
                    0.55,
                    1
                  ]
                },
                "xaxis3": {
                  "anchor": "y3",
                  "domain": [
                    0,
                    0.45
                  ]
                },
                "xaxis4": {
                  "anchor": "y4",
                  "domain": [
                    0.55,
                    1
                  ]
                },
                "xaxis5": {
                  "anchor": "y5",
                  "domain": [
                    0,
                    0.45
                  ]
                },
                "xaxis6": {
                  "anchor": "y6",
                  "domain": [
                    0.55,
                    1
                  ]
                },
                "xaxis7": {
                  "anchor": "y7",
                  "domain": [
                    0,
                    0.45
                  ]
                },
                "xaxis8": {
                  "anchor": "y8",
                  "domain": [
                    0.55,
                    1
                  ]
                },
                "xaxis9": {
                  "anchor": "y9",
                  "domain": [
                    0,
                    0.45
                  ]
                },
                "yaxis": {
                  "anchor": "x",
                  "domain": [
                    0.88,
                    1
                  ]
                },
                "yaxis10": {
                  "anchor": "x10",
                  "domain": [
                    0,
                    0.12
                  ]
                },
                "yaxis2": {
                  "anchor": "x2",
                  "domain": [
                    0.88,
                    1
                  ]
                },
                "yaxis3": {
                  "anchor": "x3",
                  "domain": [
                    0.66,
                    0.78
                  ]
                },
                "yaxis4": {
                  "anchor": "x4",
                  "domain": [
                    0.66,
                    0.78
                  ]
                },
                "yaxis5": {
                  "anchor": "x5",
                  "domain": [
                    0.44,
                    0.56
                  ]
                },
                "yaxis6": {
                  "anchor": "x6",
                  "domain": [
                    0.44,
                    0.56
                  ]
                },
                "yaxis7": {
                  "anchor": "x7",
                  "domain": [
                    0.22,
                    0.33999999999999997
                  ]
                },
                "yaxis8": {
                  "anchor": "x8",
                  "domain": [
                    0.22,
                    0.33999999999999997
                  ]
                },
                "yaxis9": {
                  "anchor": "x9",
                  "domain": [
                    0,
                    0.12
                  ]
                }
              }
            }
          },
          "metadata": {},
          "output_type": "display_data"
        }
      ],
      "source": [
        "# Creating subplots for the time series of each KPI (smoothed)\n",
        "fig = make_subplots(rows=5, cols=2, subplot_titles=kpis, shared_xaxes=False)\n",
        "\n",
        "row = 1\n",
        "col = 1\n",
        "for kpi in kpis:\n",
        "    dfKpi = dfAllYearsSmooth[dfAllYearsSmooth['kpi'] == kpi]\n",
        "    trace = go.Scatter(x=dfKpi['date'], y=dfKpi['value'], name=kpi, mode='lines')\n",
        "    fig.add_trace(trace, row=row, col=col)\n",
        "    col += 1\n",
        "    if col > 2:\n",
        "        col = 1\n",
        "        row += 1\n",
        "\n",
        "fig.update_layout(height=1200, width=1000, title_text='Time Series of Each KPI')\n",
        "fig.show()"
      ]
    },
    {
      "cell_type": "code",
      "execution_count": 285,
      "metadata": {},
      "outputs": [],
      "source": [
        "# export long format\n",
        "dfAllYearsSmooth.to_csv('/Users/diana/Dropbox/_hackathon/deploy_2023/_data/pj_sample_value_long_completed_timeSeries_smooth_2014_2023.csv')\n",
        "dfAllYears.to_csv('/Users/diana/Dropbox/_hackathon/deploy_2023/_data/pj_sample_value_long_completed_timeSeries_2014_2023.csv')"
      ]
    },
    {
      "cell_type": "code",
      "execution_count": 288,
      "metadata": {},
      "outputs": [
        {
          "name": "stdout",
          "output_type": "stream",
          "text": [
            "<class 'pandas.core.frame.DataFrame'>\n",
            "RangeIndex: 1092 entries, 0 to 1091\n",
            "Data columns (total 8 columns):\n",
            " #   Column        Non-Null Count  Dtype  \n",
            "---  ------        --------------  -----  \n",
            " 0   circle        1092 non-null   object \n",
            " 1   kpi           1092 non-null   object \n",
            " 2   periodicity   1092 non-null   object \n",
            " 3   range         1092 non-null   object \n",
            " 4   period_year   1092 non-null   int64  \n",
            " 5   period_month  1092 non-null   int64  \n",
            " 6   date          1092 non-null   object \n",
            " 7   value         1092 non-null   float64\n",
            "dtypes: float64(1), int64(2), object(5)\n",
            "memory usage: 68.4+ KB\n"
          ]
        }
      ],
      "source": [
        "dfAllYearsSmooth.info()"
      ]
    },
    {
      "cell_type": "code",
      "execution_count": null,
      "metadata": {},
      "outputs": [],
      "source": [
        "codeSnippetJS = \"\"\"\n",
        "                // Initialize the echarts instance based on the prepared dom\n",
        "                var myChart = echarts.init(document.getElementById('main'));\n",
        "\n",
        "                // Apply Montserrat font to ECharts container\n",
        "                document.getElementById('main').style.fontFamily ='Montserrat, sans-serif';\n",
        "\n",
        "                // Specify the configuration items and data for the chart\n",
        "                // (you should replace this with actual grouped data)\n",
        "\n",
        "                // Prepare data\n",
        "                var data = \"\"\" +\"{name: '\"+k.capitalize()+\"', type: 'bar', stack: 'total', data: \"+str(\n",
        "                        values)+\", itemStyle: {color: '\"+palette[i]+\"'}}\"+ \"\"\";\n",
        "\n",
        "                // Configure chart options\n",
        "                var option = {\n",
        "                    title: {\n",
        "                        text: '\"\"\"+k.capitalize()+\"\"\" for Circle \"\"\"+circle.capitalize()+\"\"\", Year \"\"\"+str(year)+ \"\"\"',\n",
        "                        textStyle: {\n",
        "                            fontFamily: 'Montserrat',\n",
        "                            fontSize: 14 \n",
        "                        }\n",
        "                    },\n",
        "                    tooltip: {\n",
        "                        trigger: 'axis',\n",
        "                        formatter: function (params) {\n",
        "                            return params[0].axisValueLabel + '<br/>' +\n",
        "                                params.map(function (item) {\n",
        "                                    return item.marker + ' ' + item.seriesName + ': ' + item.data;\n",
        "                                }).join('<br/>');\n",
        "                        },\n",
        "                        textStyle: {\n",
        "                            fontFamily: 'Montserrat',\n",
        "                            fontSize: 12\n",
        "                        }\n",
        "                    },\n",
        "                    legend: {\n",
        "                        data: ['\"\"\"+kpis[i]+\"\"\"'], //KPIs\n",
        "                        bottom: 0,\n",
        "                        textStyle: {\n",
        "                            fontFamily: 'Montserrat'\n",
        "                        }\n",
        "                    },\n",
        "                    xAxis: {\n",
        "                        type: 'category',\n",
        "                        boundaryGap: true,\n",
        "                        data: \"\"\"+str(monthsRange)+\"\"\", //MONTHS\n",
        "                        axisLabel: {\n",
        "                            textStyle: {\n",
        "                                fontFamily: 'Montserrat'\n",
        "                            }\n",
        "                        }\n",
        "                    },\n",
        "                    yAxis: {\n",
        "                        type: 'value',\n",
        "                        axisLabel: {\n",
        "                            textStyle: {\n",
        "                                fontFamily: 'Montserrat'\n",
        "                            }\n",
        "                        }\n",
        "                    },\n",
        "                    series: data\n",
        "                };\n",
        "\n",
        "                // Add markLine to one of the series\n",
        "                data[0].markLine = {\n",
        "                    silent: true,\n",
        "                    data: [\n",
        "                        {yAxis: \"\"\"+str(target)+\"\"\", lineStyle: {color: '#FF0000', width: 1.5, type: 'dotted'},\n",
        "                                    label: {\n",
        "                                            show: true,\n",
        "                                            position: 'end', // position of the label, can be 'start', 'middle', or 'end'\n",
        "                                            formatter: 'Target', // label text\n",
        "                                            color: '#000000' // text color\n",
        "                                    }\n",
        "                        },\n",
        "                        {yAxis: \"\"\"+str(baseline)+\"\"\", lineStyle: {color: '#FF0000', width: 1.5, type: 'dotted'},\n",
        "                                    label: {\n",
        "                                            show: false,\n",
        "                                            position: 'end', // position of the label, can be 'start', 'middle', or 'end'\n",
        "                                            formatter: 'Baseline', // label text\n",
        "                                            color: '#000000' // text color\n",
        "                                    }\n",
        "                        }\n",
        "                    ],\n",
        "                    symbol: 'none', // This will remove the arrow at the ends of the line\n",
        "                    label: {\n",
        "                        show: false // Set to true to display the value label near the line\n",
        "                    }\n",
        "                };\n",
        "\n",
        "                // Display the chart using the configuration items and data just specified.\n",
        "                myChart.setOption(option);\n",
        "                \"\"\""
      ]
    }
  ],
  "metadata": {
    "colab": {
      "provenance": []
    },
    "kernelspec": {
      "display_name": "Python 3",
      "name": "python3"
    },
    "language_info": {
      "codemirror_mode": {
        "name": "ipython",
        "version": 3
      },
      "file_extension": ".py",
      "mimetype": "text/x-python",
      "name": "python",
      "nbconvert_exporter": "python",
      "pygments_lexer": "ipython3",
      "version": "3.11.4"
    }
  },
  "nbformat": 4,
  "nbformat_minor": 0
}

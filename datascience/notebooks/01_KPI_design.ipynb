{
 "cells": [
  {
   "cell_type": "markdown",
   "metadata": {},
   "source": [
    "## Analysis of KPIs\n",
    "\n",
    "We have 10 unique KPIs in the dataset, each with a specified range. Based on the names and ranges of the KPIs, we can infer whether each KPI should ideally be maximized or minimized. Here’s a preliminary classification:\n",
    "\n",
    "### KPI Classifications:\n",
    "- **Share of teams constituted as circles** – *Maximized*  \n",
    "  A higher percentage is generally considered positive.\n",
    "- **Share of short-term leave** – *Minimized*  \n",
    "  A lower percentage indicates fewer short-term leaves.\n",
    "- **Involuntary headcount change (FTE)** – *Minimized*  \n",
    "  A lower percentage indicates less involuntary turnover.\n",
    "- **Reachability** – *Maximized*  \n",
    "  Assuming this is a measure of communication or network reach.\n",
    "- **Count sessions on .projuventute.ch** – *Maximized*  \n",
    "  More sessions indicate higher website engagement.\n",
    "- **Count leads** – *Maximized*  \n",
    "  More leads are generally better for business.\n",
    "- **Net promoter score** – *Maximized*  \n",
    "  A higher score indicates better customer loyalty.\n",
    "- **Private donations** – *Maximized*  \n",
    "  More donations are beneficial.\n",
    "- **Additional monetization/savings from CRM** – *Maximized*  \n",
    "  Indicating increased efficiency or revenue.\n",
    "- **Additional monetization/savings from programs** – *Maximized*  \n",
    "  Indicating increased efficiency or revenue.\n",
    "\n",
    "### Next Steps:\n",
    "1. **Set Targets:**  \n",
    "   Based on historical data, considering the nature of each KPI.\n",
    "2. **Evaluate KPI Values:**  \n",
    "   Against these targets to understand the performance.\n",
    "3. **Ensure Targets are Within Range:**  \n",
    "   Confirm that the set targets are within the specified KPI range to ensure they are achievable and realistic."
   ]
  },
  {
   "cell_type": "code",
   "execution_count": 1,
   "metadata": {},
   "outputs": [],
   "source": [
    "import pandas as pd\n",
    "import numpy as np\n",
    "import plotly.graph_objs as go\n",
    "import plotly.express as px\n",
    "from plotly.subplots import make_subplots\n",
    "from sklearn.linear_model import LinearRegression\n",
    "from sklearn.preprocessing import MinMaxScaler\n",
    "\n",
    "# Function to forecast the next 3 months using linear regression\n",
    "def forecastNextMonths(kpiData, periods=4):\n",
    "    \"\"\"\n",
    "    Forecast the next 3 months using linear regression\n",
    "    Args:\n",
    "        kpiData (pandas.DataFrame): The input data\n",
    "        periods (int): The number of months to forecast\n",
    "    Returns:\n",
    "        pandas.DataFrame: The forecasted data\n",
    "    \"\"\"\n",
    "    X = np.array(range(len(kpiData))).reshape(-1, 1)\n",
    "    y = kpiData['value'].values\n",
    "    model = LinearRegression()\n",
    "    model.fit(X, y)\n",
    "    futureMonths = np.array(range(len(kpiData), len(kpiData) + periods)).reshape(-1, 1)\n",
    "    forecasts = model.predict(futureMonths)\n",
    "    last_date = kpiData['date'].iloc[-1]\n",
    "    future_dates = pd.date_range(start=last_date, periods=periods+1, freq='MS')[1:]\n",
    "    forecastDf = pd.DataFrame({'date': future_dates, 'value': forecasts})\n",
    "    return forecastDf\n",
    "\n",
    "def createLinePlot(kpiData, kpi_name, targetDf):\n",
    "    \"\"\"\n",
    "    Create a line plot\n",
    "    Args:\n",
    "        kpiData (pandas.DataFrame): The input data\n",
    "        kpi_name (str): The name of the KPI\n",
    "        targetDf (pandas.DataFrame): The target data\n",
    "    Returns:\n",
    "        plotly.graph_objs: The line plot\n",
    "    \"\"\"\n",
    "    traceActual = go.Scatter(\n",
    "        x=kpiData['date'],\n",
    "        y=kpiData['value'],\n",
    "        mode='lines+markers',\n",
    "        name=f'{kpi_name} Value',\n",
    "        line=dict(color='blue',width=1,dash='dot')\n",
    "    )\n",
    "    \n",
    "    forecastDf = forecastNextMonths(kpiData,4)\n",
    "    traceForecast = go.Scatter(\n",
    "        x=forecastDf['date'],\n",
    "        y=forecastDf['value'],\n",
    "        mode='lines+markers',\n",
    "        name=f'{kpi_name} Forecast',\n",
    "        line=dict(color='green', dash='dot',width=1)\n",
    "    )\n",
    "    \n",
    "    traceTarget = go.Scatter(\n",
    "        x=targetDf['date'],\n",
    "        y=targetDf['target'],\n",
    "        mode='lines',\n",
    "        name=f'{kpi_name} Target',\n",
    "        line=dict(color='red', dash='dot',width=1)\n",
    "        )\n",
    "    \n",
    "    return [traceActual, traceForecast, traceTarget]\n",
    "\n"
   ]
  },
  {
   "cell_type": "markdown",
   "metadata": {},
   "source": [
    "# Pre-processing"
   ]
  },
  {
   "cell_type": "code",
   "execution_count": 2,
   "metadata": {},
   "outputs": [
    {
     "data": {
      "text/html": [
       "<div>\n",
       "<style scoped>\n",
       "    .dataframe tbody tr th:only-of-type {\n",
       "        vertical-align: middle;\n",
       "    }\n",
       "\n",
       "    .dataframe tbody tr th {\n",
       "        vertical-align: top;\n",
       "    }\n",
       "\n",
       "    .dataframe thead th {\n",
       "        text-align: right;\n",
       "    }\n",
       "</style>\n",
       "<table border=\"1\" class=\"dataframe\">\n",
       "  <thead>\n",
       "    <tr style=\"text-align: right;\">\n",
       "      <th></th>\n",
       "      <th>circle</th>\n",
       "      <th>kpi</th>\n",
       "      <th>periodicity</th>\n",
       "      <th>range</th>\n",
       "      <th>value</th>\n",
       "      <th>date</th>\n",
       "    </tr>\n",
       "  </thead>\n",
       "  <tbody>\n",
       "    <tr>\n",
       "      <th>0</th>\n",
       "      <td>HR</td>\n",
       "      <td>share of teams constituted as circles</td>\n",
       "      <td>month</td>\n",
       "      <td>0 &lt;= % &lt;= 100</td>\n",
       "      <td>35.00</td>\n",
       "      <td>2023-01-01</td>\n",
       "    </tr>\n",
       "    <tr>\n",
       "      <th>12</th>\n",
       "      <td>HR</td>\n",
       "      <td>share short term leave</td>\n",
       "      <td>month</td>\n",
       "      <td>0 &lt;= % &lt;= 100</td>\n",
       "      <td>2.04</td>\n",
       "      <td>2023-01-01</td>\n",
       "    </tr>\n",
       "    <tr>\n",
       "      <th>40</th>\n",
       "      <td>Programs - Parents -Online</td>\n",
       "      <td>count sessions on .projuventute.ch</td>\n",
       "      <td>month</td>\n",
       "      <td>0 &lt;= X</td>\n",
       "      <td>158611.00</td>\n",
       "      <td>2023-01-01</td>\n",
       "    </tr>\n",
       "    <tr>\n",
       "      <th>65</th>\n",
       "      <td>Fundraising</td>\n",
       "      <td>private donations</td>\n",
       "      <td>month</td>\n",
       "      <td>0 &lt;= X</td>\n",
       "      <td>1369218.00</td>\n",
       "      <td>2023-01-01</td>\n",
       "    </tr>\n",
       "    <tr>\n",
       "      <th>24</th>\n",
       "      <td>HR</td>\n",
       "      <td>involuntary headcount change (FTE)</td>\n",
       "      <td>month</td>\n",
       "      <td>0 &lt;= % &lt;= 100</td>\n",
       "      <td>2.26</td>\n",
       "      <td>2023-01-01</td>\n",
       "    </tr>\n",
       "  </tbody>\n",
       "</table>\n",
       "</div>"
      ],
      "text/plain": [
       "                        circle                                    kpi  \\\n",
       "0                           HR  share of teams constituted as circles   \n",
       "12                          HR                 share short term leave   \n",
       "40  Programs - Parents -Online     count sessions on .projuventute.ch   \n",
       "65                 Fundraising                      private donations   \n",
       "24                          HR     involuntary headcount change (FTE)   \n",
       "\n",
       "   periodicity          range       value       date  \n",
       "0        month  0 <= % <= 100       35.00 2023-01-01  \n",
       "12       month  0 <= % <= 100        2.04 2023-01-01  \n",
       "40       month         0 <= X   158611.00 2023-01-01  \n",
       "65       month         0 <= X  1369218.00 2023-01-01  \n",
       "24       month  0 <= % <= 100        2.26 2023-01-01  "
      ]
     },
     "execution_count": 2,
     "metadata": {},
     "output_type": "execute_result"
    }
   ],
   "source": [
    "# Load your data\n",
    "df = pd.read_csv('/Users/diana/Dropbox/_hackathon/deploy_2023/_data/pj_sample_value.csv')\n",
    "\n",
    "# Preprocessing: Creating a new date column combining period_year and period_month\n",
    "df['date'] = pd.to_datetime(df['period_year'].astype(str) + '-' + df['period_month'].astype(str) + '-01', format='%Y-%m-%d')\n",
    "\n",
    "# Sort by the new date column\n",
    "df = df.sort_values(by='date')\n",
    "df.drop(['period_year', 'period_month'], axis=1, inplace=True)\n",
    "\n",
    "# clean dataset, gather classes, correct mistakes\n",
    "df.dropna(inplace=True)\n",
    "df.replace('0 <= X <= 100', '0 <= % <= 100', inplace=True)\n",
    "df.replace('share short tern leave', 'share short term leave', inplace=True)\n",
    "df.head(5)"
   ]
  },
  {
   "cell_type": "markdown",
   "metadata": {},
   "source": [
    "## Define KPI conditions:\n",
    "- Trend of the target: up or down\n",
    "- Set targets: a. based on historical data b. absolute targets (i.e. 0 or 100)"
   ]
  },
  {
   "cell_type": "code",
   "execution_count": 3,
   "metadata": {},
   "outputs": [
    {
     "data": {
      "text/html": [
       "<div>\n",
       "<style scoped>\n",
       "    .dataframe tbody tr th:only-of-type {\n",
       "        vertical-align: middle;\n",
       "    }\n",
       "\n",
       "    .dataframe tbody tr th {\n",
       "        vertical-align: top;\n",
       "    }\n",
       "\n",
       "    .dataframe thead th {\n",
       "        text-align: right;\n",
       "    }\n",
       "</style>\n",
       "<table border=\"1\" class=\"dataframe\">\n",
       "  <thead>\n",
       "    <tr style=\"text-align: right;\">\n",
       "      <th></th>\n",
       "      <th>circle</th>\n",
       "      <th>kpi</th>\n",
       "      <th>periodicity</th>\n",
       "      <th>range</th>\n",
       "      <th>value</th>\n",
       "      <th>date</th>\n",
       "      <th>trend_target</th>\n",
       "      <th>target</th>\n",
       "      <th>value_norm</th>\n",
       "      <th>target_norm</th>\n",
       "      <th>delta_norm</th>\n",
       "      <th>delta_mean</th>\n",
       "    </tr>\n",
       "  </thead>\n",
       "  <tbody>\n",
       "    <tr>\n",
       "      <th>0</th>\n",
       "      <td>HR</td>\n",
       "      <td>share of teams constituted as circles</td>\n",
       "      <td>month</td>\n",
       "      <td>0 &lt;= % &lt;= 100</td>\n",
       "      <td>35.00</td>\n",
       "      <td>2023-01-01</td>\n",
       "      <td>upward</td>\n",
       "      <td>35.00</td>\n",
       "      <td>0.000000</td>\n",
       "      <td>0.000000</td>\n",
       "      <td>0.000000e+00</td>\n",
       "      <td>5.973193</td>\n",
       "    </tr>\n",
       "    <tr>\n",
       "      <th>12</th>\n",
       "      <td>HR</td>\n",
       "      <td>share short term leave</td>\n",
       "      <td>month</td>\n",
       "      <td>0 &lt;= % &lt;= 100</td>\n",
       "      <td>2.04</td>\n",
       "      <td>2023-01-01</td>\n",
       "      <td>downward</td>\n",
       "      <td>2.04</td>\n",
       "      <td>46.835443</td>\n",
       "      <td>0.000000</td>\n",
       "      <td>4.683544e+01</td>\n",
       "      <td>-4.904104</td>\n",
       "    </tr>\n",
       "    <tr>\n",
       "      <th>40</th>\n",
       "      <td>Programs - Parents -Online</td>\n",
       "      <td>count sessions on .projuventute.ch</td>\n",
       "      <td>month</td>\n",
       "      <td>0 &lt;= X</td>\n",
       "      <td>158611.00</td>\n",
       "      <td>2023-01-01</td>\n",
       "      <td>upward</td>\n",
       "      <td>158611.00</td>\n",
       "      <td>0.000000</td>\n",
       "      <td>0.000000</td>\n",
       "      <td>0.000000e+00</td>\n",
       "      <td>-29.114078</td>\n",
       "    </tr>\n",
       "    <tr>\n",
       "      <th>65</th>\n",
       "      <td>Fundraising</td>\n",
       "      <td>private donations</td>\n",
       "      <td>month</td>\n",
       "      <td>0 &lt;= X</td>\n",
       "      <td>1369218.00</td>\n",
       "      <td>2023-01-01</td>\n",
       "      <td>upward</td>\n",
       "      <td>1369218.00</td>\n",
       "      <td>25.701673</td>\n",
       "      <td>0.000000</td>\n",
       "      <td>2.570167e+01</td>\n",
       "      <td>-28.866233</td>\n",
       "    </tr>\n",
       "    <tr>\n",
       "      <th>24</th>\n",
       "      <td>HR</td>\n",
       "      <td>involuntary headcount change (FTE)</td>\n",
       "      <td>month</td>\n",
       "      <td>0 &lt;= % &lt;= 100</td>\n",
       "      <td>2.26</td>\n",
       "      <td>2023-01-01</td>\n",
       "      <td>downward</td>\n",
       "      <td>2.26</td>\n",
       "      <td>100.000000</td>\n",
       "      <td>100.000000</td>\n",
       "      <td>1.421085e-14</td>\n",
       "      <td>3.934124</td>\n",
       "    </tr>\n",
       "    <tr>\n",
       "      <th>25</th>\n",
       "      <td>HR</td>\n",
       "      <td>involuntary headcount change (FTE)</td>\n",
       "      <td>month</td>\n",
       "      <td>0 &lt;= % &lt;= 100</td>\n",
       "      <td>0.98</td>\n",
       "      <td>2023-02-01</td>\n",
       "      <td>downward</td>\n",
       "      <td>1.30</td>\n",
       "      <td>43.362832</td>\n",
       "      <td>54.982415</td>\n",
       "      <td>-1.161958e+01</td>\n",
       "      <td>3.934124</td>\n",
       "    </tr>\n",
       "    <tr>\n",
       "      <th>41</th>\n",
       "      <td>Programs - Parents -Online</td>\n",
       "      <td>count sessions on .projuventute.ch</td>\n",
       "      <td>month</td>\n",
       "      <td>0 &lt;= X</td>\n",
       "      <td>203755.00</td>\n",
       "      <td>2023-02-01</td>\n",
       "      <td>upward</td>\n",
       "      <td>192469.00</td>\n",
       "      <td>100.000000</td>\n",
       "      <td>87.836769</td>\n",
       "      <td>1.216323e+01</td>\n",
       "      <td>-29.114078</td>\n",
       "    </tr>\n",
       "    <tr>\n",
       "      <th>1</th>\n",
       "      <td>HR</td>\n",
       "      <td>share of teams constituted as circles</td>\n",
       "      <td>month</td>\n",
       "      <td>0 &lt;= % &lt;= 100</td>\n",
       "      <td>50.00</td>\n",
       "      <td>2023-02-01</td>\n",
       "      <td>upward</td>\n",
       "      <td>46.25</td>\n",
       "      <td>27.272727</td>\n",
       "      <td>23.076923</td>\n",
       "      <td>4.195804e+00</td>\n",
       "      <td>5.973193</td>\n",
       "    </tr>\n",
       "    <tr>\n",
       "      <th>13</th>\n",
       "      <td>HR</td>\n",
       "      <td>share short term leave</td>\n",
       "      <td>month</td>\n",
       "      <td>0 &lt;= % &lt;= 100</td>\n",
       "      <td>2.20</td>\n",
       "      <td>2023-02-01</td>\n",
       "      <td>downward</td>\n",
       "      <td>2.08</td>\n",
       "      <td>53.586498</td>\n",
       "      <td>29.090909</td>\n",
       "      <td>2.449559e+01</td>\n",
       "      <td>-4.904104</td>\n",
       "    </tr>\n",
       "    <tr>\n",
       "      <th>66</th>\n",
       "      <td>Fundraising</td>\n",
       "      <td>private donations</td>\n",
       "      <td>month</td>\n",
       "      <td>0 &lt;= X</td>\n",
       "      <td>2144446.00</td>\n",
       "      <td>2023-02-01</td>\n",
       "      <td>upward</td>\n",
       "      <td>1950639.00</td>\n",
       "      <td>100.000000</td>\n",
       "      <td>87.439290</td>\n",
       "      <td>1.256071e+01</td>\n",
       "      <td>-28.866233</td>\n",
       "    </tr>\n",
       "  </tbody>\n",
       "</table>\n",
       "</div>"
      ],
      "text/plain": [
       "                        circle                                    kpi  \\\n",
       "0                           HR  share of teams constituted as circles   \n",
       "12                          HR                 share short term leave   \n",
       "40  Programs - Parents -Online     count sessions on .projuventute.ch   \n",
       "65                 Fundraising                      private donations   \n",
       "24                          HR     involuntary headcount change (FTE)   \n",
       "25                          HR     involuntary headcount change (FTE)   \n",
       "41  Programs - Parents -Online     count sessions on .projuventute.ch   \n",
       "1                           HR  share of teams constituted as circles   \n",
       "13                          HR                 share short term leave   \n",
       "66                 Fundraising                      private donations   \n",
       "\n",
       "   periodicity          range       value       date trend_target      target  \\\n",
       "0        month  0 <= % <= 100       35.00 2023-01-01       upward       35.00   \n",
       "12       month  0 <= % <= 100        2.04 2023-01-01     downward        2.04   \n",
       "40       month         0 <= X   158611.00 2023-01-01       upward   158611.00   \n",
       "65       month         0 <= X  1369218.00 2023-01-01       upward  1369218.00   \n",
       "24       month  0 <= % <= 100        2.26 2023-01-01     downward        2.26   \n",
       "25       month  0 <= % <= 100        0.98 2023-02-01     downward        1.30   \n",
       "41       month         0 <= X   203755.00 2023-02-01       upward   192469.00   \n",
       "1        month  0 <= % <= 100       50.00 2023-02-01       upward       46.25   \n",
       "13       month  0 <= % <= 100        2.20 2023-02-01     downward        2.08   \n",
       "66       month         0 <= X  2144446.00 2023-02-01       upward  1950639.00   \n",
       "\n",
       "    value_norm  target_norm    delta_norm  delta_mean  \n",
       "0     0.000000     0.000000  0.000000e+00    5.973193  \n",
       "12   46.835443     0.000000  4.683544e+01   -4.904104  \n",
       "40    0.000000     0.000000  0.000000e+00  -29.114078  \n",
       "65   25.701673     0.000000  2.570167e+01  -28.866233  \n",
       "24  100.000000   100.000000  1.421085e-14    3.934124  \n",
       "25   43.362832    54.982415 -1.161958e+01    3.934124  \n",
       "41  100.000000    87.836769  1.216323e+01  -29.114078  \n",
       "1    27.272727    23.076923  4.195804e+00    5.973193  \n",
       "13   53.586498    29.090909  2.449559e+01   -4.904104  \n",
       "66  100.000000    87.439290  1.256071e+01  -28.866233  "
      ]
     },
     "execution_count": 3,
     "metadata": {},
     "output_type": "execute_result"
    }
   ],
   "source": [
    "# define upward and downward trends\n",
    "df['trend_target'] = 'upward'\n",
    "df.loc[(df.kpi=='share short term leave')^(df.kpi=='involuntary headcount change (FTE)'),'trend_target'] = 'downward'\n",
    "\n",
    "# Setting targets: Adjust this part according to specific needs and business logic\n",
    "# Option 1: Set targets based on historical data (for example, the 75th percentile)\n",
    "df['target'] = df.groupby('kpi')['value'].transform(lambda x: x.quantile(0.75))\n",
    "# Option 2: Calculate the 6-month moving 75th percentile for each KPI, handling NaN values\n",
    "df['target'] = df.groupby('kpi')['value'].transform(lambda x: x.rolling(window=6, min_periods=1).quantile(0.75))\n",
    "\n",
    "# Set target for kpis with downward trend and defined range\n",
    "selection = (df.trend_target=='downward')&(df.range=='0 <= % <= 100')\n",
    "# Option 1: Set target to 0\n",
    "df.loc[selection,'target'] = 0 # set target to 0\n",
    "# Option 2: Set target to 25th percentile\n",
    "df.loc[selection,'target'] = df.groupby('kpi')['value'].transform(lambda x: x.rolling(window=6, min_periods=1).quantile(0.25)).loc[selection]\n",
    "\n",
    "# # Applying MinMax scaler to each KPI's values\n",
    "df['value_norm'] = df.groupby('kpi')['value'].transform(\n",
    "    lambda x: MinMaxScaler(feature_range=(0, 100)).fit_transform(x.values.reshape(-1, 1)).flatten()\n",
    "    if np.count_nonzero(~np.isnan(x)) > 0 else x)\n",
    "df['target_norm'] = df.groupby('kpi')['target'].transform(\n",
    "    lambda x: MinMaxScaler(feature_range=(0, 100)).fit_transform(x.values.reshape(-1, 1)).flatten()\n",
    "    if np.count_nonzero(~np.isnan(x)) > 0 else x)\n",
    "\n",
    "# Difference between target and value\n",
    "df['delta_norm'] = (df['value_norm'] - df['target_norm'])\n",
    "df['delta_mean'] = df.groupby('kpi')['delta_norm'].transform(lambda x: x.mean())\n",
    "\n",
    "df.head(10)"
   ]
  },
  {
   "cell_type": "code",
   "execution_count": 8,
   "metadata": {},
   "outputs": [
    {
     "data": {
      "application/vnd.plotly.v1+json": {
       "config": {
        "plotlyServerURL": "https://plot.ly"
       },
       "data": [
        {
         "line": {
          "color": "blue",
          "dash": "dot",
          "width": 1
         },
         "mode": "lines+markers",
         "name": "share of teams constituted as circles Value",
         "type": "scatter",
         "x": [
          "2023-01-01T00:00:00",
          "2023-02-01T00:00:00",
          "2023-03-01T00:00:00",
          "2023-04-01T00:00:00",
          "2023-05-01T00:00:00",
          "2023-06-01T00:00:00",
          "2023-07-01T00:00:00",
          "2023-08-01T00:00:00"
         ],
         "xaxis": "x",
         "y": [
          35,
          50,
          50,
          55,
          70,
          80,
          85,
          90
         ],
         "yaxis": "y"
        },
        {
         "line": {
          "color": "green",
          "dash": "dot",
          "width": 1
         },
         "mode": "lines+markers",
         "name": "share of teams constituted as circles Forecast",
         "type": "scatter",
         "x": [
          "2023-09-01T00:00:00",
          "2023-10-01T00:00:00",
          "2023-11-01T00:00:00",
          "2023-12-01T00:00:00"
         ],
         "xaxis": "x",
         "y": [
          100,
          107.91666666666666,
          115.83333333333334,
          123.75
         ],
         "yaxis": "y"
        },
        {
         "line": {
          "color": "red",
          "dash": "dot",
          "width": 1
         },
         "mode": "lines",
         "name": "share of teams constituted as circles Target",
         "type": "scatter",
         "x": [
          "2023-01-01T00:00:00",
          "2023-02-01T00:00:00",
          "2023-03-01T00:00:00",
          "2023-04-01T00:00:00",
          "2023-05-01T00:00:00",
          "2023-06-01T00:00:00",
          "2023-07-01T00:00:00",
          "2023-08-01T00:00:00"
         ],
         "xaxis": "x",
         "y": [
          35,
          46.25,
          50,
          51.25,
          55,
          66.25,
          77.5,
          83.75
         ],
         "yaxis": "y"
        },
        {
         "line": {
          "color": "blue",
          "dash": "dot",
          "width": 1
         },
         "mode": "lines+markers",
         "name": "share short term leave Value",
         "type": "scatter",
         "x": [
          "2023-01-01T00:00:00",
          "2023-02-01T00:00:00",
          "2023-03-01T00:00:00",
          "2023-04-01T00:00:00",
          "2023-05-01T00:00:00",
          "2023-06-01T00:00:00",
          "2023-07-01T00:00:00",
          "2023-08-01T00:00:00"
         ],
         "xaxis": "x2",
         "y": [
          2.04,
          2.2,
          2.54,
          2.17,
          3.3,
          2.58,
          2.04,
          0.93
         ],
         "yaxis": "y2"
        },
        {
         "line": {
          "color": "green",
          "dash": "dot",
          "width": 1
         },
         "mode": "lines+markers",
         "name": "share short term leave Forecast",
         "type": "scatter",
         "x": [
          "2023-09-01T00:00:00",
          "2023-10-01T00:00:00",
          "2023-11-01T00:00:00",
          "2023-12-01T00:00:00"
         ],
         "xaxis": "x2",
         "y": [
          1.8328571428571423,
          1.745714285714285,
          1.658571428571428,
          1.571428571428571
         ],
         "yaxis": "y2"
        },
        {
         "line": {
          "color": "red",
          "dash": "dot",
          "width": 1
         },
         "mode": "lines",
         "name": "share short term leave Target",
         "type": "scatter",
         "x": [
          "2023-01-01T00:00:00",
          "2023-02-01T00:00:00",
          "2023-03-01T00:00:00",
          "2023-04-01T00:00:00",
          "2023-05-01T00:00:00",
          "2023-06-01T00:00:00",
          "2023-07-01T00:00:00",
          "2023-08-01T00:00:00"
         ],
         "xaxis": "x2",
         "y": [
          2.04,
          2.08,
          2.12,
          2.1375,
          2.17,
          2.1775,
          2.1775,
          2.0725
         ],
         "yaxis": "y2"
        },
        {
         "line": {
          "color": "blue",
          "dash": "dot",
          "width": 1
         },
         "mode": "lines+markers",
         "name": "count sessions on .projuventute.ch Value",
         "type": "scatter",
         "x": [
          "2023-01-01T00:00:00",
          "2023-02-01T00:00:00",
          "2023-03-01T00:00:00",
          "2023-04-01T00:00:00",
          "2023-05-01T00:00:00",
          "2023-06-01T00:00:00",
          "2023-07-01T00:00:00",
          "2023-08-01T00:00:00"
         ],
         "xaxis": "x3",
         "y": [
          158611,
          203755,
          190560,
          164663,
          180421,
          174107,
          164059,
          194407
         ],
         "yaxis": "y3"
        },
        {
         "line": {
          "color": "green",
          "dash": "dot",
          "width": 1
         },
         "mode": "lines+markers",
         "name": "count sessions on .projuventute.ch Forecast",
         "type": "scatter",
         "x": [
          "2023-09-01T00:00:00",
          "2023-10-01T00:00:00",
          "2023-11-01T00:00:00",
          "2023-12-01T00:00:00"
         ],
         "xaxis": "x3",
         "y": [
          179813.4642857143,
          180033.59523809524,
          180253.72619047618,
          180473.85714285713
         ],
         "yaxis": "y3"
        },
        {
         "line": {
          "color": "red",
          "dash": "dot",
          "width": 1
         },
         "mode": "lines",
         "name": "count sessions on .projuventute.ch Target",
         "type": "scatter",
         "x": [
          "2023-01-01T00:00:00",
          "2023-02-01T00:00:00",
          "2023-03-01T00:00:00",
          "2023-04-01T00:00:00",
          "2023-05-01T00:00:00",
          "2023-06-01T00:00:00",
          "2023-07-01T00:00:00",
          "2023-08-01T00:00:00"
         ],
         "xaxis": "x3",
         "y": [
          158611,
          192469,
          197157.5,
          193858.75,
          190560,
          188025.25,
          188025.25,
          188025.25
         ],
         "yaxis": "y3"
        },
        {
         "line": {
          "color": "blue",
          "dash": "dot",
          "width": 1
         },
         "mode": "lines+markers",
         "name": "private donations Value",
         "type": "scatter",
         "x": [
          "2023-01-01T00:00:00",
          "2023-02-01T00:00:00",
          "2023-03-01T00:00:00",
          "2023-04-01T00:00:00",
          "2023-05-01T00:00:00",
          "2023-06-01T00:00:00",
          "2023-07-01T00:00:00",
          "2023-08-01T00:00:00"
         ],
         "xaxis": "x4",
         "y": [
          1369218,
          2144446,
          1923875,
          1274911,
          1797114,
          1352463,
          1359887,
          1101047
         ],
         "yaxis": "y4"
        },
        {
         "line": {
          "color": "green",
          "dash": "dot",
          "width": 1
         },
         "mode": "lines+markers",
         "name": "private donations Forecast",
         "type": "scatter",
         "x": [
          "2023-09-01T00:00:00",
          "2023-10-01T00:00:00",
          "2023-11-01T00:00:00",
          "2023-12-01T00:00:00"
         ],
         "xaxis": "x4",
         "y": [
          1165797.3571428568,
          1082558.964285714,
          999320.5714285711,
          916082.1785714283
         ],
         "yaxis": "y4"
        },
        {
         "line": {
          "color": "red",
          "dash": "dot",
          "width": 1
         },
         "mode": "lines",
         "name": "private donations Target",
         "type": "scatter",
         "x": [
          "2023-01-01T00:00:00",
          "2023-02-01T00:00:00",
          "2023-03-01T00:00:00",
          "2023-04-01T00:00:00",
          "2023-05-01T00:00:00",
          "2023-06-01T00:00:00",
          "2023-07-01T00:00:00",
          "2023-08-01T00:00:00"
         ],
         "xaxis": "x4",
         "y": [
          1369218,
          1950639,
          2034160.5,
          1979017.75,
          1923875,
          1892184.75,
          1892184.75,
          1687807.25
         ],
         "yaxis": "y4"
        },
        {
         "line": {
          "color": "blue",
          "dash": "dot",
          "width": 1
         },
         "mode": "lines+markers",
         "name": "involuntary headcount change (FTE) Value",
         "type": "scatter",
         "x": [
          "2023-01-01T00:00:00",
          "2023-02-01T00:00:00",
          "2023-03-01T00:00:00",
          "2023-04-01T00:00:00",
          "2023-05-01T00:00:00",
          "2023-06-01T00:00:00",
          "2023-07-01T00:00:00",
          "2023-08-01T00:00:00"
         ],
         "xaxis": "x5",
         "y": [
          2.26,
          0.98,
          1.47,
          1.46,
          0,
          0,
          0.51,
          1.01
         ],
         "yaxis": "y5"
        },
        {
         "line": {
          "color": "green",
          "dash": "dot",
          "width": 1
         },
         "mode": "lines+markers",
         "name": "involuntary headcount change (FTE) Forecast",
         "type": "scatter",
         "x": [
          "2023-09-01T00:00:00",
          "2023-10-01T00:00:00",
          "2023-11-01T00:00:00",
          "2023-12-01T00:00:00"
         ],
         "xaxis": "x5",
         "y": [
          0.052142857142857046,
          -0.14988095238095256,
          -0.35190476190476216,
          -0.5539285714285715
         ],
         "yaxis": "y5"
        },
        {
         "line": {
          "color": "red",
          "dash": "dot",
          "width": 1
         },
         "mode": "lines",
         "name": "involuntary headcount change (FTE) Target",
         "type": "scatter",
         "x": [
          "2023-01-01T00:00:00",
          "2023-02-01T00:00:00",
          "2023-03-01T00:00:00",
          "2023-04-01T00:00:00",
          "2023-05-01T00:00:00",
          "2023-06-01T00:00:00",
          "2023-07-01T00:00:00",
          "2023-08-01T00:00:00"
         ],
         "xaxis": "x5",
         "y": [
          2.26,
          1.2999999999999998,
          1.225,
          1.3399999999999999,
          0.98,
          0.245,
          0.1275,
          0.1275
         ],
         "yaxis": "y5"
        },
        {
         "line": {
          "color": "blue",
          "dash": "dot",
          "width": 1
         },
         "mode": "lines+markers",
         "name": "count leads Value",
         "type": "scatter",
         "x": [
          "2023-03-01T00:00:00",
          "2023-06-01T00:00:00"
         ],
         "xaxis": "x6",
         "y": [
          825,
          276
         ],
         "yaxis": "y6"
        },
        {
         "line": {
          "color": "green",
          "dash": "dot",
          "width": 1
         },
         "mode": "lines+markers",
         "name": "count leads Forecast",
         "type": "scatter",
         "x": [
          "2023-07-01T00:00:00",
          "2023-08-01T00:00:00",
          "2023-09-01T00:00:00",
          "2023-10-01T00:00:00"
         ],
         "xaxis": "x6",
         "y": [
          -272.9999999999998,
          -821.9999999999995,
          -1370.9999999999995,
          -1919.9999999999995
         ],
         "yaxis": "y6"
        },
        {
         "line": {
          "color": "red",
          "dash": "dot",
          "width": 1
         },
         "mode": "lines",
         "name": "count leads Target",
         "type": "scatter",
         "x": [
          "2023-03-01T00:00:00",
          "2023-06-01T00:00:00"
         ],
         "xaxis": "x6",
         "y": [
          825,
          687.75
         ],
         "yaxis": "y6"
        },
        {
         "line": {
          "color": "blue",
          "dash": "dot",
          "width": 1
         },
         "mode": "lines+markers",
         "name": "additional monetization/savings from CRM Value",
         "type": "scatter",
         "x": [
          "2023-03-01T00:00:00",
          "2023-06-01T00:00:00",
          "2023-09-01T00:00:00"
         ],
         "xaxis": "x7",
         "y": [
          51000,
          0,
          0
         ],
         "yaxis": "y7"
        },
        {
         "line": {
          "color": "green",
          "dash": "dot",
          "width": 1
         },
         "mode": "lines+markers",
         "name": "additional monetization/savings from CRM Forecast",
         "type": "scatter",
         "x": [
          "2023-10-01T00:00:00",
          "2023-11-01T00:00:00",
          "2023-12-01T00:00:00",
          "2024-01-01T00:00:00"
         ],
         "xaxis": "x7",
         "y": [
          -33999.99999999998,
          -59499.99999999998,
          -84999.99999999997,
          -110499.99999999994
         ],
         "yaxis": "y7"
        },
        {
         "line": {
          "color": "red",
          "dash": "dot",
          "width": 1
         },
         "mode": "lines",
         "name": "additional monetization/savings from CRM Target",
         "type": "scatter",
         "x": [
          "2023-03-01T00:00:00",
          "2023-06-01T00:00:00",
          "2023-09-01T00:00:00"
         ],
         "xaxis": "x7",
         "y": [
          51000,
          38250,
          25500
         ],
         "yaxis": "y7"
        },
        {
         "line": {
          "color": "blue",
          "dash": "dot",
          "width": 1
         },
         "mode": "lines+markers",
         "name": "additional monetization/savings from programs Value",
         "type": "scatter",
         "x": [
          "2023-03-01T00:00:00",
          "2023-06-01T00:00:00",
          "2023-09-01T00:00:00"
         ],
         "xaxis": "x8",
         "y": [
          186258,
          0,
          26000
         ],
         "yaxis": "y8"
        },
        {
         "line": {
          "color": "green",
          "dash": "dot",
          "width": 1
         },
         "mode": "lines+markers",
         "name": "additional monetization/savings from programs Forecast",
         "type": "scatter",
         "x": [
          "2023-10-01T00:00:00",
          "2023-11-01T00:00:00",
          "2023-12-01T00:00:00",
          "2024-01-01T00:00:00"
         ],
         "xaxis": "x8",
         "y": [
          -89505.33333333328,
          -169634.33333333328,
          -249763.33333333328,
          -329892.33333333326
         ],
         "yaxis": "y8"
        },
        {
         "line": {
          "color": "red",
          "dash": "dot",
          "width": 1
         },
         "mode": "lines",
         "name": "additional monetization/savings from programs Target",
         "type": "scatter",
         "x": [
          "2023-03-01T00:00:00",
          "2023-06-01T00:00:00",
          "2023-09-01T00:00:00"
         ],
         "xaxis": "x8",
         "y": [
          186258,
          139693.5,
          106129
         ],
         "yaxis": "y8"
        },
        {
         "line": {
          "color": "blue",
          "dash": "dot",
          "width": 1
         },
         "mode": "lines+markers",
         "name": "reachability Value",
         "type": "scatter",
         "x": [
          "2023-03-01T00:00:00",
          "2023-06-01T00:00:00",
          "2023-09-01T00:00:00"
         ],
         "xaxis": "x9",
         "y": [
          46,
          44.9,
          43.6
         ],
         "yaxis": "y9"
        },
        {
         "line": {
          "color": "green",
          "dash": "dot",
          "width": 1
         },
         "mode": "lines+markers",
         "name": "reachability Forecast",
         "type": "scatter",
         "x": [
          "2023-10-01T00:00:00",
          "2023-11-01T00:00:00",
          "2023-12-01T00:00:00",
          "2024-01-01T00:00:00"
         ],
         "xaxis": "x9",
         "y": [
          42.43333333333334,
          41.233333333333334,
          40.03333333333334,
          38.833333333333336
         ],
         "yaxis": "y9"
        },
        {
         "line": {
          "color": "red",
          "dash": "dot",
          "width": 1
         },
         "mode": "lines",
         "name": "reachability Target",
         "type": "scatter",
         "x": [
          "2023-03-01T00:00:00",
          "2023-06-01T00:00:00",
          "2023-09-01T00:00:00"
         ],
         "xaxis": "x9",
         "y": [
          46,
          45.725,
          45.45
         ],
         "yaxis": "y9"
        },
        {
         "line": {
          "color": "blue",
          "dash": "dot",
          "width": 1
         },
         "mode": "lines+markers",
         "name": "net promoter score Value",
         "type": "scatter",
         "x": [
          "2023-12-01T00:00:00"
         ],
         "xaxis": "x10",
         "y": [
          35
         ],
         "yaxis": "y10"
        },
        {
         "line": {
          "color": "green",
          "dash": "dot",
          "width": 1
         },
         "mode": "lines+markers",
         "name": "net promoter score Forecast",
         "type": "scatter",
         "x": [
          "2024-01-01T00:00:00",
          "2024-02-01T00:00:00",
          "2024-03-01T00:00:00",
          "2024-04-01T00:00:00"
         ],
         "xaxis": "x10",
         "y": [
          35,
          35,
          35,
          35
         ],
         "yaxis": "y10"
        },
        {
         "line": {
          "color": "red",
          "dash": "dot",
          "width": 1
         },
         "mode": "lines",
         "name": "net promoter score Target",
         "type": "scatter",
         "x": [
          "2023-12-01T00:00:00"
         ],
         "xaxis": "x10",
         "y": [
          35
         ],
         "yaxis": "y10"
        }
       ],
       "layout": {
        "annotations": [
         {
          "font": {
           "family": "Helvetica",
           "size": 12
          },
          "showarrow": false,
          "text": "share of teams constituted as circles",
          "x": 0.10625,
          "xanchor": "center",
          "xref": "paper",
          "y": 1,
          "yanchor": "bottom",
          "yref": "paper"
         },
         {
          "font": {
           "family": "Helvetica",
           "size": 12
          },
          "showarrow": false,
          "text": "share short term leave",
          "x": 0.36875,
          "xanchor": "center",
          "xref": "paper",
          "y": 1,
          "yanchor": "bottom",
          "yref": "paper"
         },
         {
          "font": {
           "family": "Helvetica",
           "size": 12
          },
          "showarrow": false,
          "text": "count sessions on .projuventute.ch",
          "x": 0.6312500000000001,
          "xanchor": "center",
          "xref": "paper",
          "y": 1,
          "yanchor": "bottom",
          "yref": "paper"
         },
         {
          "font": {
           "family": "Helvetica",
           "size": 12
          },
          "showarrow": false,
          "text": "private donations",
          "x": 0.89375,
          "xanchor": "center",
          "xref": "paper",
          "y": 1,
          "yanchor": "bottom",
          "yref": "paper"
         },
         {
          "font": {
           "family": "Helvetica",
           "size": 12
          },
          "showarrow": false,
          "text": "involuntary headcount change (FTE)",
          "x": 0.10625,
          "xanchor": "center",
          "xref": "paper",
          "y": 0.6111111111111112,
          "yanchor": "bottom",
          "yref": "paper"
         },
         {
          "font": {
           "family": "Helvetica",
           "size": 12
          },
          "showarrow": false,
          "text": "count leads",
          "x": 0.36875,
          "xanchor": "center",
          "xref": "paper",
          "y": 0.6111111111111112,
          "yanchor": "bottom",
          "yref": "paper"
         },
         {
          "font": {
           "family": "Helvetica",
           "size": 12
          },
          "showarrow": false,
          "text": "additional monetization/savings from CRM",
          "x": 0.6312500000000001,
          "xanchor": "center",
          "xref": "paper",
          "y": 0.6111111111111112,
          "yanchor": "bottom",
          "yref": "paper"
         },
         {
          "font": {
           "family": "Helvetica",
           "size": 12
          },
          "showarrow": false,
          "text": "additional monetization/savings from programs",
          "x": 0.89375,
          "xanchor": "center",
          "xref": "paper",
          "y": 0.6111111111111112,
          "yanchor": "bottom",
          "yref": "paper"
         },
         {
          "font": {
           "family": "Helvetica",
           "size": 12
          },
          "showarrow": false,
          "text": "reachability",
          "x": 0.10625,
          "xanchor": "center",
          "xref": "paper",
          "y": 0.22222222222222224,
          "yanchor": "bottom",
          "yref": "paper"
         },
         {
          "font": {
           "family": "Helvetica",
           "size": 12
          },
          "showarrow": false,
          "text": "net promoter score",
          "x": 0.36875,
          "xanchor": "center",
          "xref": "paper",
          "y": 0.22222222222222224,
          "yanchor": "bottom",
          "yref": "paper"
         }
        ],
        "height": 900,
        "showlegend": false,
        "template": {
         "data": {
          "bar": [
           {
            "error_x": {
             "color": "#2a3f5f"
            },
            "error_y": {
             "color": "#2a3f5f"
            },
            "marker": {
             "line": {
              "color": "#E5ECF6",
              "width": 0.5
             }
            },
            "type": "bar"
           }
          ],
          "barpolar": [
           {
            "marker": {
             "line": {
              "color": "#E5ECF6",
              "width": 0.5
             }
            },
            "type": "barpolar"
           }
          ],
          "carpet": [
           {
            "aaxis": {
             "endlinecolor": "#2a3f5f",
             "gridcolor": "white",
             "linecolor": "white",
             "minorgridcolor": "white",
             "startlinecolor": "#2a3f5f"
            },
            "baxis": {
             "endlinecolor": "#2a3f5f",
             "gridcolor": "white",
             "linecolor": "white",
             "minorgridcolor": "white",
             "startlinecolor": "#2a3f5f"
            },
            "type": "carpet"
           }
          ],
          "choropleth": [
           {
            "colorbar": {
             "outlinewidth": 0,
             "ticks": ""
            },
            "type": "choropleth"
           }
          ],
          "contour": [
           {
            "colorbar": {
             "outlinewidth": 0,
             "ticks": ""
            },
            "colorscale": [
             [
              0,
              "#0d0887"
             ],
             [
              0.1111111111111111,
              "#46039f"
             ],
             [
              0.2222222222222222,
              "#7201a8"
             ],
             [
              0.3333333333333333,
              "#9c179e"
             ],
             [
              0.4444444444444444,
              "#bd3786"
             ],
             [
              0.5555555555555556,
              "#d8576b"
             ],
             [
              0.6666666666666666,
              "#ed7953"
             ],
             [
              0.7777777777777778,
              "#fb9f3a"
             ],
             [
              0.8888888888888888,
              "#fdca26"
             ],
             [
              1,
              "#f0f921"
             ]
            ],
            "type": "contour"
           }
          ],
          "contourcarpet": [
           {
            "colorbar": {
             "outlinewidth": 0,
             "ticks": ""
            },
            "type": "contourcarpet"
           }
          ],
          "heatmap": [
           {
            "colorbar": {
             "outlinewidth": 0,
             "ticks": ""
            },
            "colorscale": [
             [
              0,
              "#0d0887"
             ],
             [
              0.1111111111111111,
              "#46039f"
             ],
             [
              0.2222222222222222,
              "#7201a8"
             ],
             [
              0.3333333333333333,
              "#9c179e"
             ],
             [
              0.4444444444444444,
              "#bd3786"
             ],
             [
              0.5555555555555556,
              "#d8576b"
             ],
             [
              0.6666666666666666,
              "#ed7953"
             ],
             [
              0.7777777777777778,
              "#fb9f3a"
             ],
             [
              0.8888888888888888,
              "#fdca26"
             ],
             [
              1,
              "#f0f921"
             ]
            ],
            "type": "heatmap"
           }
          ],
          "heatmapgl": [
           {
            "colorbar": {
             "outlinewidth": 0,
             "ticks": ""
            },
            "colorscale": [
             [
              0,
              "#0d0887"
             ],
             [
              0.1111111111111111,
              "#46039f"
             ],
             [
              0.2222222222222222,
              "#7201a8"
             ],
             [
              0.3333333333333333,
              "#9c179e"
             ],
             [
              0.4444444444444444,
              "#bd3786"
             ],
             [
              0.5555555555555556,
              "#d8576b"
             ],
             [
              0.6666666666666666,
              "#ed7953"
             ],
             [
              0.7777777777777778,
              "#fb9f3a"
             ],
             [
              0.8888888888888888,
              "#fdca26"
             ],
             [
              1,
              "#f0f921"
             ]
            ],
            "type": "heatmapgl"
           }
          ],
          "histogram": [
           {
            "marker": {
             "colorbar": {
              "outlinewidth": 0,
              "ticks": ""
             }
            },
            "type": "histogram"
           }
          ],
          "histogram2d": [
           {
            "colorbar": {
             "outlinewidth": 0,
             "ticks": ""
            },
            "colorscale": [
             [
              0,
              "#0d0887"
             ],
             [
              0.1111111111111111,
              "#46039f"
             ],
             [
              0.2222222222222222,
              "#7201a8"
             ],
             [
              0.3333333333333333,
              "#9c179e"
             ],
             [
              0.4444444444444444,
              "#bd3786"
             ],
             [
              0.5555555555555556,
              "#d8576b"
             ],
             [
              0.6666666666666666,
              "#ed7953"
             ],
             [
              0.7777777777777778,
              "#fb9f3a"
             ],
             [
              0.8888888888888888,
              "#fdca26"
             ],
             [
              1,
              "#f0f921"
             ]
            ],
            "type": "histogram2d"
           }
          ],
          "histogram2dcontour": [
           {
            "colorbar": {
             "outlinewidth": 0,
             "ticks": ""
            },
            "colorscale": [
             [
              0,
              "#0d0887"
             ],
             [
              0.1111111111111111,
              "#46039f"
             ],
             [
              0.2222222222222222,
              "#7201a8"
             ],
             [
              0.3333333333333333,
              "#9c179e"
             ],
             [
              0.4444444444444444,
              "#bd3786"
             ],
             [
              0.5555555555555556,
              "#d8576b"
             ],
             [
              0.6666666666666666,
              "#ed7953"
             ],
             [
              0.7777777777777778,
              "#fb9f3a"
             ],
             [
              0.8888888888888888,
              "#fdca26"
             ],
             [
              1,
              "#f0f921"
             ]
            ],
            "type": "histogram2dcontour"
           }
          ],
          "mesh3d": [
           {
            "colorbar": {
             "outlinewidth": 0,
             "ticks": ""
            },
            "type": "mesh3d"
           }
          ],
          "parcoords": [
           {
            "line": {
             "colorbar": {
              "outlinewidth": 0,
              "ticks": ""
             }
            },
            "type": "parcoords"
           }
          ],
          "pie": [
           {
            "automargin": true,
            "type": "pie"
           }
          ],
          "scatter": [
           {
            "marker": {
             "colorbar": {
              "outlinewidth": 0,
              "ticks": ""
             }
            },
            "type": "scatter"
           }
          ],
          "scatter3d": [
           {
            "line": {
             "colorbar": {
              "outlinewidth": 0,
              "ticks": ""
             }
            },
            "marker": {
             "colorbar": {
              "outlinewidth": 0,
              "ticks": ""
             }
            },
            "type": "scatter3d"
           }
          ],
          "scattercarpet": [
           {
            "marker": {
             "colorbar": {
              "outlinewidth": 0,
              "ticks": ""
             }
            },
            "type": "scattercarpet"
           }
          ],
          "scattergeo": [
           {
            "marker": {
             "colorbar": {
              "outlinewidth": 0,
              "ticks": ""
             }
            },
            "type": "scattergeo"
           }
          ],
          "scattergl": [
           {
            "marker": {
             "colorbar": {
              "outlinewidth": 0,
              "ticks": ""
             }
            },
            "type": "scattergl"
           }
          ],
          "scattermapbox": [
           {
            "marker": {
             "colorbar": {
              "outlinewidth": 0,
              "ticks": ""
             }
            },
            "type": "scattermapbox"
           }
          ],
          "scatterpolar": [
           {
            "marker": {
             "colorbar": {
              "outlinewidth": 0,
              "ticks": ""
             }
            },
            "type": "scatterpolar"
           }
          ],
          "scatterpolargl": [
           {
            "marker": {
             "colorbar": {
              "outlinewidth": 0,
              "ticks": ""
             }
            },
            "type": "scatterpolargl"
           }
          ],
          "scatterternary": [
           {
            "marker": {
             "colorbar": {
              "outlinewidth": 0,
              "ticks": ""
             }
            },
            "type": "scatterternary"
           }
          ],
          "surface": [
           {
            "colorbar": {
             "outlinewidth": 0,
             "ticks": ""
            },
            "colorscale": [
             [
              0,
              "#0d0887"
             ],
             [
              0.1111111111111111,
              "#46039f"
             ],
             [
              0.2222222222222222,
              "#7201a8"
             ],
             [
              0.3333333333333333,
              "#9c179e"
             ],
             [
              0.4444444444444444,
              "#bd3786"
             ],
             [
              0.5555555555555556,
              "#d8576b"
             ],
             [
              0.6666666666666666,
              "#ed7953"
             ],
             [
              0.7777777777777778,
              "#fb9f3a"
             ],
             [
              0.8888888888888888,
              "#fdca26"
             ],
             [
              1,
              "#f0f921"
             ]
            ],
            "type": "surface"
           }
          ],
          "table": [
           {
            "cells": {
             "fill": {
              "color": "#EBF0F8"
             },
             "line": {
              "color": "white"
             }
            },
            "header": {
             "fill": {
              "color": "#C8D4E3"
             },
             "line": {
              "color": "white"
             }
            },
            "type": "table"
           }
          ]
         },
         "layout": {
          "annotationdefaults": {
           "arrowcolor": "#2a3f5f",
           "arrowhead": 0,
           "arrowwidth": 1
          },
          "autotypenumbers": "strict",
          "coloraxis": {
           "colorbar": {
            "outlinewidth": 0,
            "ticks": ""
           }
          },
          "colorscale": {
           "diverging": [
            [
             0,
             "#8e0152"
            ],
            [
             0.1,
             "#c51b7d"
            ],
            [
             0.2,
             "#de77ae"
            ],
            [
             0.3,
             "#f1b6da"
            ],
            [
             0.4,
             "#fde0ef"
            ],
            [
             0.5,
             "#f7f7f7"
            ],
            [
             0.6,
             "#e6f5d0"
            ],
            [
             0.7,
             "#b8e186"
            ],
            [
             0.8,
             "#7fbc41"
            ],
            [
             0.9,
             "#4d9221"
            ],
            [
             1,
             "#276419"
            ]
           ],
           "sequential": [
            [
             0,
             "#0d0887"
            ],
            [
             0.1111111111111111,
             "#46039f"
            ],
            [
             0.2222222222222222,
             "#7201a8"
            ],
            [
             0.3333333333333333,
             "#9c179e"
            ],
            [
             0.4444444444444444,
             "#bd3786"
            ],
            [
             0.5555555555555556,
             "#d8576b"
            ],
            [
             0.6666666666666666,
             "#ed7953"
            ],
            [
             0.7777777777777778,
             "#fb9f3a"
            ],
            [
             0.8888888888888888,
             "#fdca26"
            ],
            [
             1,
             "#f0f921"
            ]
           ],
           "sequentialminus": [
            [
             0,
             "#0d0887"
            ],
            [
             0.1111111111111111,
             "#46039f"
            ],
            [
             0.2222222222222222,
             "#7201a8"
            ],
            [
             0.3333333333333333,
             "#9c179e"
            ],
            [
             0.4444444444444444,
             "#bd3786"
            ],
            [
             0.5555555555555556,
             "#d8576b"
            ],
            [
             0.6666666666666666,
             "#ed7953"
            ],
            [
             0.7777777777777778,
             "#fb9f3a"
            ],
            [
             0.8888888888888888,
             "#fdca26"
            ],
            [
             1,
             "#f0f921"
            ]
           ]
          },
          "colorway": [
           "#636efa",
           "#EF553B",
           "#00cc96",
           "#ab63fa",
           "#FFA15A",
           "#19d3f3",
           "#FF6692",
           "#B6E880",
           "#FF97FF",
           "#FECB52"
          ],
          "font": {
           "color": "#2a3f5f"
          },
          "geo": {
           "bgcolor": "white",
           "lakecolor": "white",
           "landcolor": "#E5ECF6",
           "showlakes": true,
           "showland": true,
           "subunitcolor": "white"
          },
          "hoverlabel": {
           "align": "left"
          },
          "hovermode": "closest",
          "mapbox": {
           "style": "light"
          },
          "paper_bgcolor": "white",
          "plot_bgcolor": "#E5ECF6",
          "polar": {
           "angularaxis": {
            "gridcolor": "white",
            "linecolor": "white",
            "ticks": ""
           },
           "bgcolor": "#E5ECF6",
           "radialaxis": {
            "gridcolor": "white",
            "linecolor": "white",
            "ticks": ""
           }
          },
          "scene": {
           "xaxis": {
            "backgroundcolor": "#E5ECF6",
            "gridcolor": "white",
            "gridwidth": 2,
            "linecolor": "white",
            "showbackground": true,
            "ticks": "",
            "zerolinecolor": "white"
           },
           "yaxis": {
            "backgroundcolor": "#E5ECF6",
            "gridcolor": "white",
            "gridwidth": 2,
            "linecolor": "white",
            "showbackground": true,
            "ticks": "",
            "zerolinecolor": "white"
           },
           "zaxis": {
            "backgroundcolor": "#E5ECF6",
            "gridcolor": "white",
            "gridwidth": 2,
            "linecolor": "white",
            "showbackground": true,
            "ticks": "",
            "zerolinecolor": "white"
           }
          },
          "shapedefaults": {
           "line": {
            "color": "#2a3f5f"
           }
          },
          "ternary": {
           "aaxis": {
            "gridcolor": "white",
            "linecolor": "white",
            "ticks": ""
           },
           "baxis": {
            "gridcolor": "white",
            "linecolor": "white",
            "ticks": ""
           },
           "bgcolor": "#E5ECF6",
           "caxis": {
            "gridcolor": "white",
            "linecolor": "white",
            "ticks": ""
           }
          },
          "title": {
           "x": 0.05
          },
          "xaxis": {
           "automargin": true,
           "gridcolor": "white",
           "linecolor": "white",
           "ticks": "",
           "title": {
            "standoff": 15
           },
           "zerolinecolor": "white",
           "zerolinewidth": 2
          },
          "yaxis": {
           "automargin": true,
           "gridcolor": "white",
           "linecolor": "white",
           "ticks": "",
           "title": {
            "standoff": 15
           },
           "zerolinecolor": "white",
           "zerolinewidth": 2
          }
         }
        },
        "title": {
         "text": "KPIs with Targets and Forecasts"
        },
        "xaxis": {
         "anchor": "y",
         "domain": [
          0,
          0.2125
         ],
         "tickangle": 45,
         "tickfont": {
          "size": 8
         }
        },
        "xaxis10": {
         "anchor": "y10",
         "domain": [
          0.2625,
          0.475
         ],
         "tickangle": 45,
         "tickfont": {
          "size": 8
         }
        },
        "xaxis11": {
         "anchor": "y11",
         "domain": [
          0.525,
          0.7375
         ],
         "tickangle": 45,
         "tickfont": {
          "size": 8
         }
        },
        "xaxis12": {
         "anchor": "y12",
         "domain": [
          0.7875,
          1
         ],
         "tickangle": 45,
         "tickfont": {
          "size": 8
         }
        },
        "xaxis2": {
         "anchor": "y2",
         "domain": [
          0.2625,
          0.475
         ],
         "tickangle": 45,
         "tickfont": {
          "size": 8
         }
        },
        "xaxis3": {
         "anchor": "y3",
         "domain": [
          0.525,
          0.7375
         ],
         "tickangle": 45,
         "tickfont": {
          "size": 8
         }
        },
        "xaxis4": {
         "anchor": "y4",
         "domain": [
          0.7875,
          1
         ],
         "tickangle": 45,
         "tickfont": {
          "size": 8
         }
        },
        "xaxis5": {
         "anchor": "y5",
         "domain": [
          0,
          0.2125
         ],
         "tickangle": 45,
         "tickfont": {
          "size": 8
         }
        },
        "xaxis6": {
         "anchor": "y6",
         "domain": [
          0.2625,
          0.475
         ],
         "tickangle": 45,
         "tickfont": {
          "size": 8
         }
        },
        "xaxis7": {
         "anchor": "y7",
         "domain": [
          0.525,
          0.7375
         ],
         "tickangle": 45,
         "tickfont": {
          "size": 8
         }
        },
        "xaxis8": {
         "anchor": "y8",
         "domain": [
          0.7875,
          1
         ],
         "tickangle": 45,
         "tickfont": {
          "size": 8
         }
        },
        "xaxis9": {
         "anchor": "y9",
         "domain": [
          0,
          0.2125
         ],
         "tickangle": 45,
         "tickfont": {
          "size": 8
         }
        },
        "yaxis": {
         "anchor": "x",
         "domain": [
          0.7777777777777778,
          1
         ],
         "tickfont": {
          "size": 8
         }
        },
        "yaxis10": {
         "anchor": "x10",
         "domain": [
          0,
          0.22222222222222224
         ],
         "tickfont": {
          "size": 8
         }
        },
        "yaxis11": {
         "anchor": "x11",
         "domain": [
          0,
          0.22222222222222224
         ],
         "tickfont": {
          "size": 8
         }
        },
        "yaxis12": {
         "anchor": "x12",
         "domain": [
          0,
          0.22222222222222224
         ],
         "tickfont": {
          "size": 8
         }
        },
        "yaxis2": {
         "anchor": "x2",
         "domain": [
          0.7777777777777778,
          1
         ],
         "tickfont": {
          "size": 8
         }
        },
        "yaxis3": {
         "anchor": "x3",
         "domain": [
          0.7777777777777778,
          1
         ],
         "tickfont": {
          "size": 8
         }
        },
        "yaxis4": {
         "anchor": "x4",
         "domain": [
          0.7777777777777778,
          1
         ],
         "tickfont": {
          "size": 8
         }
        },
        "yaxis5": {
         "anchor": "x5",
         "domain": [
          0.3888888888888889,
          0.6111111111111112
         ],
         "tickfont": {
          "size": 8
         }
        },
        "yaxis6": {
         "anchor": "x6",
         "domain": [
          0.3888888888888889,
          0.6111111111111112
         ],
         "tickfont": {
          "size": 8
         }
        },
        "yaxis7": {
         "anchor": "x7",
         "domain": [
          0.3888888888888889,
          0.6111111111111112
         ],
         "tickfont": {
          "size": 8
         }
        },
        "yaxis8": {
         "anchor": "x8",
         "domain": [
          0.3888888888888889,
          0.6111111111111112
         ],
         "tickfont": {
          "size": 8
         }
        },
        "yaxis9": {
         "anchor": "x9",
         "domain": [
          0,
          0.22222222222222224
         ],
         "tickfont": {
          "size": 8
         }
        }
       }
      }
     },
     "metadata": {},
     "output_type": "display_data"
    }
   ],
   "source": [
    "# forecast with linear regression\n",
    "kpi = 'share short term leave'\n",
    "kpiDF = df[df['kpi'] == kpi].dropna(subset=['value'])[['date','value']].reset_index(drop=True)\n",
    "\n",
    "forecastDf = forecastNextMonths(kpiDF,3)\n",
    "# add the last actual data point to plot continuosly\n",
    "forecastDf = pd.concat([pd.DataFrame(kpiDF.iloc[-1,:]).T,forecastDf],ignore_index=True)\n",
    "\n",
    "kpiDF['status'] = 'actual'\n",
    "forecastDf['status'] = 'predicted'\n",
    "\n",
    "# plot_df = pd.concat([kpiDF, forecastDf],ignore_index=True)\n",
    "# targetDf = df.loc[df.kpi==kpi,['date','target']]\n",
    "# traces = createLinePlot(kpiDF, kpi, targetDf)\n",
    "\n",
    "# Determining the grid size for the subplots\n",
    "numKpis = len(df['kpi'].unique())\n",
    "cols = int(np.ceil(np.sqrt(numKpis)))\n",
    "rows = int(np.ceil(numKpis / cols))\n",
    "\n",
    "# Create subplots in a grid\n",
    "fig = make_subplots(rows=rows, cols=cols, \n",
    "                    subplot_titles=df['kpi'].unique(), \n",
    "                    shared_xaxes=False, shared_yaxes=False)\n",
    "\n",
    "# Adding traces for each KPI\n",
    "for index, kpi in enumerate(df['kpi'].unique()):\n",
    "    kpiDF = df[df['kpi'] == kpi].dropna(subset=['value'])\n",
    "    targetDf = df.loc[df.kpi==kpi,['date','target']]#.rename(columns={'moving_percentile_75':'target'}) # or target\n",
    "    traces = createLinePlot(kpiDF, kpi, targetDf)\n",
    "    \n",
    "    row = int(index / cols) + 1\n",
    "    col = (index % cols) + 1\n",
    "    \n",
    "    for trace in traces:\n",
    "        fig.add_trace(trace, row=row, col=col)\n",
    "\n",
    "# Updating layout and reducing the font size of subplot titles\n",
    "fig.update_layout(height=300*rows, \n",
    "                  title_text=\"KPIs with Targets and Forecasts\", \n",
    "                  showlegend=False,\n",
    "                  # subplot_titles=[{'text': title, 'font': {'size': 10}} for title in df['kpi'].unique()]\n",
    "                  )\n",
    "fig.update_xaxes(tickangle=45, tickfont=dict(size=8))\n",
    "fig.update_yaxes(tickfont=dict(size=8))\n",
    "fig.update_annotations(font=dict(family=\"Helvetica\", size=12))\n",
    "\n",
    "# Show plot\n",
    "fig.show()"
   ]
  }
 ],
 "metadata": {
  "kernelspec": {
   "display_name": "base",
   "language": "python",
   "name": "python3"
  },
  "language_info": {
   "codemirror_mode": {
    "name": "ipython",
    "version": 3
   },
   "file_extension": ".py",
   "mimetype": "text/x-python",
   "name": "python",
   "nbconvert_exporter": "python",
   "pygments_lexer": "ipython3",
   "version": "3.9.9"
  },
  "orig_nbformat": 4
 },
 "nbformat": 4,
 "nbformat_minor": 2
}

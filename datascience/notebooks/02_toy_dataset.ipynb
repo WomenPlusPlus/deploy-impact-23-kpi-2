{
 "cells": [
  {
   "cell_type": "code",
   "execution_count": 307,
   "metadata": {},
   "outputs": [],
   "source": [
    "# Import necessary libraries\n",
    "import pandas as pd\n",
    "import numpy as np\n",
    "from random import sample\n",
    "\n",
    "import matplotlib as plt\n",
    "import plotly.graph_objs as go\n",
    "from plotly.subplots import make_subplots\n",
    "import plotly.express as px\n",
    "\n",
    "# Function to replicate rows for previous years and adapt columns\n",
    "def replicateRowsPreviousYears(df, startYear, endYear):\n",
    "    \"\"\"\n",
    "    Replicate rows for previous years and adapt columns.\n",
    "    Parameters:\n",
    "    - df (pd.DataFrame): The dataframe to replicate rows for.\n",
    "    - startYear (int): The starting year for which to replicate rows.\n",
    "    - endYear (int): The ending year for which to replicate rows.\n",
    "    Returns:\n",
    "    - dfFinal (pd.DataFrame): The replicated dataframe\n",
    "    \"\"\"\n",
    "    replicated_dataframes = [df]  # List to hold the original and replicated dataframes\n",
    "    \n",
    "    for year in range(startYear, endYear + 1):\n",
    "        replicated_df = df.copy()\n",
    "        replicated_df['period_year'] = year\n",
    "        replicated_df['date'] = replicated_df['date'].apply(\n",
    "            lambda x: x.replace(year=year)\n",
    "        )\n",
    "        replicated_dataframes.append(replicated_df)\n",
    "    \n",
    "    # Concatenate the original and replicated dataframes\n",
    "    dfFinal = pd.concat(replicated_dataframes, ignore_index=True)\n",
    "    return dfFinal"
   ]
  },
  {
   "cell_type": "markdown",
   "metadata": {},
   "source": [
    "# Load the Dataset"
   ]
  },
  {
   "cell_type": "code",
   "execution_count": 308,
   "metadata": {},
   "outputs": [
    {
     "data": {
      "text/html": [
       "<div>\n",
       "<style scoped>\n",
       "    .dataframe tbody tr th:only-of-type {\n",
       "        vertical-align: middle;\n",
       "    }\n",
       "\n",
       "    .dataframe tbody tr th {\n",
       "        vertical-align: top;\n",
       "    }\n",
       "\n",
       "    .dataframe thead th {\n",
       "        text-align: right;\n",
       "    }\n",
       "</style>\n",
       "<table border=\"1\" class=\"dataframe\">\n",
       "  <thead>\n",
       "    <tr style=\"text-align: right;\">\n",
       "      <th></th>\n",
       "      <th>circle</th>\n",
       "      <th>kpi</th>\n",
       "      <th>periodicity</th>\n",
       "      <th>range</th>\n",
       "      <th>period_year</th>\n",
       "      <th>period_month</th>\n",
       "      <th>value</th>\n",
       "      <th>date</th>\n",
       "    </tr>\n",
       "  </thead>\n",
       "  <tbody>\n",
       "    <tr>\n",
       "      <th>0</th>\n",
       "      <td>HR</td>\n",
       "      <td>share of teams constituted as circles</td>\n",
       "      <td>month</td>\n",
       "      <td>0 &lt;= % &lt;= 100</td>\n",
       "      <td>2023</td>\n",
       "      <td>1</td>\n",
       "      <td>35.0</td>\n",
       "      <td>2023-01-01</td>\n",
       "    </tr>\n",
       "    <tr>\n",
       "      <th>1</th>\n",
       "      <td>HR</td>\n",
       "      <td>share of teams constituted as circles</td>\n",
       "      <td>month</td>\n",
       "      <td>0 &lt;= % &lt;= 100</td>\n",
       "      <td>2023</td>\n",
       "      <td>2</td>\n",
       "      <td>50.0</td>\n",
       "      <td>2023-02-01</td>\n",
       "    </tr>\n",
       "    <tr>\n",
       "      <th>2</th>\n",
       "      <td>HR</td>\n",
       "      <td>share of teams constituted as circles</td>\n",
       "      <td>month</td>\n",
       "      <td>0 &lt;= % &lt;= 100</td>\n",
       "      <td>2023</td>\n",
       "      <td>3</td>\n",
       "      <td>50.0</td>\n",
       "      <td>2023-03-01</td>\n",
       "    </tr>\n",
       "    <tr>\n",
       "      <th>3</th>\n",
       "      <td>HR</td>\n",
       "      <td>share of teams constituted as circles</td>\n",
       "      <td>month</td>\n",
       "      <td>0 &lt;= % &lt;= 100</td>\n",
       "      <td>2023</td>\n",
       "      <td>4</td>\n",
       "      <td>55.0</td>\n",
       "      <td>2023-04-01</td>\n",
       "    </tr>\n",
       "    <tr>\n",
       "      <th>4</th>\n",
       "      <td>HR</td>\n",
       "      <td>share of teams constituted as circles</td>\n",
       "      <td>month</td>\n",
       "      <td>0 &lt;= % &lt;= 100</td>\n",
       "      <td>2023</td>\n",
       "      <td>5</td>\n",
       "      <td>70.0</td>\n",
       "      <td>2023-05-01</td>\n",
       "    </tr>\n",
       "    <tr>\n",
       "      <th>5</th>\n",
       "      <td>HR</td>\n",
       "      <td>share of teams constituted as circles</td>\n",
       "      <td>month</td>\n",
       "      <td>0 &lt;= % &lt;= 100</td>\n",
       "      <td>2023</td>\n",
       "      <td>6</td>\n",
       "      <td>80.0</td>\n",
       "      <td>2023-06-01</td>\n",
       "    </tr>\n",
       "    <tr>\n",
       "      <th>6</th>\n",
       "      <td>HR</td>\n",
       "      <td>share of teams constituted as circles</td>\n",
       "      <td>month</td>\n",
       "      <td>0 &lt;= % &lt;= 100</td>\n",
       "      <td>2023</td>\n",
       "      <td>7</td>\n",
       "      <td>85.0</td>\n",
       "      <td>2023-07-01</td>\n",
       "    </tr>\n",
       "    <tr>\n",
       "      <th>7</th>\n",
       "      <td>HR</td>\n",
       "      <td>share of teams constituted as circles</td>\n",
       "      <td>month</td>\n",
       "      <td>0 &lt;= % &lt;= 100</td>\n",
       "      <td>2023</td>\n",
       "      <td>8</td>\n",
       "      <td>90.0</td>\n",
       "      <td>2023-08-01</td>\n",
       "    </tr>\n",
       "    <tr>\n",
       "      <th>8</th>\n",
       "      <td>HR</td>\n",
       "      <td>share of teams constituted as circles</td>\n",
       "      <td>month</td>\n",
       "      <td>0 &lt;= % &lt;= 100</td>\n",
       "      <td>2023</td>\n",
       "      <td>9</td>\n",
       "      <td>NaN</td>\n",
       "      <td>2023-09-01</td>\n",
       "    </tr>\n",
       "    <tr>\n",
       "      <th>9</th>\n",
       "      <td>HR</td>\n",
       "      <td>share of teams constituted as circles</td>\n",
       "      <td>month</td>\n",
       "      <td>0 &lt;= % &lt;= 100</td>\n",
       "      <td>2023</td>\n",
       "      <td>10</td>\n",
       "      <td>NaN</td>\n",
       "      <td>2023-10-01</td>\n",
       "    </tr>\n",
       "    <tr>\n",
       "      <th>10</th>\n",
       "      <td>HR</td>\n",
       "      <td>share of teams constituted as circles</td>\n",
       "      <td>month</td>\n",
       "      <td>0 &lt;= % &lt;= 100</td>\n",
       "      <td>2023</td>\n",
       "      <td>11</td>\n",
       "      <td>NaN</td>\n",
       "      <td>2023-11-01</td>\n",
       "    </tr>\n",
       "    <tr>\n",
       "      <th>11</th>\n",
       "      <td>HR</td>\n",
       "      <td>share of teams constituted as circles</td>\n",
       "      <td>month</td>\n",
       "      <td>0 &lt;= % &lt;= 100</td>\n",
       "      <td>2023</td>\n",
       "      <td>12</td>\n",
       "      <td>NaN</td>\n",
       "      <td>2023-12-01</td>\n",
       "    </tr>\n",
       "  </tbody>\n",
       "</table>\n",
       "</div>"
      ],
      "text/plain": [
       "   circle                                    kpi periodicity          range  \\\n",
       "0      HR  share of teams constituted as circles       month  0 <= % <= 100   \n",
       "1      HR  share of teams constituted as circles       month  0 <= % <= 100   \n",
       "2      HR  share of teams constituted as circles       month  0 <= % <= 100   \n",
       "3      HR  share of teams constituted as circles       month  0 <= % <= 100   \n",
       "4      HR  share of teams constituted as circles       month  0 <= % <= 100   \n",
       "5      HR  share of teams constituted as circles       month  0 <= % <= 100   \n",
       "6      HR  share of teams constituted as circles       month  0 <= % <= 100   \n",
       "7      HR  share of teams constituted as circles       month  0 <= % <= 100   \n",
       "8      HR  share of teams constituted as circles       month  0 <= % <= 100   \n",
       "9      HR  share of teams constituted as circles       month  0 <= % <= 100   \n",
       "10     HR  share of teams constituted as circles       month  0 <= % <= 100   \n",
       "11     HR  share of teams constituted as circles       month  0 <= % <= 100   \n",
       "\n",
       "    period_year  period_month  value        date  \n",
       "0          2023             1   35.0  2023-01-01  \n",
       "1          2023             2   50.0  2023-02-01  \n",
       "2          2023             3   50.0  2023-03-01  \n",
       "3          2023             4   55.0  2023-04-01  \n",
       "4          2023             5   70.0  2023-05-01  \n",
       "5          2023             6   80.0  2023-06-01  \n",
       "6          2023             7   85.0  2023-07-01  \n",
       "7          2023             8   90.0  2023-08-01  \n",
       "8          2023             9    NaN  2023-09-01  \n",
       "9          2023            10    NaN  2023-10-01  \n",
       "10         2023            11    NaN  2023-11-01  \n",
       "11         2023            12    NaN  2023-12-01  "
      ]
     },
     "execution_count": 308,
     "metadata": {},
     "output_type": "execute_result"
    }
   ],
   "source": [
    "FILE_PATH = '/Users/diana/Dropbox/_hackathon/deploy_2023/_data/pj_sample_value.csv'  # Change this to the path of your dataset\n",
    "FILE_PATH_DONATIONS = '/Users/diana/Dropbox/_hackathon/deploy_2023/_data/donations_private_2012_to_2023.csv'  # Change this to the path of your dataset\n",
    "\n",
    "# Load your data\n",
    "df = pd.read_csv(FILE_PATH)\n",
    "\n",
    "# Create a new date column by combining \"period_year\" and \"period_month\"\n",
    "df['date'] = pd.to_datetime(dict(year=df.period_year, month=df.period_month, day=1))\n",
    "df['date'] = df.date.dt.strftime('%Y-%m-%d') #convert to string\n",
    "# df['date'] = df.date.dt.date # get rid of the time value\n",
    "df.head(12)"
   ]
  },
  {
   "cell_type": "markdown",
   "metadata": {},
   "source": [
    "# Transform dataset to wide format"
   ]
  },
  {
   "cell_type": "code",
   "execution_count": 309,
   "metadata": {},
   "outputs": [
    {
     "data": {
      "text/html": [
       "<div>\n",
       "<style scoped>\n",
       "    .dataframe tbody tr th:only-of-type {\n",
       "        vertical-align: middle;\n",
       "    }\n",
       "\n",
       "    .dataframe tbody tr th {\n",
       "        vertical-align: top;\n",
       "    }\n",
       "\n",
       "    .dataframe thead th {\n",
       "        text-align: right;\n",
       "    }\n",
       "</style>\n",
       "<table border=\"1\" class=\"dataframe\">\n",
       "  <thead>\n",
       "    <tr style=\"text-align: right;\">\n",
       "      <th></th>\n",
       "      <th>circle</th>\n",
       "      <th>kpi</th>\n",
       "      <th>periodicity</th>\n",
       "      <th>range</th>\n",
       "      <th>2023-01-01</th>\n",
       "      <th>2023-02-01</th>\n",
       "      <th>2023-03-01</th>\n",
       "      <th>2023-04-01</th>\n",
       "      <th>2023-05-01</th>\n",
       "      <th>2023-06-01</th>\n",
       "      <th>2023-07-01</th>\n",
       "      <th>2023-08-01</th>\n",
       "      <th>2023-09-01</th>\n",
       "      <th>2023-10-01</th>\n",
       "      <th>2023-11-01</th>\n",
       "      <th>2023-12-01</th>\n",
       "    </tr>\n",
       "  </thead>\n",
       "  <tbody>\n",
       "    <tr>\n",
       "      <th>0</th>\n",
       "      <td>HR</td>\n",
       "      <td>share of teams constituted as circles</td>\n",
       "      <td>month</td>\n",
       "      <td>0 &lt;= % &lt;= 100</td>\n",
       "      <td>NaN</td>\n",
       "      <td>NaN</td>\n",
       "      <td>NaN</td>\n",
       "      <td>NaN</td>\n",
       "      <td>NaN</td>\n",
       "      <td>NaN</td>\n",
       "      <td>NaN</td>\n",
       "      <td>NaN</td>\n",
       "      <td>NaN</td>\n",
       "      <td>NaN</td>\n",
       "      <td>NaN</td>\n",
       "      <td>NaN</td>\n",
       "    </tr>\n",
       "    <tr>\n",
       "      <th>1</th>\n",
       "      <td>HR</td>\n",
       "      <td>share short tern leave</td>\n",
       "      <td>month</td>\n",
       "      <td>0 &lt;= % &lt;= 100</td>\n",
       "      <td>NaN</td>\n",
       "      <td>NaN</td>\n",
       "      <td>NaN</td>\n",
       "      <td>NaN</td>\n",
       "      <td>NaN</td>\n",
       "      <td>NaN</td>\n",
       "      <td>NaN</td>\n",
       "      <td>NaN</td>\n",
       "      <td>NaN</td>\n",
       "      <td>NaN</td>\n",
       "      <td>NaN</td>\n",
       "      <td>NaN</td>\n",
       "    </tr>\n",
       "    <tr>\n",
       "      <th>2</th>\n",
       "      <td>HR</td>\n",
       "      <td>involuntary headcount change (FTE)</td>\n",
       "      <td>month</td>\n",
       "      <td>0 &lt;= % &lt;= 100</td>\n",
       "      <td>NaN</td>\n",
       "      <td>NaN</td>\n",
       "      <td>NaN</td>\n",
       "      <td>NaN</td>\n",
       "      <td>NaN</td>\n",
       "      <td>NaN</td>\n",
       "      <td>NaN</td>\n",
       "      <td>NaN</td>\n",
       "      <td>NaN</td>\n",
       "      <td>NaN</td>\n",
       "      <td>NaN</td>\n",
       "      <td>NaN</td>\n",
       "    </tr>\n",
       "    <tr>\n",
       "      <th>3</th>\n",
       "      <td>Programs - Children - Counceling</td>\n",
       "      <td>reachability</td>\n",
       "      <td>quarter</td>\n",
       "      <td>0 &lt;= % &lt;= 100</td>\n",
       "      <td>NaN</td>\n",
       "      <td>NaN</td>\n",
       "      <td>NaN</td>\n",
       "      <td>NaN</td>\n",
       "      <td>NaN</td>\n",
       "      <td>NaN</td>\n",
       "      <td>NaN</td>\n",
       "      <td>NaN</td>\n",
       "      <td>NaN</td>\n",
       "      <td>NaN</td>\n",
       "      <td>NaN</td>\n",
       "      <td>NaN</td>\n",
       "    </tr>\n",
       "    <tr>\n",
       "      <th>4</th>\n",
       "      <td>Programs - Parents -Online</td>\n",
       "      <td>count sessions on .projuventute.ch</td>\n",
       "      <td>month</td>\n",
       "      <td>0 &lt;= X</td>\n",
       "      <td>NaN</td>\n",
       "      <td>NaN</td>\n",
       "      <td>NaN</td>\n",
       "      <td>NaN</td>\n",
       "      <td>NaN</td>\n",
       "      <td>NaN</td>\n",
       "      <td>NaN</td>\n",
       "      <td>NaN</td>\n",
       "      <td>NaN</td>\n",
       "      <td>NaN</td>\n",
       "      <td>NaN</td>\n",
       "      <td>NaN</td>\n",
       "    </tr>\n",
       "    <tr>\n",
       "      <th>5</th>\n",
       "      <td>Programs - Parents -Online</td>\n",
       "      <td>count leads</td>\n",
       "      <td>month</td>\n",
       "      <td>0 &lt;= X</td>\n",
       "      <td>NaN</td>\n",
       "      <td>NaN</td>\n",
       "      <td>NaN</td>\n",
       "      <td>NaN</td>\n",
       "      <td>NaN</td>\n",
       "      <td>NaN</td>\n",
       "      <td>NaN</td>\n",
       "      <td>NaN</td>\n",
       "      <td>NaN</td>\n",
       "      <td>NaN</td>\n",
       "      <td>NaN</td>\n",
       "      <td>NaN</td>\n",
       "    </tr>\n",
       "    <tr>\n",
       "      <th>6</th>\n",
       "      <td>Programs - Parents -Online</td>\n",
       "      <td>net promoter score</td>\n",
       "      <td>year</td>\n",
       "      <td>0 &lt;= % &lt;= 100</td>\n",
       "      <td>NaN</td>\n",
       "      <td>NaN</td>\n",
       "      <td>NaN</td>\n",
       "      <td>NaN</td>\n",
       "      <td>NaN</td>\n",
       "      <td>NaN</td>\n",
       "      <td>NaN</td>\n",
       "      <td>NaN</td>\n",
       "      <td>NaN</td>\n",
       "      <td>NaN</td>\n",
       "      <td>NaN</td>\n",
       "      <td>NaN</td>\n",
       "    </tr>\n",
       "    <tr>\n",
       "      <th>7</th>\n",
       "      <td>Fundraising</td>\n",
       "      <td>private donations</td>\n",
       "      <td>month</td>\n",
       "      <td>0 &lt;= X</td>\n",
       "      <td>NaN</td>\n",
       "      <td>NaN</td>\n",
       "      <td>NaN</td>\n",
       "      <td>NaN</td>\n",
       "      <td>NaN</td>\n",
       "      <td>NaN</td>\n",
       "      <td>NaN</td>\n",
       "      <td>NaN</td>\n",
       "      <td>NaN</td>\n",
       "      <td>NaN</td>\n",
       "      <td>NaN</td>\n",
       "      <td>NaN</td>\n",
       "    </tr>\n",
       "    <tr>\n",
       "      <th>8</th>\n",
       "      <td>Digital</td>\n",
       "      <td>additional monetization/savings from CRM</td>\n",
       "      <td>quarter</td>\n",
       "      <td>0 &lt;= X</td>\n",
       "      <td>NaN</td>\n",
       "      <td>NaN</td>\n",
       "      <td>NaN</td>\n",
       "      <td>NaN</td>\n",
       "      <td>NaN</td>\n",
       "      <td>NaN</td>\n",
       "      <td>NaN</td>\n",
       "      <td>NaN</td>\n",
       "      <td>NaN</td>\n",
       "      <td>NaN</td>\n",
       "      <td>NaN</td>\n",
       "      <td>NaN</td>\n",
       "    </tr>\n",
       "    <tr>\n",
       "      <th>9</th>\n",
       "      <td>Programs</td>\n",
       "      <td>additional monetization/savings from programs</td>\n",
       "      <td>quarter</td>\n",
       "      <td>0 &lt;= X</td>\n",
       "      <td>NaN</td>\n",
       "      <td>NaN</td>\n",
       "      <td>NaN</td>\n",
       "      <td>NaN</td>\n",
       "      <td>NaN</td>\n",
       "      <td>NaN</td>\n",
       "      <td>NaN</td>\n",
       "      <td>NaN</td>\n",
       "      <td>NaN</td>\n",
       "      <td>NaN</td>\n",
       "      <td>NaN</td>\n",
       "      <td>NaN</td>\n",
       "    </tr>\n",
       "  </tbody>\n",
       "</table>\n",
       "</div>"
      ],
      "text/plain": [
       "                             circle  \\\n",
       "0                                HR   \n",
       "1                                HR   \n",
       "2                                HR   \n",
       "3  Programs - Children - Counceling   \n",
       "4        Programs - Parents -Online   \n",
       "5        Programs - Parents -Online   \n",
       "6        Programs - Parents -Online   \n",
       "7                       Fundraising   \n",
       "8                           Digital   \n",
       "9                          Programs   \n",
       "\n",
       "                                             kpi periodicity          range  \\\n",
       "0          share of teams constituted as circles       month  0 <= % <= 100   \n",
       "1                         share short tern leave       month  0 <= % <= 100   \n",
       "2             involuntary headcount change (FTE)       month  0 <= % <= 100   \n",
       "3                                   reachability     quarter  0 <= % <= 100   \n",
       "4             count sessions on .projuventute.ch       month         0 <= X   \n",
       "5                                    count leads       month         0 <= X   \n",
       "6                             net promoter score        year  0 <= % <= 100   \n",
       "7                              private donations       month         0 <= X   \n",
       "8       additional monetization/savings from CRM     quarter         0 <= X   \n",
       "9  additional monetization/savings from programs     quarter         0 <= X   \n",
       "\n",
       "   2023-01-01  2023-02-01  2023-03-01  2023-04-01  2023-05-01  2023-06-01  \\\n",
       "0         NaN         NaN         NaN         NaN         NaN         NaN   \n",
       "1         NaN         NaN         NaN         NaN         NaN         NaN   \n",
       "2         NaN         NaN         NaN         NaN         NaN         NaN   \n",
       "3         NaN         NaN         NaN         NaN         NaN         NaN   \n",
       "4         NaN         NaN         NaN         NaN         NaN         NaN   \n",
       "5         NaN         NaN         NaN         NaN         NaN         NaN   \n",
       "6         NaN         NaN         NaN         NaN         NaN         NaN   \n",
       "7         NaN         NaN         NaN         NaN         NaN         NaN   \n",
       "8         NaN         NaN         NaN         NaN         NaN         NaN   \n",
       "9         NaN         NaN         NaN         NaN         NaN         NaN   \n",
       "\n",
       "   2023-07-01  2023-08-01  2023-09-01  2023-10-01  2023-11-01  2023-12-01  \n",
       "0         NaN         NaN         NaN         NaN         NaN         NaN  \n",
       "1         NaN         NaN         NaN         NaN         NaN         NaN  \n",
       "2         NaN         NaN         NaN         NaN         NaN         NaN  \n",
       "3         NaN         NaN         NaN         NaN         NaN         NaN  \n",
       "4         NaN         NaN         NaN         NaN         NaN         NaN  \n",
       "5         NaN         NaN         NaN         NaN         NaN         NaN  \n",
       "6         NaN         NaN         NaN         NaN         NaN         NaN  \n",
       "7         NaN         NaN         NaN         NaN         NaN         NaN  \n",
       "8         NaN         NaN         NaN         NaN         NaN         NaN  \n",
       "9         NaN         NaN         NaN         NaN         NaN         NaN  "
      ]
     },
     "execution_count": 309,
     "metadata": {},
     "output_type": "execute_result"
    }
   ],
   "source": [
    "# list of kpis and dates\n",
    "kpis = list(df.kpi.unique())\n",
    "dates = list(df.date.unique())\n",
    "\n",
    "# define wide df with only one entry per kpi and date columns\n",
    "dfWide = df[['circle', 'kpi', 'periodicity', 'range']].drop_duplicates().reset_index(drop=True)\n",
    "dfWide.replace({'0 <= X <= 100': '0 <= % <= 100'}, inplace=True)\n",
    "dfWide = dfWide.reindex(columns=['circle', 'kpi', 'periodicity', 'range']+dates)\n",
    "dfWide"
   ]
  },
  {
   "cell_type": "code",
   "execution_count": 310,
   "metadata": {},
   "outputs": [
    {
     "data": {
      "text/html": [
       "<div>\n",
       "<style scoped>\n",
       "    .dataframe tbody tr th:only-of-type {\n",
       "        vertical-align: middle;\n",
       "    }\n",
       "\n",
       "    .dataframe tbody tr th {\n",
       "        vertical-align: top;\n",
       "    }\n",
       "\n",
       "    .dataframe thead th {\n",
       "        text-align: right;\n",
       "    }\n",
       "</style>\n",
       "<table border=\"1\" class=\"dataframe\">\n",
       "  <thead>\n",
       "    <tr style=\"text-align: right;\">\n",
       "      <th></th>\n",
       "      <th>share of teams constituted as circles</th>\n",
       "      <th>share short tern leave</th>\n",
       "      <th>involuntary headcount change (FTE)</th>\n",
       "      <th>reachability</th>\n",
       "      <th>count sessions on .projuventute.ch</th>\n",
       "      <th>count leads</th>\n",
       "      <th>net promoter score</th>\n",
       "      <th>private donations</th>\n",
       "      <th>additional monetization/savings from CRM</th>\n",
       "      <th>additional monetization/savings from programs</th>\n",
       "    </tr>\n",
       "  </thead>\n",
       "  <tbody>\n",
       "    <tr>\n",
       "      <th>2023-01-01</th>\n",
       "      <td>35.0</td>\n",
       "      <td>2.04</td>\n",
       "      <td>2.26</td>\n",
       "      <td>46.0</td>\n",
       "      <td>158611.0</td>\n",
       "      <td>NaN</td>\n",
       "      <td>35.0</td>\n",
       "      <td>1369218.0</td>\n",
       "      <td>51000.0</td>\n",
       "      <td>186258.0</td>\n",
       "    </tr>\n",
       "    <tr>\n",
       "      <th>2023-02-01</th>\n",
       "      <td>50.0</td>\n",
       "      <td>2.20</td>\n",
       "      <td>0.98</td>\n",
       "      <td>46.0</td>\n",
       "      <td>203755.0</td>\n",
       "      <td>NaN</td>\n",
       "      <td>35.0</td>\n",
       "      <td>2144446.0</td>\n",
       "      <td>51000.0</td>\n",
       "      <td>186258.0</td>\n",
       "    </tr>\n",
       "    <tr>\n",
       "      <th>2023-03-01</th>\n",
       "      <td>50.0</td>\n",
       "      <td>2.54</td>\n",
       "      <td>1.47</td>\n",
       "      <td>46.0</td>\n",
       "      <td>190560.0</td>\n",
       "      <td>825.0</td>\n",
       "      <td>35.0</td>\n",
       "      <td>1923875.0</td>\n",
       "      <td>51000.0</td>\n",
       "      <td>186258.0</td>\n",
       "    </tr>\n",
       "    <tr>\n",
       "      <th>2023-04-01</th>\n",
       "      <td>55.0</td>\n",
       "      <td>2.17</td>\n",
       "      <td>1.46</td>\n",
       "      <td>44.9</td>\n",
       "      <td>164663.0</td>\n",
       "      <td>NaN</td>\n",
       "      <td>35.0</td>\n",
       "      <td>1274911.0</td>\n",
       "      <td>0.0</td>\n",
       "      <td>0.0</td>\n",
       "    </tr>\n",
       "    <tr>\n",
       "      <th>2023-05-01</th>\n",
       "      <td>70.0</td>\n",
       "      <td>3.30</td>\n",
       "      <td>0.00</td>\n",
       "      <td>44.9</td>\n",
       "      <td>180421.0</td>\n",
       "      <td>NaN</td>\n",
       "      <td>35.0</td>\n",
       "      <td>1797114.0</td>\n",
       "      <td>0.0</td>\n",
       "      <td>0.0</td>\n",
       "    </tr>\n",
       "    <tr>\n",
       "      <th>2023-06-01</th>\n",
       "      <td>80.0</td>\n",
       "      <td>2.58</td>\n",
       "      <td>0.00</td>\n",
       "      <td>44.9</td>\n",
       "      <td>174107.0</td>\n",
       "      <td>276.0</td>\n",
       "      <td>35.0</td>\n",
       "      <td>1352463.0</td>\n",
       "      <td>0.0</td>\n",
       "      <td>0.0</td>\n",
       "    </tr>\n",
       "    <tr>\n",
       "      <th>2023-07-01</th>\n",
       "      <td>85.0</td>\n",
       "      <td>2.04</td>\n",
       "      <td>0.51</td>\n",
       "      <td>43.6</td>\n",
       "      <td>164059.0</td>\n",
       "      <td>NaN</td>\n",
       "      <td>35.0</td>\n",
       "      <td>1359887.0</td>\n",
       "      <td>0.0</td>\n",
       "      <td>26000.0</td>\n",
       "    </tr>\n",
       "    <tr>\n",
       "      <th>2023-08-01</th>\n",
       "      <td>90.0</td>\n",
       "      <td>0.93</td>\n",
       "      <td>1.01</td>\n",
       "      <td>43.6</td>\n",
       "      <td>194407.0</td>\n",
       "      <td>NaN</td>\n",
       "      <td>35.0</td>\n",
       "      <td>1101047.0</td>\n",
       "      <td>0.0</td>\n",
       "      <td>26000.0</td>\n",
       "    </tr>\n",
       "    <tr>\n",
       "      <th>2023-09-01</th>\n",
       "      <td>NaN</td>\n",
       "      <td>NaN</td>\n",
       "      <td>NaN</td>\n",
       "      <td>43.6</td>\n",
       "      <td>NaN</td>\n",
       "      <td>NaN</td>\n",
       "      <td>35.0</td>\n",
       "      <td>NaN</td>\n",
       "      <td>0.0</td>\n",
       "      <td>26000.0</td>\n",
       "    </tr>\n",
       "    <tr>\n",
       "      <th>2023-10-01</th>\n",
       "      <td>NaN</td>\n",
       "      <td>NaN</td>\n",
       "      <td>NaN</td>\n",
       "      <td>NaN</td>\n",
       "      <td>NaN</td>\n",
       "      <td>NaN</td>\n",
       "      <td>35.0</td>\n",
       "      <td>NaN</td>\n",
       "      <td>NaN</td>\n",
       "      <td>NaN</td>\n",
       "    </tr>\n",
       "    <tr>\n",
       "      <th>2023-11-01</th>\n",
       "      <td>NaN</td>\n",
       "      <td>NaN</td>\n",
       "      <td>NaN</td>\n",
       "      <td>NaN</td>\n",
       "      <td>NaN</td>\n",
       "      <td>NaN</td>\n",
       "      <td>35.0</td>\n",
       "      <td>NaN</td>\n",
       "      <td>NaN</td>\n",
       "      <td>NaN</td>\n",
       "    </tr>\n",
       "    <tr>\n",
       "      <th>2023-12-01</th>\n",
       "      <td>NaN</td>\n",
       "      <td>NaN</td>\n",
       "      <td>NaN</td>\n",
       "      <td>NaN</td>\n",
       "      <td>NaN</td>\n",
       "      <td>NaN</td>\n",
       "      <td>35.0</td>\n",
       "      <td>NaN</td>\n",
       "      <td>NaN</td>\n",
       "      <td>NaN</td>\n",
       "    </tr>\n",
       "  </tbody>\n",
       "</table>\n",
       "</div>"
      ],
      "text/plain": [
       "            share of teams constituted as circles  share short tern leave  \\\n",
       "2023-01-01                                   35.0                    2.04   \n",
       "2023-02-01                                   50.0                    2.20   \n",
       "2023-03-01                                   50.0                    2.54   \n",
       "2023-04-01                                   55.0                    2.17   \n",
       "2023-05-01                                   70.0                    3.30   \n",
       "2023-06-01                                   80.0                    2.58   \n",
       "2023-07-01                                   85.0                    2.04   \n",
       "2023-08-01                                   90.0                    0.93   \n",
       "2023-09-01                                    NaN                     NaN   \n",
       "2023-10-01                                    NaN                     NaN   \n",
       "2023-11-01                                    NaN                     NaN   \n",
       "2023-12-01                                    NaN                     NaN   \n",
       "\n",
       "            involuntary headcount change (FTE)  reachability  \\\n",
       "2023-01-01                                2.26          46.0   \n",
       "2023-02-01                                0.98          46.0   \n",
       "2023-03-01                                1.47          46.0   \n",
       "2023-04-01                                1.46          44.9   \n",
       "2023-05-01                                0.00          44.9   \n",
       "2023-06-01                                0.00          44.9   \n",
       "2023-07-01                                0.51          43.6   \n",
       "2023-08-01                                1.01          43.6   \n",
       "2023-09-01                                 NaN          43.6   \n",
       "2023-10-01                                 NaN           NaN   \n",
       "2023-11-01                                 NaN           NaN   \n",
       "2023-12-01                                 NaN           NaN   \n",
       "\n",
       "            count sessions on .projuventute.ch  count leads  \\\n",
       "2023-01-01                            158611.0          NaN   \n",
       "2023-02-01                            203755.0          NaN   \n",
       "2023-03-01                            190560.0        825.0   \n",
       "2023-04-01                            164663.0          NaN   \n",
       "2023-05-01                            180421.0          NaN   \n",
       "2023-06-01                            174107.0        276.0   \n",
       "2023-07-01                            164059.0          NaN   \n",
       "2023-08-01                            194407.0          NaN   \n",
       "2023-09-01                                 NaN          NaN   \n",
       "2023-10-01                                 NaN          NaN   \n",
       "2023-11-01                                 NaN          NaN   \n",
       "2023-12-01                                 NaN          NaN   \n",
       "\n",
       "            net promoter score  private donations  \\\n",
       "2023-01-01                35.0          1369218.0   \n",
       "2023-02-01                35.0          2144446.0   \n",
       "2023-03-01                35.0          1923875.0   \n",
       "2023-04-01                35.0          1274911.0   \n",
       "2023-05-01                35.0          1797114.0   \n",
       "2023-06-01                35.0          1352463.0   \n",
       "2023-07-01                35.0          1359887.0   \n",
       "2023-08-01                35.0          1101047.0   \n",
       "2023-09-01                35.0                NaN   \n",
       "2023-10-01                35.0                NaN   \n",
       "2023-11-01                35.0                NaN   \n",
       "2023-12-01                35.0                NaN   \n",
       "\n",
       "            additional monetization/savings from CRM  \\\n",
       "2023-01-01                                   51000.0   \n",
       "2023-02-01                                   51000.0   \n",
       "2023-03-01                                   51000.0   \n",
       "2023-04-01                                       0.0   \n",
       "2023-05-01                                       0.0   \n",
       "2023-06-01                                       0.0   \n",
       "2023-07-01                                       0.0   \n",
       "2023-08-01                                       0.0   \n",
       "2023-09-01                                       0.0   \n",
       "2023-10-01                                       NaN   \n",
       "2023-11-01                                       NaN   \n",
       "2023-12-01                                       NaN   \n",
       "\n",
       "            additional monetization/savings from programs  \n",
       "2023-01-01                                       186258.0  \n",
       "2023-02-01                                       186258.0  \n",
       "2023-03-01                                       186258.0  \n",
       "2023-04-01                                            0.0  \n",
       "2023-05-01                                            0.0  \n",
       "2023-06-01                                            0.0  \n",
       "2023-07-01                                        26000.0  \n",
       "2023-08-01                                        26000.0  \n",
       "2023-09-01                                        26000.0  \n",
       "2023-10-01                                            NaN  \n",
       "2023-11-01                                            NaN  \n",
       "2023-12-01                                            NaN  "
      ]
     },
     "execution_count": 310,
     "metadata": {},
     "output_type": "execute_result"
    }
   ],
   "source": [
    "# enter the data for the date columns for each kpi\n",
    "for i,k in enumerate(kpis):\n",
    "    dfTemp = df[df.kpi==k][['date','value']].T\n",
    "    dfTemp = dfTemp.rename(columns=dfTemp.iloc[0]).drop(dfTemp.index[0])\n",
    "    dfWide.loc[i,dates[0]:] = dfTemp.iloc[0]\n",
    "\n",
    "# replicate entries for quarterly data\n",
    "for i in [3,6,9]:\n",
    "    temp = dfWide.loc[dfWide['periodicity'] == 'quarter','2023-0'+str(i)+'-01']\n",
    "    dfWide.loc[dfWide['periodicity'] == 'quarter','2023-0'+str(i-2)+'-01']= temp\n",
    "    dfWide.loc[dfWide['periodicity'] == 'quarter','2023-0'+str(i-1)+'-01']= temp\n",
    "\n",
    "# replicate entries for yearly data\n",
    "temp = dfWide.loc[dfWide['periodicity'] == 'year','2023-12-01']\n",
    "dfWide.loc[dfWide['periodicity'] == 'year','2023-10-01'] = temp\n",
    "dfWide.loc[dfWide['periodicity'] == 'year','2023-11-01'] = temp\n",
    "for i in range(1,10): #fillna method did not work, even with inplace.\n",
    "    dfWide.loc[dfWide['periodicity'] == 'year','2023-0'+str(i)+'-01']=temp\n",
    "\n",
    "# isolate numerical values only in dfValues\n",
    "dfValues = dfWide.loc[:,'2023-01-01':].T\n",
    "dfValues.columns = kpis\n",
    "dfValues"
   ]
  },
  {
   "cell_type": "code",
   "execution_count": 311,
   "metadata": {},
   "outputs": [
    {
     "data": {
      "text/html": [
       "<div>\n",
       "<style scoped>\n",
       "    .dataframe tbody tr th:only-of-type {\n",
       "        vertical-align: middle;\n",
       "    }\n",
       "\n",
       "    .dataframe tbody tr th {\n",
       "        vertical-align: top;\n",
       "    }\n",
       "\n",
       "    .dataframe thead th {\n",
       "        text-align: right;\n",
       "    }\n",
       "</style>\n",
       "<table border=\"1\" class=\"dataframe\">\n",
       "  <thead>\n",
       "    <tr style=\"text-align: right;\">\n",
       "      <th></th>\n",
       "      <th>circle</th>\n",
       "      <th>kpi</th>\n",
       "      <th>periodicity</th>\n",
       "      <th>range</th>\n",
       "      <th>period_year</th>\n",
       "      <th>period_month</th>\n",
       "      <th>date</th>\n",
       "    </tr>\n",
       "  </thead>\n",
       "  <tbody>\n",
       "    <tr>\n",
       "      <th>0</th>\n",
       "      <td>HR</td>\n",
       "      <td>share of teams constituted as circles</td>\n",
       "      <td>month</td>\n",
       "      <td>0 &lt;= % &lt;= 100</td>\n",
       "      <td>2023</td>\n",
       "      <td>1</td>\n",
       "      <td>2023-01-01</td>\n",
       "    </tr>\n",
       "    <tr>\n",
       "      <th>1</th>\n",
       "      <td>HR</td>\n",
       "      <td>share of teams constituted as circles</td>\n",
       "      <td>month</td>\n",
       "      <td>0 &lt;= % &lt;= 100</td>\n",
       "      <td>2023</td>\n",
       "      <td>2</td>\n",
       "      <td>2023-02-01</td>\n",
       "    </tr>\n",
       "    <tr>\n",
       "      <th>2</th>\n",
       "      <td>HR</td>\n",
       "      <td>share of teams constituted as circles</td>\n",
       "      <td>month</td>\n",
       "      <td>0 &lt;= % &lt;= 100</td>\n",
       "      <td>2023</td>\n",
       "      <td>3</td>\n",
       "      <td>2023-03-01</td>\n",
       "    </tr>\n",
       "    <tr>\n",
       "      <th>3</th>\n",
       "      <td>HR</td>\n",
       "      <td>share of teams constituted as circles</td>\n",
       "      <td>month</td>\n",
       "      <td>0 &lt;= % &lt;= 100</td>\n",
       "      <td>2023</td>\n",
       "      <td>4</td>\n",
       "      <td>2023-04-01</td>\n",
       "    </tr>\n",
       "    <tr>\n",
       "      <th>4</th>\n",
       "      <td>HR</td>\n",
       "      <td>share of teams constituted as circles</td>\n",
       "      <td>month</td>\n",
       "      <td>0 &lt;= % &lt;= 100</td>\n",
       "      <td>2023</td>\n",
       "      <td>5</td>\n",
       "      <td>2023-05-01</td>\n",
       "    </tr>\n",
       "    <tr>\n",
       "      <th>...</th>\n",
       "      <td>...</td>\n",
       "      <td>...</td>\n",
       "      <td>...</td>\n",
       "      <td>...</td>\n",
       "      <td>...</td>\n",
       "      <td>...</td>\n",
       "      <td>...</td>\n",
       "    </tr>\n",
       "    <tr>\n",
       "      <th>115</th>\n",
       "      <td>Programs</td>\n",
       "      <td>additional monetization/savings from programs</td>\n",
       "      <td>quarter</td>\n",
       "      <td>0 &lt;= X</td>\n",
       "      <td>2023</td>\n",
       "      <td>8</td>\n",
       "      <td>2023-08-01</td>\n",
       "    </tr>\n",
       "    <tr>\n",
       "      <th>116</th>\n",
       "      <td>Programs</td>\n",
       "      <td>additional monetization/savings from programs</td>\n",
       "      <td>quarter</td>\n",
       "      <td>0 &lt;= X</td>\n",
       "      <td>2023</td>\n",
       "      <td>9</td>\n",
       "      <td>2023-09-01</td>\n",
       "    </tr>\n",
       "    <tr>\n",
       "      <th>117</th>\n",
       "      <td>Programs</td>\n",
       "      <td>additional monetization/savings from programs</td>\n",
       "      <td>quarter</td>\n",
       "      <td>0 &lt;= X</td>\n",
       "      <td>2023</td>\n",
       "      <td>10</td>\n",
       "      <td>2023-10-01</td>\n",
       "    </tr>\n",
       "    <tr>\n",
       "      <th>118</th>\n",
       "      <td>Programs</td>\n",
       "      <td>additional monetization/savings from programs</td>\n",
       "      <td>quarter</td>\n",
       "      <td>0 &lt;= X</td>\n",
       "      <td>2023</td>\n",
       "      <td>11</td>\n",
       "      <td>2023-11-01</td>\n",
       "    </tr>\n",
       "    <tr>\n",
       "      <th>119</th>\n",
       "      <td>Programs</td>\n",
       "      <td>additional monetization/savings from programs</td>\n",
       "      <td>quarter</td>\n",
       "      <td>0 &lt;= X</td>\n",
       "      <td>2023</td>\n",
       "      <td>12</td>\n",
       "      <td>2023-12-01</td>\n",
       "    </tr>\n",
       "  </tbody>\n",
       "</table>\n",
       "<p>120 rows × 7 columns</p>\n",
       "</div>"
      ],
      "text/plain": [
       "       circle                                            kpi periodicity  \\\n",
       "0          HR          share of teams constituted as circles       month   \n",
       "1          HR          share of teams constituted as circles       month   \n",
       "2          HR          share of teams constituted as circles       month   \n",
       "3          HR          share of teams constituted as circles       month   \n",
       "4          HR          share of teams constituted as circles       month   \n",
       "..        ...                                            ...         ...   \n",
       "115  Programs  additional monetization/savings from programs     quarter   \n",
       "116  Programs  additional monetization/savings from programs     quarter   \n",
       "117  Programs  additional monetization/savings from programs     quarter   \n",
       "118  Programs  additional monetization/savings from programs     quarter   \n",
       "119  Programs  additional monetization/savings from programs     quarter   \n",
       "\n",
       "             range  period_year  period_month        date  \n",
       "0    0 <= % <= 100         2023             1  2023-01-01  \n",
       "1    0 <= % <= 100         2023             2  2023-02-01  \n",
       "2    0 <= % <= 100         2023             3  2023-03-01  \n",
       "3    0 <= % <= 100         2023             4  2023-04-01  \n",
       "4    0 <= % <= 100         2023             5  2023-05-01  \n",
       "..             ...          ...           ...         ...  \n",
       "115         0 <= X         2023             8  2023-08-01  \n",
       "116         0 <= X         2023             9  2023-09-01  \n",
       "117         0 <= X         2023            10  2023-10-01  \n",
       "118         0 <= X         2023            11  2023-11-01  \n",
       "119         0 <= X         2023            12  2023-12-01  \n",
       "\n",
       "[120 rows x 7 columns]"
      ]
     },
     "execution_count": 311,
     "metadata": {},
     "output_type": "execute_result"
    }
   ],
   "source": [
    "# create df with 12 entries for each kpi\n",
    "dfComplete = df.loc[:,'circle':'period_year'].drop_duplicates().reset_index(drop=True)\n",
    "dfComplete = dfComplete.loc[dfComplete.index.repeat(12)].reset_index(drop=True)\n",
    "\n",
    "for k in kpis:\n",
    "    dfComplete.loc[dfComplete.kpi==k,'period_month'] = list(range(1,12+1))\n",
    "    \n",
    "dfComplete = dfComplete.astype({'period_month':'int'})\n",
    "dfComplete['date'] = pd.to_datetime(dict(year=dfComplete.period_year, month=dfComplete.period_month, day=1))\n",
    "dfComplete['date'] = dfComplete.date.dt.date # get rid of the time value\n",
    "dfComplete"
   ]
  },
  {
   "cell_type": "markdown",
   "metadata": {},
   "source": [
    "# Handle Missing Values"
   ]
  },
  {
   "cell_type": "code",
   "execution_count": 312,
   "metadata": {},
   "outputs": [
    {
     "name": "stdout",
     "output_type": "stream",
     "text": [
      "circle          0\n",
      "kpi             0\n",
      "periodicity     0\n",
      "range           0\n",
      "period_year     0\n",
      "period_month    0\n",
      "date            0\n",
      "value           0\n",
      "dtype: int64\n"
     ]
    },
    {
     "data": {
      "text/html": [
       "<div>\n",
       "<style scoped>\n",
       "    .dataframe tbody tr th:only-of-type {\n",
       "        vertical-align: middle;\n",
       "    }\n",
       "\n",
       "    .dataframe tbody tr th {\n",
       "        vertical-align: top;\n",
       "    }\n",
       "\n",
       "    .dataframe thead th {\n",
       "        text-align: right;\n",
       "    }\n",
       "</style>\n",
       "<table border=\"1\" class=\"dataframe\">\n",
       "  <thead>\n",
       "    <tr style=\"text-align: right;\">\n",
       "      <th></th>\n",
       "      <th>circle</th>\n",
       "      <th>kpi</th>\n",
       "      <th>periodicity</th>\n",
       "      <th>range</th>\n",
       "      <th>period_year</th>\n",
       "      <th>period_month</th>\n",
       "      <th>date</th>\n",
       "      <th>value</th>\n",
       "    </tr>\n",
       "  </thead>\n",
       "  <tbody>\n",
       "    <tr>\n",
       "      <th>0</th>\n",
       "      <td>HR</td>\n",
       "      <td>share of teams constituted as circles</td>\n",
       "      <td>month</td>\n",
       "      <td>0 &lt;= % &lt;= 100</td>\n",
       "      <td>2023</td>\n",
       "      <td>1</td>\n",
       "      <td>2023-01-01</td>\n",
       "      <td>35.000000</td>\n",
       "    </tr>\n",
       "    <tr>\n",
       "      <th>1</th>\n",
       "      <td>HR</td>\n",
       "      <td>share of teams constituted as circles</td>\n",
       "      <td>month</td>\n",
       "      <td>0 &lt;= % &lt;= 100</td>\n",
       "      <td>2023</td>\n",
       "      <td>2</td>\n",
       "      <td>2023-02-01</td>\n",
       "      <td>50.000000</td>\n",
       "    </tr>\n",
       "    <tr>\n",
       "      <th>2</th>\n",
       "      <td>HR</td>\n",
       "      <td>share of teams constituted as circles</td>\n",
       "      <td>month</td>\n",
       "      <td>0 &lt;= % &lt;= 100</td>\n",
       "      <td>2023</td>\n",
       "      <td>3</td>\n",
       "      <td>2023-03-01</td>\n",
       "      <td>50.000000</td>\n",
       "    </tr>\n",
       "    <tr>\n",
       "      <th>3</th>\n",
       "      <td>HR</td>\n",
       "      <td>share of teams constituted as circles</td>\n",
       "      <td>month</td>\n",
       "      <td>0 &lt;= % &lt;= 100</td>\n",
       "      <td>2023</td>\n",
       "      <td>4</td>\n",
       "      <td>2023-04-01</td>\n",
       "      <td>55.000000</td>\n",
       "    </tr>\n",
       "    <tr>\n",
       "      <th>4</th>\n",
       "      <td>HR</td>\n",
       "      <td>share of teams constituted as circles</td>\n",
       "      <td>month</td>\n",
       "      <td>0 &lt;= % &lt;= 100</td>\n",
       "      <td>2023</td>\n",
       "      <td>5</td>\n",
       "      <td>2023-05-01</td>\n",
       "      <td>70.000000</td>\n",
       "    </tr>\n",
       "    <tr>\n",
       "      <th>...</th>\n",
       "      <td>...</td>\n",
       "      <td>...</td>\n",
       "      <td>...</td>\n",
       "      <td>...</td>\n",
       "      <td>...</td>\n",
       "      <td>...</td>\n",
       "      <td>...</td>\n",
       "      <td>...</td>\n",
       "    </tr>\n",
       "    <tr>\n",
       "      <th>115</th>\n",
       "      <td>Programs</td>\n",
       "      <td>additional monetization/savings from programs</td>\n",
       "      <td>quarter</td>\n",
       "      <td>0 &lt;= X</td>\n",
       "      <td>2023</td>\n",
       "      <td>8</td>\n",
       "      <td>2023-08-01</td>\n",
       "      <td>26000.000000</td>\n",
       "    </tr>\n",
       "    <tr>\n",
       "      <th>116</th>\n",
       "      <td>Programs</td>\n",
       "      <td>additional monetization/savings from programs</td>\n",
       "      <td>quarter</td>\n",
       "      <td>0 &lt;= X</td>\n",
       "      <td>2023</td>\n",
       "      <td>9</td>\n",
       "      <td>2023-09-01</td>\n",
       "      <td>26000.000000</td>\n",
       "    </tr>\n",
       "    <tr>\n",
       "      <th>117</th>\n",
       "      <td>Programs</td>\n",
       "      <td>additional monetization/savings from programs</td>\n",
       "      <td>quarter</td>\n",
       "      <td>0 &lt;= X</td>\n",
       "      <td>2023</td>\n",
       "      <td>10</td>\n",
       "      <td>2023-10-01</td>\n",
       "      <td>70752.666667</td>\n",
       "    </tr>\n",
       "    <tr>\n",
       "      <th>118</th>\n",
       "      <td>Programs</td>\n",
       "      <td>additional monetization/savings from programs</td>\n",
       "      <td>quarter</td>\n",
       "      <td>0 &lt;= X</td>\n",
       "      <td>2023</td>\n",
       "      <td>11</td>\n",
       "      <td>2023-11-01</td>\n",
       "      <td>70752.666667</td>\n",
       "    </tr>\n",
       "    <tr>\n",
       "      <th>119</th>\n",
       "      <td>Programs</td>\n",
       "      <td>additional monetization/savings from programs</td>\n",
       "      <td>quarter</td>\n",
       "      <td>0 &lt;= X</td>\n",
       "      <td>2023</td>\n",
       "      <td>12</td>\n",
       "      <td>2023-12-01</td>\n",
       "      <td>70752.666667</td>\n",
       "    </tr>\n",
       "  </tbody>\n",
       "</table>\n",
       "<p>120 rows × 8 columns</p>\n",
       "</div>"
      ],
      "text/plain": [
       "       circle                                            kpi periodicity  \\\n",
       "0          HR          share of teams constituted as circles       month   \n",
       "1          HR          share of teams constituted as circles       month   \n",
       "2          HR          share of teams constituted as circles       month   \n",
       "3          HR          share of teams constituted as circles       month   \n",
       "4          HR          share of teams constituted as circles       month   \n",
       "..        ...                                            ...         ...   \n",
       "115  Programs  additional monetization/savings from programs     quarter   \n",
       "116  Programs  additional monetization/savings from programs     quarter   \n",
       "117  Programs  additional monetization/savings from programs     quarter   \n",
       "118  Programs  additional monetization/savings from programs     quarter   \n",
       "119  Programs  additional monetization/savings from programs     quarter   \n",
       "\n",
       "             range  period_year  period_month        date         value  \n",
       "0    0 <= % <= 100         2023             1  2023-01-01     35.000000  \n",
       "1    0 <= % <= 100         2023             2  2023-02-01     50.000000  \n",
       "2    0 <= % <= 100         2023             3  2023-03-01     50.000000  \n",
       "3    0 <= % <= 100         2023             4  2023-04-01     55.000000  \n",
       "4    0 <= % <= 100         2023             5  2023-05-01     70.000000  \n",
       "..             ...          ...           ...         ...           ...  \n",
       "115         0 <= X         2023             8  2023-08-01  26000.000000  \n",
       "116         0 <= X         2023             9  2023-09-01  26000.000000  \n",
       "117         0 <= X         2023            10  2023-10-01  70752.666667  \n",
       "118         0 <= X         2023            11  2023-11-01  70752.666667  \n",
       "119         0 <= X         2023            12  2023-12-01  70752.666667  \n",
       "\n",
       "[120 rows x 8 columns]"
      ]
     },
     "execution_count": 312,
     "metadata": {},
     "output_type": "execute_result"
    }
   ],
   "source": [
    "# Interpolating NaN values for each KPI separately\n",
    "dfFilled = pd.DataFrame()\n",
    "\n",
    "kpisMonthly = list(df.loc[df.periodicity == 'month','kpi'].unique())\n",
    "kpisQuarterly = list(df.loc[df.periodicity == 'quarter','kpi'].unique())\n",
    "kpisYearly = list(df.loc[df.periodicity == 'year','kpi'].unique())\n",
    "\n",
    "# Fill NaN values for monthly KPI\n",
    "for kpi in kpis:\n",
    "    if kpi in kpisMonthly:\n",
    "        if kpi == 'count leads':\n",
    "            kpiData = dfComplete[dfComplete['kpi'] == kpi].copy().reset_index(drop=True)\n",
    "            kpiData['value'] = dfValues[kpi].reset_index(drop=True)\n",
    "            kpiData['value'] = sample(range(int(kpiData['value'].min()), int(kpiData['value'].max())), 12)\n",
    "            dfFilled = pd.concat([dfFilled, kpiData], ignore_index=True)\n",
    "\n",
    "        else:\n",
    "            kpiData = dfComplete[dfComplete['kpi'] == kpi].copy().reset_index(drop=True)\n",
    "            kpiData['value'] = dfValues[kpi].reset_index(drop=True)\n",
    "            kpiData.loc[kpiData.period_month==9,'value'] = dfValues[kpi].mean()\n",
    "            kpiData.loc[kpiData.period_month==10,'value'] = list(dfValues[kpi].dropna().sample(n=1, random_state=1))\n",
    "            kpiData.loc[kpiData.period_month==11,'value'] = dfValues[kpi].mean()\n",
    "            kpiData.loc[kpiData.period_month==12,'value'] = list(dfValues[kpi].dropna().sample(n=1, random_state=3))\n",
    "            dfFilled = pd.concat([dfFilled, kpiData], ignore_index=True)\n",
    "\n",
    "    # Fill NaN values for quarterly KPI   \n",
    "    elif kpi in kpisQuarterly:\n",
    "        kpiData = dfComplete[dfComplete['kpi'] == kpi].copy().reset_index(drop=True)\n",
    "        kpiData['value'] = dfValues[kpi].reset_index(drop=True)\n",
    "        kpiData.loc[kpiData.period_month==10,'value'] = dfValues[kpi].mean()\n",
    "        kpiData.loc[kpiData.period_month==11,'value'] = dfValues[kpi].mean()\n",
    "        kpiData.loc[kpiData.period_month==12,'value'] = dfValues[kpi].mean()\n",
    "        dfFilled = pd.concat([dfFilled, kpiData], ignore_index=True)\n",
    "    \n",
    "    # fill NaN values for yearly KPI    \n",
    "    elif kpi in kpisYearly:\n",
    "        kpiData = dfComplete[dfComplete['kpi'] == kpi].copy().reset_index(drop=True)\n",
    "        kpiData['value'] = dfValues[kpi].reset_index(drop=True)\n",
    "        dfFilled = pd.concat([dfFilled, kpiData], ignore_index=True)\n",
    "    \n",
    "dfFilled[\"kpi\"] = dfFilled[\"kpi\"].str.replace('share of short tern leave','share of short term leave')\n",
    "print(dfFilled.isna().sum())\n",
    "dfFilled\n"
   ]
  },
  {
   "cell_type": "code",
   "execution_count": 313,
   "metadata": {},
   "outputs": [
    {
     "data": {
      "text/html": [
       "<div>\n",
       "<style scoped>\n",
       "    .dataframe tbody tr th:only-of-type {\n",
       "        vertical-align: middle;\n",
       "    }\n",
       "\n",
       "    .dataframe tbody tr th {\n",
       "        vertical-align: top;\n",
       "    }\n",
       "\n",
       "    .dataframe thead th {\n",
       "        text-align: right;\n",
       "    }\n",
       "</style>\n",
       "<table border=\"1\" class=\"dataframe\">\n",
       "  <thead>\n",
       "    <tr style=\"text-align: right;\">\n",
       "      <th></th>\n",
       "      <th>circle</th>\n",
       "      <th>kpi</th>\n",
       "      <th>periodicity</th>\n",
       "      <th>range</th>\n",
       "      <th>period_year</th>\n",
       "      <th>period_month</th>\n",
       "      <th>date</th>\n",
       "      <th>value</th>\n",
       "    </tr>\n",
       "  </thead>\n",
       "  <tbody>\n",
       "    <tr>\n",
       "      <th>204</th>\n",
       "      <td>Fundraising</td>\n",
       "      <td>private donations</td>\n",
       "      <td>month</td>\n",
       "      <td>0 &lt;= X</td>\n",
       "      <td>2014</td>\n",
       "      <td>1</td>\n",
       "      <td>2014-01-01</td>\n",
       "      <td>1369218.000</td>\n",
       "    </tr>\n",
       "    <tr>\n",
       "      <th>205</th>\n",
       "      <td>Fundraising</td>\n",
       "      <td>private donations</td>\n",
       "      <td>month</td>\n",
       "      <td>0 &lt;= X</td>\n",
       "      <td>2014</td>\n",
       "      <td>2</td>\n",
       "      <td>2014-02-01</td>\n",
       "      <td>2144446.000</td>\n",
       "    </tr>\n",
       "    <tr>\n",
       "      <th>206</th>\n",
       "      <td>Fundraising</td>\n",
       "      <td>private donations</td>\n",
       "      <td>month</td>\n",
       "      <td>0 &lt;= X</td>\n",
       "      <td>2014</td>\n",
       "      <td>3</td>\n",
       "      <td>2014-03-01</td>\n",
       "      <td>1923875.000</td>\n",
       "    </tr>\n",
       "    <tr>\n",
       "      <th>207</th>\n",
       "      <td>Fundraising</td>\n",
       "      <td>private donations</td>\n",
       "      <td>month</td>\n",
       "      <td>0 &lt;= X</td>\n",
       "      <td>2014</td>\n",
       "      <td>4</td>\n",
       "      <td>2014-04-01</td>\n",
       "      <td>1274911.000</td>\n",
       "    </tr>\n",
       "    <tr>\n",
       "      <th>208</th>\n",
       "      <td>Fundraising</td>\n",
       "      <td>private donations</td>\n",
       "      <td>month</td>\n",
       "      <td>0 &lt;= X</td>\n",
       "      <td>2014</td>\n",
       "      <td>5</td>\n",
       "      <td>2014-05-01</td>\n",
       "      <td>1797114.000</td>\n",
       "    </tr>\n",
       "    <tr>\n",
       "      <th>209</th>\n",
       "      <td>Fundraising</td>\n",
       "      <td>private donations</td>\n",
       "      <td>month</td>\n",
       "      <td>0 &lt;= X</td>\n",
       "      <td>2014</td>\n",
       "      <td>6</td>\n",
       "      <td>2014-06-01</td>\n",
       "      <td>1352463.000</td>\n",
       "    </tr>\n",
       "    <tr>\n",
       "      <th>210</th>\n",
       "      <td>Fundraising</td>\n",
       "      <td>private donations</td>\n",
       "      <td>month</td>\n",
       "      <td>0 &lt;= X</td>\n",
       "      <td>2014</td>\n",
       "      <td>7</td>\n",
       "      <td>2014-07-01</td>\n",
       "      <td>1359887.000</td>\n",
       "    </tr>\n",
       "    <tr>\n",
       "      <th>211</th>\n",
       "      <td>Fundraising</td>\n",
       "      <td>private donations</td>\n",
       "      <td>month</td>\n",
       "      <td>0 &lt;= X</td>\n",
       "      <td>2014</td>\n",
       "      <td>8</td>\n",
       "      <td>2014-08-01</td>\n",
       "      <td>1101047.000</td>\n",
       "    </tr>\n",
       "    <tr>\n",
       "      <th>212</th>\n",
       "      <td>Fundraising</td>\n",
       "      <td>private donations</td>\n",
       "      <td>month</td>\n",
       "      <td>0 &lt;= X</td>\n",
       "      <td>2014</td>\n",
       "      <td>9</td>\n",
       "      <td>2014-09-01</td>\n",
       "      <td>1540370.125</td>\n",
       "    </tr>\n",
       "    <tr>\n",
       "      <th>213</th>\n",
       "      <td>Fundraising</td>\n",
       "      <td>private donations</td>\n",
       "      <td>month</td>\n",
       "      <td>0 &lt;= X</td>\n",
       "      <td>2014</td>\n",
       "      <td>10</td>\n",
       "      <td>2014-10-01</td>\n",
       "      <td>1101047.000</td>\n",
       "    </tr>\n",
       "    <tr>\n",
       "      <th>214</th>\n",
       "      <td>Fundraising</td>\n",
       "      <td>private donations</td>\n",
       "      <td>month</td>\n",
       "      <td>0 &lt;= X</td>\n",
       "      <td>2014</td>\n",
       "      <td>11</td>\n",
       "      <td>2014-11-01</td>\n",
       "      <td>1540370.125</td>\n",
       "    </tr>\n",
       "    <tr>\n",
       "      <th>215</th>\n",
       "      <td>Fundraising</td>\n",
       "      <td>private donations</td>\n",
       "      <td>month</td>\n",
       "      <td>0 &lt;= X</td>\n",
       "      <td>2014</td>\n",
       "      <td>12</td>\n",
       "      <td>2014-12-01</td>\n",
       "      <td>1352463.000</td>\n",
       "    </tr>\n",
       "    <tr>\n",
       "      <th>324</th>\n",
       "      <td>Fundraising</td>\n",
       "      <td>private donations</td>\n",
       "      <td>month</td>\n",
       "      <td>0 &lt;= X</td>\n",
       "      <td>2015</td>\n",
       "      <td>1</td>\n",
       "      <td>2015-01-01</td>\n",
       "      <td>1369218.000</td>\n",
       "    </tr>\n",
       "    <tr>\n",
       "      <th>325</th>\n",
       "      <td>Fundraising</td>\n",
       "      <td>private donations</td>\n",
       "      <td>month</td>\n",
       "      <td>0 &lt;= X</td>\n",
       "      <td>2015</td>\n",
       "      <td>2</td>\n",
       "      <td>2015-02-01</td>\n",
       "      <td>2144446.000</td>\n",
       "    </tr>\n",
       "    <tr>\n",
       "      <th>326</th>\n",
       "      <td>Fundraising</td>\n",
       "      <td>private donations</td>\n",
       "      <td>month</td>\n",
       "      <td>0 &lt;= X</td>\n",
       "      <td>2015</td>\n",
       "      <td>3</td>\n",
       "      <td>2015-03-01</td>\n",
       "      <td>1923875.000</td>\n",
       "    </tr>\n",
       "    <tr>\n",
       "      <th>327</th>\n",
       "      <td>Fundraising</td>\n",
       "      <td>private donations</td>\n",
       "      <td>month</td>\n",
       "      <td>0 &lt;= X</td>\n",
       "      <td>2015</td>\n",
       "      <td>4</td>\n",
       "      <td>2015-04-01</td>\n",
       "      <td>1274911.000</td>\n",
       "    </tr>\n",
       "    <tr>\n",
       "      <th>328</th>\n",
       "      <td>Fundraising</td>\n",
       "      <td>private donations</td>\n",
       "      <td>month</td>\n",
       "      <td>0 &lt;= X</td>\n",
       "      <td>2015</td>\n",
       "      <td>5</td>\n",
       "      <td>2015-05-01</td>\n",
       "      <td>1797114.000</td>\n",
       "    </tr>\n",
       "    <tr>\n",
       "      <th>329</th>\n",
       "      <td>Fundraising</td>\n",
       "      <td>private donations</td>\n",
       "      <td>month</td>\n",
       "      <td>0 &lt;= X</td>\n",
       "      <td>2015</td>\n",
       "      <td>6</td>\n",
       "      <td>2015-06-01</td>\n",
       "      <td>1352463.000</td>\n",
       "    </tr>\n",
       "    <tr>\n",
       "      <th>330</th>\n",
       "      <td>Fundraising</td>\n",
       "      <td>private donations</td>\n",
       "      <td>month</td>\n",
       "      <td>0 &lt;= X</td>\n",
       "      <td>2015</td>\n",
       "      <td>7</td>\n",
       "      <td>2015-07-01</td>\n",
       "      <td>1359887.000</td>\n",
       "    </tr>\n",
       "    <tr>\n",
       "      <th>331</th>\n",
       "      <td>Fundraising</td>\n",
       "      <td>private donations</td>\n",
       "      <td>month</td>\n",
       "      <td>0 &lt;= X</td>\n",
       "      <td>2015</td>\n",
       "      <td>8</td>\n",
       "      <td>2015-08-01</td>\n",
       "      <td>1101047.000</td>\n",
       "    </tr>\n",
       "    <tr>\n",
       "      <th>332</th>\n",
       "      <td>Fundraising</td>\n",
       "      <td>private donations</td>\n",
       "      <td>month</td>\n",
       "      <td>0 &lt;= X</td>\n",
       "      <td>2015</td>\n",
       "      <td>9</td>\n",
       "      <td>2015-09-01</td>\n",
       "      <td>1540370.125</td>\n",
       "    </tr>\n",
       "    <tr>\n",
       "      <th>333</th>\n",
       "      <td>Fundraising</td>\n",
       "      <td>private donations</td>\n",
       "      <td>month</td>\n",
       "      <td>0 &lt;= X</td>\n",
       "      <td>2015</td>\n",
       "      <td>10</td>\n",
       "      <td>2015-10-01</td>\n",
       "      <td>1101047.000</td>\n",
       "    </tr>\n",
       "    <tr>\n",
       "      <th>334</th>\n",
       "      <td>Fundraising</td>\n",
       "      <td>private donations</td>\n",
       "      <td>month</td>\n",
       "      <td>0 &lt;= X</td>\n",
       "      <td>2015</td>\n",
       "      <td>11</td>\n",
       "      <td>2015-11-01</td>\n",
       "      <td>1540370.125</td>\n",
       "    </tr>\n",
       "    <tr>\n",
       "      <th>335</th>\n",
       "      <td>Fundraising</td>\n",
       "      <td>private donations</td>\n",
       "      <td>month</td>\n",
       "      <td>0 &lt;= X</td>\n",
       "      <td>2015</td>\n",
       "      <td>12</td>\n",
       "      <td>2015-12-01</td>\n",
       "      <td>1352463.000</td>\n",
       "    </tr>\n",
       "  </tbody>\n",
       "</table>\n",
       "</div>"
      ],
      "text/plain": [
       "          circle                kpi periodicity   range  period_year  \\\n",
       "204  Fundraising  private donations       month  0 <= X         2014   \n",
       "205  Fundraising  private donations       month  0 <= X         2014   \n",
       "206  Fundraising  private donations       month  0 <= X         2014   \n",
       "207  Fundraising  private donations       month  0 <= X         2014   \n",
       "208  Fundraising  private donations       month  0 <= X         2014   \n",
       "209  Fundraising  private donations       month  0 <= X         2014   \n",
       "210  Fundraising  private donations       month  0 <= X         2014   \n",
       "211  Fundraising  private donations       month  0 <= X         2014   \n",
       "212  Fundraising  private donations       month  0 <= X         2014   \n",
       "213  Fundraising  private donations       month  0 <= X         2014   \n",
       "214  Fundraising  private donations       month  0 <= X         2014   \n",
       "215  Fundraising  private donations       month  0 <= X         2014   \n",
       "324  Fundraising  private donations       month  0 <= X         2015   \n",
       "325  Fundraising  private donations       month  0 <= X         2015   \n",
       "326  Fundraising  private donations       month  0 <= X         2015   \n",
       "327  Fundraising  private donations       month  0 <= X         2015   \n",
       "328  Fundraising  private donations       month  0 <= X         2015   \n",
       "329  Fundraising  private donations       month  0 <= X         2015   \n",
       "330  Fundraising  private donations       month  0 <= X         2015   \n",
       "331  Fundraising  private donations       month  0 <= X         2015   \n",
       "332  Fundraising  private donations       month  0 <= X         2015   \n",
       "333  Fundraising  private donations       month  0 <= X         2015   \n",
       "334  Fundraising  private donations       month  0 <= X         2015   \n",
       "335  Fundraising  private donations       month  0 <= X         2015   \n",
       "\n",
       "     period_month        date        value  \n",
       "204             1  2014-01-01  1369218.000  \n",
       "205             2  2014-02-01  2144446.000  \n",
       "206             3  2014-03-01  1923875.000  \n",
       "207             4  2014-04-01  1274911.000  \n",
       "208             5  2014-05-01  1797114.000  \n",
       "209             6  2014-06-01  1352463.000  \n",
       "210             7  2014-07-01  1359887.000  \n",
       "211             8  2014-08-01  1101047.000  \n",
       "212             9  2014-09-01  1540370.125  \n",
       "213            10  2014-10-01  1101047.000  \n",
       "214            11  2014-11-01  1540370.125  \n",
       "215            12  2014-12-01  1352463.000  \n",
       "324             1  2015-01-01  1369218.000  \n",
       "325             2  2015-02-01  2144446.000  \n",
       "326             3  2015-03-01  1923875.000  \n",
       "327             4  2015-04-01  1274911.000  \n",
       "328             5  2015-05-01  1797114.000  \n",
       "329             6  2015-06-01  1352463.000  \n",
       "330             7  2015-07-01  1359887.000  \n",
       "331             8  2015-08-01  1101047.000  \n",
       "332             9  2015-09-01  1540370.125  \n",
       "333            10  2015-10-01  1101047.000  \n",
       "334            11  2015-11-01  1540370.125  \n",
       "335            12  2015-12-01  1352463.000  "
      ]
     },
     "execution_count": 313,
     "metadata": {},
     "output_type": "execute_result"
    }
   ],
   "source": [
    "# Replicate dataset over 9 years before for a total of 10 years from 2013 to 2023\n",
    "startYear = 2014\n",
    "endYear = 2022\n",
    "dfAllYears = replicateRowsPreviousYears(dfFilled, startYear, endYear)\n",
    "\n",
    "# Display the total number of rows and the first few rows of the final dataframe\n",
    "dfAllYears[dfAllYears.kpi=='private donations'].sort_values('date').head(24)"
   ]
  },
  {
   "cell_type": "markdown",
   "metadata": {},
   "source": [
    "# Import and integrate yearly donations for KPI 'private donations'"
   ]
  },
  {
   "cell_type": "code",
   "execution_count": null,
   "metadata": {},
   "outputs": [],
   "source": [
    "# import dataset and rename columns\n",
    "dfDonations = pd.read_csv(FILE_PATH_DONATIONS,sep=\";\")\n",
    "dfDonations.rename({'MONTH': 'date','AMOUNT':'value'}, axis=1, inplace=True)\n",
    "dfDonations.drop('COUNT', axis=1, inplace=True)\n",
    "\n",
    "# select desired time frame to paste onto the toy dataset\n",
    "dfDonationsSelection = dfDonations.loc[(dfDonations['date']>='2014-01-01')&(dfDonations['date']<'2023-01-01')] \n",
    "# dfDonationsSelection.loc[:,'date'] = dfDonationsSelection.date.dt.date\n",
    "\n",
    "# Convert a string column to datetime\n",
    "dfDonationsSelection['date'] = pd.to_datetime(dfDonationsSelection['date'])\n",
    "dfAllYears['date'] = pd.to_datetime(dfAllYears['date'])\n",
    "\n",
    "# Sort values in both source dataframes\n",
    "dfAllYears.sort_values('date',inplace=True)\n",
    "dfDonationsSelection.sort_values('date',inplace=True)\n",
    "\n",
    "for y in range(2014,2023):\n",
    "    # Update the 'value' column in df1 with the 'value' column in df2 for the matching dates\n",
    "    dfAllYears.loc[(dfAllYears.kpi=='private donations')\n",
    "                   &(dfAllYears.date.dt.year==y),'value'] = dfDonationsSelection.loc[dfDonationsSelection.date.dt.year==y,'value'].values\n"
   ]
  },
  {
   "cell_type": "code",
   "execution_count": 315,
   "metadata": {},
   "outputs": [
    {
     "data": {
      "application/vnd.plotly.v1+json": {
       "config": {
        "plotlyServerURL": "https://plot.ly"
       },
       "data": [
        {
         "hovertemplate": "date=%{x}<br>value=%{y}<extra></extra>",
         "legendgroup": "",
         "line": {
          "color": "#636efa",
          "dash": "solid"
         },
         "marker": {
          "symbol": "circle"
         },
         "mode": "lines",
         "name": "",
         "orientation": "v",
         "showlegend": false,
         "type": "scatter",
         "x": [
          "2014-01-01T00:00:00",
          "2014-02-01T00:00:00",
          "2014-03-01T00:00:00",
          "2014-04-01T00:00:00",
          "2014-05-01T00:00:00",
          "2014-06-01T00:00:00",
          "2014-07-01T00:00:00",
          "2014-08-01T00:00:00",
          "2014-09-01T00:00:00",
          "2014-10-01T00:00:00",
          "2014-11-01T00:00:00",
          "2014-12-01T00:00:00",
          "2015-01-01T00:00:00",
          "2015-02-01T00:00:00",
          "2015-03-01T00:00:00",
          "2015-04-01T00:00:00",
          "2015-05-01T00:00:00",
          "2015-06-01T00:00:00",
          "2015-07-01T00:00:00",
          "2015-08-01T00:00:00",
          "2015-09-01T00:00:00",
          "2015-10-01T00:00:00",
          "2015-11-01T00:00:00",
          "2015-12-01T00:00:00",
          "2016-01-01T00:00:00",
          "2016-02-01T00:00:00",
          "2016-03-01T00:00:00",
          "2016-04-01T00:00:00",
          "2016-05-01T00:00:00",
          "2016-06-01T00:00:00",
          "2016-07-01T00:00:00",
          "2016-08-01T00:00:00",
          "2016-09-01T00:00:00",
          "2016-10-01T00:00:00",
          "2016-11-01T00:00:00",
          "2016-12-01T00:00:00",
          "2017-01-01T00:00:00",
          "2017-02-01T00:00:00",
          "2017-03-01T00:00:00",
          "2017-04-01T00:00:00",
          "2017-05-01T00:00:00",
          "2017-06-01T00:00:00",
          "2017-07-01T00:00:00",
          "2017-08-01T00:00:00",
          "2017-09-01T00:00:00",
          "2017-10-01T00:00:00",
          "2017-11-01T00:00:00",
          "2017-12-01T00:00:00",
          "2018-01-01T00:00:00",
          "2018-02-01T00:00:00",
          "2018-03-01T00:00:00",
          "2018-04-01T00:00:00",
          "2018-05-01T00:00:00",
          "2018-06-01T00:00:00",
          "2018-07-01T00:00:00",
          "2018-08-01T00:00:00",
          "2018-09-01T00:00:00",
          "2018-10-01T00:00:00",
          "2018-11-01T00:00:00",
          "2018-12-01T00:00:00",
          "2019-01-01T00:00:00",
          "2019-02-01T00:00:00",
          "2019-03-01T00:00:00",
          "2019-04-01T00:00:00",
          "2019-05-01T00:00:00",
          "2019-06-01T00:00:00",
          "2019-07-01T00:00:00",
          "2019-08-01T00:00:00",
          "2019-09-01T00:00:00",
          "2019-10-01T00:00:00",
          "2019-11-01T00:00:00",
          "2019-12-01T00:00:00",
          "2020-01-01T00:00:00",
          "2020-02-01T00:00:00",
          "2020-03-01T00:00:00",
          "2020-04-01T00:00:00",
          "2020-05-01T00:00:00",
          "2020-06-01T00:00:00",
          "2020-07-01T00:00:00",
          "2020-08-01T00:00:00",
          "2020-09-01T00:00:00",
          "2020-10-01T00:00:00",
          "2020-11-01T00:00:00",
          "2020-12-01T00:00:00",
          "2021-01-01T00:00:00",
          "2021-02-01T00:00:00",
          "2021-03-01T00:00:00",
          "2021-04-01T00:00:00",
          "2021-05-01T00:00:00",
          "2021-06-01T00:00:00",
          "2021-07-01T00:00:00",
          "2021-08-01T00:00:00",
          "2021-09-01T00:00:00",
          "2021-10-01T00:00:00",
          "2021-11-01T00:00:00",
          "2021-12-01T00:00:00",
          "2022-01-01T00:00:00",
          "2022-02-01T00:00:00",
          "2022-03-01T00:00:00",
          "2022-04-01T00:00:00",
          "2022-05-01T00:00:00",
          "2022-06-01T00:00:00",
          "2022-07-01T00:00:00",
          "2022-08-01T00:00:00",
          "2022-09-01T00:00:00",
          "2022-10-01T00:00:00",
          "2022-11-01T00:00:00",
          "2022-12-01T00:00:00"
         ],
         "xaxis": "x",
         "y": [
          248384,
          677356.61,
          437920.52,
          339549.48,
          336036.85,
          361332.68,
          395194.1,
          315559.73,
          547618.08,
          473700.13,
          630728.84,
          830603.19,
          311620.55,
          281133.04,
          779006.49,
          404485.34,
          280793.16,
          467833.3,
          452400.01,
          383833.33,
          494820.82,
          458280.19,
          737379.01,
          1244525.47,
          457134.1,
          545421.58,
          578795.07,
          524063.85,
          448401.8,
          499725.32,
          387578.22,
          922212.18,
          597703.78,
          469153.72,
          695197.98,
          1043989.41,
          499464.98,
          470967.3,
          642704.42,
          495108.93,
          554637.19,
          556835.67,
          472386.83,
          481426.88,
          422727.53,
          655384.08,
          889252.6,
          1057538.96,
          528105.38,
          515486.75,
          712077.5,
          398698.29,
          491801.94,
          629391.05,
          573759.96,
          508156.9,
          480953.95,
          610756.69,
          847334.21,
          955619.88,
          403683.34,
          542764.72,
          671239.48,
          730153.95,
          608587.17,
          686389.26,
          581299.07,
          345412.79,
          552597.48,
          630429.67,
          688423.3,
          1023822.23,
          732466.7,
          492574.38,
          649089.67,
          867329.92,
          611297.14,
          764911.91,
          751010.67,
          686545.58,
          622383.36,
          851297.01,
          793025.53,
          1856876.38,
          592686.59,
          670148.58,
          826549.89,
          862933.55,
          690958.91,
          664222.26,
          819670.29,
          471050.09,
          509513.36,
          592703.7,
          899432.48,
          1708639.55,
          611312.15,
          269239.44,
          621173.75,
          1072485.61,
          536893.87,
          932942.78,
          775104.16,
          985432.32,
          632041.47,
          564243.62,
          1246403.55,
          1582084.51
         ],
         "yaxis": "y"
        }
       ],
       "layout": {
        "legend": {
         "tracegroupgap": 0
        },
        "template": {
         "data": {
          "bar": [
           {
            "error_x": {
             "color": "#2a3f5f"
            },
            "error_y": {
             "color": "#2a3f5f"
            },
            "marker": {
             "line": {
              "color": "#E5ECF6",
              "width": 0.5
             },
             "pattern": {
              "fillmode": "overlay",
              "size": 10,
              "solidity": 0.2
             }
            },
            "type": "bar"
           }
          ],
          "barpolar": [
           {
            "marker": {
             "line": {
              "color": "#E5ECF6",
              "width": 0.5
             },
             "pattern": {
              "fillmode": "overlay",
              "size": 10,
              "solidity": 0.2
             }
            },
            "type": "barpolar"
           }
          ],
          "carpet": [
           {
            "aaxis": {
             "endlinecolor": "#2a3f5f",
             "gridcolor": "white",
             "linecolor": "white",
             "minorgridcolor": "white",
             "startlinecolor": "#2a3f5f"
            },
            "baxis": {
             "endlinecolor": "#2a3f5f",
             "gridcolor": "white",
             "linecolor": "white",
             "minorgridcolor": "white",
             "startlinecolor": "#2a3f5f"
            },
            "type": "carpet"
           }
          ],
          "choropleth": [
           {
            "colorbar": {
             "outlinewidth": 0,
             "ticks": ""
            },
            "type": "choropleth"
           }
          ],
          "contour": [
           {
            "colorbar": {
             "outlinewidth": 0,
             "ticks": ""
            },
            "colorscale": [
             [
              0,
              "#0d0887"
             ],
             [
              0.1111111111111111,
              "#46039f"
             ],
             [
              0.2222222222222222,
              "#7201a8"
             ],
             [
              0.3333333333333333,
              "#9c179e"
             ],
             [
              0.4444444444444444,
              "#bd3786"
             ],
             [
              0.5555555555555556,
              "#d8576b"
             ],
             [
              0.6666666666666666,
              "#ed7953"
             ],
             [
              0.7777777777777778,
              "#fb9f3a"
             ],
             [
              0.8888888888888888,
              "#fdca26"
             ],
             [
              1,
              "#f0f921"
             ]
            ],
            "type": "contour"
           }
          ],
          "contourcarpet": [
           {
            "colorbar": {
             "outlinewidth": 0,
             "ticks": ""
            },
            "type": "contourcarpet"
           }
          ],
          "heatmap": [
           {
            "colorbar": {
             "outlinewidth": 0,
             "ticks": ""
            },
            "colorscale": [
             [
              0,
              "#0d0887"
             ],
             [
              0.1111111111111111,
              "#46039f"
             ],
             [
              0.2222222222222222,
              "#7201a8"
             ],
             [
              0.3333333333333333,
              "#9c179e"
             ],
             [
              0.4444444444444444,
              "#bd3786"
             ],
             [
              0.5555555555555556,
              "#d8576b"
             ],
             [
              0.6666666666666666,
              "#ed7953"
             ],
             [
              0.7777777777777778,
              "#fb9f3a"
             ],
             [
              0.8888888888888888,
              "#fdca26"
             ],
             [
              1,
              "#f0f921"
             ]
            ],
            "type": "heatmap"
           }
          ],
          "heatmapgl": [
           {
            "colorbar": {
             "outlinewidth": 0,
             "ticks": ""
            },
            "colorscale": [
             [
              0,
              "#0d0887"
             ],
             [
              0.1111111111111111,
              "#46039f"
             ],
             [
              0.2222222222222222,
              "#7201a8"
             ],
             [
              0.3333333333333333,
              "#9c179e"
             ],
             [
              0.4444444444444444,
              "#bd3786"
             ],
             [
              0.5555555555555556,
              "#d8576b"
             ],
             [
              0.6666666666666666,
              "#ed7953"
             ],
             [
              0.7777777777777778,
              "#fb9f3a"
             ],
             [
              0.8888888888888888,
              "#fdca26"
             ],
             [
              1,
              "#f0f921"
             ]
            ],
            "type": "heatmapgl"
           }
          ],
          "histogram": [
           {
            "marker": {
             "pattern": {
              "fillmode": "overlay",
              "size": 10,
              "solidity": 0.2
             }
            },
            "type": "histogram"
           }
          ],
          "histogram2d": [
           {
            "colorbar": {
             "outlinewidth": 0,
             "ticks": ""
            },
            "colorscale": [
             [
              0,
              "#0d0887"
             ],
             [
              0.1111111111111111,
              "#46039f"
             ],
             [
              0.2222222222222222,
              "#7201a8"
             ],
             [
              0.3333333333333333,
              "#9c179e"
             ],
             [
              0.4444444444444444,
              "#bd3786"
             ],
             [
              0.5555555555555556,
              "#d8576b"
             ],
             [
              0.6666666666666666,
              "#ed7953"
             ],
             [
              0.7777777777777778,
              "#fb9f3a"
             ],
             [
              0.8888888888888888,
              "#fdca26"
             ],
             [
              1,
              "#f0f921"
             ]
            ],
            "type": "histogram2d"
           }
          ],
          "histogram2dcontour": [
           {
            "colorbar": {
             "outlinewidth": 0,
             "ticks": ""
            },
            "colorscale": [
             [
              0,
              "#0d0887"
             ],
             [
              0.1111111111111111,
              "#46039f"
             ],
             [
              0.2222222222222222,
              "#7201a8"
             ],
             [
              0.3333333333333333,
              "#9c179e"
             ],
             [
              0.4444444444444444,
              "#bd3786"
             ],
             [
              0.5555555555555556,
              "#d8576b"
             ],
             [
              0.6666666666666666,
              "#ed7953"
             ],
             [
              0.7777777777777778,
              "#fb9f3a"
             ],
             [
              0.8888888888888888,
              "#fdca26"
             ],
             [
              1,
              "#f0f921"
             ]
            ],
            "type": "histogram2dcontour"
           }
          ],
          "mesh3d": [
           {
            "colorbar": {
             "outlinewidth": 0,
             "ticks": ""
            },
            "type": "mesh3d"
           }
          ],
          "parcoords": [
           {
            "line": {
             "colorbar": {
              "outlinewidth": 0,
              "ticks": ""
             }
            },
            "type": "parcoords"
           }
          ],
          "pie": [
           {
            "automargin": true,
            "type": "pie"
           }
          ],
          "scatter": [
           {
            "fillpattern": {
             "fillmode": "overlay",
             "size": 10,
             "solidity": 0.2
            },
            "type": "scatter"
           }
          ],
          "scatter3d": [
           {
            "line": {
             "colorbar": {
              "outlinewidth": 0,
              "ticks": ""
             }
            },
            "marker": {
             "colorbar": {
              "outlinewidth": 0,
              "ticks": ""
             }
            },
            "type": "scatter3d"
           }
          ],
          "scattercarpet": [
           {
            "marker": {
             "colorbar": {
              "outlinewidth": 0,
              "ticks": ""
             }
            },
            "type": "scattercarpet"
           }
          ],
          "scattergeo": [
           {
            "marker": {
             "colorbar": {
              "outlinewidth": 0,
              "ticks": ""
             }
            },
            "type": "scattergeo"
           }
          ],
          "scattergl": [
           {
            "marker": {
             "colorbar": {
              "outlinewidth": 0,
              "ticks": ""
             }
            },
            "type": "scattergl"
           }
          ],
          "scattermapbox": [
           {
            "marker": {
             "colorbar": {
              "outlinewidth": 0,
              "ticks": ""
             }
            },
            "type": "scattermapbox"
           }
          ],
          "scatterpolar": [
           {
            "marker": {
             "colorbar": {
              "outlinewidth": 0,
              "ticks": ""
             }
            },
            "type": "scatterpolar"
           }
          ],
          "scatterpolargl": [
           {
            "marker": {
             "colorbar": {
              "outlinewidth": 0,
              "ticks": ""
             }
            },
            "type": "scatterpolargl"
           }
          ],
          "scatterternary": [
           {
            "marker": {
             "colorbar": {
              "outlinewidth": 0,
              "ticks": ""
             }
            },
            "type": "scatterternary"
           }
          ],
          "surface": [
           {
            "colorbar": {
             "outlinewidth": 0,
             "ticks": ""
            },
            "colorscale": [
             [
              0,
              "#0d0887"
             ],
             [
              0.1111111111111111,
              "#46039f"
             ],
             [
              0.2222222222222222,
              "#7201a8"
             ],
             [
              0.3333333333333333,
              "#9c179e"
             ],
             [
              0.4444444444444444,
              "#bd3786"
             ],
             [
              0.5555555555555556,
              "#d8576b"
             ],
             [
              0.6666666666666666,
              "#ed7953"
             ],
             [
              0.7777777777777778,
              "#fb9f3a"
             ],
             [
              0.8888888888888888,
              "#fdca26"
             ],
             [
              1,
              "#f0f921"
             ]
            ],
            "type": "surface"
           }
          ],
          "table": [
           {
            "cells": {
             "fill": {
              "color": "#EBF0F8"
             },
             "line": {
              "color": "white"
             }
            },
            "header": {
             "fill": {
              "color": "#C8D4E3"
             },
             "line": {
              "color": "white"
             }
            },
            "type": "table"
           }
          ]
         },
         "layout": {
          "annotationdefaults": {
           "arrowcolor": "#2a3f5f",
           "arrowhead": 0,
           "arrowwidth": 1
          },
          "autotypenumbers": "strict",
          "coloraxis": {
           "colorbar": {
            "outlinewidth": 0,
            "ticks": ""
           }
          },
          "colorscale": {
           "diverging": [
            [
             0,
             "#8e0152"
            ],
            [
             0.1,
             "#c51b7d"
            ],
            [
             0.2,
             "#de77ae"
            ],
            [
             0.3,
             "#f1b6da"
            ],
            [
             0.4,
             "#fde0ef"
            ],
            [
             0.5,
             "#f7f7f7"
            ],
            [
             0.6,
             "#e6f5d0"
            ],
            [
             0.7,
             "#b8e186"
            ],
            [
             0.8,
             "#7fbc41"
            ],
            [
             0.9,
             "#4d9221"
            ],
            [
             1,
             "#276419"
            ]
           ],
           "sequential": [
            [
             0,
             "#0d0887"
            ],
            [
             0.1111111111111111,
             "#46039f"
            ],
            [
             0.2222222222222222,
             "#7201a8"
            ],
            [
             0.3333333333333333,
             "#9c179e"
            ],
            [
             0.4444444444444444,
             "#bd3786"
            ],
            [
             0.5555555555555556,
             "#d8576b"
            ],
            [
             0.6666666666666666,
             "#ed7953"
            ],
            [
             0.7777777777777778,
             "#fb9f3a"
            ],
            [
             0.8888888888888888,
             "#fdca26"
            ],
            [
             1,
             "#f0f921"
            ]
           ],
           "sequentialminus": [
            [
             0,
             "#0d0887"
            ],
            [
             0.1111111111111111,
             "#46039f"
            ],
            [
             0.2222222222222222,
             "#7201a8"
            ],
            [
             0.3333333333333333,
             "#9c179e"
            ],
            [
             0.4444444444444444,
             "#bd3786"
            ],
            [
             0.5555555555555556,
             "#d8576b"
            ],
            [
             0.6666666666666666,
             "#ed7953"
            ],
            [
             0.7777777777777778,
             "#fb9f3a"
            ],
            [
             0.8888888888888888,
             "#fdca26"
            ],
            [
             1,
             "#f0f921"
            ]
           ]
          },
          "colorway": [
           "#636efa",
           "#EF553B",
           "#00cc96",
           "#ab63fa",
           "#FFA15A",
           "#19d3f3",
           "#FF6692",
           "#B6E880",
           "#FF97FF",
           "#FECB52"
          ],
          "font": {
           "color": "#2a3f5f"
          },
          "geo": {
           "bgcolor": "white",
           "lakecolor": "white",
           "landcolor": "#E5ECF6",
           "showlakes": true,
           "showland": true,
           "subunitcolor": "white"
          },
          "hoverlabel": {
           "align": "left"
          },
          "hovermode": "closest",
          "mapbox": {
           "style": "light"
          },
          "paper_bgcolor": "white",
          "plot_bgcolor": "#E5ECF6",
          "polar": {
           "angularaxis": {
            "gridcolor": "white",
            "linecolor": "white",
            "ticks": ""
           },
           "bgcolor": "#E5ECF6",
           "radialaxis": {
            "gridcolor": "white",
            "linecolor": "white",
            "ticks": ""
           }
          },
          "scene": {
           "xaxis": {
            "backgroundcolor": "#E5ECF6",
            "gridcolor": "white",
            "gridwidth": 2,
            "linecolor": "white",
            "showbackground": true,
            "ticks": "",
            "zerolinecolor": "white"
           },
           "yaxis": {
            "backgroundcolor": "#E5ECF6",
            "gridcolor": "white",
            "gridwidth": 2,
            "linecolor": "white",
            "showbackground": true,
            "ticks": "",
            "zerolinecolor": "white"
           },
           "zaxis": {
            "backgroundcolor": "#E5ECF6",
            "gridcolor": "white",
            "gridwidth": 2,
            "linecolor": "white",
            "showbackground": true,
            "ticks": "",
            "zerolinecolor": "white"
           }
          },
          "shapedefaults": {
           "line": {
            "color": "#2a3f5f"
           }
          },
          "ternary": {
           "aaxis": {
            "gridcolor": "white",
            "linecolor": "white",
            "ticks": ""
           },
           "baxis": {
            "gridcolor": "white",
            "linecolor": "white",
            "ticks": ""
           },
           "bgcolor": "#E5ECF6",
           "caxis": {
            "gridcolor": "white",
            "linecolor": "white",
            "ticks": ""
           }
          },
          "title": {
           "x": 0.05
          },
          "xaxis": {
           "automargin": true,
           "gridcolor": "white",
           "linecolor": "white",
           "ticks": "",
           "title": {
            "standoff": 15
           },
           "zerolinecolor": "white",
           "zerolinewidth": 2
          },
          "yaxis": {
           "automargin": true,
           "gridcolor": "white",
           "linecolor": "white",
           "ticks": "",
           "title": {
            "standoff": 15
           },
           "zerolinecolor": "white",
           "zerolinewidth": 2
          }
         }
        },
        "title": {
         "text": "Time Series of actual donations"
        },
        "xaxis": {
         "anchor": "y",
         "domain": [
          0,
          1
         ],
         "title": {
          "text": "date"
         }
        },
        "yaxis": {
         "anchor": "x",
         "domain": [
          0,
          1
         ],
         "title": {
          "text": "value"
         }
        }
       }
      }
     },
     "metadata": {},
     "output_type": "display_data"
    }
   ],
   "source": [
    "# Plotting independent time series for each unique value in the 'kpi' column\n",
    "fig = px.line(dfDonationsSelection, x='date', y='value', title=f'Time Series of actual donations')\n",
    "fig.show()"
   ]
  },
  {
   "cell_type": "code",
   "execution_count": 316,
   "metadata": {},
   "outputs": [
    {
     "data": {
      "application/vnd.plotly.v1+json": {
       "config": {
        "plotlyServerURL": "https://plot.ly"
       },
       "data": [
        {
         "hovertemplate": "date=%{x}<br>value=%{y}<extra></extra>",
         "legendgroup": "",
         "line": {
          "color": "#636efa",
          "dash": "solid"
         },
         "marker": {
          "symbol": "circle"
         },
         "mode": "lines",
         "name": "",
         "orientation": "v",
         "showlegend": false,
         "type": "scatter",
         "x": [
          "2014-01-01T00:00:00",
          "2014-02-01T00:00:00",
          "2014-03-01T00:00:00",
          "2014-04-01T00:00:00",
          "2014-05-01T00:00:00",
          "2014-06-01T00:00:00",
          "2014-07-01T00:00:00",
          "2014-08-01T00:00:00",
          "2014-09-01T00:00:00",
          "2014-10-01T00:00:00",
          "2014-11-01T00:00:00",
          "2014-12-01T00:00:00",
          "2015-01-01T00:00:00",
          "2015-02-01T00:00:00",
          "2015-03-01T00:00:00",
          "2015-04-01T00:00:00",
          "2015-05-01T00:00:00",
          "2015-06-01T00:00:00",
          "2015-07-01T00:00:00",
          "2015-08-01T00:00:00",
          "2015-09-01T00:00:00",
          "2015-10-01T00:00:00",
          "2015-11-01T00:00:00",
          "2015-12-01T00:00:00",
          "2016-01-01T00:00:00",
          "2016-02-01T00:00:00",
          "2016-03-01T00:00:00",
          "2016-04-01T00:00:00",
          "2016-05-01T00:00:00",
          "2016-06-01T00:00:00",
          "2016-07-01T00:00:00",
          "2016-08-01T00:00:00",
          "2016-09-01T00:00:00",
          "2016-10-01T00:00:00",
          "2016-11-01T00:00:00",
          "2016-12-01T00:00:00",
          "2017-01-01T00:00:00",
          "2017-02-01T00:00:00",
          "2017-03-01T00:00:00",
          "2017-04-01T00:00:00",
          "2017-05-01T00:00:00",
          "2017-06-01T00:00:00",
          "2017-07-01T00:00:00",
          "2017-08-01T00:00:00",
          "2017-09-01T00:00:00",
          "2017-10-01T00:00:00",
          "2017-11-01T00:00:00",
          "2017-12-01T00:00:00",
          "2018-01-01T00:00:00",
          "2018-02-01T00:00:00",
          "2018-03-01T00:00:00",
          "2018-04-01T00:00:00",
          "2018-05-01T00:00:00",
          "2018-06-01T00:00:00",
          "2018-07-01T00:00:00",
          "2018-08-01T00:00:00",
          "2018-09-01T00:00:00",
          "2018-10-01T00:00:00",
          "2018-11-01T00:00:00",
          "2018-12-01T00:00:00",
          "2019-01-01T00:00:00",
          "2019-02-01T00:00:00",
          "2019-03-01T00:00:00",
          "2019-04-01T00:00:00",
          "2019-05-01T00:00:00",
          "2019-06-01T00:00:00",
          "2019-07-01T00:00:00",
          "2019-08-01T00:00:00",
          "2019-09-01T00:00:00",
          "2019-10-01T00:00:00",
          "2019-11-01T00:00:00",
          "2019-12-01T00:00:00",
          "2020-01-01T00:00:00",
          "2020-02-01T00:00:00",
          "2020-03-01T00:00:00",
          "2020-04-01T00:00:00",
          "2020-05-01T00:00:00",
          "2020-06-01T00:00:00",
          "2020-07-01T00:00:00",
          "2020-08-01T00:00:00",
          "2020-09-01T00:00:00",
          "2020-10-01T00:00:00",
          "2020-11-01T00:00:00",
          "2020-12-01T00:00:00",
          "2021-01-01T00:00:00",
          "2021-02-01T00:00:00",
          "2021-03-01T00:00:00",
          "2021-04-01T00:00:00",
          "2021-05-01T00:00:00",
          "2021-06-01T00:00:00",
          "2021-07-01T00:00:00",
          "2021-08-01T00:00:00",
          "2021-09-01T00:00:00",
          "2021-10-01T00:00:00",
          "2021-11-01T00:00:00",
          "2021-12-01T00:00:00",
          "2022-01-01T00:00:00",
          "2022-02-01T00:00:00",
          "2022-03-01T00:00:00",
          "2022-04-01T00:00:00",
          "2022-05-01T00:00:00",
          "2022-06-01T00:00:00",
          "2022-07-01T00:00:00",
          "2022-08-01T00:00:00",
          "2022-09-01T00:00:00",
          "2022-10-01T00:00:00",
          "2022-11-01T00:00:00",
          "2022-12-01T00:00:00",
          "2023-01-01T00:00:00",
          "2023-02-01T00:00:00",
          "2023-03-01T00:00:00",
          "2023-04-01T00:00:00",
          "2023-05-01T00:00:00",
          "2023-06-01T00:00:00",
          "2023-07-01T00:00:00",
          "2023-08-01T00:00:00",
          "2023-09-01T00:00:00",
          "2023-10-01T00:00:00",
          "2023-11-01T00:00:00",
          "2023-12-01T00:00:00"
         ],
         "xaxis": "x",
         "y": [
          248384,
          677356.61,
          437920.52,
          339549.48,
          336036.85,
          361332.68,
          395194.1,
          315559.73,
          547618.08,
          473700.13,
          630728.84,
          830603.19,
          311620.55,
          281133.04,
          779006.49,
          404485.34,
          280793.16,
          467833.3,
          452400.01,
          383833.33,
          494820.82,
          458280.19,
          737379.01,
          1244525.47,
          457134.1,
          545421.58,
          578795.07,
          524063.85,
          448401.8,
          499725.32,
          387578.22,
          922212.18,
          597703.78,
          469153.72,
          695197.98,
          1043989.41,
          499464.98,
          470967.3,
          642704.42,
          495108.93,
          554637.19,
          556835.67,
          472386.83,
          481426.88,
          422727.53,
          655384.08,
          889252.6,
          1057538.96,
          528105.38,
          515486.75,
          712077.5,
          398698.29,
          491801.94,
          629391.05,
          573759.96,
          508156.9,
          480953.95,
          610756.69,
          847334.21,
          955619.88,
          403683.34,
          542764.72,
          671239.48,
          730153.95,
          608587.17,
          686389.26,
          581299.07,
          345412.79,
          552597.48,
          630429.67,
          688423.3,
          1023822.23,
          732466.7,
          492574.38,
          649089.67,
          867329.92,
          611297.14,
          764911.91,
          751010.67,
          686545.58,
          622383.36,
          851297.01,
          793025.53,
          1856876.38,
          592686.59,
          670148.58,
          826549.89,
          862933.55,
          690958.91,
          664222.26,
          819670.29,
          471050.09,
          509513.36,
          592703.7,
          899432.48,
          1708639.55,
          611312.15,
          269239.44,
          621173.75,
          1072485.61,
          536893.87,
          932942.78,
          775104.16,
          985432.32,
          632041.47,
          564243.62,
          1246403.55,
          1582084.51,
          1369218,
          2144446,
          1923875,
          1274911,
          1797114,
          1352463,
          1359887,
          1101047,
          1540370.125,
          1101047,
          1540370.125,
          1352463
         ],
         "yaxis": "y"
        }
       ],
       "layout": {
        "legend": {
         "tracegroupgap": 0
        },
        "template": {
         "data": {
          "bar": [
           {
            "error_x": {
             "color": "#2a3f5f"
            },
            "error_y": {
             "color": "#2a3f5f"
            },
            "marker": {
             "line": {
              "color": "#E5ECF6",
              "width": 0.5
             },
             "pattern": {
              "fillmode": "overlay",
              "size": 10,
              "solidity": 0.2
             }
            },
            "type": "bar"
           }
          ],
          "barpolar": [
           {
            "marker": {
             "line": {
              "color": "#E5ECF6",
              "width": 0.5
             },
             "pattern": {
              "fillmode": "overlay",
              "size": 10,
              "solidity": 0.2
             }
            },
            "type": "barpolar"
           }
          ],
          "carpet": [
           {
            "aaxis": {
             "endlinecolor": "#2a3f5f",
             "gridcolor": "white",
             "linecolor": "white",
             "minorgridcolor": "white",
             "startlinecolor": "#2a3f5f"
            },
            "baxis": {
             "endlinecolor": "#2a3f5f",
             "gridcolor": "white",
             "linecolor": "white",
             "minorgridcolor": "white",
             "startlinecolor": "#2a3f5f"
            },
            "type": "carpet"
           }
          ],
          "choropleth": [
           {
            "colorbar": {
             "outlinewidth": 0,
             "ticks": ""
            },
            "type": "choropleth"
           }
          ],
          "contour": [
           {
            "colorbar": {
             "outlinewidth": 0,
             "ticks": ""
            },
            "colorscale": [
             [
              0,
              "#0d0887"
             ],
             [
              0.1111111111111111,
              "#46039f"
             ],
             [
              0.2222222222222222,
              "#7201a8"
             ],
             [
              0.3333333333333333,
              "#9c179e"
             ],
             [
              0.4444444444444444,
              "#bd3786"
             ],
             [
              0.5555555555555556,
              "#d8576b"
             ],
             [
              0.6666666666666666,
              "#ed7953"
             ],
             [
              0.7777777777777778,
              "#fb9f3a"
             ],
             [
              0.8888888888888888,
              "#fdca26"
             ],
             [
              1,
              "#f0f921"
             ]
            ],
            "type": "contour"
           }
          ],
          "contourcarpet": [
           {
            "colorbar": {
             "outlinewidth": 0,
             "ticks": ""
            },
            "type": "contourcarpet"
           }
          ],
          "heatmap": [
           {
            "colorbar": {
             "outlinewidth": 0,
             "ticks": ""
            },
            "colorscale": [
             [
              0,
              "#0d0887"
             ],
             [
              0.1111111111111111,
              "#46039f"
             ],
             [
              0.2222222222222222,
              "#7201a8"
             ],
             [
              0.3333333333333333,
              "#9c179e"
             ],
             [
              0.4444444444444444,
              "#bd3786"
             ],
             [
              0.5555555555555556,
              "#d8576b"
             ],
             [
              0.6666666666666666,
              "#ed7953"
             ],
             [
              0.7777777777777778,
              "#fb9f3a"
             ],
             [
              0.8888888888888888,
              "#fdca26"
             ],
             [
              1,
              "#f0f921"
             ]
            ],
            "type": "heatmap"
           }
          ],
          "heatmapgl": [
           {
            "colorbar": {
             "outlinewidth": 0,
             "ticks": ""
            },
            "colorscale": [
             [
              0,
              "#0d0887"
             ],
             [
              0.1111111111111111,
              "#46039f"
             ],
             [
              0.2222222222222222,
              "#7201a8"
             ],
             [
              0.3333333333333333,
              "#9c179e"
             ],
             [
              0.4444444444444444,
              "#bd3786"
             ],
             [
              0.5555555555555556,
              "#d8576b"
             ],
             [
              0.6666666666666666,
              "#ed7953"
             ],
             [
              0.7777777777777778,
              "#fb9f3a"
             ],
             [
              0.8888888888888888,
              "#fdca26"
             ],
             [
              1,
              "#f0f921"
             ]
            ],
            "type": "heatmapgl"
           }
          ],
          "histogram": [
           {
            "marker": {
             "pattern": {
              "fillmode": "overlay",
              "size": 10,
              "solidity": 0.2
             }
            },
            "type": "histogram"
           }
          ],
          "histogram2d": [
           {
            "colorbar": {
             "outlinewidth": 0,
             "ticks": ""
            },
            "colorscale": [
             [
              0,
              "#0d0887"
             ],
             [
              0.1111111111111111,
              "#46039f"
             ],
             [
              0.2222222222222222,
              "#7201a8"
             ],
             [
              0.3333333333333333,
              "#9c179e"
             ],
             [
              0.4444444444444444,
              "#bd3786"
             ],
             [
              0.5555555555555556,
              "#d8576b"
             ],
             [
              0.6666666666666666,
              "#ed7953"
             ],
             [
              0.7777777777777778,
              "#fb9f3a"
             ],
             [
              0.8888888888888888,
              "#fdca26"
             ],
             [
              1,
              "#f0f921"
             ]
            ],
            "type": "histogram2d"
           }
          ],
          "histogram2dcontour": [
           {
            "colorbar": {
             "outlinewidth": 0,
             "ticks": ""
            },
            "colorscale": [
             [
              0,
              "#0d0887"
             ],
             [
              0.1111111111111111,
              "#46039f"
             ],
             [
              0.2222222222222222,
              "#7201a8"
             ],
             [
              0.3333333333333333,
              "#9c179e"
             ],
             [
              0.4444444444444444,
              "#bd3786"
             ],
             [
              0.5555555555555556,
              "#d8576b"
             ],
             [
              0.6666666666666666,
              "#ed7953"
             ],
             [
              0.7777777777777778,
              "#fb9f3a"
             ],
             [
              0.8888888888888888,
              "#fdca26"
             ],
             [
              1,
              "#f0f921"
             ]
            ],
            "type": "histogram2dcontour"
           }
          ],
          "mesh3d": [
           {
            "colorbar": {
             "outlinewidth": 0,
             "ticks": ""
            },
            "type": "mesh3d"
           }
          ],
          "parcoords": [
           {
            "line": {
             "colorbar": {
              "outlinewidth": 0,
              "ticks": ""
             }
            },
            "type": "parcoords"
           }
          ],
          "pie": [
           {
            "automargin": true,
            "type": "pie"
           }
          ],
          "scatter": [
           {
            "fillpattern": {
             "fillmode": "overlay",
             "size": 10,
             "solidity": 0.2
            },
            "type": "scatter"
           }
          ],
          "scatter3d": [
           {
            "line": {
             "colorbar": {
              "outlinewidth": 0,
              "ticks": ""
             }
            },
            "marker": {
             "colorbar": {
              "outlinewidth": 0,
              "ticks": ""
             }
            },
            "type": "scatter3d"
           }
          ],
          "scattercarpet": [
           {
            "marker": {
             "colorbar": {
              "outlinewidth": 0,
              "ticks": ""
             }
            },
            "type": "scattercarpet"
           }
          ],
          "scattergeo": [
           {
            "marker": {
             "colorbar": {
              "outlinewidth": 0,
              "ticks": ""
             }
            },
            "type": "scattergeo"
           }
          ],
          "scattergl": [
           {
            "marker": {
             "colorbar": {
              "outlinewidth": 0,
              "ticks": ""
             }
            },
            "type": "scattergl"
           }
          ],
          "scattermapbox": [
           {
            "marker": {
             "colorbar": {
              "outlinewidth": 0,
              "ticks": ""
             }
            },
            "type": "scattermapbox"
           }
          ],
          "scatterpolar": [
           {
            "marker": {
             "colorbar": {
              "outlinewidth": 0,
              "ticks": ""
             }
            },
            "type": "scatterpolar"
           }
          ],
          "scatterpolargl": [
           {
            "marker": {
             "colorbar": {
              "outlinewidth": 0,
              "ticks": ""
             }
            },
            "type": "scatterpolargl"
           }
          ],
          "scatterternary": [
           {
            "marker": {
             "colorbar": {
              "outlinewidth": 0,
              "ticks": ""
             }
            },
            "type": "scatterternary"
           }
          ],
          "surface": [
           {
            "colorbar": {
             "outlinewidth": 0,
             "ticks": ""
            },
            "colorscale": [
             [
              0,
              "#0d0887"
             ],
             [
              0.1111111111111111,
              "#46039f"
             ],
             [
              0.2222222222222222,
              "#7201a8"
             ],
             [
              0.3333333333333333,
              "#9c179e"
             ],
             [
              0.4444444444444444,
              "#bd3786"
             ],
             [
              0.5555555555555556,
              "#d8576b"
             ],
             [
              0.6666666666666666,
              "#ed7953"
             ],
             [
              0.7777777777777778,
              "#fb9f3a"
             ],
             [
              0.8888888888888888,
              "#fdca26"
             ],
             [
              1,
              "#f0f921"
             ]
            ],
            "type": "surface"
           }
          ],
          "table": [
           {
            "cells": {
             "fill": {
              "color": "#EBF0F8"
             },
             "line": {
              "color": "white"
             }
            },
            "header": {
             "fill": {
              "color": "#C8D4E3"
             },
             "line": {
              "color": "white"
             }
            },
            "type": "table"
           }
          ]
         },
         "layout": {
          "annotationdefaults": {
           "arrowcolor": "#2a3f5f",
           "arrowhead": 0,
           "arrowwidth": 1
          },
          "autotypenumbers": "strict",
          "coloraxis": {
           "colorbar": {
            "outlinewidth": 0,
            "ticks": ""
           }
          },
          "colorscale": {
           "diverging": [
            [
             0,
             "#8e0152"
            ],
            [
             0.1,
             "#c51b7d"
            ],
            [
             0.2,
             "#de77ae"
            ],
            [
             0.3,
             "#f1b6da"
            ],
            [
             0.4,
             "#fde0ef"
            ],
            [
             0.5,
             "#f7f7f7"
            ],
            [
             0.6,
             "#e6f5d0"
            ],
            [
             0.7,
             "#b8e186"
            ],
            [
             0.8,
             "#7fbc41"
            ],
            [
             0.9,
             "#4d9221"
            ],
            [
             1,
             "#276419"
            ]
           ],
           "sequential": [
            [
             0,
             "#0d0887"
            ],
            [
             0.1111111111111111,
             "#46039f"
            ],
            [
             0.2222222222222222,
             "#7201a8"
            ],
            [
             0.3333333333333333,
             "#9c179e"
            ],
            [
             0.4444444444444444,
             "#bd3786"
            ],
            [
             0.5555555555555556,
             "#d8576b"
            ],
            [
             0.6666666666666666,
             "#ed7953"
            ],
            [
             0.7777777777777778,
             "#fb9f3a"
            ],
            [
             0.8888888888888888,
             "#fdca26"
            ],
            [
             1,
             "#f0f921"
            ]
           ],
           "sequentialminus": [
            [
             0,
             "#0d0887"
            ],
            [
             0.1111111111111111,
             "#46039f"
            ],
            [
             0.2222222222222222,
             "#7201a8"
            ],
            [
             0.3333333333333333,
             "#9c179e"
            ],
            [
             0.4444444444444444,
             "#bd3786"
            ],
            [
             0.5555555555555556,
             "#d8576b"
            ],
            [
             0.6666666666666666,
             "#ed7953"
            ],
            [
             0.7777777777777778,
             "#fb9f3a"
            ],
            [
             0.8888888888888888,
             "#fdca26"
            ],
            [
             1,
             "#f0f921"
            ]
           ]
          },
          "colorway": [
           "#636efa",
           "#EF553B",
           "#00cc96",
           "#ab63fa",
           "#FFA15A",
           "#19d3f3",
           "#FF6692",
           "#B6E880",
           "#FF97FF",
           "#FECB52"
          ],
          "font": {
           "color": "#2a3f5f"
          },
          "geo": {
           "bgcolor": "white",
           "lakecolor": "white",
           "landcolor": "#E5ECF6",
           "showlakes": true,
           "showland": true,
           "subunitcolor": "white"
          },
          "hoverlabel": {
           "align": "left"
          },
          "hovermode": "closest",
          "mapbox": {
           "style": "light"
          },
          "paper_bgcolor": "white",
          "plot_bgcolor": "#E5ECF6",
          "polar": {
           "angularaxis": {
            "gridcolor": "white",
            "linecolor": "white",
            "ticks": ""
           },
           "bgcolor": "#E5ECF6",
           "radialaxis": {
            "gridcolor": "white",
            "linecolor": "white",
            "ticks": ""
           }
          },
          "scene": {
           "xaxis": {
            "backgroundcolor": "#E5ECF6",
            "gridcolor": "white",
            "gridwidth": 2,
            "linecolor": "white",
            "showbackground": true,
            "ticks": "",
            "zerolinecolor": "white"
           },
           "yaxis": {
            "backgroundcolor": "#E5ECF6",
            "gridcolor": "white",
            "gridwidth": 2,
            "linecolor": "white",
            "showbackground": true,
            "ticks": "",
            "zerolinecolor": "white"
           },
           "zaxis": {
            "backgroundcolor": "#E5ECF6",
            "gridcolor": "white",
            "gridwidth": 2,
            "linecolor": "white",
            "showbackground": true,
            "ticks": "",
            "zerolinecolor": "white"
           }
          },
          "shapedefaults": {
           "line": {
            "color": "#2a3f5f"
           }
          },
          "ternary": {
           "aaxis": {
            "gridcolor": "white",
            "linecolor": "white",
            "ticks": ""
           },
           "baxis": {
            "gridcolor": "white",
            "linecolor": "white",
            "ticks": ""
           },
           "bgcolor": "#E5ECF6",
           "caxis": {
            "gridcolor": "white",
            "linecolor": "white",
            "ticks": ""
           }
          },
          "title": {
           "x": 0.05
          },
          "xaxis": {
           "automargin": true,
           "gridcolor": "white",
           "linecolor": "white",
           "ticks": "",
           "title": {
            "standoff": 15
           },
           "zerolinecolor": "white",
           "zerolinewidth": 2
          },
          "yaxis": {
           "automargin": true,
           "gridcolor": "white",
           "linecolor": "white",
           "ticks": "",
           "title": {
            "standoff": 15
           },
           "zerolinecolor": "white",
           "zerolinewidth": 2
          }
         }
        },
        "title": {
         "text": "Time Series of private donations"
        },
        "xaxis": {
         "anchor": "y",
         "domain": [
          0,
          1
         ],
         "title": {
          "text": "date"
         }
        },
        "yaxis": {
         "anchor": "x",
         "domain": [
          0,
          1
         ],
         "title": {
          "text": "value"
         }
        }
       }
      }
     },
     "metadata": {},
     "output_type": "display_data"
    }
   ],
   "source": [
    "# Plotting independent time series for each unique value in the 'kpi' column\n",
    "kpi = 'private donations'\n",
    "dfKpi = dfAllYears[dfAllYears['kpi'] == kpi]\n",
    "fig = px.line(dfKpi, x='date', y='value', title=f'Time Series of {kpi}')\n",
    "fig.show()"
   ]
  },
  {
   "cell_type": "markdown",
   "metadata": {},
   "source": [
    "# Create toy data for yearly values of Net Promoter Score"
   ]
  },
  {
   "cell_type": "code",
   "execution_count": 317,
   "metadata": {},
   "outputs": [
    {
     "data": {
      "text/html": [
       "<div>\n",
       "<style scoped>\n",
       "    .dataframe tbody tr th:only-of-type {\n",
       "        vertical-align: middle;\n",
       "    }\n",
       "\n",
       "    .dataframe tbody tr th {\n",
       "        vertical-align: top;\n",
       "    }\n",
       "\n",
       "    .dataframe thead th {\n",
       "        text-align: right;\n",
       "    }\n",
       "</style>\n",
       "<table border=\"1\" class=\"dataframe\">\n",
       "  <thead>\n",
       "    <tr style=\"text-align: right;\">\n",
       "      <th></th>\n",
       "      <th>circle</th>\n",
       "      <th>kpi</th>\n",
       "      <th>periodicity</th>\n",
       "      <th>range</th>\n",
       "      <th>period_year</th>\n",
       "      <th>period_month</th>\n",
       "      <th>date</th>\n",
       "      <th>value</th>\n",
       "    </tr>\n",
       "  </thead>\n",
       "  <tbody>\n",
       "    <tr>\n",
       "      <th>96</th>\n",
       "      <td>Digital</td>\n",
       "      <td>additional monetization/savings from CRM</td>\n",
       "      <td>quarter</td>\n",
       "      <td>0 &lt;= X</td>\n",
       "      <td>2023</td>\n",
       "      <td>1</td>\n",
       "      <td>2023-01-01</td>\n",
       "      <td>51000.000</td>\n",
       "    </tr>\n",
       "    <tr>\n",
       "      <th>97</th>\n",
       "      <td>Digital</td>\n",
       "      <td>additional monetization/savings from CRM</td>\n",
       "      <td>quarter</td>\n",
       "      <td>0 &lt;= X</td>\n",
       "      <td>2023</td>\n",
       "      <td>2</td>\n",
       "      <td>2023-02-01</td>\n",
       "      <td>51000.000</td>\n",
       "    </tr>\n",
       "    <tr>\n",
       "      <th>98</th>\n",
       "      <td>Digital</td>\n",
       "      <td>additional monetization/savings from CRM</td>\n",
       "      <td>quarter</td>\n",
       "      <td>0 &lt;= X</td>\n",
       "      <td>2023</td>\n",
       "      <td>3</td>\n",
       "      <td>2023-03-01</td>\n",
       "      <td>51000.000</td>\n",
       "    </tr>\n",
       "    <tr>\n",
       "      <th>99</th>\n",
       "      <td>Digital</td>\n",
       "      <td>additional monetization/savings from CRM</td>\n",
       "      <td>quarter</td>\n",
       "      <td>0 &lt;= X</td>\n",
       "      <td>2023</td>\n",
       "      <td>4</td>\n",
       "      <td>2023-04-01</td>\n",
       "      <td>0.000</td>\n",
       "    </tr>\n",
       "    <tr>\n",
       "      <th>100</th>\n",
       "      <td>Digital</td>\n",
       "      <td>additional monetization/savings from CRM</td>\n",
       "      <td>quarter</td>\n",
       "      <td>0 &lt;= X</td>\n",
       "      <td>2023</td>\n",
       "      <td>5</td>\n",
       "      <td>2023-05-01</td>\n",
       "      <td>0.000</td>\n",
       "    </tr>\n",
       "    <tr>\n",
       "      <th>...</th>\n",
       "      <td>...</td>\n",
       "      <td>...</td>\n",
       "      <td>...</td>\n",
       "      <td>...</td>\n",
       "      <td>...</td>\n",
       "      <td>...</td>\n",
       "      <td>...</td>\n",
       "      <td>...</td>\n",
       "    </tr>\n",
       "    <tr>\n",
       "      <th>19</th>\n",
       "      <td>HR</td>\n",
       "      <td>share short tern leave</td>\n",
       "      <td>month</td>\n",
       "      <td>0 &lt;= % &lt;= 100</td>\n",
       "      <td>2023</td>\n",
       "      <td>8</td>\n",
       "      <td>2023-08-01</td>\n",
       "      <td>0.930</td>\n",
       "    </tr>\n",
       "    <tr>\n",
       "      <th>20</th>\n",
       "      <td>HR</td>\n",
       "      <td>share short tern leave</td>\n",
       "      <td>month</td>\n",
       "      <td>0 &lt;= % &lt;= 100</td>\n",
       "      <td>2023</td>\n",
       "      <td>9</td>\n",
       "      <td>2023-09-01</td>\n",
       "      <td>2.225</td>\n",
       "    </tr>\n",
       "    <tr>\n",
       "      <th>21</th>\n",
       "      <td>HR</td>\n",
       "      <td>share short tern leave</td>\n",
       "      <td>month</td>\n",
       "      <td>0 &lt;= % &lt;= 100</td>\n",
       "      <td>2023</td>\n",
       "      <td>10</td>\n",
       "      <td>2023-10-01</td>\n",
       "      <td>0.930</td>\n",
       "    </tr>\n",
       "    <tr>\n",
       "      <th>22</th>\n",
       "      <td>HR</td>\n",
       "      <td>share short tern leave</td>\n",
       "      <td>month</td>\n",
       "      <td>0 &lt;= % &lt;= 100</td>\n",
       "      <td>2023</td>\n",
       "      <td>11</td>\n",
       "      <td>2023-11-01</td>\n",
       "      <td>2.225</td>\n",
       "    </tr>\n",
       "    <tr>\n",
       "      <th>23</th>\n",
       "      <td>HR</td>\n",
       "      <td>share short tern leave</td>\n",
       "      <td>month</td>\n",
       "      <td>0 &lt;= % &lt;= 100</td>\n",
       "      <td>2023</td>\n",
       "      <td>12</td>\n",
       "      <td>2023-12-01</td>\n",
       "      <td>2.580</td>\n",
       "    </tr>\n",
       "  </tbody>\n",
       "</table>\n",
       "<p>120 rows × 8 columns</p>\n",
       "</div>"
      ],
      "text/plain": [
       "      circle                                       kpi periodicity  \\\n",
       "96   Digital  additional monetization/savings from CRM     quarter   \n",
       "97   Digital  additional monetization/savings from CRM     quarter   \n",
       "98   Digital  additional monetization/savings from CRM     quarter   \n",
       "99   Digital  additional monetization/savings from CRM     quarter   \n",
       "100  Digital  additional monetization/savings from CRM     quarter   \n",
       "..       ...                                       ...         ...   \n",
       "19        HR                    share short tern leave       month   \n",
       "20        HR                    share short tern leave       month   \n",
       "21        HR                    share short tern leave       month   \n",
       "22        HR                    share short tern leave       month   \n",
       "23        HR                    share short tern leave       month   \n",
       "\n",
       "             range  period_year  period_month       date      value  \n",
       "96          0 <= X         2023             1 2023-01-01  51000.000  \n",
       "97          0 <= X         2023             2 2023-02-01  51000.000  \n",
       "98          0 <= X         2023             3 2023-03-01  51000.000  \n",
       "99          0 <= X         2023             4 2023-04-01      0.000  \n",
       "100         0 <= X         2023             5 2023-05-01      0.000  \n",
       "..             ...          ...           ...        ...        ...  \n",
       "19   0 <= % <= 100         2023             8 2023-08-01      0.930  \n",
       "20   0 <= % <= 100         2023             9 2023-09-01      2.225  \n",
       "21   0 <= % <= 100         2023            10 2023-10-01      0.930  \n",
       "22   0 <= % <= 100         2023            11 2023-11-01      2.225  \n",
       "23   0 <= % <= 100         2023            12 2023-12-01      2.580  \n",
       "\n",
       "[120 rows x 8 columns]"
      ]
     },
     "execution_count": 317,
     "metadata": {},
     "output_type": "execute_result"
    }
   ],
   "source": [
    "# correct NPS scale\n",
    "dfAllYears.loc[dfAllYears.periodicity=='year','range']='-100 <= X <= 100'\n",
    "dfAllYears[dfAllYears.periodicity=='year']\n",
    "\n",
    "# insert toy values for yearly NPS\n",
    "toy_values = [23,37,45,52,59,68,70,72,65,35]\n",
    "for i,year in enumerate(range(2014,2023+1)):\n",
    "    dfAllYears.loc[(dfAllYears.period_year==year)&(dfAllYears.kpi=='net promoter score'),'value'] = toy_values[i]\n",
    "    \n",
    "dfAllYears.sort_values(by=['kpi', 'date'], ascending=[True, True],inplace=True)\n",
    "dfAllYears[dfAllYears.period_year==2023]"
   ]
  },
  {
   "cell_type": "markdown",
   "metadata": {},
   "source": [
    "# Fill NaN HR values: share of teams constituted as circles and share short tern leave, for 2023"
   ]
  },
  {
   "cell_type": "code",
   "execution_count": 318,
   "metadata": {},
   "outputs": [
    {
     "data": {
      "text/html": [
       "<div>\n",
       "<style scoped>\n",
       "    .dataframe tbody tr th:only-of-type {\n",
       "        vertical-align: middle;\n",
       "    }\n",
       "\n",
       "    .dataframe tbody tr th {\n",
       "        vertical-align: top;\n",
       "    }\n",
       "\n",
       "    .dataframe thead th {\n",
       "        text-align: right;\n",
       "    }\n",
       "</style>\n",
       "<table border=\"1\" class=\"dataframe\">\n",
       "  <thead>\n",
       "    <tr style=\"text-align: right;\">\n",
       "      <th></th>\n",
       "      <th>circle</th>\n",
       "      <th>kpi</th>\n",
       "      <th>periodicity</th>\n",
       "      <th>range</th>\n",
       "      <th>period_year</th>\n",
       "      <th>period_month</th>\n",
       "      <th>date</th>\n",
       "      <th>value</th>\n",
       "    </tr>\n",
       "  </thead>\n",
       "  <tbody>\n",
       "    <tr>\n",
       "      <th>216</th>\n",
       "      <td>Digital</td>\n",
       "      <td>additional monetization/savings from CRM</td>\n",
       "      <td>quarter</td>\n",
       "      <td>0 &lt;= X</td>\n",
       "      <td>2014</td>\n",
       "      <td>1</td>\n",
       "      <td>2014-01-01</td>\n",
       "      <td>51000.00</td>\n",
       "    </tr>\n",
       "    <tr>\n",
       "      <th>217</th>\n",
       "      <td>Digital</td>\n",
       "      <td>additional monetization/savings from CRM</td>\n",
       "      <td>quarter</td>\n",
       "      <td>0 &lt;= X</td>\n",
       "      <td>2014</td>\n",
       "      <td>2</td>\n",
       "      <td>2014-02-01</td>\n",
       "      <td>51000.00</td>\n",
       "    </tr>\n",
       "    <tr>\n",
       "      <th>218</th>\n",
       "      <td>Digital</td>\n",
       "      <td>additional monetization/savings from CRM</td>\n",
       "      <td>quarter</td>\n",
       "      <td>0 &lt;= X</td>\n",
       "      <td>2014</td>\n",
       "      <td>3</td>\n",
       "      <td>2014-03-01</td>\n",
       "      <td>51000.00</td>\n",
       "    </tr>\n",
       "    <tr>\n",
       "      <th>219</th>\n",
       "      <td>Digital</td>\n",
       "      <td>additional monetization/savings from CRM</td>\n",
       "      <td>quarter</td>\n",
       "      <td>0 &lt;= X</td>\n",
       "      <td>2014</td>\n",
       "      <td>4</td>\n",
       "      <td>2014-04-01</td>\n",
       "      <td>0.00</td>\n",
       "    </tr>\n",
       "    <tr>\n",
       "      <th>220</th>\n",
       "      <td>Digital</td>\n",
       "      <td>additional monetization/savings from CRM</td>\n",
       "      <td>quarter</td>\n",
       "      <td>0 &lt;= X</td>\n",
       "      <td>2014</td>\n",
       "      <td>5</td>\n",
       "      <td>2014-05-01</td>\n",
       "      <td>0.00</td>\n",
       "    </tr>\n",
       "    <tr>\n",
       "      <th>...</th>\n",
       "      <td>...</td>\n",
       "      <td>...</td>\n",
       "      <td>...</td>\n",
       "      <td>...</td>\n",
       "      <td>...</td>\n",
       "      <td>...</td>\n",
       "      <td>...</td>\n",
       "      <td>...</td>\n",
       "    </tr>\n",
       "    <tr>\n",
       "      <th>19</th>\n",
       "      <td>HR</td>\n",
       "      <td>share short tern leave</td>\n",
       "      <td>month</td>\n",
       "      <td>0 &lt;= % &lt;= 100</td>\n",
       "      <td>2023</td>\n",
       "      <td>8</td>\n",
       "      <td>2023-08-01</td>\n",
       "      <td>0.93</td>\n",
       "    </tr>\n",
       "    <tr>\n",
       "      <th>20</th>\n",
       "      <td>HR</td>\n",
       "      <td>share short tern leave</td>\n",
       "      <td>month</td>\n",
       "      <td>0 &lt;= % &lt;= 100</td>\n",
       "      <td>2023</td>\n",
       "      <td>9</td>\n",
       "      <td>2023-09-01</td>\n",
       "      <td>0.93</td>\n",
       "    </tr>\n",
       "    <tr>\n",
       "      <th>21</th>\n",
       "      <td>HR</td>\n",
       "      <td>share short tern leave</td>\n",
       "      <td>month</td>\n",
       "      <td>0 &lt;= % &lt;= 100</td>\n",
       "      <td>2023</td>\n",
       "      <td>10</td>\n",
       "      <td>2023-10-01</td>\n",
       "      <td>0.80</td>\n",
       "    </tr>\n",
       "    <tr>\n",
       "      <th>22</th>\n",
       "      <td>HR</td>\n",
       "      <td>share short tern leave</td>\n",
       "      <td>month</td>\n",
       "      <td>0 &lt;= % &lt;= 100</td>\n",
       "      <td>2023</td>\n",
       "      <td>11</td>\n",
       "      <td>2023-11-01</td>\n",
       "      <td>0.80</td>\n",
       "    </tr>\n",
       "    <tr>\n",
       "      <th>23</th>\n",
       "      <td>HR</td>\n",
       "      <td>share short tern leave</td>\n",
       "      <td>month</td>\n",
       "      <td>0 &lt;= % &lt;= 100</td>\n",
       "      <td>2023</td>\n",
       "      <td>12</td>\n",
       "      <td>2023-12-01</td>\n",
       "      <td>1.00</td>\n",
       "    </tr>\n",
       "  </tbody>\n",
       "</table>\n",
       "<p>1200 rows × 8 columns</p>\n",
       "</div>"
      ],
      "text/plain": [
       "      circle                                       kpi periodicity  \\\n",
       "216  Digital  additional monetization/savings from CRM     quarter   \n",
       "217  Digital  additional monetization/savings from CRM     quarter   \n",
       "218  Digital  additional monetization/savings from CRM     quarter   \n",
       "219  Digital  additional monetization/savings from CRM     quarter   \n",
       "220  Digital  additional monetization/savings from CRM     quarter   \n",
       "..       ...                                       ...         ...   \n",
       "19        HR                    share short tern leave       month   \n",
       "20        HR                    share short tern leave       month   \n",
       "21        HR                    share short tern leave       month   \n",
       "22        HR                    share short tern leave       month   \n",
       "23        HR                    share short tern leave       month   \n",
       "\n",
       "             range  period_year  period_month       date     value  \n",
       "216         0 <= X         2014             1 2014-01-01  51000.00  \n",
       "217         0 <= X         2014             2 2014-02-01  51000.00  \n",
       "218         0 <= X         2014             3 2014-03-01  51000.00  \n",
       "219         0 <= X         2014             4 2014-04-01      0.00  \n",
       "220         0 <= X         2014             5 2014-05-01      0.00  \n",
       "..             ...          ...           ...        ...       ...  \n",
       "19   0 <= % <= 100         2023             8 2023-08-01      0.93  \n",
       "20   0 <= % <= 100         2023             9 2023-09-01      0.93  \n",
       "21   0 <= % <= 100         2023            10 2023-10-01      0.80  \n",
       "22   0 <= % <= 100         2023            11 2023-11-01      0.80  \n",
       "23   0 <= % <= 100         2023            12 2023-12-01      1.00  \n",
       "\n",
       "[1200 rows x 8 columns]"
      ]
     },
     "execution_count": 318,
     "metadata": {},
     "output_type": "execute_result"
    }
   ],
   "source": [
    "# fill toy values that make sense for HR\n",
    "dfAllYears.loc[(dfAllYears.kpi=='share of teams constituted as circles')&\n",
    "               (dfAllYears.period_year==2023)&\n",
    "               (dfAllYears.period_month>=9),'value'] =[90,90,95,95]\n",
    "\n",
    "dfAllYears.loc[(dfAllYears.kpi=='share short tern leave')&\n",
    "               (dfAllYears.period_year==2023)&\n",
    "               (dfAllYears.period_month>=9),'value'] =[0.93,0.8,0.8,1]\n",
    "\n",
    "dfAllYears.round(2).to_csv('/Users/diana/Dropbox/_hackathon/deploy_2023/_data/pj_sample_value_long_notfilled_2014_2023.csv')\n",
    "dfAllYears"
   ]
  },
  {
   "cell_type": "code",
   "execution_count": 291,
   "metadata": {},
   "outputs": [
    {
     "data": {
      "text/html": [
       "<div>\n",
       "<style scoped>\n",
       "    .dataframe tbody tr th:only-of-type {\n",
       "        vertical-align: middle;\n",
       "    }\n",
       "\n",
       "    .dataframe tbody tr th {\n",
       "        vertical-align: top;\n",
       "    }\n",
       "\n",
       "    .dataframe thead th {\n",
       "        text-align: right;\n",
       "    }\n",
       "</style>\n",
       "<table border=\"1\" class=\"dataframe\">\n",
       "  <thead>\n",
       "    <tr style=\"text-align: right;\">\n",
       "      <th></th>\n",
       "      <th>share of teams constituted as circles</th>\n",
       "      <th>share short tern leave</th>\n",
       "      <th>involuntary headcount change (FTE)</th>\n",
       "      <th>reachability</th>\n",
       "      <th>count sessions on .projuventute.ch</th>\n",
       "      <th>count leads</th>\n",
       "      <th>net promoter score</th>\n",
       "      <th>private donations</th>\n",
       "      <th>additional monetization/savings from CRM</th>\n",
       "      <th>additional monetization/savings from programs</th>\n",
       "    </tr>\n",
       "    <tr>\n",
       "      <th>date</th>\n",
       "      <th></th>\n",
       "      <th></th>\n",
       "      <th></th>\n",
       "      <th></th>\n",
       "      <th></th>\n",
       "      <th></th>\n",
       "      <th></th>\n",
       "      <th></th>\n",
       "      <th></th>\n",
       "      <th></th>\n",
       "    </tr>\n",
       "  </thead>\n",
       "  <tbody>\n",
       "    <tr>\n",
       "      <th>2023-01-01</th>\n",
       "      <td>35.0</td>\n",
       "      <td>2.04</td>\n",
       "      <td>2.26</td>\n",
       "      <td>46.00</td>\n",
       "      <td>158611.00</td>\n",
       "      <td>734.0</td>\n",
       "      <td>35.0</td>\n",
       "      <td>1369218.00</td>\n",
       "      <td>51000.0</td>\n",
       "      <td>186258.00</td>\n",
       "    </tr>\n",
       "    <tr>\n",
       "      <th>2023-02-01</th>\n",
       "      <td>50.0</td>\n",
       "      <td>2.20</td>\n",
       "      <td>0.98</td>\n",
       "      <td>46.00</td>\n",
       "      <td>203755.00</td>\n",
       "      <td>557.0</td>\n",
       "      <td>35.0</td>\n",
       "      <td>2144446.00</td>\n",
       "      <td>51000.0</td>\n",
       "      <td>186258.00</td>\n",
       "    </tr>\n",
       "    <tr>\n",
       "      <th>2023-03-01</th>\n",
       "      <td>50.0</td>\n",
       "      <td>2.54</td>\n",
       "      <td>1.47</td>\n",
       "      <td>46.00</td>\n",
       "      <td>190560.00</td>\n",
       "      <td>536.0</td>\n",
       "      <td>35.0</td>\n",
       "      <td>1923875.00</td>\n",
       "      <td>51000.0</td>\n",
       "      <td>186258.00</td>\n",
       "    </tr>\n",
       "    <tr>\n",
       "      <th>2023-04-01</th>\n",
       "      <td>55.0</td>\n",
       "      <td>2.17</td>\n",
       "      <td>1.46</td>\n",
       "      <td>44.90</td>\n",
       "      <td>164663.00</td>\n",
       "      <td>337.0</td>\n",
       "      <td>35.0</td>\n",
       "      <td>1274911.00</td>\n",
       "      <td>0.0</td>\n",
       "      <td>0.00</td>\n",
       "    </tr>\n",
       "    <tr>\n",
       "      <th>2023-05-01</th>\n",
       "      <td>70.0</td>\n",
       "      <td>3.30</td>\n",
       "      <td>0.00</td>\n",
       "      <td>44.90</td>\n",
       "      <td>180421.00</td>\n",
       "      <td>765.0</td>\n",
       "      <td>35.0</td>\n",
       "      <td>1797114.00</td>\n",
       "      <td>0.0</td>\n",
       "      <td>0.00</td>\n",
       "    </tr>\n",
       "    <tr>\n",
       "      <th>2023-06-01</th>\n",
       "      <td>80.0</td>\n",
       "      <td>2.58</td>\n",
       "      <td>0.00</td>\n",
       "      <td>44.90</td>\n",
       "      <td>174107.00</td>\n",
       "      <td>596.0</td>\n",
       "      <td>35.0</td>\n",
       "      <td>1352463.00</td>\n",
       "      <td>0.0</td>\n",
       "      <td>0.00</td>\n",
       "    </tr>\n",
       "    <tr>\n",
       "      <th>2023-07-01</th>\n",
       "      <td>85.0</td>\n",
       "      <td>2.04</td>\n",
       "      <td>0.51</td>\n",
       "      <td>43.60</td>\n",
       "      <td>164059.00</td>\n",
       "      <td>683.0</td>\n",
       "      <td>35.0</td>\n",
       "      <td>1359887.00</td>\n",
       "      <td>0.0</td>\n",
       "      <td>26000.00</td>\n",
       "    </tr>\n",
       "    <tr>\n",
       "      <th>2023-08-01</th>\n",
       "      <td>90.0</td>\n",
       "      <td>0.93</td>\n",
       "      <td>1.01</td>\n",
       "      <td>43.60</td>\n",
       "      <td>194407.00</td>\n",
       "      <td>410.0</td>\n",
       "      <td>35.0</td>\n",
       "      <td>1101047.00</td>\n",
       "      <td>0.0</td>\n",
       "      <td>26000.00</td>\n",
       "    </tr>\n",
       "    <tr>\n",
       "      <th>2023-09-01</th>\n",
       "      <td>90.0</td>\n",
       "      <td>0.93</td>\n",
       "      <td>0.96</td>\n",
       "      <td>43.60</td>\n",
       "      <td>178822.88</td>\n",
       "      <td>346.0</td>\n",
       "      <td>35.0</td>\n",
       "      <td>1540370.12</td>\n",
       "      <td>0.0</td>\n",
       "      <td>26000.00</td>\n",
       "    </tr>\n",
       "    <tr>\n",
       "      <th>2023-10-01</th>\n",
       "      <td>90.0</td>\n",
       "      <td>0.80</td>\n",
       "      <td>1.01</td>\n",
       "      <td>44.83</td>\n",
       "      <td>194407.00</td>\n",
       "      <td>771.0</td>\n",
       "      <td>35.0</td>\n",
       "      <td>1101047.00</td>\n",
       "      <td>17000.0</td>\n",
       "      <td>70752.67</td>\n",
       "    </tr>\n",
       "    <tr>\n",
       "      <th>2023-11-01</th>\n",
       "      <td>95.0</td>\n",
       "      <td>0.80</td>\n",
       "      <td>0.96</td>\n",
       "      <td>44.83</td>\n",
       "      <td>178822.88</td>\n",
       "      <td>486.0</td>\n",
       "      <td>35.0</td>\n",
       "      <td>1540370.12</td>\n",
       "      <td>17000.0</td>\n",
       "      <td>70752.67</td>\n",
       "    </tr>\n",
       "    <tr>\n",
       "      <th>2023-12-01</th>\n",
       "      <td>95.0</td>\n",
       "      <td>1.00</td>\n",
       "      <td>0.00</td>\n",
       "      <td>44.83</td>\n",
       "      <td>174107.00</td>\n",
       "      <td>690.0</td>\n",
       "      <td>35.0</td>\n",
       "      <td>1352463.00</td>\n",
       "      <td>17000.0</td>\n",
       "      <td>70752.67</td>\n",
       "    </tr>\n",
       "  </tbody>\n",
       "</table>\n",
       "</div>"
      ],
      "text/plain": [
       "            share of teams constituted as circles  share short tern leave  \\\n",
       "date                                                                        \n",
       "2023-01-01                                   35.0                    2.04   \n",
       "2023-02-01                                   50.0                    2.20   \n",
       "2023-03-01                                   50.0                    2.54   \n",
       "2023-04-01                                   55.0                    2.17   \n",
       "2023-05-01                                   70.0                    3.30   \n",
       "2023-06-01                                   80.0                    2.58   \n",
       "2023-07-01                                   85.0                    2.04   \n",
       "2023-08-01                                   90.0                    0.93   \n",
       "2023-09-01                                   90.0                    0.93   \n",
       "2023-10-01                                   90.0                    0.80   \n",
       "2023-11-01                                   95.0                    0.80   \n",
       "2023-12-01                                   95.0                    1.00   \n",
       "\n",
       "            involuntary headcount change (FTE)  reachability  \\\n",
       "date                                                           \n",
       "2023-01-01                                2.26         46.00   \n",
       "2023-02-01                                0.98         46.00   \n",
       "2023-03-01                                1.47         46.00   \n",
       "2023-04-01                                1.46         44.90   \n",
       "2023-05-01                                0.00         44.90   \n",
       "2023-06-01                                0.00         44.90   \n",
       "2023-07-01                                0.51         43.60   \n",
       "2023-08-01                                1.01         43.60   \n",
       "2023-09-01                                0.96         43.60   \n",
       "2023-10-01                                1.01         44.83   \n",
       "2023-11-01                                0.96         44.83   \n",
       "2023-12-01                                0.00         44.83   \n",
       "\n",
       "            count sessions on .projuventute.ch  count leads  \\\n",
       "date                                                          \n",
       "2023-01-01                           158611.00        734.0   \n",
       "2023-02-01                           203755.00        557.0   \n",
       "2023-03-01                           190560.00        536.0   \n",
       "2023-04-01                           164663.00        337.0   \n",
       "2023-05-01                           180421.00        765.0   \n",
       "2023-06-01                           174107.00        596.0   \n",
       "2023-07-01                           164059.00        683.0   \n",
       "2023-08-01                           194407.00        410.0   \n",
       "2023-09-01                           178822.88        346.0   \n",
       "2023-10-01                           194407.00        771.0   \n",
       "2023-11-01                           178822.88        486.0   \n",
       "2023-12-01                           174107.00        690.0   \n",
       "\n",
       "            net promoter score  private donations  \\\n",
       "date                                                \n",
       "2023-01-01                35.0         1369218.00   \n",
       "2023-02-01                35.0         2144446.00   \n",
       "2023-03-01                35.0         1923875.00   \n",
       "2023-04-01                35.0         1274911.00   \n",
       "2023-05-01                35.0         1797114.00   \n",
       "2023-06-01                35.0         1352463.00   \n",
       "2023-07-01                35.0         1359887.00   \n",
       "2023-08-01                35.0         1101047.00   \n",
       "2023-09-01                35.0         1540370.12   \n",
       "2023-10-01                35.0         1101047.00   \n",
       "2023-11-01                35.0         1540370.12   \n",
       "2023-12-01                35.0         1352463.00   \n",
       "\n",
       "            additional monetization/savings from CRM  \\\n",
       "date                                                   \n",
       "2023-01-01                                   51000.0   \n",
       "2023-02-01                                   51000.0   \n",
       "2023-03-01                                   51000.0   \n",
       "2023-04-01                                       0.0   \n",
       "2023-05-01                                       0.0   \n",
       "2023-06-01                                       0.0   \n",
       "2023-07-01                                       0.0   \n",
       "2023-08-01                                       0.0   \n",
       "2023-09-01                                       0.0   \n",
       "2023-10-01                                   17000.0   \n",
       "2023-11-01                                   17000.0   \n",
       "2023-12-01                                   17000.0   \n",
       "\n",
       "            additional monetization/savings from programs  \n",
       "date                                                       \n",
       "2023-01-01                                      186258.00  \n",
       "2023-02-01                                      186258.00  \n",
       "2023-03-01                                      186258.00  \n",
       "2023-04-01                                           0.00  \n",
       "2023-05-01                                           0.00  \n",
       "2023-06-01                                           0.00  \n",
       "2023-07-01                                       26000.00  \n",
       "2023-08-01                                       26000.00  \n",
       "2023-09-01                                       26000.00  \n",
       "2023-10-01                                       70752.67  \n",
       "2023-11-01                                       70752.67  \n",
       "2023-12-01                                       70752.67  "
      ]
     },
     "execution_count": 291,
     "metadata": {},
     "output_type": "execute_result"
    }
   ],
   "source": [
    "# export wide format for data augmentation \n",
    "dfWideFilled = pd.DataFrame(columns=kpis) \n",
    "for k in kpis:\n",
    "    dfTemp = dfAllYears[(dfAllYears.period_year==2023) & (dfAllYears.kpi==k)].set_index('date')\n",
    "    dfWideFilled[k]=dfTemp.value\n",
    "dfWideFilled.round(2).to_csv('/Users/diana/Dropbox/_hackathon/deploy_2023/_data/pj_sample_value_wide_filled_2023.csv')\n",
    "dfWideFilled.round(2)"
   ]
  },
  {
   "cell_type": "code",
   "execution_count": 305,
   "metadata": {},
   "outputs": [
    {
     "data": {
      "text/html": [
       "<div>\n",
       "<style scoped>\n",
       "    .dataframe tbody tr th:only-of-type {\n",
       "        vertical-align: middle;\n",
       "    }\n",
       "\n",
       "    .dataframe tbody tr th {\n",
       "        vertical-align: top;\n",
       "    }\n",
       "\n",
       "    .dataframe thead th {\n",
       "        text-align: right;\n",
       "    }\n",
       "</style>\n",
       "<table border=\"1\" class=\"dataframe\">\n",
       "  <thead>\n",
       "    <tr style=\"text-align: right;\">\n",
       "      <th></th>\n",
       "      <th>circle</th>\n",
       "      <th>kpi</th>\n",
       "      <th>periodicity</th>\n",
       "      <th>range</th>\n",
       "      <th>period_year</th>\n",
       "      <th>period_month</th>\n",
       "      <th>date</th>\n",
       "      <th>value</th>\n",
       "    </tr>\n",
       "  </thead>\n",
       "  <tbody>\n",
       "    <tr>\n",
       "      <th>216</th>\n",
       "      <td>Digital</td>\n",
       "      <td>additional monetization/savings from CRM</td>\n",
       "      <td>quarter</td>\n",
       "      <td>0 &lt;= X</td>\n",
       "      <td>2014</td>\n",
       "      <td>1</td>\n",
       "      <td>2014-01-01</td>\n",
       "      <td>51000.00</td>\n",
       "    </tr>\n",
       "    <tr>\n",
       "      <th>204</th>\n",
       "      <td>Fundraising</td>\n",
       "      <td>private donations</td>\n",
       "      <td>month</td>\n",
       "      <td>0 &lt;= X</td>\n",
       "      <td>2014</td>\n",
       "      <td>1</td>\n",
       "      <td>2014-01-01</td>\n",
       "      <td>248384.00</td>\n",
       "    </tr>\n",
       "    <tr>\n",
       "      <th>144</th>\n",
       "      <td>HR</td>\n",
       "      <td>involuntary headcount change (FTE)</td>\n",
       "      <td>month</td>\n",
       "      <td>0 &lt;= % &lt;= 100</td>\n",
       "      <td>2014</td>\n",
       "      <td>1</td>\n",
       "      <td>2014-01-01</td>\n",
       "      <td>2.26</td>\n",
       "    </tr>\n",
       "    <tr>\n",
       "      <th>120</th>\n",
       "      <td>HR</td>\n",
       "      <td>share of teams constituted as circles</td>\n",
       "      <td>month</td>\n",
       "      <td>0 &lt;= % &lt;= 100</td>\n",
       "      <td>2014</td>\n",
       "      <td>1</td>\n",
       "      <td>2014-01-01</td>\n",
       "      <td>35.00</td>\n",
       "    </tr>\n",
       "    <tr>\n",
       "      <th>132</th>\n",
       "      <td>HR</td>\n",
       "      <td>share short tern leave</td>\n",
       "      <td>month</td>\n",
       "      <td>0 &lt;= % &lt;= 100</td>\n",
       "      <td>2014</td>\n",
       "      <td>1</td>\n",
       "      <td>2014-01-01</td>\n",
       "      <td>2.04</td>\n",
       "    </tr>\n",
       "    <tr>\n",
       "      <th>228</th>\n",
       "      <td>Programs</td>\n",
       "      <td>additional monetization/savings from programs</td>\n",
       "      <td>quarter</td>\n",
       "      <td>0 &lt;= X</td>\n",
       "      <td>2014</td>\n",
       "      <td>1</td>\n",
       "      <td>2014-01-01</td>\n",
       "      <td>186258.00</td>\n",
       "    </tr>\n",
       "    <tr>\n",
       "      <th>156</th>\n",
       "      <td>Programs - Children - Counceling</td>\n",
       "      <td>reachability</td>\n",
       "      <td>quarter</td>\n",
       "      <td>0 &lt;= % &lt;= 100</td>\n",
       "      <td>2014</td>\n",
       "      <td>1</td>\n",
       "      <td>2014-01-01</td>\n",
       "      <td>46.00</td>\n",
       "    </tr>\n",
       "    <tr>\n",
       "      <th>180</th>\n",
       "      <td>Programs - Parents -Online</td>\n",
       "      <td>count leads</td>\n",
       "      <td>month</td>\n",
       "      <td>0 &lt;= X</td>\n",
       "      <td>2014</td>\n",
       "      <td>1</td>\n",
       "      <td>2014-01-01</td>\n",
       "      <td>734.00</td>\n",
       "    </tr>\n",
       "    <tr>\n",
       "      <th>168</th>\n",
       "      <td>Programs - Parents -Online</td>\n",
       "      <td>count sessions on .projuventute.ch</td>\n",
       "      <td>month</td>\n",
       "      <td>0 &lt;= X</td>\n",
       "      <td>2014</td>\n",
       "      <td>1</td>\n",
       "      <td>2014-01-01</td>\n",
       "      <td>158611.00</td>\n",
       "    </tr>\n",
       "    <tr>\n",
       "      <th>192</th>\n",
       "      <td>Programs - Parents -Online</td>\n",
       "      <td>net promoter score</td>\n",
       "      <td>year</td>\n",
       "      <td>-100 &lt;= X &lt;= 100</td>\n",
       "      <td>2014</td>\n",
       "      <td>1</td>\n",
       "      <td>2014-01-01</td>\n",
       "      <td>23.00</td>\n",
       "    </tr>\n",
       "  </tbody>\n",
       "</table>\n",
       "</div>"
      ],
      "text/plain": [
       "                               circle  \\\n",
       "216                           Digital   \n",
       "204                       Fundraising   \n",
       "144                                HR   \n",
       "120                                HR   \n",
       "132                                HR   \n",
       "228                          Programs   \n",
       "156  Programs - Children - Counceling   \n",
       "180        Programs - Parents -Online   \n",
       "168        Programs - Parents -Online   \n",
       "192        Programs - Parents -Online   \n",
       "\n",
       "                                               kpi periodicity  \\\n",
       "216       additional monetization/savings from CRM     quarter   \n",
       "204                              private donations       month   \n",
       "144             involuntary headcount change (FTE)       month   \n",
       "120          share of teams constituted as circles       month   \n",
       "132                         share short tern leave       month   \n",
       "228  additional monetization/savings from programs     quarter   \n",
       "156                                   reachability     quarter   \n",
       "180                                    count leads       month   \n",
       "168             count sessions on .projuventute.ch       month   \n",
       "192                             net promoter score        year   \n",
       "\n",
       "                range  period_year  period_month       date      value  \n",
       "216            0 <= X         2014             1 2014-01-01   51000.00  \n",
       "204            0 <= X         2014             1 2014-01-01  248384.00  \n",
       "144     0 <= % <= 100         2014             1 2014-01-01       2.26  \n",
       "120     0 <= % <= 100         2014             1 2014-01-01      35.00  \n",
       "132     0 <= % <= 100         2014             1 2014-01-01       2.04  \n",
       "228            0 <= X         2014             1 2014-01-01  186258.00  \n",
       "156     0 <= % <= 100         2014             1 2014-01-01      46.00  \n",
       "180            0 <= X         2014             1 2014-01-01     734.00  \n",
       "168            0 <= X         2014             1 2014-01-01  158611.00  \n",
       "192  -100 <= X <= 100         2014             1 2014-01-01      23.00  "
      ]
     },
     "execution_count": 305,
     "metadata": {},
     "output_type": "execute_result"
    }
   ],
   "source": [
    "dfAllYears.drop_duplicates(subset=['circle','kpi','periodicity','range']).sort_values(by=['circle', 'date'], ascending=[True, True])"
   ]
  },
  {
   "cell_type": "code",
   "execution_count": null,
   "metadata": {},
   "outputs": [],
   "source": []
  }
 ],
 "metadata": {
  "kernelspec": {
   "display_name": "ML",
   "language": "python",
   "name": "python3"
  },
  "language_info": {
   "codemirror_mode": {
    "name": "ipython",
    "version": 3
   },
   "file_extension": ".py",
   "mimetype": "text/x-python",
   "name": "python",
   "nbconvert_exporter": "python",
   "pygments_lexer": "ipython3",
   "version": "3.11.4"
  },
  "orig_nbformat": 4
 },
 "nbformat": 4,
 "nbformat_minor": 2
}
